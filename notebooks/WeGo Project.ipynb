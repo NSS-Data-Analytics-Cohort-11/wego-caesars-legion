{
 "cells": [
  {
   "cell_type": "code",
   "execution_count": 1,
   "id": "4c56401e",
   "metadata": {},
   "outputs": [],
   "source": [
    "import pandas as pd"
   ]
  },
  {
   "cell_type": "code",
   "execution_count": 2,
   "id": "dfe7f9e8-b7b0-41fd-899e-29e78b022486",
   "metadata": {},
   "outputs": [],
   "source": [
    "import numpy as np"
   ]
  },
  {
   "cell_type": "code",
   "execution_count": 38,
   "id": "a3ede05a",
   "metadata": {},
   "outputs": [
    {
     "data": {
      "text/html": [
       "<div>\n",
       "<style scoped>\n",
       "    .dataframe tbody tr th:only-of-type {\n",
       "        vertical-align: middle;\n",
       "    }\n",
       "\n",
       "    .dataframe tbody tr th {\n",
       "        vertical-align: top;\n",
       "    }\n",
       "\n",
       "    .dataframe thead th {\n",
       "        text-align: right;\n",
       "    }\n",
       "</style>\n",
       "<table border=\"1\" class=\"dataframe\">\n",
       "  <thead>\n",
       "    <tr style=\"text-align: right;\">\n",
       "      <th></th>\n",
       "      <th>CALENDAR_ID</th>\n",
       "      <th>SERVICE_ABBR</th>\n",
       "      <th>ADHERENCE_ID</th>\n",
       "      <th>DATE</th>\n",
       "      <th>ROUTE_ABBR</th>\n",
       "      <th>BLOCK_ABBR</th>\n",
       "      <th>OPERATOR</th>\n",
       "      <th>TRIP_ID</th>\n",
       "      <th>OVERLOAD_ID</th>\n",
       "      <th>ROUTE_DIRECTION_NAME</th>\n",
       "      <th>...</th>\n",
       "      <th>ACTUAL_HDWY</th>\n",
       "      <th>HDWY_DEV</th>\n",
       "      <th>ADJUSTED_EARLY_COUNT</th>\n",
       "      <th>ADJUSTED_LATE_COUNT</th>\n",
       "      <th>ADJUSTED_ONTIME_COUNT</th>\n",
       "      <th>STOP_CANCELLED</th>\n",
       "      <th>PREV_SCHED_STOP_CANCELLED</th>\n",
       "      <th>IS_RELIEF</th>\n",
       "      <th>DWELL_IN_MINS</th>\n",
       "      <th>SCHEDULED_LAYOVER_MINUTES</th>\n",
       "    </tr>\n",
       "  </thead>\n",
       "  <tbody>\n",
       "    <tr>\n",
       "      <th>0</th>\n",
       "      <td>120230801</td>\n",
       "      <td>1</td>\n",
       "      <td>99457890</td>\n",
       "      <td>2023-08-01</td>\n",
       "      <td>22</td>\n",
       "      <td>2200</td>\n",
       "      <td>1040</td>\n",
       "      <td>345104</td>\n",
       "      <td>0</td>\n",
       "      <td>TO DOWNTOWN</td>\n",
       "      <td>...</td>\n",
       "      <td>NaN</td>\n",
       "      <td>NaN</td>\n",
       "      <td>0</td>\n",
       "      <td>0</td>\n",
       "      <td>1</td>\n",
       "      <td>0</td>\n",
       "      <td>0.0</td>\n",
       "      <td>0</td>\n",
       "      <td>6.500000</td>\n",
       "      <td>NaN</td>\n",
       "    </tr>\n",
       "    <tr>\n",
       "      <th>1</th>\n",
       "      <td>120230801</td>\n",
       "      <td>1</td>\n",
       "      <td>99457891</td>\n",
       "      <td>2023-08-01</td>\n",
       "      <td>22</td>\n",
       "      <td>2200</td>\n",
       "      <td>1040</td>\n",
       "      <td>345104</td>\n",
       "      <td>0</td>\n",
       "      <td>TO DOWNTOWN</td>\n",
       "      <td>...</td>\n",
       "      <td>NaN</td>\n",
       "      <td>NaN</td>\n",
       "      <td>0</td>\n",
       "      <td>0</td>\n",
       "      <td>1</td>\n",
       "      <td>0</td>\n",
       "      <td>0.0</td>\n",
       "      <td>0</td>\n",
       "      <td>0.000000</td>\n",
       "      <td>NaN</td>\n",
       "    </tr>\n",
       "    <tr>\n",
       "      <th>2</th>\n",
       "      <td>120230801</td>\n",
       "      <td>1</td>\n",
       "      <td>99457892</td>\n",
       "      <td>2023-08-01</td>\n",
       "      <td>22</td>\n",
       "      <td>2200</td>\n",
       "      <td>1040</td>\n",
       "      <td>345104</td>\n",
       "      <td>0</td>\n",
       "      <td>TO DOWNTOWN</td>\n",
       "      <td>...</td>\n",
       "      <td>NaN</td>\n",
       "      <td>NaN</td>\n",
       "      <td>0</td>\n",
       "      <td>0</td>\n",
       "      <td>1</td>\n",
       "      <td>0</td>\n",
       "      <td>0.0</td>\n",
       "      <td>0</td>\n",
       "      <td>0.000000</td>\n",
       "      <td>NaN</td>\n",
       "    </tr>\n",
       "    <tr>\n",
       "      <th>3</th>\n",
       "      <td>120230801</td>\n",
       "      <td>1</td>\n",
       "      <td>99457893</td>\n",
       "      <td>2023-08-01</td>\n",
       "      <td>22</td>\n",
       "      <td>2200</td>\n",
       "      <td>1040</td>\n",
       "      <td>345104</td>\n",
       "      <td>0</td>\n",
       "      <td>TO DOWNTOWN</td>\n",
       "      <td>...</td>\n",
       "      <td>NaN</td>\n",
       "      <td>NaN</td>\n",
       "      <td>0</td>\n",
       "      <td>0</td>\n",
       "      <td>1</td>\n",
       "      <td>0</td>\n",
       "      <td>NaN</td>\n",
       "      <td>0</td>\n",
       "      <td>0.000000</td>\n",
       "      <td>NaN</td>\n",
       "    </tr>\n",
       "    <tr>\n",
       "      <th>4</th>\n",
       "      <td>120230801</td>\n",
       "      <td>1</td>\n",
       "      <td>99457894</td>\n",
       "      <td>2023-08-01</td>\n",
       "      <td>22</td>\n",
       "      <td>2200</td>\n",
       "      <td>1040</td>\n",
       "      <td>345105</td>\n",
       "      <td>0</td>\n",
       "      <td>FROM DOWNTOWN</td>\n",
       "      <td>...</td>\n",
       "      <td>NaN</td>\n",
       "      <td>NaN</td>\n",
       "      <td>0</td>\n",
       "      <td>0</td>\n",
       "      <td>1</td>\n",
       "      <td>0</td>\n",
       "      <td>0.0</td>\n",
       "      <td>0</td>\n",
       "      <td>12.866666</td>\n",
       "      <td>5.0</td>\n",
       "    </tr>\n",
       "  </tbody>\n",
       "</table>\n",
       "<p>5 rows × 30 columns</p>\n",
       "</div>"
      ],
      "text/plain": [
       "   CALENDAR_ID  SERVICE_ABBR  ADHERENCE_ID        DATE  ROUTE_ABBR  \\\n",
       "0    120230801             1      99457890  2023-08-01          22   \n",
       "1    120230801             1      99457891  2023-08-01          22   \n",
       "2    120230801             1      99457892  2023-08-01          22   \n",
       "3    120230801             1      99457893  2023-08-01          22   \n",
       "4    120230801             1      99457894  2023-08-01          22   \n",
       "\n",
       "   BLOCK_ABBR  OPERATOR  TRIP_ID  OVERLOAD_ID ROUTE_DIRECTION_NAME  ...  \\\n",
       "0        2200      1040   345104            0          TO DOWNTOWN  ...   \n",
       "1        2200      1040   345104            0          TO DOWNTOWN  ...   \n",
       "2        2200      1040   345104            0          TO DOWNTOWN  ...   \n",
       "3        2200      1040   345104            0          TO DOWNTOWN  ...   \n",
       "4        2200      1040   345105            0        FROM DOWNTOWN  ...   \n",
       "\n",
       "  ACTUAL_HDWY  HDWY_DEV  ADJUSTED_EARLY_COUNT  ADJUSTED_LATE_COUNT  \\\n",
       "0         NaN       NaN                     0                    0   \n",
       "1         NaN       NaN                     0                    0   \n",
       "2         NaN       NaN                     0                    0   \n",
       "3         NaN       NaN                     0                    0   \n",
       "4         NaN       NaN                     0                    0   \n",
       "\n",
       "   ADJUSTED_ONTIME_COUNT STOP_CANCELLED PREV_SCHED_STOP_CANCELLED IS_RELIEF  \\\n",
       "0                      1              0                       0.0         0   \n",
       "1                      1              0                       0.0         0   \n",
       "2                      1              0                       0.0         0   \n",
       "3                      1              0                       NaN         0   \n",
       "4                      1              0                       0.0         0   \n",
       "\n",
       "   DWELL_IN_MINS  SCHEDULED_LAYOVER_MINUTES  \n",
       "0       6.500000                        NaN  \n",
       "1       0.000000                        NaN  \n",
       "2       0.000000                        NaN  \n",
       "3       0.000000                        NaN  \n",
       "4      12.866666                        5.0  \n",
       "\n",
       "[5 rows x 30 columns]"
      ]
     },
     "execution_count": 38,
     "metadata": {},
     "output_type": "execute_result"
    }
   ],
   "source": [
    "# load in wego data\n",
    "wego = pd.read_csv(\"C:/Users/marya/Documents/DA11/Python/projects/wego-caesars-legion/data/WeGo_data.csv\")\n",
    "\n",
    "wego.head()"
   ]
  },
  {
   "cell_type": "code",
   "execution_count": 4,
   "id": "1f298696-1cce-44f2-829c-fd379d107a4c",
   "metadata": {},
   "outputs": [
    {
     "data": {
      "text/plain": [
       "Index(['CALENDAR_ID', 'SERVICE_ABBR', 'ADHERENCE_ID', 'DATE', 'ROUTE_ABBR',\n",
       "       'BLOCK_ABBR', 'OPERATOR', 'TRIP_ID', 'OVERLOAD_ID',\n",
       "       'ROUTE_DIRECTION_NAME', 'TIME_POINT_ABBR', 'ROUTE_STOP_SEQUENCE',\n",
       "       'TRIP_EDGE', 'LATITUDE', 'LONGITUDE', 'SCHEDULED_TIME',\n",
       "       'ACTUAL_ARRIVAL_TIME', 'ACTUAL_DEPARTURE_TIME', 'ADHERENCE',\n",
       "       'SCHEDULED_HDWY', 'ACTUAL_HDWY', 'HDWY_DEV', 'ADJUSTED_EARLY_COUNT',\n",
       "       'ADJUSTED_LATE_COUNT', 'ADJUSTED_ONTIME_COUNT', 'STOP_CANCELLED',\n",
       "       'PREV_SCHED_STOP_CANCELLED', 'IS_RELIEF', 'DWELL_IN_MINS',\n",
       "       'SCHEDULED_LAYOVER_MINUTES'],\n",
       "      dtype='object')"
      ]
     },
     "execution_count": 4,
     "metadata": {},
     "output_type": "execute_result"
    }
   ],
   "source": [
    "wego.columns"
   ]
  },
  {
   "cell_type": "markdown",
   "id": "1336d588-0cba-4117-a7ee-95727b676cb9",
   "metadata": {},
   "source": [
    "### Date Range of Data"
   ]
  },
  {
   "cell_type": "code",
   "execution_count": 5,
   "id": "fdb1e9b9-4d3d-4889-9963-8e3f7de352a0",
   "metadata": {},
   "outputs": [],
   "source": [
    "# convert date to datetime object\n",
    "wego['DATE_convert'] = pd.to_datetime(wego['DATE'], format='mixed')"
   ]
  },
  {
   "cell_type": "code",
   "execution_count": 6,
   "id": "1b9078f2-8f23-44bd-bcc8-27fba8f36858",
   "metadata": {},
   "outputs": [
    {
     "data": {
      "text/plain": [
       "Timestamp('2023-08-01 00:00:00')"
      ]
     },
     "execution_count": 6,
     "metadata": {},
     "output_type": "execute_result"
    }
   ],
   "source": [
    "# Earliest date\n",
    "wego['DATE_convert'].min()"
   ]
  },
  {
   "cell_type": "code",
   "execution_count": 7,
   "id": "49c5554a-3530-469c-aaae-58df484602b7",
   "metadata": {},
   "outputs": [
    {
     "data": {
      "text/plain": [
       "Timestamp('2023-09-30 00:00:00')"
      ]
     },
     "execution_count": 7,
     "metadata": {},
     "output_type": "execute_result"
    }
   ],
   "source": [
    "# Latest date\n",
    "wego['DATE_convert'].max()"
   ]
  },
  {
   "cell_type": "markdown",
   "id": "f0c30eb1-72de-4c2b-9216-f24b32871b00",
   "metadata": {},
   "source": [
    "### 1. What is the overall on-time performance, and what do the overall distributions of adherence and headway deviation look like?"
   ]
  },
  {
   "cell_type": "markdown",
   "id": "85894f71-5dd9-4fae-9b69-e70bb3301700",
   "metadata": {},
   "source": [
    "### Overall on-time performance"
   ]
  },
  {
   "cell_type": "code",
   "execution_count": 8,
   "id": "0fe85042-f8e2-4f60-875e-eb95de045546",
   "metadata": {},
   "outputs": [
    {
     "data": {
      "text/plain": [
       "77.08411236295025"
      ]
     },
     "execution_count": 8,
     "metadata": {},
     "output_type": "execute_result"
    }
   ],
   "source": [
    "wego['ADJUSTED_ONTIME_COUNT'].sum()/len(wego)*100\n",
    "\n",
    "# 77% of all checkpoints are on-time"
   ]
  },
  {
   "cell_type": "markdown",
   "id": "401f5f83-40eb-49c3-8144-59c2c320651c",
   "metadata": {},
   "source": [
    "### Distribution of adherence"
   ]
  },
  {
   "cell_type": "code",
   "execution_count": 9,
   "id": "83fb71a9-cffc-453b-a5fe-b10467de68ef",
   "metadata": {},
   "outputs": [
    {
     "data": {
      "text/html": [
       "<div>\n",
       "<style scoped>\n",
       "    .dataframe tbody tr th:only-of-type {\n",
       "        vertical-align: middle;\n",
       "    }\n",
       "\n",
       "    .dataframe tbody tr th {\n",
       "        vertical-align: top;\n",
       "    }\n",
       "\n",
       "    .dataframe thead th {\n",
       "        text-align: right;\n",
       "    }\n",
       "</style>\n",
       "<table border=\"1\" class=\"dataframe\">\n",
       "  <thead>\n",
       "    <tr style=\"text-align: right;\">\n",
       "      <th></th>\n",
       "      <th>ADHERENCE</th>\n",
       "    </tr>\n",
       "  </thead>\n",
       "  <tbody>\n",
       "    <tr>\n",
       "      <th>min</th>\n",
       "      <td>-948.533333</td>\n",
       "    </tr>\n",
       "    <tr>\n",
       "      <th>max</th>\n",
       "      <td>88.383333</td>\n",
       "    </tr>\n",
       "    <tr>\n",
       "      <th>mean</th>\n",
       "      <td>-3.188796</td>\n",
       "    </tr>\n",
       "    <tr>\n",
       "      <th>median</th>\n",
       "      <td>-2.000000</td>\n",
       "    </tr>\n",
       "  </tbody>\n",
       "</table>\n",
       "</div>"
      ],
      "text/plain": [
       "         ADHERENCE\n",
       "min    -948.533333\n",
       "max      88.383333\n",
       "mean     -3.188796\n",
       "median   -2.000000"
      ]
     },
     "execution_count": 9,
     "metadata": {},
     "output_type": "execute_result"
    }
   ],
   "source": [
    "# adherence statistics\n",
    "wego[['ADHERENCE']].apply(['min','max','mean','median'])"
   ]
  },
  {
   "cell_type": "code",
   "execution_count": 10,
   "id": "9d92c76c-bc36-40d2-9d47-75004a7725ef",
   "metadata": {},
   "outputs": [
    {
     "data": {
      "text/plain": [
       "-3.1887964314276354"
      ]
     },
     "execution_count": 10,
     "metadata": {},
     "output_type": "execute_result"
    }
   ],
   "source": [
    "# adherence average\n",
    "ad_mean = wego['ADHERENCE'].mean()\n",
    "ad_mean"
   ]
  },
  {
   "cell_type": "markdown",
   "id": "b632e78d-99fb-4f2d-8c89-b396339dea9e",
   "metadata": {},
   "source": [
    "### Plotting Adherence Deviation"
   ]
  },
  {
   "cell_type": "code",
   "execution_count": 11,
   "id": "3ece7901-dd12-4927-90a5-861195a4df88",
   "metadata": {},
   "outputs": [],
   "source": [
    "# adherence standard deviation\n",
    "ad_std = np.std(wego['ADHERENCE'])"
   ]
  },
  {
   "cell_type": "code",
   "execution_count": 12,
   "id": "7927571f-c9f8-469d-83d2-96182ff65cd6",
   "metadata": {},
   "outputs": [
    {
     "data": {
      "text/plain": [
       "[Text(0.5, 1.0, 'Adherence Distribution Excluding Outliers'),\n",
       " Text(0.5, 0, 'Adherence Deviation')]"
      ]
     },
     "execution_count": 12,
     "metadata": {},
     "output_type": "execute_result"
    },
    {
     "data": {
      "image/png": "[encoded data removed]",
      "text/plain": [
       "<Figure size 640x480 with 1 Axes>"
      ]
     },
     "metadata": {},
     "output_type": "display_data"
    }
   ],
   "source": [
    "#plotting adherence distribution\n",
    "ax = (\n",
    "      wego[wego['ADHERENCE'].between(ad_mean - ad_std*3, ad_mean + ad_std*3, inclusive='both')]['ADHERENCE']\n",
    "      .plot(kind='hist',bins=50)\n",
    "    )\n",
    "ax.set(\n",
    "    title='Adherence Distribution Excluding Outliers',\n",
    "    xlabel = 'Adherence Deviation'\n",
    "    )"
   ]
  },
  {
   "cell_type": "markdown",
   "id": "6a585836-5c0a-439c-8e8d-56ab38765b69",
   "metadata": {},
   "source": [
    "### Distribution of headway"
   ]
  },
  {
   "cell_type": "code",
   "execution_count": 13,
   "id": "63549c83-1c6f-4d87-84bd-d87a8f70e523",
   "metadata": {},
   "outputs": [
    {
     "data": {
      "text/html": [
       "<div>\n",
       "<style scoped>\n",
       "    .dataframe tbody tr th:only-of-type {\n",
       "        vertical-align: middle;\n",
       "    }\n",
       "\n",
       "    .dataframe tbody tr th {\n",
       "        vertical-align: top;\n",
       "    }\n",
       "\n",
       "    .dataframe thead th {\n",
       "        text-align: right;\n",
       "    }\n",
       "</style>\n",
       "<table border=\"1\" class=\"dataframe\">\n",
       "  <thead>\n",
       "    <tr style=\"text-align: right;\">\n",
       "      <th></th>\n",
       "      <th>HDWY_DEV</th>\n",
       "    </tr>\n",
       "  </thead>\n",
       "  <tbody>\n",
       "    <tr>\n",
       "      <th>min</th>\n",
       "      <td>-64.000000</td>\n",
       "    </tr>\n",
       "    <tr>\n",
       "      <th>max</th>\n",
       "      <td>565.433333</td>\n",
       "    </tr>\n",
       "    <tr>\n",
       "      <th>mean</th>\n",
       "      <td>0.518081</td>\n",
       "    </tr>\n",
       "    <tr>\n",
       "      <th>median</th>\n",
       "      <td>0.033333</td>\n",
       "    </tr>\n",
       "  </tbody>\n",
       "</table>\n",
       "</div>"
      ],
      "text/plain": [
       "          HDWY_DEV\n",
       "min     -64.000000\n",
       "max     565.433333\n",
       "mean      0.518081\n",
       "median    0.033333"
      ]
     },
     "execution_count": 13,
     "metadata": {},
     "output_type": "execute_result"
    }
   ],
   "source": [
    "# headway statistics\n",
    "wego[['HDWY_DEV']].apply(['min','max','mean','median'])"
   ]
  },
  {
   "cell_type": "code",
   "execution_count": 14,
   "id": "4b45bee0-601c-4fef-bc78-4a719d83cfb3",
   "metadata": {},
   "outputs": [
    {
     "data": {
      "text/plain": [
       "0.5180811263102076"
      ]
     },
     "execution_count": 14,
     "metadata": {},
     "output_type": "execute_result"
    }
   ],
   "source": [
    "# headway average\n",
    "hdwy_mean = wego['HDWY_DEV'].mean()\n",
    "hdwy_mean"
   ]
  },
  {
   "cell_type": "code",
   "execution_count": 15,
   "id": "0bf02e5d-1419-459c-a869-128d1ee8e11d",
   "metadata": {},
   "outputs": [],
   "source": [
    "#headway standard deviation\n",
    "hdwy_std = np.std(wego['HDWY_DEV'])"
   ]
  },
  {
   "cell_type": "markdown",
   "id": "b7e07604-0ba3-4843-9779-9a3c4ee6692f",
   "metadata": {},
   "source": [
    "### Plotting Headway Deviation"
   ]
  },
  {
   "cell_type": "code",
   "execution_count": 16,
   "id": "9ca53517-d8ae-43b5-a84d-0d5a4fdf96c2",
   "metadata": {},
   "outputs": [
    {
     "data": {
      "text/plain": [
       "[Text(0.5, 1.0, 'Headway Deviation Distribution Excluding Outliers'),\n",
       " Text(0.5, 0, 'Headway Deviation')]"
      ]
     },
     "execution_count": 16,
     "metadata": {},
     "output_type": "execute_result"
    },
    {
     "data": {
      "image/png": "[encoded data removed]",
      "text/plain": [
       "<Figure size 640x480 with 1 Axes>"
      ]
     },
     "metadata": {},
     "output_type": "display_data"
    }
   ],
   "source": [
    "# plotting headway distribution\n",
    "ax = (\n",
    "    wego[wego['HDWY_DEV'].between(hdwy_mean - hdwy_std*3, hdwy_mean + hdwy_std*3, inclusive='both')]['HDWY_DEV']\n",
    "    .plot(kind='hist',bins=50)\n",
    "    )\n",
    "\n",
    "ax.set(\n",
    "    title='Headway Deviation Distribution Excluding Outliers',\n",
    "    xlabel = 'Headway Deviation'\n",
    "    )"
   ]
  },
  {
   "cell_type": "markdown",
   "id": "1202adbe-c5b5-4ce9-b7d8-af560dbd05f0",
   "metadata": {},
   "source": [
    "### Number of Perfect Trips"
   ]
  },
  {
   "cell_type": "code",
   "execution_count": 17,
   "id": "574e0c99-0e7a-42f8-9ddc-bc95a9e7f047",
   "metadata": {},
   "outputs": [],
   "source": [
    "# creating unique ID\n",
    "wego['DATE_TRIP'] = wego.apply(lambda row: str(row['CALENDAR_ID']) + '-' + str(row['TRIP_ID']), axis=1)"
   ]
  },
  {
   "cell_type": "code",
   "execution_count": 18,
   "id": "19961114-7411-456d-86b6-b27ca07fca2d",
   "metadata": {},
   "outputs": [
    {
     "data": {
      "text/plain": [
       "array(['120230801-345104', '120230801-345105', '120230801-345106', ...,\n",
       "       '120230930-353447', '120230930-353448', '120230930-353449'],\n",
       "      dtype=object)"
      ]
     },
     "execution_count": 18,
     "metadata": {},
     "output_type": "execute_result"
    }
   ],
   "source": [
    "wego['DATE_TRIP'].unique()"
   ]
  },
  {
   "cell_type": "code",
   "execution_count": 19,
   "id": "d4147a36-624e-4b4e-b297-b7718936cf6b",
   "metadata": {},
   "outputs": [],
   "source": [
    "# sum of trips by unique trip\n",
    "unique_trips = wego.groupby(wego['DATE_TRIP'])[['ADJUSTED_EARLY_COUNT',\n",
    "       'ADJUSTED_LATE_COUNT', 'ADJUSTED_ONTIME_COUNT']].sum()"
   ]
  },
  {
   "cell_type": "code",
   "execution_count": 20,
   "id": "2ba8911b-4329-4f71-9741-745246f8117c",
   "metadata": {},
   "outputs": [],
   "source": [
    "# df of perfect trips\n",
    "perfect_trips = unique_trips[(unique_trips['ADJUSTED_EARLY_COUNT'] == 0) & (unique_trips['ADJUSTED_LATE_COUNT'] == 0)]"
   ]
  },
  {
   "cell_type": "code",
   "execution_count": 21,
   "id": "4de253b9-c54f-4530-8815-d232a5e56770",
   "metadata": {},
   "outputs": [
    {
     "data": {
      "text/plain": [
       "60.62"
      ]
     },
     "execution_count": 21,
     "metadata": {},
     "output_type": "execute_result"
    }
   ],
   "source": [
    "# percent of perfect trips\n",
    "round(len(perfect_trips['ADJUSTED_ONTIME_COUNT'])/len(unique_trips)*100,2)"
   ]
  },
  {
   "cell_type": "code",
   "execution_count": 22,
   "id": "bbf80f59-d468-4550-8f29-ca5a6d033dbb",
   "metadata": {
    "scrolled": true
   },
   "outputs": [
    {
     "data": {
      "text/plain": [
       "40843"
      ]
     },
     "execution_count": 22,
     "metadata": {},
     "output_type": "execute_result"
    }
   ],
   "source": [
    "len(perfect_trips)"
   ]
  },
  {
   "cell_type": "markdown",
   "id": "72aee35c-caff-40f9-804a-3074ce836b04",
   "metadata": {},
   "source": [
    "### 2. How does direction of travel, route, or location affect the headway and on-time performance?"
   ]
  },
  {
   "cell_type": "code",
   "execution_count": 141,
   "id": "981db9af-f1fc-40bd-a70c-bf3ce2133ead",
   "metadata": {},
   "outputs": [
    {
     "data": {
      "text/plain": [
       "22.179486737640314"
      ]
     },
     "execution_count": 141,
     "metadata": {},
     "output_type": "execute_result"
    }
   ],
   "source": [
    "wego[wego['ROUTE_DIRECTION_NAME']=='TO DOWNTOWN']['HDWY_DEV_PCT'].mean()"
   ]
  },
  {
   "cell_type": "code",
   "execution_count": 142,
   "id": "aaf5f51d-440a-496d-b4f3-e0fd8167c8d3",
   "metadata": {},
   "outputs": [
    {
     "data": {
      "text/plain": [
       "29.216260887830146"
      ]
     },
     "execution_count": 142,
     "metadata": {},
     "output_type": "execute_result"
    }
   ],
   "source": [
    "wego[wego['ROUTE_DIRECTION_NAME']=='FROM DOWNTOWN']['HDWY_DEV_PCT'].mean()"
   ]
  },
  {
   "cell_type": "code",
   "execution_count": 203,
   "id": "5877ffb5-520f-4cf4-9288-a8683f1fc9e2",
   "metadata": {
    "scrolled": true
   },
   "outputs": [],
   "source": [
    "adh_dir = (\n",
    "    wego.groupby('ROUTE_DIRECTION_NAME')[['ADJUSTED_EARLY_COUNT',\n",
    "       'ADJUSTED_LATE_COUNT', 'ADJUSTED_ONTIME_COUNT']].sum()\n",
    "\n",
    ")"
   ]
  },
  {
   "cell_type": "markdown",
   "id": "ec53d7c1-a414-4d4f-abc1-3cf111ec1c57",
   "metadata": {},
   "source": [
    "### Adherence + Direction"
   ]
  },
  {
   "cell_type": "code",
   "execution_count": 204,
   "id": "2109fc1d-5bce-416d-9859-a22fe31fd532",
   "metadata": {},
   "outputs": [],
   "source": [
    "adh_dir['TOTALS'] = adh_dir.sum(axis=1)"
   ]
  },
  {
   "cell_type": "code",
   "execution_count": 205,
   "id": "b17a7cdf-d1a1-48ca-9f83-697c8629f4d4",
   "metadata": {},
   "outputs": [],
   "source": [
    "adh_dir.loc[:, 'ONTIME_PCT'] = adh_dir['ADJUSTED_ONTIME_COUNT'] / adh_dir['TOTALS'] * 100\n",
    "adh_dir.loc[:, 'EARLY_PCT'] = adh_dir['ADJUSTED_EARLY_COUNT'] / adh_dir['TOTALS'] * 100\n",
    "adh_dir.loc[:, 'LATE_PCT'] = adh_dir['ADJUSTED_LATE_COUNT'] / adh_dir['TOTALS'] * 100"
   ]
  },
  {
   "cell_type": "code",
   "execution_count": 206,
   "id": "83a31c15-b1b8-48ab-ad6b-9a7486f6b649",
   "metadata": {},
   "outputs": [
    {
     "data": {
      "image/png": "[encoded data removed]",
      "text/plain": [
       "<Figure size 640x480 with 1 Axes>"
      ]
     },
     "metadata": {},
     "output_type": "display_data"
    }
   ],
   "source": [
    "ax = (\n",
    "    adh_dir[['ONTIME_PCT', 'EARLY_PCT', 'LATE_PCT']]\n",
    ").plot(kind='bar', stacked=True)\n",
    "ax.set(title = 'Route Adherence Performance',\n",
    "        xlabel = 'Route',\n",
    "       ylabel = 'Percentage')\n",
    "ax.legend(bbox_to_anchor=(1, 1))\n",
    "ax.tick_params(axis='x', rotation=0)"
   ]
  },
  {
   "cell_type": "markdown",
   "id": "b9cab7d1-bfac-4b73-a971-dc94d6cf32ec",
   "metadata": {},
   "source": [
    "### Adherence + Route"
   ]
  },
  {
   "cell_type": "code",
   "execution_count": 199,
   "id": "c1a65089-b5f9-4764-9589-0f2bcdbff2ab",
   "metadata": {},
   "outputs": [],
   "source": [
    "adh_route = (\n",
    "    wego.groupby('ROUTE_ABBR')[['ADJUSTED_EARLY_COUNT',\n",
    "       'ADJUSTED_LATE_COUNT', 'ADJUSTED_ONTIME_COUNT']].sum()\n",
    "\n",
    ")"
   ]
  },
  {
   "cell_type": "code",
   "execution_count": 200,
   "id": "4fa3f2e0-3ffb-4a22-a5cc-23aeb61523a7",
   "metadata": {},
   "outputs": [],
   "source": [
    "adh_route['TOTALS'] = adh_route.sum(axis=1)"
   ]
  },
  {
   "cell_type": "code",
   "execution_count": 201,
   "id": "008ca8ec-f7cc-4f1c-bfa7-af461664c8e2",
   "metadata": {},
   "outputs": [],
   "source": [
    "adh_route.loc[:, 'ONTIME_PCT'] = adh_route['ADJUSTED_ONTIME_COUNT'] / adh_route['TOTALS'] * 100\n",
    "adh_route.loc[:, 'EARLY_PCT'] = adh_route['ADJUSTED_EARLY_COUNT'] / adh_route['TOTALS'] * 100\n",
    "adh_route.loc[:, 'LATE_PCT'] = adh_route['ADJUSTED_LATE_COUNT'] / adh_route['TOTALS'] * 100"
   ]
  },
  {
   "cell_type": "code",
   "execution_count": 202,
   "id": "4836e822-cf6e-43b6-a751-c2b32930ae76",
   "metadata": {
    "scrolled": true
   },
   "outputs": [
    {
     "data": {
      "image/png": "[encoded data removed]",
      "text/plain": [
       "<Figure size 640x480 with 1 Axes>"
      ]
     },
     "metadata": {},
     "output_type": "display_data"
    }
   ],
   "source": [
    "# Route Adherence graph\n",
    "ax = (\n",
    "    adh_route[['ONTIME_PCT', 'EARLY_PCT', 'LATE_PCT']]\n",
    ").plot(kind='bar', stacked=True)\n",
    "ax.set(title = 'Route Adherence Performance',\n",
    "        xlabel = 'Route',\n",
    "       ylabel = 'Percentage')\n",
    "ax.legend(bbox_to_anchor=(1, 1))\n",
    "ax.tick_params(axis='x', rotation=0)"
   ]
  },
  {
   "cell_type": "markdown",
   "id": "92097c97-458c-4813-8d56-925b85f16858",
   "metadata": {},
   "source": [
    "### Headway + Direction"
   ]
  },
  {
   "cell_type": "code",
   "execution_count": 208,
   "id": "b2f8fe33-556b-47a6-9dbd-0486263f89be",
   "metadata": {},
   "outputs": [],
   "source": [
    "hdwy_dir = (\n",
    "    wego.groupby('ROUTE_DIRECTION_NAME')\n",
    "    [['HDWY_ACCEPTABLE','HDWY_NACCEPTABLE','HDWY_IDEAL']].sum()\n",
    "\n",
    ")"
   ]
  },
  {
   "cell_type": "code",
   "execution_count": 212,
   "id": "35b1fd8e-e37b-4bb3-b23c-ee721c587f02",
   "metadata": {},
   "outputs": [],
   "source": [
    "hdwy_dir['TOTALS'] = hdwy_dir.sum(axis=1)"
   ]
  },
  {
   "cell_type": "code",
   "execution_count": 213,
   "id": "ebab4389-b013-4cfa-a5b3-879aea892902",
   "metadata": {},
   "outputs": [],
   "source": [
    "hdwy_dir.loc[:, 'ACCPETABLE_PCT'] = hdwy_dir['HDWY_ACCEPTABLE'] / hdwy_dir['TOTALS'] * 100\n",
    "hdwy_dir.loc[:, 'NACCEPTABLE_PCT'] = hdwy_dir['HDWY_NACCEPTABLE'] / hdwy_dir['TOTALS'] * 100\n",
    "hdwy_dir.loc[:, 'IDEAL_PCT'] = hdwy_dir['HDWY_IDEAL'] / hdwy_dir['TOTALS'] * 100"
   ]
  },
  {
   "cell_type": "code",
   "execution_count": 214,
   "id": "448014e5-99d1-4627-9d48-227a9583639a",
   "metadata": {},
   "outputs": [
    {
     "data": {
      "image/png": "[encoded data removed]",
      "text/plain": [
       "<Figure size 640x480 with 1 Axes>"
      ]
     },
     "metadata": {},
     "output_type": "display_data"
    }
   ],
   "source": [
    "# Direction HDWY graph\n",
    "ax = (\n",
    "    hdwy_dir[['ACCPETABLE_PCT', 'NACCEPTABLE_PCT', 'IDEAL_PCT']]\n",
    ").plot(kind='bar', stacked=True)\n",
    "ax.set(title = 'Direction Headway Performance',\n",
    "        xlabel = 'Direction',\n",
    "       ylabel = 'Percentage')\n",
    "ax.legend(bbox_to_anchor=(1, 1))\n",
    "ax.tick_params(axis='x', rotation=0)"
   ]
  },
  {
   "cell_type": "markdown",
   "id": "3a411e02-412e-492a-afc5-2c65eeac4c4e",
   "metadata": {},
   "source": [
    "### Headway + Route"
   ]
  },
  {
   "cell_type": "code",
   "execution_count": 221,
   "id": "6d1d722a-ab7d-4446-be1c-9bc04c9255dd",
   "metadata": {},
   "outputs": [],
   "source": [
    "hdwy_route = (\n",
    "    wego.groupby('ROUTE_ABBR')\n",
    "    [['HDWY_ACCEPTABLE','HDWY_NACCEPTABLE','HDWY_IDEAL']].sum()\n",
    "\n",
    ")"
   ]
  },
  {
   "cell_type": "code",
   "execution_count": 222,
   "id": "aa4c34f6-05f7-4c1c-b4bc-8d00a2510cf7",
   "metadata": {},
   "outputs": [],
   "source": [
    "hdwy_route['TOTALS'] = hdwy_route.sum(axis=1)"
   ]
  },
  {
   "cell_type": "code",
   "execution_count": 223,
   "id": "aacef7a1-94b6-4078-a819-c201993c1165",
   "metadata": {},
   "outputs": [],
   "source": [
    "hdwy_route.loc[:, 'ACCPETABLE_PCT'] = hdwy_route['HDWY_ACCEPTABLE'] / hdwy_route['TOTALS'] * 100\n",
    "hdwy_route.loc[:, 'NACCEPTABLE_PCT'] = hdwy_route['HDWY_NACCEPTABLE'] / hdwy_route['TOTALS'] * 100\n",
    "hdwy_route.loc[:, 'IDEAL_PCT'] = hdwy_route['HDWY_IDEAL'] / hdwy_route['TOTALS'] * 100"
   ]
  },
  {
   "cell_type": "code",
   "execution_count": 224,
   "id": "d3e5b75a-c202-4e75-90b2-03f13b3a3eda",
   "metadata": {},
   "outputs": [
    {
     "data": {
      "image/png": "[encoded data removed]",
      "text/plain": [
       "<Figure size 640x480 with 1 Axes>"
      ]
     },
     "metadata": {},
     "output_type": "display_data"
    }
   ],
   "source": [
    "# Route HDWY graph\n",
    "ax = (\n",
    "    hdwy_route[['ACCPETABLE_PCT', 'NACCEPTABLE_PCT', 'IDEAL_PCT']]\n",
    ").plot(kind='bar', stacked=True)\n",
    "ax.set(title = 'Route Headway Performance',\n",
    "        xlabel = 'Route',\n",
    "       ylabel = 'Percentage')\n",
    "ax.legend(bbox_to_anchor=(1, 1))\n",
    "ax.tick_params(axis='x', rotation=0)"
   ]
  },
  {
   "cell_type": "markdown",
   "id": "d1fd744c-79b3-46c7-98af-9f0875c87c12",
   "metadata": {},
   "source": [
    "### Random HDWY AND ADH Statistics"
   ]
  },
  {
   "cell_type": "code",
   "execution_count": 23,
   "id": "f313e2dc-7013-4131-900f-d354602cea1e",
   "metadata": {},
   "outputs": [
    {
     "data": {
      "text/plain": [
       "min      -618.166666\n",
       "max        88.383333\n",
       "mean       -2.321804\n",
       "median     -1.500000\n",
       "Name: ADHERENCE, dtype: float64"
      ]
     },
     "execution_count": 23,
     "metadata": {},
     "output_type": "execute_result"
    }
   ],
   "source": [
    "wego[wego['ROUTE_DIRECTION_NAME']=='TO DOWNTOWN']['ADHERENCE'].apply(['min','max','mean','median'])"
   ]
  },
  {
   "cell_type": "code",
   "execution_count": 24,
   "id": "46f7e81c-2abc-47a5-bfc1-b8906ffaae68",
   "metadata": {},
   "outputs": [
    {
     "data": {
      "text/plain": [
       "min      -948.533333\n",
       "max        76.766666\n",
       "mean       -3.960287\n",
       "median     -2.516666\n",
       "Name: ADHERENCE, dtype: float64"
      ]
     },
     "execution_count": 24,
     "metadata": {},
     "output_type": "execute_result"
    }
   ],
   "source": [
    "wego[wego['ROUTE_DIRECTION_NAME']=='FROM DOWNTOWN']['ADHERENCE'].apply(['min','max','mean','median'])"
   ]
  },
  {
   "cell_type": "code",
   "execution_count": 25,
   "id": "4649ff25-db60-4d8c-a82f-c29747758e59",
   "metadata": {},
   "outputs": [
    {
     "data": {
      "text/plain": [
       "min       -64.000000\n",
       "max       543.833333\n",
       "mean        0.447773\n",
       "median      0.033333\n",
       "Name: HDWY_DEV, dtype: float64"
      ]
     },
     "execution_count": 25,
     "metadata": {},
     "output_type": "execute_result"
    }
   ],
   "source": [
    "wego[wego['ROUTE_DIRECTION_NAME']=='TO DOWNTOWN']['HDWY_DEV'].apply(['min','max','mean','median'])"
   ]
  },
  {
   "cell_type": "code",
   "execution_count": 26,
   "id": "d6adc8bd-3839-4b0e-b692-98e89ad3666a",
   "metadata": {},
   "outputs": [
    {
     "data": {
      "text/plain": [
       "min       -55.533334\n",
       "max       565.433333\n",
       "mean        0.579990\n",
       "median      0.033333\n",
       "Name: HDWY_DEV, dtype: float64"
      ]
     },
     "execution_count": 26,
     "metadata": {},
     "output_type": "execute_result"
    }
   ],
   "source": [
    "wego[wego['ROUTE_DIRECTION_NAME']=='FROM DOWNTOWN']['HDWY_DEV'].apply(['min','max','mean','median'])"
   ]
  },
  {
   "cell_type": "code",
   "execution_count": 27,
   "id": "2805b444-fe1d-4240-97db-913b8cd11cf3",
   "metadata": {},
   "outputs": [
    {
     "data": {
      "text/html": [
       "<div>\n",
       "<style scoped>\n",
       "    .dataframe tbody tr th:only-of-type {\n",
       "        vertical-align: middle;\n",
       "    }\n",
       "\n",
       "    .dataframe tbody tr th {\n",
       "        vertical-align: top;\n",
       "    }\n",
       "\n",
       "    .dataframe thead tr th {\n",
       "        text-align: left;\n",
       "    }\n",
       "\n",
       "    .dataframe thead tr:last-of-type th {\n",
       "        text-align: right;\n",
       "    }\n",
       "</style>\n",
       "<table border=\"1\" class=\"dataframe\">\n",
       "  <thead>\n",
       "    <tr>\n",
       "      <th></th>\n",
       "      <th colspan=\"8\" halign=\"left\">ADHERENCE</th>\n",
       "      <th colspan=\"8\" halign=\"left\">HDWY_DEV</th>\n",
       "    </tr>\n",
       "    <tr>\n",
       "      <th></th>\n",
       "      <th>count</th>\n",
       "      <th>mean</th>\n",
       "      <th>std</th>\n",
       "      <th>min</th>\n",
       "      <th>25%</th>\n",
       "      <th>50%</th>\n",
       "      <th>75%</th>\n",
       "      <th>max</th>\n",
       "      <th>count</th>\n",
       "      <th>mean</th>\n",
       "      <th>std</th>\n",
       "      <th>min</th>\n",
       "      <th>25%</th>\n",
       "      <th>50%</th>\n",
       "      <th>75%</th>\n",
       "      <th>max</th>\n",
       "    </tr>\n",
       "    <tr>\n",
       "      <th>ROUTE_ABBR</th>\n",
       "      <th></th>\n",
       "      <th></th>\n",
       "      <th></th>\n",
       "      <th></th>\n",
       "      <th></th>\n",
       "      <th></th>\n",
       "      <th></th>\n",
       "      <th></th>\n",
       "      <th></th>\n",
       "      <th></th>\n",
       "      <th></th>\n",
       "      <th></th>\n",
       "      <th></th>\n",
       "      <th></th>\n",
       "      <th></th>\n",
       "      <th></th>\n",
       "    </tr>\n",
       "  </thead>\n",
       "  <tbody>\n",
       "    <tr>\n",
       "      <th>3</th>\n",
       "      <td>45488.0</td>\n",
       "      <td>-3.761491</td>\n",
       "      <td>5.415910</td>\n",
       "      <td>-133.250000</td>\n",
       "      <td>-5.350000</td>\n",
       "      <td>-2.566666</td>\n",
       "      <td>-0.766666</td>\n",
       "      <td>33.750000</td>\n",
       "      <td>36583.0</td>\n",
       "      <td>0.580907</td>\n",
       "      <td>6.203530</td>\n",
       "      <td>-64.000000</td>\n",
       "      <td>-2.450000</td>\n",
       "      <td>0.116666</td>\n",
       "      <td>2.800000</td>\n",
       "      <td>76.866666</td>\n",
       "    </tr>\n",
       "    <tr>\n",
       "      <th>7</th>\n",
       "      <td>17267.0</td>\n",
       "      <td>-3.346555</td>\n",
       "      <td>6.669753</td>\n",
       "      <td>-87.716666</td>\n",
       "      <td>-4.916666</td>\n",
       "      <td>-2.116666</td>\n",
       "      <td>-0.616666</td>\n",
       "      <td>88.383333</td>\n",
       "      <td>11578.0</td>\n",
       "      <td>0.336808</td>\n",
       "      <td>5.909983</td>\n",
       "      <td>-30.433334</td>\n",
       "      <td>-1.983334</td>\n",
       "      <td>0.033333</td>\n",
       "      <td>2.133333</td>\n",
       "      <td>50.250000</td>\n",
       "    </tr>\n",
       "    <tr>\n",
       "      <th>22</th>\n",
       "      <td>25188.0</td>\n",
       "      <td>-1.138107</td>\n",
       "      <td>6.391798</td>\n",
       "      <td>-675.000000</td>\n",
       "      <td>-2.950000</td>\n",
       "      <td>-0.933333</td>\n",
       "      <td>0.816666</td>\n",
       "      <td>24.733333</td>\n",
       "      <td>17007.0</td>\n",
       "      <td>0.955867</td>\n",
       "      <td>10.248444</td>\n",
       "      <td>-43.650000</td>\n",
       "      <td>-1.966667</td>\n",
       "      <td>0.050000</td>\n",
       "      <td>2.200000</td>\n",
       "      <td>508.700000</td>\n",
       "    </tr>\n",
       "    <tr>\n",
       "      <th>23</th>\n",
       "      <td>39653.0</td>\n",
       "      <td>-1.760110</td>\n",
       "      <td>7.680491</td>\n",
       "      <td>-618.166666</td>\n",
       "      <td>-3.116666</td>\n",
       "      <td>-1.316666</td>\n",
       "      <td>0.033333</td>\n",
       "      <td>33.633333</td>\n",
       "      <td>28478.0</td>\n",
       "      <td>1.053563</td>\n",
       "      <td>9.881327</td>\n",
       "      <td>-32.116667</td>\n",
       "      <td>-1.733334</td>\n",
       "      <td>0.066666</td>\n",
       "      <td>2.066666</td>\n",
       "      <td>565.433333</td>\n",
       "    </tr>\n",
       "    <tr>\n",
       "      <th>50</th>\n",
       "      <td>42629.0</td>\n",
       "      <td>-2.505022</td>\n",
       "      <td>6.159666</td>\n",
       "      <td>-489.316666</td>\n",
       "      <td>-3.883333</td>\n",
       "      <td>-1.800000</td>\n",
       "      <td>-0.300000</td>\n",
       "      <td>22.350000</td>\n",
       "      <td>34593.0</td>\n",
       "      <td>0.212376</td>\n",
       "      <td>4.760558</td>\n",
       "      <td>-33.250000</td>\n",
       "      <td>-2.083334</td>\n",
       "      <td>0.033333</td>\n",
       "      <td>2.183333</td>\n",
       "      <td>54.283333</td>\n",
       "    </tr>\n",
       "    <tr>\n",
       "      <th>52</th>\n",
       "      <td>49327.0</td>\n",
       "      <td>-3.971342</td>\n",
       "      <td>8.721732</td>\n",
       "      <td>-948.533333</td>\n",
       "      <td>-5.016666</td>\n",
       "      <td>-2.066666</td>\n",
       "      <td>-0.400000</td>\n",
       "      <td>30.200000</td>\n",
       "      <td>39887.0</td>\n",
       "      <td>0.974776</td>\n",
       "      <td>9.185015</td>\n",
       "      <td>-55.533334</td>\n",
       "      <td>-2.450000</td>\n",
       "      <td>0.083333</td>\n",
       "      <td>2.783333</td>\n",
       "      <td>472.366666</td>\n",
       "    </tr>\n",
       "    <tr>\n",
       "      <th>55</th>\n",
       "      <td>60359.0</td>\n",
       "      <td>-4.823302</td>\n",
       "      <td>7.535092</td>\n",
       "      <td>-375.233333</td>\n",
       "      <td>-6.583333</td>\n",
       "      <td>-2.883333</td>\n",
       "      <td>-0.850000</td>\n",
       "      <td>40.250000</td>\n",
       "      <td>49432.0</td>\n",
       "      <td>0.261038</td>\n",
       "      <td>6.364978</td>\n",
       "      <td>-29.933334</td>\n",
       "      <td>-3.150000</td>\n",
       "      <td>-0.033334</td>\n",
       "      <td>2.983333</td>\n",
       "      <td>102.000000</td>\n",
       "    </tr>\n",
       "    <tr>\n",
       "      <th>56</th>\n",
       "      <td>58950.0</td>\n",
       "      <td>-2.703988</td>\n",
       "      <td>4.931009</td>\n",
       "      <td>-322.783333</td>\n",
       "      <td>-4.300000</td>\n",
       "      <td>-1.900000</td>\n",
       "      <td>-0.283333</td>\n",
       "      <td>39.916666</td>\n",
       "      <td>48335.0</td>\n",
       "      <td>0.149213</td>\n",
       "      <td>4.714435</td>\n",
       "      <td>-27.266667</td>\n",
       "      <td>-2.333334</td>\n",
       "      <td>0.000000</td>\n",
       "      <td>2.383333</td>\n",
       "      <td>166.000000</td>\n",
       "    </tr>\n",
       "  </tbody>\n",
       "</table>\n",
       "</div>"
      ],
      "text/plain": [
       "           ADHERENCE                                                      \\\n",
       "               count      mean       std         min       25%       50%   \n",
       "ROUTE_ABBR                                                                 \n",
       "3            45488.0 -3.761491  5.415910 -133.250000 -5.350000 -2.566666   \n",
       "7            17267.0 -3.346555  6.669753  -87.716666 -4.916666 -2.116666   \n",
       "22           25188.0 -1.138107  6.391798 -675.000000 -2.950000 -0.933333   \n",
       "23           39653.0 -1.760110  7.680491 -618.166666 -3.116666 -1.316666   \n",
       "50           42629.0 -2.505022  6.159666 -489.316666 -3.883333 -1.800000   \n",
       "52           49327.0 -3.971342  8.721732 -948.533333 -5.016666 -2.066666   \n",
       "55           60359.0 -4.823302  7.535092 -375.233333 -6.583333 -2.883333   \n",
       "56           58950.0 -2.703988  4.931009 -322.783333 -4.300000 -1.900000   \n",
       "\n",
       "                                HDWY_DEV                                  \\\n",
       "                 75%        max    count      mean        std        min   \n",
       "ROUTE_ABBR                                                                 \n",
       "3          -0.766666  33.750000  36583.0  0.580907   6.203530 -64.000000   \n",
       "7          -0.616666  88.383333  11578.0  0.336808   5.909983 -30.433334   \n",
       "22          0.816666  24.733333  17007.0  0.955867  10.248444 -43.650000   \n",
       "23          0.033333  33.633333  28478.0  1.053563   9.881327 -32.116667   \n",
       "50         -0.300000  22.350000  34593.0  0.212376   4.760558 -33.250000   \n",
       "52         -0.400000  30.200000  39887.0  0.974776   9.185015 -55.533334   \n",
       "55         -0.850000  40.250000  49432.0  0.261038   6.364978 -29.933334   \n",
       "56         -0.283333  39.916666  48335.0  0.149213   4.714435 -27.266667   \n",
       "\n",
       "                                                      \n",
       "                 25%       50%       75%         max  \n",
       "ROUTE_ABBR                                            \n",
       "3          -2.450000  0.116666  2.800000   76.866666  \n",
       "7          -1.983334  0.033333  2.133333   50.250000  \n",
       "22         -1.966667  0.050000  2.200000  508.700000  \n",
       "23         -1.733334  0.066666  2.066666  565.433333  \n",
       "50         -2.083334  0.033333  2.183333   54.283333  \n",
       "52         -2.450000  0.083333  2.783333  472.366666  \n",
       "55         -3.150000 -0.033334  2.983333  102.000000  \n",
       "56         -2.333334  0.000000  2.383333  166.000000  "
      ]
     },
     "execution_count": 27,
     "metadata": {},
     "output_type": "execute_result"
    }
   ],
   "source": [
    "wego.groupby('ROUTE_ABBR')[['ADHERENCE','HDWY_DEV']].describe()"
   ]
  },
  {
   "cell_type": "code",
   "execution_count": 28,
   "id": "e44ff212-5366-461a-a7de-c6ab061cfbbb",
   "metadata": {
    "scrolled": true
   },
   "outputs": [
    {
     "data": {
      "text/html": [
       "<div>\n",
       "<style scoped>\n",
       "    .dataframe tbody tr th:only-of-type {\n",
       "        vertical-align: middle;\n",
       "    }\n",
       "\n",
       "    .dataframe tbody tr th {\n",
       "        vertical-align: top;\n",
       "    }\n",
       "\n",
       "    .dataframe thead th {\n",
       "        text-align: right;\n",
       "    }\n",
       "</style>\n",
       "<table border=\"1\" class=\"dataframe\">\n",
       "  <thead>\n",
       "    <tr style=\"text-align: right;\">\n",
       "      <th></th>\n",
       "      <th>ADHERENCE</th>\n",
       "      <th>HDWY_DEV</th>\n",
       "    </tr>\n",
       "    <tr>\n",
       "      <th>BLOCK_ABBR</th>\n",
       "      <th></th>\n",
       "      <th></th>\n",
       "    </tr>\n",
       "  </thead>\n",
       "  <tbody>\n",
       "    <tr>\n",
       "      <th>8604</th>\n",
       "      <td>0.281250</td>\n",
       "      <td>1.238889</td>\n",
       "    </tr>\n",
       "    <tr>\n",
       "      <th>2301</th>\n",
       "      <td>0.353140</td>\n",
       "      <td>0.263938</td>\n",
       "    </tr>\n",
       "    <tr>\n",
       "      <th>2210</th>\n",
       "      <td>0.442440</td>\n",
       "      <td>0.874254</td>\n",
       "    </tr>\n",
       "    <tr>\n",
       "      <th>2211</th>\n",
       "      <td>0.529404</td>\n",
       "      <td>0.778633</td>\n",
       "    </tr>\n",
       "    <tr>\n",
       "      <th>8401</th>\n",
       "      <td>0.603704</td>\n",
       "      <td>NaN</td>\n",
       "    </tr>\n",
       "    <tr>\n",
       "      <th>...</th>\n",
       "      <td>...</td>\n",
       "      <td>...</td>\n",
       "    </tr>\n",
       "    <tr>\n",
       "      <th>5218</th>\n",
       "      <td>7.901945</td>\n",
       "      <td>3.985199</td>\n",
       "    </tr>\n",
       "    <tr>\n",
       "      <th>5513</th>\n",
       "      <td>8.414195</td>\n",
       "      <td>0.912638</td>\n",
       "    </tr>\n",
       "    <tr>\n",
       "      <th>5590</th>\n",
       "      <td>9.226351</td>\n",
       "      <td>NaN</td>\n",
       "    </tr>\n",
       "    <tr>\n",
       "      <th>9975</th>\n",
       "      <td>15.559701</td>\n",
       "      <td>2.690909</td>\n",
       "    </tr>\n",
       "    <tr>\n",
       "      <th>9950</th>\n",
       "      <td>32.378019</td>\n",
       "      <td>0.697685</td>\n",
       "    </tr>\n",
       "  </tbody>\n",
       "</table>\n",
       "<p>102 rows × 2 columns</p>\n",
       "</div>"
      ],
      "text/plain": [
       "            ADHERENCE  HDWY_DEV\n",
       "BLOCK_ABBR                     \n",
       "8604         0.281250  1.238889\n",
       "2301         0.353140  0.263938\n",
       "2210         0.442440  0.874254\n",
       "2211         0.529404  0.778633\n",
       "8401         0.603704       NaN\n",
       "...               ...       ...\n",
       "5218         7.901945  3.985199\n",
       "5513         8.414195  0.912638\n",
       "5590         9.226351       NaN\n",
       "9975        15.559701  2.690909\n",
       "9950        32.378019  0.697685\n",
       "\n",
       "[102 rows x 2 columns]"
      ]
     },
     "execution_count": 28,
     "metadata": {},
     "output_type": "execute_result"
    }
   ],
   "source": [
    "wego.groupby('BLOCK_ABBR')[['ADHERENCE','HDWY_DEV']].mean().abs().sort_values('ADHERENCE',ascending=True)"
   ]
  },
  {
   "cell_type": "markdown",
   "id": "639dc153-2a1d-46a2-9598-a1fb8498bd42",
   "metadata": {},
   "source": [
    "### 3. How does time of day or day of week affect headway and on-time performance?"
   ]
  },
  {
   "cell_type": "code",
   "execution_count": 158,
   "id": "66fc9dd7-090d-4422-8475-5d961e9a7195",
   "metadata": {},
   "outputs": [],
   "source": [
    "### create new df with nans dropped\n",
    "new_wego = wego.dropna(subset=['ACTUAL_DEPARTURE_TIME'])"
   ]
  },
  {
   "cell_type": "code",
   "execution_count": 159,
   "id": "d1732a19-55b3-4304-b8c5-cb0c6e77ae86",
   "metadata": {},
   "outputs": [],
   "source": [
    "new_wego['DATE_convert'] = pd.to_datetime(new_wego['DATE'], format='mixed')"
   ]
  },
  {
   "cell_type": "code",
   "execution_count": 178,
   "id": "2839df35-1691-40ff-a739-8328098ae957",
   "metadata": {},
   "outputs": [],
   "source": [
    "new_wego['ACTUAL_DEPARTURE_TIME'] = pd.to_datetime(new_wego['ACTUAL_DEPARTURE_TIME'], format='mixed')"
   ]
  },
  {
   "cell_type": "code",
   "execution_count": 179,
   "id": "9d119232-42ad-467d-bb75-09a2f5ea5044",
   "metadata": {},
   "outputs": [],
   "source": [
    "#create weekday column\n",
    "new_wego['WEEKDAY'] = new_wego['ACTUAL_DEPARTURE_TIME'].dt.weekday"
   ]
  },
  {
   "cell_type": "code",
   "execution_count": 161,
   "id": "88a501c0-49ac-403b-8084-bf52661eb1b7",
   "metadata": {},
   "outputs": [],
   "source": [
    "# convert departure time to datetime\n",
    "new_wego['ACTUAL_DEPARTURE_TIME_convert'] = pd.to_datetime(new_wego['ACTUAL_DEPARTURE_TIME'], format='mixed')"
   ]
  },
  {
   "cell_type": "markdown",
   "id": "b1911e47-b8e4-4144-b0f0-f7b16393104d",
   "metadata": {},
   "source": [
    "### Headway & Adherence by hour"
   ]
  },
  {
   "cell_type": "code",
   "execution_count": 166,
   "id": "82ddeb78-0a29-4382-86c7-61edab36a8a5",
   "metadata": {},
   "outputs": [],
   "source": [
    "new_wego['TIME'] = new_wego['ACTUAL_DEPARTURE_TIME_convert'].dt.time"
   ]
  },
  {
   "cell_type": "code",
   "execution_count": 167,
   "id": "6bb9669c-340a-4c26-b5f4-924e72ef2375",
   "metadata": {},
   "outputs": [
    {
     "name": "stderr",
     "output_type": "stream",
     "text": [
      "C:\\Users\\marya\\AppData\\Local\\Temp\\ipykernel_5772\\1238179089.py:1: FutureWarning: Series.__getitem__ treating keys as positions is deprecated. In a future version, integer keys will always be treated as labels (consistent with DataFrame behavior). To access a value by position, use `ser.iloc[pos]`\n",
      "  type(new_wego['TIME'][0])\n"
     ]
    },
    {
     "data": {
      "text/plain": [
       "datetime.time"
      ]
     },
     "execution_count": 167,
     "metadata": {},
     "output_type": "execute_result"
    }
   ],
   "source": [
    "type(new_wego['TIME'][0])"
   ]
  },
  {
   "cell_type": "code",
   "execution_count": 169,
   "id": "d3a13b97-d05d-4faf-b39e-87b5538d4bf2",
   "metadata": {},
   "outputs": [],
   "source": [
    "new_wego['DEPART_TIME'] = ([pd.to_datetime('2000-01-01 ' + str(t), format='mixed') for t in new_wego['TIME']])"
   ]
  },
  {
   "cell_type": "code",
   "execution_count": 170,
   "id": "f02c5073-4452-4bfe-aee5-cdf33bf98008",
   "metadata": {},
   "outputs": [],
   "source": [
    "# calculate adherence by hour\n",
    "adherence_by_time = (new_wego.groupby(pd.Grouper(key='DEPART_TIME',freq='1h'))[['ADHERENCE','HDWY_DEV']].mean().reset_index())"
   ]
  },
  {
   "cell_type": "code",
   "execution_count": 171,
   "id": "f065d2b3-6ef8-4d1a-9f6f-a9d123f9ee02",
   "metadata": {},
   "outputs": [
    {
     "data": {
      "text/html": [
       "<div>\n",
       "<style scoped>\n",
       "    .dataframe tbody tr th:only-of-type {\n",
       "        vertical-align: middle;\n",
       "    }\n",
       "\n",
       "    .dataframe tbody tr th {\n",
       "        vertical-align: top;\n",
       "    }\n",
       "\n",
       "    .dataframe thead th {\n",
       "        text-align: right;\n",
       "    }\n",
       "</style>\n",
       "<table border=\"1\" class=\"dataframe\">\n",
       "  <thead>\n",
       "    <tr style=\"text-align: right;\">\n",
       "      <th></th>\n",
       "      <th>DEPART_TIME</th>\n",
       "      <th>ADHERENCE</th>\n",
       "      <th>HDWY_DEV</th>\n",
       "    </tr>\n",
       "  </thead>\n",
       "  <tbody>\n",
       "    <tr>\n",
       "      <th>0</th>\n",
       "      <td>2000-01-01 00:00:00</td>\n",
       "      <td>-4.478019</td>\n",
       "      <td>0.905051</td>\n",
       "    </tr>\n",
       "    <tr>\n",
       "      <th>1</th>\n",
       "      <td>2000-01-01 01:00:00</td>\n",
       "      <td>-10.618182</td>\n",
       "      <td>4.021621</td>\n",
       "    </tr>\n",
       "    <tr>\n",
       "      <th>2</th>\n",
       "      <td>2000-01-01 02:00:00</td>\n",
       "      <td>NaN</td>\n",
       "      <td>NaN</td>\n",
       "    </tr>\n",
       "    <tr>\n",
       "      <th>3</th>\n",
       "      <td>2000-01-01 03:00:00</td>\n",
       "      <td>NaN</td>\n",
       "      <td>NaN</td>\n",
       "    </tr>\n",
       "    <tr>\n",
       "      <th>4</th>\n",
       "      <td>2000-01-01 04:00:00</td>\n",
       "      <td>-0.785533</td>\n",
       "      <td>-0.771043</td>\n",
       "    </tr>\n",
       "    <tr>\n",
       "      <th>5</th>\n",
       "      <td>2000-01-01 05:00:00</td>\n",
       "      <td>-0.966710</td>\n",
       "      <td>0.306431</td>\n",
       "    </tr>\n",
       "    <tr>\n",
       "      <th>6</th>\n",
       "      <td>2000-01-01 06:00:00</td>\n",
       "      <td>-1.501108</td>\n",
       "      <td>0.347326</td>\n",
       "    </tr>\n",
       "    <tr>\n",
       "      <th>7</th>\n",
       "      <td>2000-01-01 07:00:00</td>\n",
       "      <td>-2.691298</td>\n",
       "      <td>0.700018</td>\n",
       "    </tr>\n",
       "    <tr>\n",
       "      <th>8</th>\n",
       "      <td>2000-01-01 08:00:00</td>\n",
       "      <td>-3.758128</td>\n",
       "      <td>0.413859</td>\n",
       "    </tr>\n",
       "    <tr>\n",
       "      <th>9</th>\n",
       "      <td>2000-01-01 09:00:00</td>\n",
       "      <td>-2.611876</td>\n",
       "      <td>0.265547</td>\n",
       "    </tr>\n",
       "    <tr>\n",
       "      <th>10</th>\n",
       "      <td>2000-01-01 10:00:00</td>\n",
       "      <td>-2.117932</td>\n",
       "      <td>0.314521</td>\n",
       "    </tr>\n",
       "    <tr>\n",
       "      <th>11</th>\n",
       "      <td>2000-01-01 11:00:00</td>\n",
       "      <td>-2.269175</td>\n",
       "      <td>0.392361</td>\n",
       "    </tr>\n",
       "    <tr>\n",
       "      <th>12</th>\n",
       "      <td>2000-01-01 12:00:00</td>\n",
       "      <td>-2.586910</td>\n",
       "      <td>0.389898</td>\n",
       "    </tr>\n",
       "    <tr>\n",
       "      <th>13</th>\n",
       "      <td>2000-01-01 13:00:00</td>\n",
       "      <td>-2.540283</td>\n",
       "      <td>0.372795</td>\n",
       "    </tr>\n",
       "    <tr>\n",
       "      <th>14</th>\n",
       "      <td>2000-01-01 14:00:00</td>\n",
       "      <td>-3.013218</td>\n",
       "      <td>0.480310</td>\n",
       "    </tr>\n",
       "    <tr>\n",
       "      <th>15</th>\n",
       "      <td>2000-01-01 15:00:00</td>\n",
       "      <td>-3.889472</td>\n",
       "      <td>0.713367</td>\n",
       "    </tr>\n",
       "    <tr>\n",
       "      <th>16</th>\n",
       "      <td>2000-01-01 16:00:00</td>\n",
       "      <td>-4.649309</td>\n",
       "      <td>0.761428</td>\n",
       "    </tr>\n",
       "    <tr>\n",
       "      <th>17</th>\n",
       "      <td>2000-01-01 17:00:00</td>\n",
       "      <td>-5.108192</td>\n",
       "      <td>0.460231</td>\n",
       "    </tr>\n",
       "    <tr>\n",
       "      <th>18</th>\n",
       "      <td>2000-01-01 18:00:00</td>\n",
       "      <td>-4.761087</td>\n",
       "      <td>0.411904</td>\n",
       "    </tr>\n",
       "    <tr>\n",
       "      <th>19</th>\n",
       "      <td>2000-01-01 19:00:00</td>\n",
       "      <td>-4.285366</td>\n",
       "      <td>0.596661</td>\n",
       "    </tr>\n",
       "    <tr>\n",
       "      <th>20</th>\n",
       "      <td>2000-01-01 20:00:00</td>\n",
       "      <td>-3.706049</td>\n",
       "      <td>0.682719</td>\n",
       "    </tr>\n",
       "    <tr>\n",
       "      <th>21</th>\n",
       "      <td>2000-01-01 21:00:00</td>\n",
       "      <td>-2.895680</td>\n",
       "      <td>0.548959</td>\n",
       "    </tr>\n",
       "    <tr>\n",
       "      <th>22</th>\n",
       "      <td>2000-01-01 22:00:00</td>\n",
       "      <td>-2.737146</td>\n",
       "      <td>0.941952</td>\n",
       "    </tr>\n",
       "    <tr>\n",
       "      <th>23</th>\n",
       "      <td>2000-01-01 23:00:00</td>\n",
       "      <td>-3.362155</td>\n",
       "      <td>1.079424</td>\n",
       "    </tr>\n",
       "  </tbody>\n",
       "</table>\n",
       "</div>"
      ],
      "text/plain": [
       "           DEPART_TIME  ADHERENCE  HDWY_DEV\n",
       "0  2000-01-01 00:00:00  -4.478019  0.905051\n",
       "1  2000-01-01 01:00:00 -10.618182  4.021621\n",
       "2  2000-01-01 02:00:00        NaN       NaN\n",
       "3  2000-01-01 03:00:00        NaN       NaN\n",
       "4  2000-01-01 04:00:00  -0.785533 -0.771043\n",
       "5  2000-01-01 05:00:00  -0.966710  0.306431\n",
       "6  2000-01-01 06:00:00  -1.501108  0.347326\n",
       "7  2000-01-01 07:00:00  -2.691298  0.700018\n",
       "8  2000-01-01 08:00:00  -3.758128  0.413859\n",
       "9  2000-01-01 09:00:00  -2.611876  0.265547\n",
       "10 2000-01-01 10:00:00  -2.117932  0.314521\n",
       "11 2000-01-01 11:00:00  -2.269175  0.392361\n",
       "12 2000-01-01 12:00:00  -2.586910  0.389898\n",
       "13 2000-01-01 13:00:00  -2.540283  0.372795\n",
       "14 2000-01-01 14:00:00  -3.013218  0.480310\n",
       "15 2000-01-01 15:00:00  -3.889472  0.713367\n",
       "16 2000-01-01 16:00:00  -4.649309  0.761428\n",
       "17 2000-01-01 17:00:00  -5.108192  0.460231\n",
       "18 2000-01-01 18:00:00  -4.761087  0.411904\n",
       "19 2000-01-01 19:00:00  -4.285366  0.596661\n",
       "20 2000-01-01 20:00:00  -3.706049  0.682719\n",
       "21 2000-01-01 21:00:00  -2.895680  0.548959\n",
       "22 2000-01-01 22:00:00  -2.737146  0.941952\n",
       "23 2000-01-01 23:00:00  -3.362155  1.079424"
      ]
     },
     "execution_count": 171,
     "metadata": {},
     "output_type": "execute_result"
    }
   ],
   "source": [
    "adherence_by_time"
   ]
  },
  {
   "cell_type": "code",
   "execution_count": 180,
   "id": "23751341-4aab-4fc3-9e48-a8cfed43ecbe",
   "metadata": {},
   "outputs": [],
   "source": [
    "adherence_by_day = new_wego.groupby('WEEKDAY')[['ADHERENCE','HDWY_DEV']].mean().reset_index()"
   ]
  },
  {
   "cell_type": "code",
   "execution_count": 181,
   "id": "e71a8ebc-e497-4524-86ed-2601893d4067",
   "metadata": {},
   "outputs": [
    {
     "data": {
      "text/html": [
       "<div>\n",
       "<style scoped>\n",
       "    .dataframe tbody tr th:only-of-type {\n",
       "        vertical-align: middle;\n",
       "    }\n",
       "\n",
       "    .dataframe tbody tr th {\n",
       "        vertical-align: top;\n",
       "    }\n",
       "\n",
       "    .dataframe thead th {\n",
       "        text-align: right;\n",
       "    }\n",
       "</style>\n",
       "<table border=\"1\" class=\"dataframe\">\n",
       "  <thead>\n",
       "    <tr style=\"text-align: right;\">\n",
       "      <th></th>\n",
       "      <th>WEEKDAY</th>\n",
       "      <th>ADHERENCE</th>\n",
       "      <th>HDWY_DEV</th>\n",
       "    </tr>\n",
       "  </thead>\n",
       "  <tbody>\n",
       "    <tr>\n",
       "      <th>0</th>\n",
       "      <td>0</td>\n",
       "      <td>-2.434586</td>\n",
       "      <td>0.289773</td>\n",
       "    </tr>\n",
       "    <tr>\n",
       "      <th>1</th>\n",
       "      <td>1</td>\n",
       "      <td>-2.952484</td>\n",
       "      <td>0.401450</td>\n",
       "    </tr>\n",
       "    <tr>\n",
       "      <th>2</th>\n",
       "      <td>2</td>\n",
       "      <td>-3.264622</td>\n",
       "      <td>0.368556</td>\n",
       "    </tr>\n",
       "    <tr>\n",
       "      <th>3</th>\n",
       "      <td>3</td>\n",
       "      <td>-3.455171</td>\n",
       "      <td>0.524049</td>\n",
       "    </tr>\n",
       "    <tr>\n",
       "      <th>4</th>\n",
       "      <td>4</td>\n",
       "      <td>-3.792110</td>\n",
       "      <td>0.644195</td>\n",
       "    </tr>\n",
       "    <tr>\n",
       "      <th>5</th>\n",
       "      <td>5</td>\n",
       "      <td>-3.400493</td>\n",
       "      <td>0.633628</td>\n",
       "    </tr>\n",
       "    <tr>\n",
       "      <th>6</th>\n",
       "      <td>6</td>\n",
       "      <td>-2.808781</td>\n",
       "      <td>1.016830</td>\n",
       "    </tr>\n",
       "  </tbody>\n",
       "</table>\n",
       "</div>"
      ],
      "text/plain": [
       "   WEEKDAY  ADHERENCE  HDWY_DEV\n",
       "0        0  -2.434586  0.289773\n",
       "1        1  -2.952484  0.401450\n",
       "2        2  -3.264622  0.368556\n",
       "3        3  -3.455171  0.524049\n",
       "4        4  -3.792110  0.644195\n",
       "5        5  -3.400493  0.633628\n",
       "6        6  -2.808781  1.016830"
      ]
     },
     "execution_count": 181,
     "metadata": {},
     "output_type": "execute_result"
    }
   ],
   "source": [
    "adherence_by_day"
   ]
  },
  {
   "cell_type": "code",
   "execution_count": 182,
   "id": "ce8a0fab-5c90-41ea-8720-83abc2144496",
   "metadata": {},
   "outputs": [],
   "source": [
    "new_wego['HOUR'] = pd.to_datetime(new_wego['ACTUAL_DEPARTURE_TIME'], format='mixed').dt.hour"
   ]
  },
  {
   "cell_type": "code",
   "execution_count": 184,
   "id": "e70c2597-fac0-4cc2-842c-d0ff5362364f",
   "metadata": {},
   "outputs": [],
   "source": [
    "adherence_by_day = new_wego.groupby('HOUR')[['ADHERENCE','HDWY_DEV','SCHEDULED_HDWY']].mean().reset_index()"
   ]
  },
  {
   "cell_type": "code",
   "execution_count": 189,
   "id": "fbf7a3a6-2d69-4a5f-8d22-52693ab540ae",
   "metadata": {},
   "outputs": [
    {
     "data": {
      "text/html": [
       "<div>\n",
       "<style scoped>\n",
       "    .dataframe tbody tr th:only-of-type {\n",
       "        vertical-align: middle;\n",
       "    }\n",
       "\n",
       "    .dataframe tbody tr th {\n",
       "        vertical-align: top;\n",
       "    }\n",
       "\n",
       "    .dataframe thead th {\n",
       "        text-align: right;\n",
       "    }\n",
       "</style>\n",
       "<table border=\"1\" class=\"dataframe\">\n",
       "  <thead>\n",
       "    <tr style=\"text-align: right;\">\n",
       "      <th></th>\n",
       "      <th>HOUR</th>\n",
       "      <th>ADHERENCE</th>\n",
       "      <th>HDWY_DEV</th>\n",
       "      <th>SCHEDULED_HDWY</th>\n",
       "    </tr>\n",
       "  </thead>\n",
       "  <tbody>\n",
       "    <tr>\n",
       "      <th>0</th>\n",
       "      <td>0</td>\n",
       "      <td>-4.478019</td>\n",
       "      <td>0.905051</td>\n",
       "      <td>32.144821</td>\n",
       "    </tr>\n",
       "    <tr>\n",
       "      <th>1</th>\n",
       "      <td>1</td>\n",
       "      <td>-10.618182</td>\n",
       "      <td>4.021621</td>\n",
       "      <td>44.594595</td>\n",
       "    </tr>\n",
       "    <tr>\n",
       "      <th>2</th>\n",
       "      <td>4</td>\n",
       "      <td>-0.785533</td>\n",
       "      <td>-0.771043</td>\n",
       "      <td>23.632184</td>\n",
       "    </tr>\n",
       "    <tr>\n",
       "      <th>3</th>\n",
       "      <td>5</td>\n",
       "      <td>-0.966710</td>\n",
       "      <td>0.306431</td>\n",
       "      <td>20.891133</td>\n",
       "    </tr>\n",
       "    <tr>\n",
       "      <th>4</th>\n",
       "      <td>6</td>\n",
       "      <td>-1.501108</td>\n",
       "      <td>0.347326</td>\n",
       "      <td>16.538616</td>\n",
       "    </tr>\n",
       "    <tr>\n",
       "      <th>5</th>\n",
       "      <td>7</td>\n",
       "      <td>-2.691298</td>\n",
       "      <td>0.700018</td>\n",
       "      <td>14.938857</td>\n",
       "    </tr>\n",
       "    <tr>\n",
       "      <th>6</th>\n",
       "      <td>8</td>\n",
       "      <td>-3.758128</td>\n",
       "      <td>0.413859</td>\n",
       "      <td>15.338848</td>\n",
       "    </tr>\n",
       "    <tr>\n",
       "      <th>7</th>\n",
       "      <td>9</td>\n",
       "      <td>-2.611876</td>\n",
       "      <td>0.265547</td>\n",
       "      <td>16.344796</td>\n",
       "    </tr>\n",
       "    <tr>\n",
       "      <th>8</th>\n",
       "      <td>10</td>\n",
       "      <td>-2.117932</td>\n",
       "      <td>0.314521</td>\n",
       "      <td>16.090257</td>\n",
       "    </tr>\n",
       "    <tr>\n",
       "      <th>9</th>\n",
       "      <td>11</td>\n",
       "      <td>-2.269175</td>\n",
       "      <td>0.392361</td>\n",
       "      <td>16.192914</td>\n",
       "    </tr>\n",
       "    <tr>\n",
       "      <th>10</th>\n",
       "      <td>12</td>\n",
       "      <td>-2.586910</td>\n",
       "      <td>0.389898</td>\n",
       "      <td>15.952506</td>\n",
       "    </tr>\n",
       "    <tr>\n",
       "      <th>11</th>\n",
       "      <td>13</td>\n",
       "      <td>-2.540283</td>\n",
       "      <td>0.372795</td>\n",
       "      <td>16.203817</td>\n",
       "    </tr>\n",
       "    <tr>\n",
       "      <th>12</th>\n",
       "      <td>14</td>\n",
       "      <td>-3.013218</td>\n",
       "      <td>0.480310</td>\n",
       "      <td>16.762962</td>\n",
       "    </tr>\n",
       "    <tr>\n",
       "      <th>13</th>\n",
       "      <td>15</td>\n",
       "      <td>-3.889472</td>\n",
       "      <td>0.713367</td>\n",
       "      <td>15.981875</td>\n",
       "    </tr>\n",
       "    <tr>\n",
       "      <th>14</th>\n",
       "      <td>16</td>\n",
       "      <td>-4.649309</td>\n",
       "      <td>0.761428</td>\n",
       "      <td>15.105064</td>\n",
       "    </tr>\n",
       "    <tr>\n",
       "      <th>15</th>\n",
       "      <td>17</td>\n",
       "      <td>-5.108192</td>\n",
       "      <td>0.460231</td>\n",
       "      <td>15.232341</td>\n",
       "    </tr>\n",
       "    <tr>\n",
       "      <th>16</th>\n",
       "      <td>18</td>\n",
       "      <td>-4.761087</td>\n",
       "      <td>0.411904</td>\n",
       "      <td>17.979332</td>\n",
       "    </tr>\n",
       "    <tr>\n",
       "      <th>17</th>\n",
       "      <td>19</td>\n",
       "      <td>-4.285366</td>\n",
       "      <td>0.596661</td>\n",
       "      <td>22.997792</td>\n",
       "    </tr>\n",
       "    <tr>\n",
       "      <th>18</th>\n",
       "      <td>20</td>\n",
       "      <td>-3.706049</td>\n",
       "      <td>0.682719</td>\n",
       "      <td>25.490520</td>\n",
       "    </tr>\n",
       "    <tr>\n",
       "      <th>19</th>\n",
       "      <td>21</td>\n",
       "      <td>-2.895680</td>\n",
       "      <td>0.548959</td>\n",
       "      <td>26.657689</td>\n",
       "    </tr>\n",
       "    <tr>\n",
       "      <th>20</th>\n",
       "      <td>22</td>\n",
       "      <td>-2.737146</td>\n",
       "      <td>0.941952</td>\n",
       "      <td>27.865337</td>\n",
       "    </tr>\n",
       "    <tr>\n",
       "      <th>21</th>\n",
       "      <td>23</td>\n",
       "      <td>-3.362155</td>\n",
       "      <td>1.079424</td>\n",
       "      <td>29.964795</td>\n",
       "    </tr>\n",
       "  </tbody>\n",
       "</table>\n",
       "</div>"
      ],
      "text/plain": [
       "    HOUR  ADHERENCE  HDWY_DEV  SCHEDULED_HDWY\n",
       "0      0  -4.478019  0.905051       32.144821\n",
       "1      1 -10.618182  4.021621       44.594595\n",
       "2      4  -0.785533 -0.771043       23.632184\n",
       "3      5  -0.966710  0.306431       20.891133\n",
       "4      6  -1.501108  0.347326       16.538616\n",
       "5      7  -2.691298  0.700018       14.938857\n",
       "6      8  -3.758128  0.413859       15.338848\n",
       "7      9  -2.611876  0.265547       16.344796\n",
       "8     10  -2.117932  0.314521       16.090257\n",
       "9     11  -2.269175  0.392361       16.192914\n",
       "10    12  -2.586910  0.389898       15.952506\n",
       "11    13  -2.540283  0.372795       16.203817\n",
       "12    14  -3.013218  0.480310       16.762962\n",
       "13    15  -3.889472  0.713367       15.981875\n",
       "14    16  -4.649309  0.761428       15.105064\n",
       "15    17  -5.108192  0.460231       15.232341\n",
       "16    18  -4.761087  0.411904       17.979332\n",
       "17    19  -4.285366  0.596661       22.997792\n",
       "18    20  -3.706049  0.682719       25.490520\n",
       "19    21  -2.895680  0.548959       26.657689\n",
       "20    22  -2.737146  0.941952       27.865337\n",
       "21    23  -3.362155  1.079424       29.964795"
      ]
     },
     "execution_count": 189,
     "metadata": {},
     "output_type": "execute_result"
    }
   ],
   "source": [
    "adherence_by_day"
   ]
  },
  {
   "cell_type": "code",
   "execution_count": 134,
   "id": "cb26ad96-abb3-4743-a685-258334d37b17",
   "metadata": {},
   "outputs": [],
   "source": [
    "# Calculate HDWY Deviation Percentage\n",
    "def get_dev_pct(row):\n",
    "    if row['SCHEDULED_HDWY'] != 0:\n",
    "        return abs(row['HDWY_DEV']) / row['SCHEDULED_HDWY'] * 100\n",
    "    else:\n",
    "        return np.NaN"
   ]
  },
  {
   "cell_type": "code",
   "execution_count": 135,
   "id": "c4e52d2b-5ca9-43c4-b0ee-cba65549146b",
   "metadata": {},
   "outputs": [],
   "source": [
    "# create headway deviation percentable column\n",
    "wego.loc[:, 'HDWY_DEV_PCT'] = wego.apply(lambda r: get_dev_pct(r), axis=1)"
   ]
  },
  {
   "cell_type": "code",
   "execution_count": 234,
   "id": "472db421-b23d-4e0d-b97f-d92958059249",
   "metadata": {},
   "outputs": [],
   "source": [
    "def hdwy_acpt(pct):\n",
    "    if (pct >= 50) & (pct <= 150):\n",
    "        return int(1)\n",
    "    else:\n",
    "        return int(0);\n",
    "def hdwy_nacpt(pct):\n",
    "    if pct < 50 or pct > 150:\n",
    "        return int(1)\n",
    "    else:\n",
    "        return int(0);"
   ]
  },
  {
   "cell_type": "code",
   "execution_count": 78,
   "id": "f41692b1-9280-4753-b330-747b61524f4a",
   "metadata": {},
   "outputs": [],
   "source": [
    "def hdwy_bunch(dev):\n",
    "    if dev < 0:\n",
    "        return int(1)\n",
    "    else:\n",
    "        return int(0);\n",
    "def hdwy_gap(dev):\n",
    "    if dev > 0:\n",
    "        return int(1)\n",
    "    else:\n",
    "        return int(0);\n",
    "def hdwy_perf(dev):\n",
    "    if dev == 0:\n",
    "        return int(1)\n",
    "    else:\n",
    "        return int(0);"
   ]
  },
  {
   "cell_type": "code",
   "execution_count": 79,
   "id": "4240f26a-c3fb-4405-b084-9b4105d8c0b7",
   "metadata": {},
   "outputs": [],
   "source": [
    "wego.loc[:,'HDWY_GAPPING'] = wego['HDWY_DEV'].apply(hdwy_gap)"
   ]
  },
  {
   "cell_type": "code",
   "execution_count": 80,
   "id": "35d521c7-03ba-4b27-9bb0-ee8811e89fd2",
   "metadata": {},
   "outputs": [],
   "source": [
    "wego.loc[:,'HDWY_PERFECT'] = wego['HDWY_DEV'].apply(hdwy_perf)"
   ]
  },
  {
   "cell_type": "code",
   "execution_count": 81,
   "id": "02f03f9f-f6de-4cac-a1b6-62b776abcdb1",
   "metadata": {},
   "outputs": [],
   "source": [
    "wego.loc[:,'HDWY_BUNCHING'] = wego['HDWY_DEV'].apply(hdwy_bunch)"
   ]
  },
  {
   "cell_type": "code",
   "execution_count": 230,
   "id": "507a7e13-a242-4366-bdf3-9e96728ae9de",
   "metadata": {},
   "outputs": [],
   "source": [
    "wego.loc[:,'HDWY_ACCEPTABLE'] = wego['HDWY_DEV_PCT'].apply(hdwy_acpt)"
   ]
  },
  {
   "cell_type": "code",
   "execution_count": 231,
   "id": "72e9066c-1d1c-4340-8dba-b2a67b55ab8a",
   "metadata": {},
   "outputs": [],
   "source": [
    "wego.loc[:,'HDWY_NACCEPTABLE'] = wego['HDWY_DEV_PCT'].apply(hdwy_nacpt)"
   ]
  },
  {
   "cell_type": "code",
   "execution_count": 139,
   "id": "78abff1f-6c5e-47df-be18-95d4cc3b1cf7",
   "metadata": {},
   "outputs": [],
   "source": [
    "# HDWY DEV\n",
    "wego_hdwy_dev_sums = wego[['HDWY_GAPPING', 'HDWY_PERFECT', 'HDWY_BUNCHING']].sum()"
   ]
  },
  {
   "cell_type": "code",
   "execution_count": 140,
   "id": "0da6f8cc-f30d-4593-aa4f-7e9113d29aec",
   "metadata": {},
   "outputs": [
    {
     "data": {
      "text/plain": [
       "HDWY_GAPPING     134089\n",
       "HDWY_PERFECT        760\n",
       "HDWY_BUNCHING    131044\n",
       "dtype: int64"
      ]
     },
     "execution_count": 140,
     "metadata": {},
     "output_type": "execute_result"
    }
   ],
   "source": [
    "wego_hdwy_dev_sums"
   ]
  },
  {
   "cell_type": "code",
   "execution_count": 96,
   "id": "c41840ce-bbe6-4dbb-985d-67a3cd67b8e8",
   "metadata": {},
   "outputs": [
    {
     "data": {
      "text/plain": [
       "[Text(0.5, 1.0, 'Headway Deviation Gapping or Bunching'),\n",
       " Text(0.5, 0, 'Stops')]"
      ]
     },
     "execution_count": 96,
     "metadata": {},
     "output_type": "execute_result"
    },
    {
     "data": {
      "image/png": "[encoded data removed]",
      "text/plain": [
       "<Figure size 640x480 with 1 Axes>"
      ]
     },
     "metadata": {},
     "output_type": "display_data"
    }
   ],
   "source": [
    "# plotting headway  \n",
    "ax = (\n",
    "    wego_hdwy_dev_sums\n",
    "    .plot(kind='bar')\n",
    "    )\n",
    "\n",
    "ax.set(\n",
    "    title='Headway Deviation Gapping or Bunching',\n",
    "    xlabel = 'Stops'\n",
    "    )"
   ]
  },
  {
   "cell_type": "code",
   "execution_count": 232,
   "id": "6509d305-089c-460e-932a-7e68f0d54747",
   "metadata": {},
   "outputs": [],
   "source": [
    "# HDWY_DEV_PCT\n",
    "wego_hdwy_pct_sums = wego[['HDWY_ACCEPTABLE','HDWY_NACCEPTABLE']].sum()"
   ]
  },
  {
   "cell_type": "code",
   "execution_count": 233,
   "id": "b2108e81-2790-4ebd-a45c-763808ebc3df",
   "metadata": {},
   "outputs": [
    {
     "data": {
      "text/plain": [
       "[Text(0.5, 1.0, 'Headway Deviation Range'), Text(0.5, 0, 'Stops')]"
      ]
     },
     "execution_count": 233,
     "metadata": {},
     "output_type": "execute_result"
    },
    {
     "data": {
      "image/png": "[encoded data removed]",
      "text/plain": [
       "<Figure size 640x480 with 1 Axes>"
      ]
     },
     "metadata": {},
     "output_type": "display_data"
    }
   ],
   "source": [
    "# plotting headway pct \n",
    "ax = (\n",
    "    wego_hdwy_pct_sums\n",
    "    .plot(kind='bar')\n",
    "    )\n",
    "\n",
    "ax.set(\n",
    "    title='Headway Deviation Range',\n",
    "    xlabel = 'Stops'\n",
    "    )"
   ]
  },
  {
   "cell_type": "code",
   "execution_count": null,
   "id": "7c8b1b97-4d86-4b70-9174-2891502c3f45",
   "metadata": {},
   "outputs": [],
   "source": []
  }
 ],
 "metadata": {
  "kernelspec": {
   "display_name": "Python 3 (ipykernel)",
   "language": "python",
   "name": "python3"
  },
  "language_info": {
   "codemirror_mode": {
    "name": "ipython",
    "version": 3
   },
   "file_extension": ".py",
   "mimetype": "text/x-python",
   "name": "python",
   "nbconvert_exporter": "python",
   "pygments_lexer": "ipython3",
   "version": "3.11.7"
  }
 },
 "nbformat": 4,
 "nbformat_minor": 5
}
