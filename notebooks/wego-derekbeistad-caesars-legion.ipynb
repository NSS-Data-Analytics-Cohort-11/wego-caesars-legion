{
 "cells": [
  {
   "cell_type": "markdown",
   "id": "03933686",
   "metadata": {},
   "source": [
    "# Imports"
   ]
  },
  {
   "cell_type": "code",
   "execution_count": 1,
   "id": "c025b291",
   "metadata": {},
   "outputs": [],
   "source": [
    "import pandas as pd\n",
    "import numpy as np\n",
    "from datetime import datetime"
   ]
  },
  {
   "cell_type": "code",
   "execution_count": 150,
   "id": "2298d78f",
   "metadata": {},
   "outputs": [],
   "source": [
    "wego = pd.read_csv('../data/Headway Data, 8-1-2023 to 9-30-2023.csv')"
   ]
  },
  {
   "cell_type": "code",
   "execution_count": 151,
   "id": "da0b5dbf",
   "metadata": {},
   "outputs": [
    {
     "data": {
      "text/plain": [
       "(350329, 30)"
      ]
     },
     "execution_count": 151,
     "metadata": {},
     "output_type": "execute_result"
    }
   ],
   "source": [
    "wego.shape"
   ]
  },
  {
   "cell_type": "code",
   "execution_count": 152,
   "id": "3c414e79",
   "metadata": {},
   "outputs": [
    {
     "data": {
      "text/plain": [
       "Index(['CALENDAR_ID', 'SERVICE_ABBR', 'ADHERENCE_ID', 'DATE', 'ROUTE_ABBR',\n",
       "       'BLOCK_ABBR', 'OPERATOR', 'TRIP_ID', 'OVERLOAD_ID',\n",
       "       'ROUTE_DIRECTION_NAME', 'TIME_POINT_ABBR', 'ROUTE_STOP_SEQUENCE',\n",
       "       'TRIP_EDGE', 'LATITUDE', 'LONGITUDE', 'SCHEDULED_TIME',\n",
       "       'ACTUAL_ARRIVAL_TIME', 'ACTUAL_DEPARTURE_TIME', 'ADHERENCE',\n",
       "       'SCHEDULED_HDWY', 'ACTUAL_HDWY', 'HDWY_DEV', 'ADJUSTED_EARLY_COUNT',\n",
       "       'ADJUSTED_LATE_COUNT', 'ADJUSTED_ONTIME_COUNT', 'STOP_CANCELLED',\n",
       "       'PREV_SCHED_STOP_CANCELLED', 'IS_RELIEF', 'DWELL_IN_MINS',\n",
       "       'SCHEDULED_LAYOVER_MINUTES'],\n",
       "      dtype='object')"
      ]
     },
     "execution_count": 152,
     "metadata": {},
     "output_type": "execute_result"
    }
   ],
   "source": [
    "wego.columns"
   ]
  },
  {
   "cell_type": "markdown",
   "id": "9ac745c4",
   "metadata": {},
   "source": []
  },
  {
   "cell_type": "markdown",
   "id": "9951a90d",
   "metadata": {},
   "source": [
    "## create unique trip id"
   ]
  },
  {
   "cell_type": "code",
   "execution_count": 153,
   "id": "1a360250",
   "metadata": {},
   "outputs": [],
   "source": [
    "def create_id(row):\n",
    "    row['CALENDAR_ID'] + ''"
   ]
  },
  {
   "cell_type": "code",
   "execution_count": 154,
   "id": "a1fd9c3d",
   "metadata": {},
   "outputs": [],
   "source": [
    "wego['DATE_TRIP'] = wego.apply(lambda row: str(row['CALENDAR_ID']) + '-' + str(row['TRIP_ID']), axis=1)"
   ]
  },
  {
   "cell_type": "code",
   "execution_count": 155,
   "id": "0d2cbd6a",
   "metadata": {},
   "outputs": [
    {
     "data": {
      "text/plain": [
       "67370"
      ]
     },
     "execution_count": 155,
     "metadata": {},
     "output_type": "execute_result"
    }
   ],
   "source": [
    "wego['DATE_TRIP'].nunique()"
   ]
  },
  {
   "cell_type": "markdown",
   "id": "aac66a8d",
   "metadata": {},
   "source": [
    "### Create Headway Categories"
   ]
  },
  {
   "cell_type": "code",
   "execution_count": 156,
   "id": "e93c12a0",
   "metadata": {},
   "outputs": [],
   "source": [
    "# Calculate HDWY Deviation Percentage\n",
    "def get_dev_pct(row):\n",
    "    '''Takes a row as input, returns a perfencate value. \n",
    "    Calculate the headway deviation percentage taking into\n",
    "    consideration the possibility of SCHEDULED_HDWY being 0'''\n",
    "    if row['SCHEDULED_HDWY'] != 0:\n",
    "        return abs(row['HDWY_DEV']) / row['SCHEDULED_HDWY'] * 100\n",
    "    else:\n",
    "        return np.NaN"
   ]
  },
  {
   "cell_type": "code",
   "execution_count": 157,
   "id": "0c385812",
   "metadata": {},
   "outputs": [],
   "source": [
    "# create headway deviation percentable column\n",
    "wego.loc[:, 'HDWY_DEV_PCT'] = wego.apply(lambda r: get_dev_pct(r), axis=1)"
   ]
  },
  {
   "cell_type": "code",
   "execution_count": 159,
   "id": "35599c0b",
   "metadata": {},
   "outputs": [],
   "source": [
    "# Create Bunching or Gapping Indicator\n",
    "def is_hdwy_bunching(dev, pct):\n",
    "    if (dev < 0) & (pct > 50):\n",
    "        return int(1)\n",
    "    else:\n",
    "        return int(0)\n",
    "def is_hdwy_gapping(dev, pct):\n",
    "    if (dev > 0) & (pct > 50):\n",
    "        return int(1)\n",
    "    else:\n",
    "        return int(0)\n",
    "def is_hdwy_acceptable(pct):\n",
    "    if pct <= 50:\n",
    "        return int(1)\n",
    "    else:\n",
    "        return int(0)"
   ]
  },
  {
   "cell_type": "code",
   "execution_count": 164,
   "id": "f0ee154c",
   "metadata": {},
   "outputs": [],
   "source": [
    "# Create new Bunching/gapping columns with Boolean values for each group.\n",
    "wego.loc[:, 'HDWY_BUNCHING'] = wego.apply(lambda r: \n",
    "                                          is_hdwy_bunching(r['HDWY_DEV'], r['HDWY_DEV_PCT']), axis=1)\n",
    "wego.loc[:, 'HDWY_ACCEPTABLE'] = wego.apply(lambda r: \n",
    "                                            is_hdwy_acceptable(r['HDWY_DEV_PCT']), axis=1)\n",
    "wego.loc[:, 'HDWY_GAPPING'] = wego.apply(lambda r: \n",
    "                                         is_hdwy_gapping(r['HDWY_DEV'], r['HDWY_DEV_PCT']), axis=1)"
   ]
  },
  {
   "cell_type": "markdown",
   "id": "2b2a4e2a",
   "metadata": {},
   "source": [
    "# 1) What is the overall on-time performance, and what do the overall distributions of adherence and headway deviation look like? "
   ]
  },
  {
   "cell_type": "code",
   "execution_count": 16,
   "id": "a8c64d91",
   "metadata": {},
   "outputs": [
    {
     "data": {
      "text/plain": [
       "77.08"
      ]
     },
     "execution_count": 16,
     "metadata": {},
     "output_type": "execute_result"
    }
   ],
   "source": [
    "round(wego['ADJUSTED_ONTIME_COUNT'].value_counts()[1] / wego.shape[0] * 100, 2)"
   ]
  },
  {
   "cell_type": "markdown",
   "id": "e352b7b1",
   "metadata": {},
   "source": [
    "#### 77% of checkins here considered ontime."
   ]
  },
  {
   "cell_type": "code",
   "execution_count": 17,
   "id": "884af34b",
   "metadata": {},
   "outputs": [],
   "source": [
    "trips_adherence_cat = (wego.groupby('DATE_TRIP')\n",
    ".sum()\n",
    "[['ADJUSTED_EARLY_COUNT', 'ADJUSTED_LATE_COUNT', 'ADJUSTED_ONTIME_COUNT']])"
   ]
  },
  {
   "cell_type": "code",
   "execution_count": 18,
   "id": "77a39e9b",
   "metadata": {},
   "outputs": [],
   "source": [
    "perfect_trips = (trips_adherence_cat[\n",
    "    (trips_adherence_cat['ADJUSTED_EARLY_COUNT'] == 0) & \n",
    "    (trips_adherence_cat['ADJUSTED_LATE_COUNT'] == 0)])"
   ]
  },
  {
   "cell_type": "code",
   "execution_count": 19,
   "id": "3091b598",
   "metadata": {},
   "outputs": [
    {
     "data": {
      "text/plain": [
       "60.62"
      ]
     },
     "execution_count": 19,
     "metadata": {},
     "output_type": "execute_result"
    }
   ],
   "source": [
    "round(perfect_trips.shape[0] / trips_adherence_cat.shape[0] * 100, 2)"
   ]
  },
  {
   "cell_type": "code",
   "execution_count": 20,
   "id": "4772bdbb",
   "metadata": {},
   "outputs": [
    {
     "data": {
      "text/plain": [
       "40843"
      ]
     },
     "execution_count": 20,
     "metadata": {},
     "output_type": "execute_result"
    }
   ],
   "source": [
    "perfect_trips.shape[0]"
   ]
  },
  {
   "cell_type": "markdown",
   "id": "af77e75c",
   "metadata": {},
   "source": [
    "#### 60.6% of all trips were perfect, 40843 perfect trips"
   ]
  },
  {
   "cell_type": "code",
   "execution_count": 21,
   "id": "13a817d9",
   "metadata": {},
   "outputs": [
    {
     "data": {
      "text/plain": [
       "min      -948.533333\n",
       "max        88.383333\n",
       "mean       -3.188796\n",
       "median     -2.000000\n",
       "Name: ADHERENCE, dtype: float64"
      ]
     },
     "execution_count": 21,
     "metadata": {},
     "output_type": "execute_result"
    }
   ],
   "source": [
    "wego['ADHERENCE'].apply(['min', 'max', 'mean', 'median'])"
   ]
  },
  {
   "cell_type": "code",
   "execution_count": 22,
   "id": "9146b3cb",
   "metadata": {},
   "outputs": [
    {
     "data": {
      "text/plain": [
       "min       -64.000000\n",
       "max       565.433333\n",
       "mean        0.518081\n",
       "median      0.033333\n",
       "Name: HDWY_DEV, dtype: float64"
      ]
     },
     "execution_count": 22,
     "metadata": {},
     "output_type": "execute_result"
    }
   ],
   "source": [
    "wego['HDWY_DEV'].apply(['min', 'max', 'mean', 'median'])"
   ]
  },
  {
   "cell_type": "code",
   "execution_count": 23,
   "id": "0b06a131",
   "metadata": {},
   "outputs": [],
   "source": [
    "# Calculate Adherence mean and standard deviation\n",
    "ad_mean = wego['ADHERENCE'].mean()\n",
    "ad_std = np.std(wego['ADHERENCE'])"
   ]
  },
  {
   "cell_type": "code",
   "execution_count": 24,
   "id": "33b3d3ae",
   "metadata": {},
   "outputs": [
    {
     "data": {
      "text/plain": [
       "[Text(0.5, 1.0, 'Adherence Distribution Excluding Outliers'),\n",
       " Text(0.5, 0, 'Adherence')]"
      ]
     },
     "execution_count": 24,
     "metadata": {},
     "output_type": "execute_result"
    },
    {
     "data": {
      "image/png": "[encoded data removed]",
      "text/plain": [
       "<Figure size 640x480 with 1 Axes>"
      ]
     },
     "metadata": {},
     "output_type": "display_data"
    }
   ],
   "source": [
    "ax = (\n",
    "    wego[wego['ADHERENCE'].between(ad_mean - ad_std*3,\n",
    "                                   ad_mean + ad_std*3,\n",
    "                                   inclusive='both')]\n",
    "    ['ADHERENCE']\n",
    "    .plot(kind='hist',\n",
    "          bins=50)\n",
    ")\n",
    "\n",
    "ax.set(\n",
    "    title='Adherence Distribution Excluding Outliers',\n",
    "    xlabel='Adherence'\n",
    "    )"
   ]
  },
  {
   "cell_type": "code",
   "execution_count": 25,
   "id": "28bf1980",
   "metadata": {},
   "outputs": [],
   "source": [
    "# Calculate Headway Deviation mean and standard deviation\n",
    "hd_mean = wego['HDWY_DEV'].mean()\n",
    "hd_std = np.std(wego['HDWY_DEV'])"
   ]
  },
  {
   "cell_type": "code",
   "execution_count": 26,
   "id": "c8e9de5e",
   "metadata": {},
   "outputs": [
    {
     "data": {
      "text/plain": [
       "[Text(0.5, 1.0, 'Headway Deviation Distribution Excluding Outliers'),\n",
       " Text(0.5, 0, 'Headway Deviation')]"
      ]
     },
     "execution_count": 26,
     "metadata": {},
     "output_type": "execute_result"
    },
    {
     "data": {
      "image/png": "[encoded data removed]",
      "text/plain": [
       "<Figure size 640x480 with 1 Axes>"
      ]
     },
     "metadata": {},
     "output_type": "display_data"
    }
   ],
   "source": [
    "ax= (\n",
    "    wego[wego['HDWY_DEV'].between(hd_mean - hd_std*3, \n",
    "                                  hd_mean + hd_std*3, \n",
    "                                  inclusive='both')]\n",
    "    ['HDWY_DEV']\n",
    "    .plot(kind='hist', bins=50)\n",
    ")\n",
    "\n",
    "ax.set(\n",
    "    title='Headway Deviation Distribution Excluding Outliers',\n",
    "    xlabel='Headway Deviation'\n",
    "    )"
   ]
  },
  {
   "cell_type": "markdown",
   "id": "7a916b3c",
   "metadata": {},
   "source": [
    "# 2) How does direction of travel, route, or location affect the headway and on-time performance?"
   ]
  },
  {
   "cell_type": "code",
   "execution_count": 27,
   "id": "04a158bc",
   "metadata": {},
   "outputs": [
    {
     "data": {
      "text/plain": [
       "Index(['CALENDAR_ID', 'SERVICE_ABBR', 'ADHERENCE_ID', 'DATE', 'ROUTE_ABBR',\n",
       "       'BLOCK_ABBR', 'OPERATOR', 'TRIP_ID', 'OVERLOAD_ID',\n",
       "       'ROUTE_DIRECTION_NAME', 'TIME_POINT_ABBR', 'ROUTE_STOP_SEQUENCE',\n",
       "       'TRIP_EDGE', 'LATITUDE', 'LONGITUDE', 'SCHEDULED_TIME',\n",
       "       'ACTUAL_ARRIVAL_TIME', 'ACTUAL_DEPARTURE_TIME', 'ADHERENCE',\n",
       "       'SCHEDULED_HDWY', 'ACTUAL_HDWY', 'HDWY_DEV', 'ADJUSTED_EARLY_COUNT',\n",
       "       'ADJUSTED_LATE_COUNT', 'ADJUSTED_ONTIME_COUNT', 'STOP_CANCELLED',\n",
       "       'PREV_SCHED_STOP_CANCELLED', 'IS_RELIEF', 'DWELL_IN_MINS',\n",
       "       'SCHEDULED_LAYOVER_MINUTES', 'DATE_TRIP', 'HDWY_DEV_PCT',\n",
       "       'HDWY_BUNCHING', 'HDWY_AS_SCHEDULED', 'HDWY_GAPPING', 'HDWY_IDEAL',\n",
       "       'HDWY_ACCEPTABLE', 'HDWY_NOT_ACCEPTABLE'],\n",
       "      dtype='object')"
      ]
     },
     "execution_count": 27,
     "metadata": {},
     "output_type": "execute_result"
    }
   ],
   "source": [
    "wego.columns"
   ]
  },
  {
   "cell_type": "markdown",
   "id": "463ae7d9",
   "metadata": {},
   "source": [
    "### Route Direction"
   ]
  },
  {
   "cell_type": "markdown",
   "id": "c5527891",
   "metadata": {},
   "source": [
    "#### Headway"
   ]
  },
  {
   "cell_type": "code",
   "execution_count": 117,
   "id": "200ac0b8",
   "metadata": {},
   "outputs": [],
   "source": [
    "# Create new df for Headway columns grouped by Route Direction\n",
    "route_direction_totals = (\n",
    "    wego.groupby('ROUTE_DIRECTION_NAME')\n",
    "         [['HDWY_IDEAL', 'HDWY_ACCEPTABLE', 'HDWY_NOT_ACCEPTABLE']]\n",
    "         .sum()\n",
    ")"
   ]
  },
  {
   "cell_type": "code",
   "execution_count": 118,
   "id": "839e5632",
   "metadata": {},
   "outputs": [],
   "source": [
    "# Create new total column for each row\n",
    "route_direction_totals['TOTALS'] = route_direction_totals.sum(axis=1)"
   ]
  },
  {
   "cell_type": "code",
   "execution_count": 122,
   "id": "17f1496a",
   "metadata": {},
   "outputs": [],
   "source": [
    "# Create new percentage column for each category\n",
    "route_direction_totals.loc[:, 'IDEAL_PCT'] = (route_direction_totals['HDWY_IDEAL'] / \n",
    "                                                route_direction_totals['TOTALS'] * 100)\n",
    "route_direction_totals.loc[:, 'ACCEPTABLE_PCT'] = (route_direction_totals['HDWY_ACCEPTABLE'] / \n",
    "                                                    route_direction_totals['TOTALS'] * 100)\n",
    "route_direction_totals.loc[:, 'NOT_ACCEPTABLE_PCT'] = (route_direction_totals['HDWY_NOT_ACCEPTABLE'] / \n",
    "                                                    route_direction_totals['TOTALS'] * 100)"
   ]
  },
  {
   "cell_type": "code",
   "execution_count": 121,
   "id": "4ac52d80",
   "metadata": {},
   "outputs": [
    {
     "data": {
      "image/png": "[encoded data removed]",
      "text/plain": [
       "<Figure size 640x480 with 1 Axes>"
      ]
     },
     "metadata": {},
     "output_type": "display_data"
    }
   ],
   "source": [
    "# Route Direction Headway Graph\n",
    "ax = (route_direction_totals[['IDEAL_PCT', 'ACCEPTABLE_PCT', 'NOT_ACCEPTABLE_PCT']]\n",
    "      .plot(kind='bar',\n",
    "            stacked=True))\n",
    "\n",
    "ax.set(title = 'Headway Performance by Route Direction (category %)',\n",
    "        xlabel = 'Route Direction',\n",
    "       ylabel = 'Percentage')\n",
    "ax.legend(title = 'Categories', bbox_to_anchor=(1, 1))\n",
    "ax.tick_params(axis='x', rotation=0)"
   ]
  },
  {
   "cell_type": "markdown",
   "id": "440aed22",
   "metadata": {},
   "source": [
    "#### Adherence"
   ]
  },
  {
   "cell_type": "code",
   "execution_count": 107,
   "id": "3bf29882",
   "metadata": {},
   "outputs": [],
   "source": [
    "# Create new df for Headway columns grouped by Route Direction\n",
    "route_ad_direction_totals = (\n",
    "    wego.groupby('ROUTE_DIRECTION_NAME')\n",
    "         [['ADJUSTED_ONTIME_COUNT', 'ADJUSTED_LATE_COUNT', 'ADJUSTED_EARLY_COUNT']]\n",
    "         .sum()\n",
    ")"
   ]
  },
  {
   "cell_type": "code",
   "execution_count": 113,
   "id": "abc06baa",
   "metadata": {},
   "outputs": [],
   "source": [
    "# Create new total column for each row\n",
    "route_ad_direction_totals['TOTALS'] = route_ad_direction_totals.sum(axis=1)"
   ]
  },
  {
   "cell_type": "code",
   "execution_count": 114,
   "id": "7b4afc92",
   "metadata": {},
   "outputs": [],
   "source": [
    "# Create new percentage column for each category\n",
    "route_ad_direction_totals.loc[:, 'ONTIME_PCT'] = (route_ad_direction_totals['ADJUSTED_ONTIME_COUNT'] / \n",
    "                                                  route_ad_direction_totals['TOTALS'] * 100)\n",
    "route_ad_direction_totals.loc[:, 'EARLY_PCT'] = (route_ad_direction_totals['ADJUSTED_EARLY_COUNT'] / \n",
    "                                                 route_ad_direction_totals['TOTALS'] * 100)\n",
    "route_ad_direction_totals.loc[:, 'LATE_PCT'] = (route_ad_direction_totals['ADJUSTED_LATE_COUNT'] / \n",
    "                                                  route_ad_direction_totals['TOTALS'] * 100)"
   ]
  },
  {
   "cell_type": "code",
   "execution_count": null,
   "id": "7db34fe5",
   "metadata": {},
   "outputs": [],
   "source": []
  },
  {
   "cell_type": "code",
   "execution_count": 116,
   "id": "a1bb9205",
   "metadata": {},
   "outputs": [
    {
     "data": {
      "image/png": "[encoded data removed]",
      "text/plain": [
       "<Figure size 640x480 with 1 Axes>"
      ]
     },
     "metadata": {},
     "output_type": "display_data"
    }
   ],
   "source": [
    "# Route Direction Adherence graph\n",
    "ax = (\n",
    "    route_ad_direction_totals[['ONTIME_PCT', 'EARLY_PCT', 'LATE_PCT']]\n",
    ").plot(kind='bar', stacked=True)\n",
    "ax.set(title = 'Adherence Performance by Route Direction (category %)',\n",
    "        xlabel = 'Route Direction',\n",
    "       ylabel = 'Percentage')\n",
    "ax.legend(title = 'Categories', bbox_to_anchor=(1, 1))\n",
    "ax.tick_params(axis='x', rotation=0)"
   ]
  },
  {
   "cell_type": "code",
   "execution_count": 45,
   "id": "6e851e7e",
   "metadata": {},
   "outputs": [
    {
     "data": {
      "text/html": [
       "<div>\n",
       "<style scoped>\n",
       "    .dataframe tbody tr th:only-of-type {\n",
       "        vertical-align: middle;\n",
       "    }\n",
       "\n",
       "    .dataframe tbody tr th {\n",
       "        vertical-align: top;\n",
       "    }\n",
       "\n",
       "    .dataframe thead th {\n",
       "        text-align: right;\n",
       "    }\n",
       "</style>\n",
       "<table border=\"1\" class=\"dataframe\">\n",
       "  <thead>\n",
       "    <tr style=\"text-align: right;\">\n",
       "      <th></th>\n",
       "      <th>HDWY_DEV_PCT</th>\n",
       "      <th>ADHERENCE</th>\n",
       "    </tr>\n",
       "    <tr>\n",
       "      <th>ROUTE_DIRECTION_NAME</th>\n",
       "      <th></th>\n",
       "      <th></th>\n",
       "    </tr>\n",
       "  </thead>\n",
       "  <tbody>\n",
       "    <tr>\n",
       "      <th>FROM DOWNTOWN</th>\n",
       "      <td>29.216261</td>\n",
       "      <td>-3.960287</td>\n",
       "    </tr>\n",
       "    <tr>\n",
       "      <th>TO DOWNTOWN</th>\n",
       "      <td>22.179487</td>\n",
       "      <td>-2.321804</td>\n",
       "    </tr>\n",
       "  </tbody>\n",
       "</table>\n",
       "</div>"
      ],
      "text/plain": [
       "                      HDWY_DEV_PCT  ADHERENCE\n",
       "ROUTE_DIRECTION_NAME                         \n",
       "FROM DOWNTOWN            29.216261  -3.960287\n",
       "TO DOWNTOWN              22.179487  -2.321804"
      ]
     },
     "execution_count": 45,
     "metadata": {},
     "output_type": "execute_result"
    }
   ],
   "source": [
    "wego.groupby('ROUTE_DIRECTION_NAME')[['HDWY_DEV_PCT', 'ADHERENCE']].mean()"
   ]
  },
  {
   "cell_type": "markdown",
   "id": "7bc4aac6",
   "metadata": {},
   "source": [
    "#### TO DOWNTOWN direction has a slightly better Headway Deviation and Adherence performance"
   ]
  },
  {
   "cell_type": "markdown",
   "id": "8bb7c6fb",
   "metadata": {},
   "source": [
    "### ROUTE Performance"
   ]
  },
  {
   "cell_type": "code",
   "execution_count": 60,
   "id": "daac4801",
   "metadata": {
    "scrolled": true
   },
   "outputs": [
    {
     "data": {
      "text/html": [
       "<div>\n",
       "<style scoped>\n",
       "    .dataframe tbody tr th:only-of-type {\n",
       "        vertical-align: middle;\n",
       "    }\n",
       "\n",
       "    .dataframe tbody tr th {\n",
       "        vertical-align: top;\n",
       "    }\n",
       "\n",
       "    .dataframe thead th {\n",
       "        text-align: right;\n",
       "    }\n",
       "</style>\n",
       "<table border=\"1\" class=\"dataframe\">\n",
       "  <thead>\n",
       "    <tr style=\"text-align: right;\">\n",
       "      <th></th>\n",
       "      <th>ADHERENCE</th>\n",
       "      <th>HDWY_DEV</th>\n",
       "    </tr>\n",
       "    <tr>\n",
       "      <th>ROUTE_ABBR</th>\n",
       "      <th></th>\n",
       "      <th></th>\n",
       "    </tr>\n",
       "  </thead>\n",
       "  <tbody>\n",
       "    <tr>\n",
       "      <th>3</th>\n",
       "      <td>-3.761491</td>\n",
       "      <td>0.580907</td>\n",
       "    </tr>\n",
       "    <tr>\n",
       "      <th>7</th>\n",
       "      <td>-3.346555</td>\n",
       "      <td>0.336808</td>\n",
       "    </tr>\n",
       "    <tr>\n",
       "      <th>22</th>\n",
       "      <td>-1.138107</td>\n",
       "      <td>0.955867</td>\n",
       "    </tr>\n",
       "    <tr>\n",
       "      <th>23</th>\n",
       "      <td>-1.760110</td>\n",
       "      <td>1.053563</td>\n",
       "    </tr>\n",
       "    <tr>\n",
       "      <th>50</th>\n",
       "      <td>-2.505022</td>\n",
       "      <td>0.212376</td>\n",
       "    </tr>\n",
       "    <tr>\n",
       "      <th>52</th>\n",
       "      <td>-3.971342</td>\n",
       "      <td>0.974776</td>\n",
       "    </tr>\n",
       "    <tr>\n",
       "      <th>55</th>\n",
       "      <td>-4.823302</td>\n",
       "      <td>0.261038</td>\n",
       "    </tr>\n",
       "    <tr>\n",
       "      <th>56</th>\n",
       "      <td>-2.703988</td>\n",
       "      <td>0.149213</td>\n",
       "    </tr>\n",
       "  </tbody>\n",
       "</table>\n",
       "</div>"
      ],
      "text/plain": [
       "            ADHERENCE  HDWY_DEV\n",
       "ROUTE_ABBR                     \n",
       "3           -3.761491  0.580907\n",
       "7           -3.346555  0.336808\n",
       "22          -1.138107  0.955867\n",
       "23          -1.760110  1.053563\n",
       "50          -2.505022  0.212376\n",
       "52          -3.971342  0.974776\n",
       "55          -4.823302  0.261038\n",
       "56          -2.703988  0.149213"
      ]
     },
     "execution_count": 60,
     "metadata": {},
     "output_type": "execute_result"
    }
   ],
   "source": [
    "wego.groupby('ROUTE_ABBR')[['ADHERENCE', 'HDWY_DEV']].mean()"
   ]
  },
  {
   "cell_type": "markdown",
   "id": "a83e5f90",
   "metadata": {},
   "source": [
    "#### Route 22 has better overall Adherence while route 56 has better headway deviation"
   ]
  },
  {
   "cell_type": "code",
   "execution_count": 86,
   "id": "c9bfdee9",
   "metadata": {},
   "outputs": [],
   "source": [
    "# Create new df gor Adherence columns grouped by Route\n",
    "routes_totals = (\n",
    "    wego.groupby('ROUTE_ABBR')\n",
    "         [['ADJUSTED_ONTIME_COUNT', 'ADJUSTED_LATE_COUNT', 'ADJUSTED_EARLY_COUNT']]\n",
    "         .sum()\n",
    ")"
   ]
  },
  {
   "cell_type": "code",
   "execution_count": 87,
   "id": "162d8152",
   "metadata": {},
   "outputs": [],
   "source": [
    "# Create new total column for each row\n",
    "routes_totals['TOTALS'] = routes_totals.sum(axis=1)"
   ]
  },
  {
   "cell_type": "code",
   "execution_count": 91,
   "id": "a6954ba2",
   "metadata": {},
   "outputs": [],
   "source": [
    "# Create new percentage column for each category\n",
    "routes_totals.loc[:, 'ONTIME_PCT'] = routes_totals['ADJUSTED_ONTIME_COUNT'] / routes_totals['TOTALS'] * 100\n",
    "routes_totals.loc[:, 'EARLY_PCT'] = routes_totals['ADJUSTED_EARLY_COUNT'] / routes_totals['TOTALS'] * 100\n",
    "routes_totals.loc[:, 'LATE_PCT'] = routes_totals['ADJUSTED_LATE_COUNT'] / routes_totals['TOTALS'] * 100"
   ]
  },
  {
   "cell_type": "code",
   "execution_count": 92,
   "id": "979db9b1",
   "metadata": {},
   "outputs": [
    {
     "data": {
      "text/html": [
       "<div>\n",
       "<style scoped>\n",
       "    .dataframe tbody tr th:only-of-type {\n",
       "        vertical-align: middle;\n",
       "    }\n",
       "\n",
       "    .dataframe tbody tr th {\n",
       "        vertical-align: top;\n",
       "    }\n",
       "\n",
       "    .dataframe thead th {\n",
       "        text-align: right;\n",
       "    }\n",
       "</style>\n",
       "<table border=\"1\" class=\"dataframe\">\n",
       "  <thead>\n",
       "    <tr style=\"text-align: right;\">\n",
       "      <th></th>\n",
       "      <th>ADJUSTED_ONTIME_COUNT</th>\n",
       "      <th>ADJUSTED_LATE_COUNT</th>\n",
       "      <th>ADJUSTED_EARLY_COUNT</th>\n",
       "      <th>TOTALS</th>\n",
       "      <th>ONTIME_PCT</th>\n",
       "      <th>EARLY_PCT</th>\n",
       "      <th>LATE_PCT</th>\n",
       "    </tr>\n",
       "    <tr>\n",
       "      <th>ROUTE_ABBR</th>\n",
       "      <th></th>\n",
       "      <th></th>\n",
       "      <th></th>\n",
       "      <th></th>\n",
       "      <th></th>\n",
       "      <th></th>\n",
       "      <th></th>\n",
       "    </tr>\n",
       "  </thead>\n",
       "  <tbody>\n",
       "    <tr>\n",
       "      <th>3</th>\n",
       "      <td>34516</td>\n",
       "      <td>9590</td>\n",
       "      <td>1382</td>\n",
       "      <td>45488</td>\n",
       "      <td>75.879353</td>\n",
       "      <td>3.038164</td>\n",
       "      <td>21.082483</td>\n",
       "    </tr>\n",
       "    <tr>\n",
       "      <th>7</th>\n",
       "      <td>13417</td>\n",
       "      <td>3417</td>\n",
       "      <td>433</td>\n",
       "      <td>17267</td>\n",
       "      <td>77.703133</td>\n",
       "      <td>2.507674</td>\n",
       "      <td>19.789193</td>\n",
       "    </tr>\n",
       "    <tr>\n",
       "      <th>22</th>\n",
       "      <td>22492</td>\n",
       "      <td>2065</td>\n",
       "      <td>631</td>\n",
       "      <td>25188</td>\n",
       "      <td>89.296490</td>\n",
       "      <td>2.505161</td>\n",
       "      <td>8.198348</td>\n",
       "    </tr>\n",
       "    <tr>\n",
       "      <th>23</th>\n",
       "      <td>35137</td>\n",
       "      <td>3230</td>\n",
       "      <td>1286</td>\n",
       "      <td>39653</td>\n",
       "      <td>88.611202</td>\n",
       "      <td>3.243134</td>\n",
       "      <td>8.145664</td>\n",
       "    </tr>\n",
       "    <tr>\n",
       "      <th>50</th>\n",
       "      <td>36309</td>\n",
       "      <td>5113</td>\n",
       "      <td>1207</td>\n",
       "      <td>42629</td>\n",
       "      <td>85.174412</td>\n",
       "      <td>2.831406</td>\n",
       "      <td>11.994182</td>\n",
       "    </tr>\n",
       "    <tr>\n",
       "      <th>52</th>\n",
       "      <td>37736</td>\n",
       "      <td>10038</td>\n",
       "      <td>1553</td>\n",
       "      <td>49327</td>\n",
       "      <td>76.501713</td>\n",
       "      <td>3.148377</td>\n",
       "      <td>20.349910</td>\n",
       "    </tr>\n",
       "    <tr>\n",
       "      <th>55</th>\n",
       "      <td>42080</td>\n",
       "      <td>16748</td>\n",
       "      <td>1531</td>\n",
       "      <td>60359</td>\n",
       "      <td>69.716198</td>\n",
       "      <td>2.536490</td>\n",
       "      <td>27.747312</td>\n",
       "    </tr>\n",
       "    <tr>\n",
       "      <th>56</th>\n",
       "      <td>48361</td>\n",
       "      <td>8837</td>\n",
       "      <td>1752</td>\n",
       "      <td>58950</td>\n",
       "      <td>82.037320</td>\n",
       "      <td>2.972010</td>\n",
       "      <td>14.990670</td>\n",
       "    </tr>\n",
       "  </tbody>\n",
       "</table>\n",
       "</div>"
      ],
      "text/plain": [
       "            ADJUSTED_ONTIME_COUNT  ADJUSTED_LATE_COUNT  ADJUSTED_EARLY_COUNT  \\\n",
       "ROUTE_ABBR                                                                     \n",
       "3                           34516                 9590                  1382   \n",
       "7                           13417                 3417                   433   \n",
       "22                          22492                 2065                   631   \n",
       "23                          35137                 3230                  1286   \n",
       "50                          36309                 5113                  1207   \n",
       "52                          37736                10038                  1553   \n",
       "55                          42080                16748                  1531   \n",
       "56                          48361                 8837                  1752   \n",
       "\n",
       "            TOTALS  ONTIME_PCT  EARLY_PCT   LATE_PCT  \n",
       "ROUTE_ABBR                                            \n",
       "3            45488   75.879353   3.038164  21.082483  \n",
       "7            17267   77.703133   2.507674  19.789193  \n",
       "22           25188   89.296490   2.505161   8.198348  \n",
       "23           39653   88.611202   3.243134   8.145664  \n",
       "50           42629   85.174412   2.831406  11.994182  \n",
       "52           49327   76.501713   3.148377  20.349910  \n",
       "55           60359   69.716198   2.536490  27.747312  \n",
       "56           58950   82.037320   2.972010  14.990670  "
      ]
     },
     "execution_count": 92,
     "metadata": {},
     "output_type": "execute_result"
    }
   ],
   "source": [
    "routes_totals"
   ]
  },
  {
   "cell_type": "code",
   "execution_count": 94,
   "id": "ed6a1e0e",
   "metadata": {},
   "outputs": [
    {
     "data": {
      "image/png": "[encoded data removed]",
      "text/plain": [
       "<Figure size 640x480 with 1 Axes>"
      ]
     },
     "metadata": {},
     "output_type": "display_data"
    }
   ],
   "source": [
    "# Route Adherence graph\n",
    "ax = (routes_totals[['ONTIME_PCT', 'EARLY_PCT', 'LATE_PCT']]\n",
    ").sort_values('ONTIME_PCT', ascending=False).plot(kind='bar', stacked=True)\n",
    "ax.set(title = 'Route Adherence Performance',\n",
    "        xlabel = 'Route',\n",
    "       ylabel = 'Percentage')\n",
    "ax.legend(bbox_to_anchor=(1, 1))\n",
    "ax.tick_params(axis='x', rotation=0)"
   ]
  },
  {
   "cell_type": "code",
   "execution_count": null,
   "id": "2e4d995e",
   "metadata": {},
   "outputs": [],
   "source": []
  },
  {
   "cell_type": "code",
   "execution_count": null,
   "id": "3566fc7a",
   "metadata": {},
   "outputs": [],
   "source": [
    "wego.groupby('BLOCK_ABBR')[['ADHERENCE', 'HDWY_DEV']].mean().abs().sort_values('ADHERENCE', ascending=True)"
   ]
  },
  {
   "cell_type": "markdown",
   "id": "26f9970d",
   "metadata": {},
   "source": [
    "# 3) How does time of day or day of week affect headway and on-time performance?"
   ]
  },
  {
   "cell_type": "markdown",
   "id": "b1ef8e4b",
   "metadata": {},
   "source": [
    "#### Box plots?"
   ]
  },
  {
   "cell_type": "code",
   "execution_count": null,
   "id": "e702f876",
   "metadata": {},
   "outputs": [],
   "source": [
    "# Drop na depart times\n",
    "clean_dept_time = wego.dropna(subset=['ACTUAL_DEPARTURE_TIME'])"
   ]
  },
  {
   "cell_type": "code",
   "execution_count": null,
   "id": "08a877ba",
   "metadata": {},
   "outputs": [],
   "source": [
    "# Create depart time column\n",
    "clean_dept_time['TIME'] = (pd.to_datetime(clean_dept_time['ACTUAL_DEPARTURE_TIME'],\n",
    "                                          format='mixed').dt.time)"
   ]
  },
  {
   "cell_type": "code",
   "execution_count": null,
   "id": "7211d06c",
   "metadata": {},
   "outputs": [],
   "source": [
    "clean_dept_time['HOUR'] = (pd.to_datetime(clean_dept_time['ACTUAL_DEPARTURE_TIME'],\n",
    "                                          format='mixed').dt.hour)"
   ]
  },
  {
   "cell_type": "code",
   "execution_count": null,
   "id": "ffd99078",
   "metadata": {},
   "outputs": [],
   "source": [
    "clean_dept_time.groupby('HOUR')[['ADHERENCE', 'HDWY_DEV']].mean()"
   ]
  },
  {
   "cell_type": "code",
   "execution_count": null,
   "id": "d4e0bc8f",
   "metadata": {},
   "outputs": [],
   "source": [
    "# Convert depart time column to datetime\n",
    "clean_dept_time['DEPART_TIME'] = ([pd.to_datetime('2000-01-01 ' + str(t), format='mixed')\n",
    "                                   for t in clean_dept_time['TIME']])"
   ]
  },
  {
   "cell_type": "code",
   "execution_count": null,
   "id": "cf9730ff",
   "metadata": {},
   "outputs": [],
   "source": [
    "# Create Weekday column\n",
    "clean_dept_time['WEEKDAY'] = pd.to_datetime(clean_dept_time['ACTUAL_DEPARTURE_TIME']).dt.weekday"
   ]
  },
  {
   "cell_type": "code",
   "execution_count": null,
   "id": "d524a8fa",
   "metadata": {},
   "outputs": [],
   "source": [
    "# use Grouper to group by hour\n",
    "adherence_by_time = (clean_dept_time.groupby(pd.Grouper(key='DEPART_TIME',\n",
    "                                             freq='1h'))\n",
    "                     [['ADHERENCE', 'HDWY_DEV']]\n",
    "                     .mean().reset_index())\n",
    "adherence_by_time"
   ]
  },
  {
   "cell_type": "code",
   "execution_count": null,
   "id": "9274ca8d",
   "metadata": {},
   "outputs": [],
   "source": [
    "adherence_by_time['ADHERENCE'].plot(kind='hist', bins=24)"
   ]
  },
  {
   "cell_type": "markdown",
   "id": "35409cc6",
   "metadata": {},
   "source": [
    "#### No trips were made during the hours of 2 and 3"
   ]
  },
  {
   "cell_type": "code",
   "execution_count": null,
   "id": "80f98dfe",
   "metadata": {},
   "outputs": [],
   "source": [
    "# use Grouper to group by hour\n",
    "adherence_by_day = (clean_dept_time.groupby('WEEKDAY')\n",
    "                     [['ADHERENCE', 'HDWY_DEV']]\n",
    "                     .mean().reset_index())\n",
    "adherence_by_day"
   ]
  },
  {
   "cell_type": "code",
   "execution_count": null,
   "id": "f0f24285",
   "metadata": {},
   "outputs": [],
   "source": []
  },
  {
   "cell_type": "code",
   "execution_count": null,
   "id": "4510fd34",
   "metadata": {},
   "outputs": [],
   "source": []
  },
  {
   "cell_type": "markdown",
   "id": "5648c846",
   "metadata": {},
   "source": [
    "# 4)"
   ]
  },
  {
   "cell_type": "markdown",
   "id": "49df0384",
   "metadata": {},
   "source": [
    "####"
   ]
  }
 ],
 "metadata": {
  "kernelspec": {
   "display_name": "Python 3 (ipykernel)",
   "language": "python",
   "name": "python3"
  },
  "language_info": {
   "codemirror_mode": {
    "name": "ipython",
    "version": 3
   },
   "file_extension": ".py",
   "mimetype": "text/x-python",
   "name": "python",
   "nbconvert_exporter": "python",
   "pygments_lexer": "ipython3",
   "version": "3.11.7"
  }
 },
 "nbformat": 4,
 "nbformat_minor": 5
}
