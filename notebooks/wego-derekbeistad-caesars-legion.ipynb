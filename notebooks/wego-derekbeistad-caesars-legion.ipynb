{
 "cells": [
  {
   "cell_type": "markdown",
   "id": "03933686",
   "metadata": {},
   "source": [
    "# Imports"
   ]
  },
  {
   "cell_type": "code",
   "execution_count": 1,
   "id": "c025b291",
   "metadata": {},
   "outputs": [],
   "source": [
    "import pandas as pd\n",
    "import numpy as np"
   ]
  },
  {
   "cell_type": "code",
   "execution_count": 2,
   "id": "2298d78f",
   "metadata": {},
   "outputs": [],
   "source": [
    "wego = pd.read_csv('../data/Headway Data, 8-1-2023 to 9-30-2023.csv')"
   ]
  },
  {
   "cell_type": "code",
   "execution_count": 3,
   "id": "da0b5dbf",
   "metadata": {},
   "outputs": [
    {
     "data": {
      "text/plain": [
       "(350329, 30)"
      ]
     },
     "execution_count": 3,
     "metadata": {},
     "output_type": "execute_result"
    }
   ],
   "source": [
    "wego.shape"
   ]
  },
  {
   "cell_type": "code",
   "execution_count": 4,
   "id": "3c414e79",
   "metadata": {},
   "outputs": [
    {
     "data": {
      "text/plain": [
       "Index(['CALENDAR_ID', 'SERVICE_ABBR', 'ADHERENCE_ID', 'DATE', 'ROUTE_ABBR',\n",
       "       'BLOCK_ABBR', 'OPERATOR', 'TRIP_ID', 'OVERLOAD_ID',\n",
       "       'ROUTE_DIRECTION_NAME', 'TIME_POINT_ABBR', 'ROUTE_STOP_SEQUENCE',\n",
       "       'TRIP_EDGE', 'LATITUDE', 'LONGITUDE', 'SCHEDULED_TIME',\n",
       "       'ACTUAL_ARRIVAL_TIME', 'ACTUAL_DEPARTURE_TIME', 'ADHERENCE',\n",
       "       'SCHEDULED_HDWY', 'ACTUAL_HDWY', 'HDWY_DEV', 'ADJUSTED_EARLY_COUNT',\n",
       "       'ADJUSTED_LATE_COUNT', 'ADJUSTED_ONTIME_COUNT', 'STOP_CANCELLED',\n",
       "       'PREV_SCHED_STOP_CANCELLED', 'IS_RELIEF', 'DWELL_IN_MINS',\n",
       "       'SCHEDULED_LAYOVER_MINUTES'],\n",
       "      dtype='object')"
      ]
     },
     "execution_count": 4,
     "metadata": {},
     "output_type": "execute_result"
    }
   ],
   "source": [
    "wego.columns"
   ]
  },
  {
   "cell_type": "markdown",
   "id": "9ac745c4",
   "metadata": {},
   "source": []
  },
  {
   "cell_type": "markdown",
   "id": "9951a90d",
   "metadata": {},
   "source": [
    "## create unique trip id"
   ]
  },
  {
   "cell_type": "code",
   "execution_count": null,
   "id": "1a360250",
   "metadata": {},
   "outputs": [],
   "source": [
    "def create_id(row):\n",
    "    row['CALENDAR_ID'] + ''"
   ]
  },
  {
   "cell_type": "code",
   "execution_count": 6,
   "id": "a1fd9c3d",
   "metadata": {},
   "outputs": [],
   "source": [
    "wego['DATE_TRIP'] = wego.apply(lambda row: str(row['CALENDAR_ID']) + '-' + str(row['TRIP_ID']), axis=1)"
   ]
  },
  {
   "cell_type": "code",
   "execution_count": 8,
   "id": "0d2cbd6a",
   "metadata": {},
   "outputs": [
    {
     "data": {
      "text/plain": [
       "67370"
      ]
     },
     "execution_count": 8,
     "metadata": {},
     "output_type": "execute_result"
    }
   ],
   "source": [
    "wego['DATE_TRIP'].nunique()"
   ]
  },
  {
   "cell_type": "markdown",
   "id": "2b2a4e2a",
   "metadata": {},
   "source": [
    "# 1) What is the overall on-time performance, and what do the overall distributions of adherence and headway deviation look like? "
   ]
  },
  {
   "cell_type": "code",
   "execution_count": 7,
   "id": "a8c64d91",
   "metadata": {},
   "outputs": [
    {
     "data": {
      "text/plain": [
       "77.08"
      ]
     },
     "execution_count": 7,
     "metadata": {},
     "output_type": "execute_result"
    }
   ],
   "source": [
    "round(wego['ADJUSTED_ONTIME_COUNT'].value_counts()[1] / wego.shape[0] * 100, 2)"
   ]
  },
  {
   "cell_type": "markdown",
   "id": "e352b7b1",
   "metadata": {},
   "source": [
    "#### 77% of checkins here considered ontime."
   ]
  },
  {
   "cell_type": "code",
   "execution_count": 72,
   "id": "884af34b",
   "metadata": {},
   "outputs": [],
   "source": [
    "trips_adherence_cat = (wego.groupby('DATE_TRIP')\n",
    ".sum()\n",
    "[['ADJUSTED_EARLY_COUNT', 'ADJUSTED_LATE_COUNT', 'ADJUSTED_ONTIME_COUNT']])"
   ]
  },
  {
   "cell_type": "code",
   "execution_count": 73,
   "id": "77a39e9b",
   "metadata": {},
   "outputs": [],
   "source": [
    "perfect_trips = (adherence_category_sums[\n",
    "    (trips_adherence_cat['ADJUSTED_EARLY_COUNT'] == 0) & \n",
    "    (trips_adherence_cat['ADJUSTED_LATE_COUNT'] == 0)])"
   ]
  },
  {
   "cell_type": "code",
   "execution_count": 33,
   "id": "3091b598",
   "metadata": {},
   "outputs": [
    {
     "data": {
      "text/plain": [
       "60.62"
      ]
     },
     "execution_count": 33,
     "metadata": {},
     "output_type": "execute_result"
    }
   ],
   "source": [
    "round(perfect_trips.shape[0] / trips_adherence_cat.shape[0] * 100, 2)"
   ]
  },
  {
   "cell_type": "code",
   "execution_count": 42,
   "id": "4772bdbb",
   "metadata": {},
   "outputs": [
    {
     "data": {
      "text/plain": [
       "40843"
      ]
     },
     "execution_count": 42,
     "metadata": {},
     "output_type": "execute_result"
    }
   ],
   "source": [
    "perfect_trips.shape[0]"
   ]
  },
  {
   "cell_type": "markdown",
   "id": "af77e75c",
   "metadata": {},
   "source": [
    "#### 60.6% of all trips were ontime, 40843 perfect trips"
   ]
  },
  {
   "cell_type": "code",
   "execution_count": 46,
   "id": "13a817d9",
   "metadata": {},
   "outputs": [
    {
     "data": {
      "text/plain": [
       "min      -948.533333\n",
       "max        88.383333\n",
       "mean       -3.188796\n",
       "median     -2.000000\n",
       "Name: ADHERENCE, dtype: float64"
      ]
     },
     "execution_count": 46,
     "metadata": {},
     "output_type": "execute_result"
    }
   ],
   "source": [
    "wego['ADHERENCE'].apply(['min', 'max', 'mean', 'median'])"
   ]
  },
  {
   "cell_type": "code",
   "execution_count": 47,
   "id": "9146b3cb",
   "metadata": {},
   "outputs": [
    {
     "data": {
      "text/plain": [
       "min       -64.000000\n",
       "max       565.433333\n",
       "mean        0.518081\n",
       "median      0.033333\n",
       "Name: HDWY_DEV, dtype: float64"
      ]
     },
     "execution_count": 47,
     "metadata": {},
     "output_type": "execute_result"
    }
   ],
   "source": [
    "wego['HDWY_DEV'].apply(['min', 'max', 'mean', 'median'])"
   ]
  },
  {
   "cell_type": "code",
   "execution_count": 75,
   "id": "0b06a131",
   "metadata": {},
   "outputs": [],
   "source": [
    "# Calculate Adherence mean and standard deviation\n",
    "ad_mean = wego['ADHERENCE'].mean()\n",
    "ad_std = np.std(wego['ADHERENCE'])"
   ]
  },
  {
   "cell_type": "code",
   "execution_count": 70,
   "id": "33b3d3ae",
   "metadata": {},
   "outputs": [
    {
     "data": {
      "text/plain": [
       "[Text(0.5, 1.0, 'Adherence Distribution Excluding Outliers'),\n",
       " Text(0.5, 0, 'Adherence')]"
      ]
     },
     "execution_count": 70,
     "metadata": {},
     "output_type": "execute_result"
    },
    {
     "data": {
      "image/png": "[encoded data removed]",
      "text/plain": [
       "<Figure size 640x480 with 1 Axes>"
      ]
     },
     "metadata": {},
     "output_type": "display_data"
    }
   ],
   "source": [
    "ax = (\n",
    "    wego[wego['ADHERENCE'].between(ad_mean - ad_std*3,\n",
    "                                   ad_mean + ad_std*3,\n",
    "                                   inclusive='both')]\n",
    "    ['ADHERENCE']\n",
    "    .plot(kind='hist',\n",
    "          bins=50)\n",
    ")\n",
    "\n",
    "ax.set(\n",
    "    title='Adherence Distribution Excluding Outliers',\n",
    "    xlabel='Adherence'\n",
    "    )"
   ]
  },
  {
   "cell_type": "code",
   "execution_count": 74,
   "id": "28bf1980",
   "metadata": {},
   "outputs": [],
   "source": [
    "# Calculate Headway Deviation mean and standard deviation\n",
    "hd_mean = wego['HDWY_DEV'].mean()\n",
    "hd_std = np.std(wego['HDWY_DEV'])"
   ]
  },
  {
   "cell_type": "code",
   "execution_count": 69,
   "id": "c8e9de5e",
   "metadata": {},
   "outputs": [
    {
     "data": {
      "text/plain": [
       "[Text(0.5, 1.0, 'Headway Deviation Distribution Excluding Outliers'),\n",
       " Text(0.5, 0, 'Headway Deviation')]"
      ]
     },
     "execution_count": 69,
     "metadata": {},
     "output_type": "execute_result"
    },
    {
     "data": {
      "image/png": "[encoded data removed]",
      "text/plain": [
       "<Figure size 640x480 with 1 Axes>"
      ]
     },
     "metadata": {},
     "output_type": "display_data"
    }
   ],
   "source": [
    "ax= (\n",
    "    wego[wego['HDWY_DEV'].between(hd_mean - hd_std*3, \n",
    "                                  hd_mean + hd_std*3, \n",
    "                                  inclusive='both')]\n",
    "    ['HDWY_DEV']\n",
    "    .plot(kind='hist', bins=50)\n",
    ")\n",
    "\n",
    "ax.set(\n",
    "    title='Headway Deviation Distribution Excluding Outliers',\n",
    "    xlabel='Headway Deviation'\n",
    "    )"
   ]
  },
  {
   "cell_type": "markdown",
   "id": "7a916b3c",
   "metadata": {},
   "source": [
    "# 2) How does direction of travel, route, or location affect the headway and on-time performance?"
   ]
  },
  {
   "cell_type": "code",
   "execution_count": 87,
   "id": "f98193f0",
   "metadata": {},
   "outputs": [
    {
     "data": {
      "text/html": [
       "<div>\n",
       "<style scoped>\n",
       "    .dataframe tbody tr th:only-of-type {\n",
       "        vertical-align: middle;\n",
       "    }\n",
       "\n",
       "    .dataframe tbody tr th {\n",
       "        vertical-align: top;\n",
       "    }\n",
       "\n",
       "    .dataframe thead tr th {\n",
       "        text-align: left;\n",
       "    }\n",
       "\n",
       "    .dataframe thead tr:last-of-type th {\n",
       "        text-align: right;\n",
       "    }\n",
       "</style>\n",
       "<table border=\"1\" class=\"dataframe\">\n",
       "  <thead>\n",
       "    <tr>\n",
       "      <th></th>\n",
       "      <th colspan=\"8\" halign=\"left\">ADHERENCE</th>\n",
       "      <th colspan=\"8\" halign=\"left\">HDWY_DEV</th>\n",
       "    </tr>\n",
       "    <tr>\n",
       "      <th></th>\n",
       "      <th>count</th>\n",
       "      <th>mean</th>\n",
       "      <th>std</th>\n",
       "      <th>min</th>\n",
       "      <th>25%</th>\n",
       "      <th>50%</th>\n",
       "      <th>75%</th>\n",
       "      <th>max</th>\n",
       "      <th>count</th>\n",
       "      <th>mean</th>\n",
       "      <th>std</th>\n",
       "      <th>min</th>\n",
       "      <th>25%</th>\n",
       "      <th>50%</th>\n",
       "      <th>75%</th>\n",
       "      <th>max</th>\n",
       "    </tr>\n",
       "    <tr>\n",
       "      <th>ROUTE_DIRECTION_NAME</th>\n",
       "      <th></th>\n",
       "      <th></th>\n",
       "      <th></th>\n",
       "      <th></th>\n",
       "      <th></th>\n",
       "      <th></th>\n",
       "      <th></th>\n",
       "      <th></th>\n",
       "      <th></th>\n",
       "      <th></th>\n",
       "      <th></th>\n",
       "      <th></th>\n",
       "      <th></th>\n",
       "      <th></th>\n",
       "      <th></th>\n",
       "      <th></th>\n",
       "    </tr>\n",
       "  </thead>\n",
       "  <tbody>\n",
       "    <tr>\n",
       "      <th>FROM DOWNTOWN</th>\n",
       "      <td>179306.0</td>\n",
       "      <td>-3.960287</td>\n",
       "      <td>7.234279</td>\n",
       "      <td>-948.533333</td>\n",
       "      <td>-5.466666</td>\n",
       "      <td>-2.516666</td>\n",
       "      <td>-0.633333</td>\n",
       "      <td>76.766666</td>\n",
       "      <td>141392.0</td>\n",
       "      <td>0.579990</td>\n",
       "      <td>7.773842</td>\n",
       "      <td>-55.533334</td>\n",
       "      <td>-2.65</td>\n",
       "      <td>0.033333</td>\n",
       "      <td>2.85</td>\n",
       "      <td>565.433333</td>\n",
       "    </tr>\n",
       "    <tr>\n",
       "      <th>TO DOWNTOWN</th>\n",
       "      <td>159555.0</td>\n",
       "      <td>-2.321804</td>\n",
       "      <td>6.391098</td>\n",
       "      <td>-618.166666</td>\n",
       "      <td>-3.666666</td>\n",
       "      <td>-1.500000</td>\n",
       "      <td>-0.100000</td>\n",
       "      <td>88.383333</td>\n",
       "      <td>124501.0</td>\n",
       "      <td>0.447773</td>\n",
       "      <td>6.395390</td>\n",
       "      <td>-64.000000</td>\n",
       "      <td>-2.00</td>\n",
       "      <td>0.033333</td>\n",
       "      <td>2.15</td>\n",
       "      <td>543.833333</td>\n",
       "    </tr>\n",
       "  </tbody>\n",
       "</table>\n",
       "</div>"
      ],
      "text/plain": [
       "                     ADHERENCE                                            \\\n",
       "                         count      mean       std         min       25%   \n",
       "ROUTE_DIRECTION_NAME                                                       \n",
       "FROM DOWNTOWN         179306.0 -3.960287  7.234279 -948.533333 -5.466666   \n",
       "TO DOWNTOWN           159555.0 -2.321804  6.391098 -618.166666 -3.666666   \n",
       "\n",
       "                                                     HDWY_DEV            \\\n",
       "                           50%       75%        max     count      mean   \n",
       "ROUTE_DIRECTION_NAME                                                      \n",
       "FROM DOWNTOWN        -2.516666 -0.633333  76.766666  141392.0  0.579990   \n",
       "TO DOWNTOWN          -1.500000 -0.100000  88.383333  124501.0  0.447773   \n",
       "\n",
       "                                                                             \n",
       "                           std        min   25%       50%   75%         max  \n",
       "ROUTE_DIRECTION_NAME                                                         \n",
       "FROM DOWNTOWN         7.773842 -55.533334 -2.65  0.033333  2.85  565.433333  \n",
       "TO DOWNTOWN           6.395390 -64.000000 -2.00  0.033333  2.15  543.833333  "
      ]
     },
     "execution_count": 87,
     "metadata": {},
     "output_type": "execute_result"
    }
   ],
   "source": [
    "wego.groupby('ROUTE_DIRECTION_NAME')[['ADHERENCE', 'HDWY_DEV']].describe()"
   ]
  },
  {
   "cell_type": "markdown",
   "id": "7bc4aac6",
   "metadata": {},
   "source": [
    "#### TO DOWNTOWN direction has a slightly better performance"
   ]
  },
  {
   "cell_type": "code",
   "execution_count": 88,
   "id": "daac4801",
   "metadata": {},
   "outputs": [
    {
     "data": {
      "text/html": [
       "<div>\n",
       "<style scoped>\n",
       "    .dataframe tbody tr th:only-of-type {\n",
       "        vertical-align: middle;\n",
       "    }\n",
       "\n",
       "    .dataframe tbody tr th {\n",
       "        vertical-align: top;\n",
       "    }\n",
       "\n",
       "    .dataframe thead tr th {\n",
       "        text-align: left;\n",
       "    }\n",
       "\n",
       "    .dataframe thead tr:last-of-type th {\n",
       "        text-align: right;\n",
       "    }\n",
       "</style>\n",
       "<table border=\"1\" class=\"dataframe\">\n",
       "  <thead>\n",
       "    <tr>\n",
       "      <th></th>\n",
       "      <th colspan=\"8\" halign=\"left\">ADHERENCE</th>\n",
       "      <th colspan=\"8\" halign=\"left\">HDWY_DEV</th>\n",
       "    </tr>\n",
       "    <tr>\n",
       "      <th></th>\n",
       "      <th>count</th>\n",
       "      <th>mean</th>\n",
       "      <th>std</th>\n",
       "      <th>min</th>\n",
       "      <th>25%</th>\n",
       "      <th>50%</th>\n",
       "      <th>75%</th>\n",
       "      <th>max</th>\n",
       "      <th>count</th>\n",
       "      <th>mean</th>\n",
       "      <th>std</th>\n",
       "      <th>min</th>\n",
       "      <th>25%</th>\n",
       "      <th>50%</th>\n",
       "      <th>75%</th>\n",
       "      <th>max</th>\n",
       "    </tr>\n",
       "    <tr>\n",
       "      <th>ROUTE_ABBR</th>\n",
       "      <th></th>\n",
       "      <th></th>\n",
       "      <th></th>\n",
       "      <th></th>\n",
       "      <th></th>\n",
       "      <th></th>\n",
       "      <th></th>\n",
       "      <th></th>\n",
       "      <th></th>\n",
       "      <th></th>\n",
       "      <th></th>\n",
       "      <th></th>\n",
       "      <th></th>\n",
       "      <th></th>\n",
       "      <th></th>\n",
       "      <th></th>\n",
       "    </tr>\n",
       "  </thead>\n",
       "  <tbody>\n",
       "    <tr>\n",
       "      <th>3</th>\n",
       "      <td>45488.0</td>\n",
       "      <td>-3.761491</td>\n",
       "      <td>5.415910</td>\n",
       "      <td>-133.250000</td>\n",
       "      <td>-5.350000</td>\n",
       "      <td>-2.566666</td>\n",
       "      <td>-0.766666</td>\n",
       "      <td>33.750000</td>\n",
       "      <td>36583.0</td>\n",
       "      <td>0.580907</td>\n",
       "      <td>6.203530</td>\n",
       "      <td>-64.000000</td>\n",
       "      <td>-2.450000</td>\n",
       "      <td>0.116666</td>\n",
       "      <td>2.800000</td>\n",
       "      <td>76.866666</td>\n",
       "    </tr>\n",
       "    <tr>\n",
       "      <th>7</th>\n",
       "      <td>17267.0</td>\n",
       "      <td>-3.346555</td>\n",
       "      <td>6.669753</td>\n",
       "      <td>-87.716666</td>\n",
       "      <td>-4.916666</td>\n",
       "      <td>-2.116666</td>\n",
       "      <td>-0.616666</td>\n",
       "      <td>88.383333</td>\n",
       "      <td>11578.0</td>\n",
       "      <td>0.336808</td>\n",
       "      <td>5.909983</td>\n",
       "      <td>-30.433334</td>\n",
       "      <td>-1.983334</td>\n",
       "      <td>0.033333</td>\n",
       "      <td>2.133333</td>\n",
       "      <td>50.250000</td>\n",
       "    </tr>\n",
       "    <tr>\n",
       "      <th>22</th>\n",
       "      <td>25188.0</td>\n",
       "      <td>-1.138107</td>\n",
       "      <td>6.391798</td>\n",
       "      <td>-675.000000</td>\n",
       "      <td>-2.950000</td>\n",
       "      <td>-0.933333</td>\n",
       "      <td>0.816666</td>\n",
       "      <td>24.733333</td>\n",
       "      <td>17007.0</td>\n",
       "      <td>0.955867</td>\n",
       "      <td>10.248444</td>\n",
       "      <td>-43.650000</td>\n",
       "      <td>-1.966667</td>\n",
       "      <td>0.050000</td>\n",
       "      <td>2.200000</td>\n",
       "      <td>508.700000</td>\n",
       "    </tr>\n",
       "    <tr>\n",
       "      <th>23</th>\n",
       "      <td>39653.0</td>\n",
       "      <td>-1.760110</td>\n",
       "      <td>7.680491</td>\n",
       "      <td>-618.166666</td>\n",
       "      <td>-3.116666</td>\n",
       "      <td>-1.316666</td>\n",
       "      <td>0.033333</td>\n",
       "      <td>33.633333</td>\n",
       "      <td>28478.0</td>\n",
       "      <td>1.053563</td>\n",
       "      <td>9.881327</td>\n",
       "      <td>-32.116667</td>\n",
       "      <td>-1.733334</td>\n",
       "      <td>0.066666</td>\n",
       "      <td>2.066666</td>\n",
       "      <td>565.433333</td>\n",
       "    </tr>\n",
       "    <tr>\n",
       "      <th>50</th>\n",
       "      <td>42629.0</td>\n",
       "      <td>-2.505022</td>\n",
       "      <td>6.159666</td>\n",
       "      <td>-489.316666</td>\n",
       "      <td>-3.883333</td>\n",
       "      <td>-1.800000</td>\n",
       "      <td>-0.300000</td>\n",
       "      <td>22.350000</td>\n",
       "      <td>34593.0</td>\n",
       "      <td>0.212376</td>\n",
       "      <td>4.760558</td>\n",
       "      <td>-33.250000</td>\n",
       "      <td>-2.083334</td>\n",
       "      <td>0.033333</td>\n",
       "      <td>2.183333</td>\n",
       "      <td>54.283333</td>\n",
       "    </tr>\n",
       "    <tr>\n",
       "      <th>52</th>\n",
       "      <td>49327.0</td>\n",
       "      <td>-3.971342</td>\n",
       "      <td>8.721732</td>\n",
       "      <td>-948.533333</td>\n",
       "      <td>-5.016666</td>\n",
       "      <td>-2.066666</td>\n",
       "      <td>-0.400000</td>\n",
       "      <td>30.200000</td>\n",
       "      <td>39887.0</td>\n",
       "      <td>0.974776</td>\n",
       "      <td>9.185015</td>\n",
       "      <td>-55.533334</td>\n",
       "      <td>-2.450000</td>\n",
       "      <td>0.083333</td>\n",
       "      <td>2.783333</td>\n",
       "      <td>472.366666</td>\n",
       "    </tr>\n",
       "    <tr>\n",
       "      <th>55</th>\n",
       "      <td>60359.0</td>\n",
       "      <td>-4.823302</td>\n",
       "      <td>7.535092</td>\n",
       "      <td>-375.233333</td>\n",
       "      <td>-6.583333</td>\n",
       "      <td>-2.883333</td>\n",
       "      <td>-0.850000</td>\n",
       "      <td>40.250000</td>\n",
       "      <td>49432.0</td>\n",
       "      <td>0.261038</td>\n",
       "      <td>6.364978</td>\n",
       "      <td>-29.933334</td>\n",
       "      <td>-3.150000</td>\n",
       "      <td>-0.033334</td>\n",
       "      <td>2.983333</td>\n",
       "      <td>102.000000</td>\n",
       "    </tr>\n",
       "    <tr>\n",
       "      <th>56</th>\n",
       "      <td>58950.0</td>\n",
       "      <td>-2.703988</td>\n",
       "      <td>4.931009</td>\n",
       "      <td>-322.783333</td>\n",
       "      <td>-4.300000</td>\n",
       "      <td>-1.900000</td>\n",
       "      <td>-0.283333</td>\n",
       "      <td>39.916666</td>\n",
       "      <td>48335.0</td>\n",
       "      <td>0.149213</td>\n",
       "      <td>4.714435</td>\n",
       "      <td>-27.266667</td>\n",
       "      <td>-2.333334</td>\n",
       "      <td>0.000000</td>\n",
       "      <td>2.383333</td>\n",
       "      <td>166.000000</td>\n",
       "    </tr>\n",
       "  </tbody>\n",
       "</table>\n",
       "</div>"
      ],
      "text/plain": [
       "           ADHERENCE                                                      \\\n",
       "               count      mean       std         min       25%       50%   \n",
       "ROUTE_ABBR                                                                 \n",
       "3            45488.0 -3.761491  5.415910 -133.250000 -5.350000 -2.566666   \n",
       "7            17267.0 -3.346555  6.669753  -87.716666 -4.916666 -2.116666   \n",
       "22           25188.0 -1.138107  6.391798 -675.000000 -2.950000 -0.933333   \n",
       "23           39653.0 -1.760110  7.680491 -618.166666 -3.116666 -1.316666   \n",
       "50           42629.0 -2.505022  6.159666 -489.316666 -3.883333 -1.800000   \n",
       "52           49327.0 -3.971342  8.721732 -948.533333 -5.016666 -2.066666   \n",
       "55           60359.0 -4.823302  7.535092 -375.233333 -6.583333 -2.883333   \n",
       "56           58950.0 -2.703988  4.931009 -322.783333 -4.300000 -1.900000   \n",
       "\n",
       "                                HDWY_DEV                                  \\\n",
       "                 75%        max    count      mean        std        min   \n",
       "ROUTE_ABBR                                                                 \n",
       "3          -0.766666  33.750000  36583.0  0.580907   6.203530 -64.000000   \n",
       "7          -0.616666  88.383333  11578.0  0.336808   5.909983 -30.433334   \n",
       "22          0.816666  24.733333  17007.0  0.955867  10.248444 -43.650000   \n",
       "23          0.033333  33.633333  28478.0  1.053563   9.881327 -32.116667   \n",
       "50         -0.300000  22.350000  34593.0  0.212376   4.760558 -33.250000   \n",
       "52         -0.400000  30.200000  39887.0  0.974776   9.185015 -55.533334   \n",
       "55         -0.850000  40.250000  49432.0  0.261038   6.364978 -29.933334   \n",
       "56         -0.283333  39.916666  48335.0  0.149213   4.714435 -27.266667   \n",
       "\n",
       "                                                      \n",
       "                 25%       50%       75%         max  \n",
       "ROUTE_ABBR                                            \n",
       "3          -2.450000  0.116666  2.800000   76.866666  \n",
       "7          -1.983334  0.033333  2.133333   50.250000  \n",
       "22         -1.966667  0.050000  2.200000  508.700000  \n",
       "23         -1.733334  0.066666  2.066666  565.433333  \n",
       "50         -2.083334  0.033333  2.183333   54.283333  \n",
       "52         -2.450000  0.083333  2.783333  472.366666  \n",
       "55         -3.150000 -0.033334  2.983333  102.000000  \n",
       "56         -2.333334  0.000000  2.383333  166.000000  "
      ]
     },
     "execution_count": 88,
     "metadata": {},
     "output_type": "execute_result"
    }
   ],
   "source": [
    "wego.groupby('ROUTE_ABBR')[['ADHERENCE', 'HDWY_DEV']].describe()"
   ]
  },
  {
   "cell_type": "markdown",
   "id": "a83e5f90",
   "metadata": {},
   "source": [
    "#### Route 22 has better overall Adherence while route 56 has better headway deviation"
   ]
  },
  {
   "cell_type": "code",
   "execution_count": 98,
   "id": "3566fc7a",
   "metadata": {},
   "outputs": [
    {
     "data": {
      "text/html": [
       "<div>\n",
       "<style scoped>\n",
       "    .dataframe tbody tr th:only-of-type {\n",
       "        vertical-align: middle;\n",
       "    }\n",
       "\n",
       "    .dataframe tbody tr th {\n",
       "        vertical-align: top;\n",
       "    }\n",
       "\n",
       "    .dataframe thead th {\n",
       "        text-align: right;\n",
       "    }\n",
       "</style>\n",
       "<table border=\"1\" class=\"dataframe\">\n",
       "  <thead>\n",
       "    <tr style=\"text-align: right;\">\n",
       "      <th></th>\n",
       "      <th>ADHERENCE</th>\n",
       "      <th>HDWY_DEV</th>\n",
       "    </tr>\n",
       "    <tr>\n",
       "      <th>BLOCK_ABBR</th>\n",
       "      <th></th>\n",
       "      <th></th>\n",
       "    </tr>\n",
       "  </thead>\n",
       "  <tbody>\n",
       "    <tr>\n",
       "      <th>8604</th>\n",
       "      <td>0.281250</td>\n",
       "      <td>1.238889</td>\n",
       "    </tr>\n",
       "    <tr>\n",
       "      <th>2301</th>\n",
       "      <td>0.353140</td>\n",
       "      <td>0.263938</td>\n",
       "    </tr>\n",
       "    <tr>\n",
       "      <th>2210</th>\n",
       "      <td>0.442440</td>\n",
       "      <td>0.874254</td>\n",
       "    </tr>\n",
       "    <tr>\n",
       "      <th>2211</th>\n",
       "      <td>0.529404</td>\n",
       "      <td>0.778633</td>\n",
       "    </tr>\n",
       "    <tr>\n",
       "      <th>8401</th>\n",
       "      <td>0.603704</td>\n",
       "      <td>NaN</td>\n",
       "    </tr>\n",
       "    <tr>\n",
       "      <th>...</th>\n",
       "      <td>...</td>\n",
       "      <td>...</td>\n",
       "    </tr>\n",
       "    <tr>\n",
       "      <th>5218</th>\n",
       "      <td>7.901945</td>\n",
       "      <td>3.985199</td>\n",
       "    </tr>\n",
       "    <tr>\n",
       "      <th>5513</th>\n",
       "      <td>8.414195</td>\n",
       "      <td>0.912638</td>\n",
       "    </tr>\n",
       "    <tr>\n",
       "      <th>5590</th>\n",
       "      <td>9.226351</td>\n",
       "      <td>NaN</td>\n",
       "    </tr>\n",
       "    <tr>\n",
       "      <th>9975</th>\n",
       "      <td>15.559701</td>\n",
       "      <td>2.690909</td>\n",
       "    </tr>\n",
       "    <tr>\n",
       "      <th>9950</th>\n",
       "      <td>32.378019</td>\n",
       "      <td>0.697685</td>\n",
       "    </tr>\n",
       "  </tbody>\n",
       "</table>\n",
       "<p>102 rows × 2 columns</p>\n",
       "</div>"
      ],
      "text/plain": [
       "            ADHERENCE  HDWY_DEV\n",
       "BLOCK_ABBR                     \n",
       "8604         0.281250  1.238889\n",
       "2301         0.353140  0.263938\n",
       "2210         0.442440  0.874254\n",
       "2211         0.529404  0.778633\n",
       "8401         0.603704       NaN\n",
       "...               ...       ...\n",
       "5218         7.901945  3.985199\n",
       "5513         8.414195  0.912638\n",
       "5590         9.226351       NaN\n",
       "9975        15.559701  2.690909\n",
       "9950        32.378019  0.697685\n",
       "\n",
       "[102 rows x 2 columns]"
      ]
     },
     "execution_count": 98,
     "metadata": {},
     "output_type": "execute_result"
    }
   ],
   "source": [
    "wego.groupby('BLOCK_ABBR')[['ADHERENCE', 'HDWY_DEV']].mean().abs().sort_values('ADHERENCE', ascending=True)"
   ]
  },
  {
   "cell_type": "markdown",
   "id": "26f9970d",
   "metadata": {},
   "source": [
    "# 3) How does time of day or day of week affect headway and on-time performance?"
   ]
  },
  {
   "cell_type": "code",
   "execution_count": null,
   "id": "5c8a7b74",
   "metadata": {},
   "outputs": [],
   "source": []
  }
 ],
 "metadata": {
  "kernelspec": {
   "display_name": "Python 3 (ipykernel)",
   "language": "python",
   "name": "python3"
  },
  "language_info": {
   "codemirror_mode": {
    "name": "ipython",
    "version": 3
   },
   "file_extension": ".py",
   "mimetype": "text/x-python",
   "name": "python",
   "nbconvert_exporter": "python",
   "pygments_lexer": "ipython3",
   "version": "3.11.7"
  }
 },
 "nbformat": 4,
 "nbformat_minor": 5
}
