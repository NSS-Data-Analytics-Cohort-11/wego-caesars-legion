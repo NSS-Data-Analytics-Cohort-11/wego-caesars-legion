{
 "cells": [
  {
   "cell_type": "markdown",
   "id": "03933686",
   "metadata": {},
   "source": [
    "# Imports"
   ]
  },
  {
   "cell_type": "code",
   "execution_count": 1,
   "id": "c025b291",
   "metadata": {},
   "outputs": [],
   "source": [
    "import pandas as pd\n",
    "import numpy as np\n",
    "from datetime import datetime"
   ]
  },
  {
   "cell_type": "code",
   "execution_count": 2,
   "id": "2298d78f",
   "metadata": {},
   "outputs": [],
   "source": [
    "wego = pd.read_csv('../data/Headway Data, 8-1-2023 to 9-30-2023.csv')"
   ]
  },
  {
   "cell_type": "code",
   "execution_count": 3,
   "id": "da0b5dbf",
   "metadata": {},
   "outputs": [
    {
     "data": {
      "text/plain": [
       "(350329, 30)"
      ]
     },
     "execution_count": 3,
     "metadata": {},
     "output_type": "execute_result"
    }
   ],
   "source": [
    "wego.shape"
   ]
  },
  {
   "cell_type": "code",
   "execution_count": 4,
   "id": "3c414e79",
   "metadata": {},
   "outputs": [
    {
     "data": {
      "text/plain": [
       "Index(['CALENDAR_ID', 'SERVICE_ABBR', 'ADHERENCE_ID', 'DATE', 'ROUTE_ABBR',\n",
       "       'BLOCK_ABBR', 'OPERATOR', 'TRIP_ID', 'OVERLOAD_ID',\n",
       "       'ROUTE_DIRECTION_NAME', 'TIME_POINT_ABBR', 'ROUTE_STOP_SEQUENCE',\n",
       "       'TRIP_EDGE', 'LATITUDE', 'LONGITUDE', 'SCHEDULED_TIME',\n",
       "       'ACTUAL_ARRIVAL_TIME', 'ACTUAL_DEPARTURE_TIME', 'ADHERENCE',\n",
       "       'SCHEDULED_HDWY', 'ACTUAL_HDWY', 'HDWY_DEV', 'ADJUSTED_EARLY_COUNT',\n",
       "       'ADJUSTED_LATE_COUNT', 'ADJUSTED_ONTIME_COUNT', 'STOP_CANCELLED',\n",
       "       'PREV_SCHED_STOP_CANCELLED', 'IS_RELIEF', 'DWELL_IN_MINS',\n",
       "       'SCHEDULED_LAYOVER_MINUTES'],\n",
       "      dtype='object')"
      ]
     },
     "execution_count": 4,
     "metadata": {},
     "output_type": "execute_result"
    }
   ],
   "source": [
    "wego.columns"
   ]
  },
  {
   "cell_type": "markdown",
   "id": "9ac745c4",
   "metadata": {},
   "source": []
  },
  {
   "cell_type": "markdown",
   "id": "9951a90d",
   "metadata": {},
   "source": [
    "## create unique trip id"
   ]
  },
  {
   "cell_type": "code",
   "execution_count": 5,
   "id": "1a360250",
   "metadata": {},
   "outputs": [],
   "source": [
    "def create_id(row):\n",
    "    row['CALENDAR_ID'] + ''"
   ]
  },
  {
   "cell_type": "code",
   "execution_count": 6,
   "id": "a1fd9c3d",
   "metadata": {},
   "outputs": [],
   "source": [
    "wego['DATE_TRIP'] = wego.apply(lambda row: str(row['CALENDAR_ID']) + '-' + str(row['TRIP_ID']), axis=1)"
   ]
  },
  {
   "cell_type": "code",
   "execution_count": 7,
   "id": "0d2cbd6a",
   "metadata": {},
   "outputs": [
    {
     "data": {
      "text/plain": [
       "67370"
      ]
     },
     "execution_count": 7,
     "metadata": {},
     "output_type": "execute_result"
    }
   ],
   "source": [
    "wego['DATE_TRIP'].nunique()"
   ]
  },
  {
   "cell_type": "markdown",
   "id": "aac66a8d",
   "metadata": {},
   "source": [
    "### Create Headway Categories"
   ]
  },
  {
   "cell_type": "code",
   "execution_count": 8,
   "id": "e93c12a0",
   "metadata": {},
   "outputs": [],
   "source": [
    "# Calculate HDWY Deviation Percentage\n",
    "def get_dev_pct(row):\n",
    "    '''Takes a row as input, returns a perfencate value. \n",
    "    Calculate the headway deviation percentage taking into\n",
    "    consideration the possibility of SCHEDULED_HDWY being 0'''\n",
    "    if row['SCHEDULED_HDWY'] != 0:\n",
    "        return abs(row['HDWY_DEV']) / row['SCHEDULED_HDWY'] * 100\n",
    "    else:\n",
    "        return np.NaN"
   ]
  },
  {
   "cell_type": "code",
   "execution_count": 9,
   "id": "0c385812",
   "metadata": {},
   "outputs": [],
   "source": [
    "# create headway deviation percentable column\n",
    "wego.loc[:, 'HDWY_DEV_PCT'] = wego.apply(lambda r: get_dev_pct(r), axis=1)"
   ]
  },
  {
   "cell_type": "code",
   "execution_count": 10,
   "id": "35599c0b",
   "metadata": {},
   "outputs": [],
   "source": [
    "# Create Bunching or Gapping Indicator\n",
    "def is_hdwy_bunching(dev, pct):\n",
    "    if (dev < 0) & (pct > 50):\n",
    "        return int(1)\n",
    "    else:\n",
    "        return int(0)\n",
    "def is_hdwy_gapping(dev, pct):\n",
    "    if (dev > 0) & (pct > 50):\n",
    "        return int(1)\n",
    "    else:\n",
    "        return int(0)\n",
    "def is_hdwy_acceptable(pct):\n",
    "    if pct <= 50:\n",
    "        return int(1)\n",
    "    else:\n",
    "        return int(0)"
   ]
  },
  {
   "cell_type": "code",
   "execution_count": 11,
   "id": "f0ee154c",
   "metadata": {},
   "outputs": [],
   "source": [
    "# Create new Bunching/gapping columns with Boolean values for each group.\n",
    "wego.loc[:, 'HDWY_BUNCHING'] = wego.apply(lambda r: \n",
    "                                          is_hdwy_bunching(r['HDWY_DEV'], r['HDWY_DEV_PCT']), axis=1)\n",
    "wego.loc[:, 'HDWY_ACCEPTABLE'] = wego.apply(lambda r: \n",
    "                                            is_hdwy_acceptable(r['HDWY_DEV_PCT']), axis=1)\n",
    "wego.loc[:, 'HDWY_GAPPING'] = wego.apply(lambda r: \n",
    "                                         is_hdwy_gapping(r['HDWY_DEV'], r['HDWY_DEV_PCT']), axis=1)"
   ]
  },
  {
   "cell_type": "markdown",
   "id": "2b2a4e2a",
   "metadata": {},
   "source": [
    "# 1) What is the overall on-time performance, and what do the overall distributions of adherence and headway deviation look like? "
   ]
  },
  {
   "cell_type": "code",
   "execution_count": 12,
   "id": "a8c64d91",
   "metadata": {},
   "outputs": [
    {
     "data": {
      "text/plain": [
       "77.08"
      ]
     },
     "execution_count": 12,
     "metadata": {},
     "output_type": "execute_result"
    }
   ],
   "source": [
    "round(wego['ADJUSTED_ONTIME_COUNT'].value_counts()[1] / wego.shape[0] * 100, 2)"
   ]
  },
  {
   "cell_type": "markdown",
   "id": "e352b7b1",
   "metadata": {},
   "source": [
    "#### 77% of checkins here considered ontime."
   ]
  },
  {
   "cell_type": "code",
   "execution_count": 13,
   "id": "884af34b",
   "metadata": {},
   "outputs": [],
   "source": [
    "trips_adherence_cat = (wego.groupby('DATE_TRIP')\n",
    ".sum()\n",
    "[['ADJUSTED_EARLY_COUNT', 'ADJUSTED_LATE_COUNT', 'ADJUSTED_ONTIME_COUNT']])"
   ]
  },
  {
   "cell_type": "code",
   "execution_count": 14,
   "id": "77a39e9b",
   "metadata": {},
   "outputs": [],
   "source": [
    "perfect_trips = (trips_adherence_cat[\n",
    "    (trips_adherence_cat['ADJUSTED_EARLY_COUNT'] == 0) & \n",
    "    (trips_adherence_cat['ADJUSTED_LATE_COUNT'] == 0)])"
   ]
  },
  {
   "cell_type": "code",
   "execution_count": 15,
   "id": "3091b598",
   "metadata": {},
   "outputs": [
    {
     "data": {
      "text/plain": [
       "60.62"
      ]
     },
     "execution_count": 15,
     "metadata": {},
     "output_type": "execute_result"
    }
   ],
   "source": [
    "round(perfect_trips.shape[0] / trips_adherence_cat.shape[0] * 100, 2)"
   ]
  },
  {
   "cell_type": "code",
   "execution_count": 16,
   "id": "4772bdbb",
   "metadata": {},
   "outputs": [
    {
     "data": {
      "text/plain": [
       "40843"
      ]
     },
     "execution_count": 16,
     "metadata": {},
     "output_type": "execute_result"
    }
   ],
   "source": [
    "perfect_trips.shape[0]"
   ]
  },
  {
   "cell_type": "markdown",
   "id": "af77e75c",
   "metadata": {},
   "source": [
    "#### 60.6% of all trips were perfect, 40843 perfect trips"
   ]
  },
  {
   "cell_type": "code",
   "execution_count": 17,
   "id": "13a817d9",
   "metadata": {},
   "outputs": [
    {
     "data": {
      "text/plain": [
       "min      -948.533333\n",
       "max        88.383333\n",
       "mean       -3.188796\n",
       "median     -2.000000\n",
       "Name: ADHERENCE, dtype: float64"
      ]
     },
     "execution_count": 17,
     "metadata": {},
     "output_type": "execute_result"
    }
   ],
   "source": [
    "wego['ADHERENCE'].apply(['min', 'max', 'mean', 'median'])"
   ]
  },
  {
   "cell_type": "code",
   "execution_count": 18,
   "id": "9146b3cb",
   "metadata": {},
   "outputs": [
    {
     "data": {
      "text/plain": [
       "min       -64.000000\n",
       "max       565.433333\n",
       "mean        0.518081\n",
       "median      0.033333\n",
       "Name: HDWY_DEV, dtype: float64"
      ]
     },
     "execution_count": 18,
     "metadata": {},
     "output_type": "execute_result"
    }
   ],
   "source": [
    "wego['HDWY_DEV'].apply(['min', 'max', 'mean', 'median'])"
   ]
  },
  {
   "cell_type": "code",
   "execution_count": 19,
   "id": "0b06a131",
   "metadata": {},
   "outputs": [],
   "source": [
    "# Calculate Adherence mean and standard deviation\n",
    "ad_mean = wego['ADHERENCE'].mean()\n",
    "ad_std = np.std(wego['ADHERENCE'])"
   ]
  },
  {
   "cell_type": "code",
   "execution_count": 20,
   "id": "33b3d3ae",
   "metadata": {},
   "outputs": [
    {
     "data": {
      "text/plain": [
       "[Text(0.5, 1.0, 'Adherence Distribution Excluding Outliers'),\n",
       " Text(0.5, 0, 'Adherence')]"
      ]
     },
     "execution_count": 20,
     "metadata": {},
     "output_type": "execute_result"
    },
    {
     "data": {
      "image/png": "[encoded data removed]",
      "text/plain": [
       "<Figure size 640x480 with 1 Axes>"
      ]
     },
     "metadata": {},
     "output_type": "display_data"
    }
   ],
   "source": [
    "ax = (\n",
    "    wego[wego['ADHERENCE'].between(ad_mean - ad_std*3,\n",
    "                                   ad_mean + ad_std*3,\n",
    "                                   inclusive='both')]\n",
    "    ['ADHERENCE']\n",
    "    .plot(kind='hist',\n",
    "          bins=50)\n",
    ")\n",
    "\n",
    "ax.set(\n",
    "    title='Adherence Distribution Excluding Outliers',\n",
    "    xlabel='Adherence'\n",
    "    )"
   ]
  },
  {
   "cell_type": "code",
   "execution_count": 21,
   "id": "28bf1980",
   "metadata": {},
   "outputs": [],
   "source": [
    "# Calculate Headway Deviation mean and standard deviation\n",
    "hd_mean = wego['HDWY_DEV'].mean()\n",
    "hd_std = np.std(wego['HDWY_DEV'])"
   ]
  },
  {
   "cell_type": "code",
   "execution_count": 22,
   "id": "c8e9de5e",
   "metadata": {},
   "outputs": [
    {
     "data": {
      "text/plain": [
       "[Text(0.5, 1.0, 'Headway Deviation Distribution Excluding Outliers'),\n",
       " Text(0.5, 0, 'Headway Deviation')]"
      ]
     },
     "execution_count": 22,
     "metadata": {},
     "output_type": "execute_result"
    },
    {
     "data": {
      "image/png": "[encoded data removed]",
      "text/plain": [
       "<Figure size 640x480 with 1 Axes>"
      ]
     },
     "metadata": {},
     "output_type": "display_data"
    }
   ],
   "source": [
    "ax= (\n",
    "    wego[wego['HDWY_DEV'].between(hd_mean - hd_std*3, \n",
    "                                  hd_mean + hd_std*3, \n",
    "                                  inclusive='both')]\n",
    "    ['HDWY_DEV']\n",
    "    .plot(kind='hist', bins=50)\n",
    ")\n",
    "\n",
    "ax.set(\n",
    "    title='Headway Deviation Distribution Excluding Outliers',\n",
    "    xlabel='Headway Deviation'\n",
    "    )"
   ]
  },
  {
   "cell_type": "markdown",
   "id": "7a916b3c",
   "metadata": {},
   "source": [
    "# 2) How does direction of travel, route, or location affect the headway and on-time performance?"
   ]
  },
  {
   "cell_type": "code",
   "execution_count": 23,
   "id": "04a158bc",
   "metadata": {},
   "outputs": [
    {
     "data": {
      "text/plain": [
       "Index(['CALENDAR_ID', 'SERVICE_ABBR', 'ADHERENCE_ID', 'DATE', 'ROUTE_ABBR',\n",
       "       'BLOCK_ABBR', 'OPERATOR', 'TRIP_ID', 'OVERLOAD_ID',\n",
       "       'ROUTE_DIRECTION_NAME', 'TIME_POINT_ABBR', 'ROUTE_STOP_SEQUENCE',\n",
       "       'TRIP_EDGE', 'LATITUDE', 'LONGITUDE', 'SCHEDULED_TIME',\n",
       "       'ACTUAL_ARRIVAL_TIME', 'ACTUAL_DEPARTURE_TIME', 'ADHERENCE',\n",
       "       'SCHEDULED_HDWY', 'ACTUAL_HDWY', 'HDWY_DEV', 'ADJUSTED_EARLY_COUNT',\n",
       "       'ADJUSTED_LATE_COUNT', 'ADJUSTED_ONTIME_COUNT', 'STOP_CANCELLED',\n",
       "       'PREV_SCHED_STOP_CANCELLED', 'IS_RELIEF', 'DWELL_IN_MINS',\n",
       "       'SCHEDULED_LAYOVER_MINUTES', 'DATE_TRIP', 'HDWY_DEV_PCT',\n",
       "       'HDWY_BUNCHING', 'HDWY_ACCEPTABLE', 'HDWY_GAPPING'],\n",
       "      dtype='object')"
      ]
     },
     "execution_count": 23,
     "metadata": {},
     "output_type": "execute_result"
    }
   ],
   "source": [
    "wego.columns"
   ]
  },
  {
   "cell_type": "markdown",
   "id": "463ae7d9",
   "metadata": {},
   "source": [
    "### Route Direction"
   ]
  },
  {
   "cell_type": "markdown",
   "id": "c5527891",
   "metadata": {},
   "source": [
    "#### Headway"
   ]
  },
  {
   "cell_type": "code",
   "execution_count": 25,
   "id": "200ac0b8",
   "metadata": {},
   "outputs": [],
   "source": [
    "# Create new df for Headway columns grouped by Route Direction\n",
    "route_direction_totals = (\n",
    "    wego.groupby('ROUTE_DIRECTION_NAME')\n",
    "         [['HDWY_BUNCHING', 'HDWY_ACCEPTABLE', 'HDWY_GAPPING']]\n",
    "         .sum()\n",
    ")"
   ]
  },
  {
   "cell_type": "code",
   "execution_count": 26,
   "id": "839e5632",
   "metadata": {},
   "outputs": [],
   "source": [
    "# Create new total column for each row\n",
    "route_direction_totals['TOTALS'] = route_direction_totals.sum(axis=1)"
   ]
  },
  {
   "cell_type": "code",
   "execution_count": 27,
   "id": "17f1496a",
   "metadata": {},
   "outputs": [],
   "source": [
    "# Create new percentage column for each category\n",
    "route_direction_totals.loc[:, 'BUNCHING_PCT'] = (route_direction_totals['HDWY_BUNCHING'] / \n",
    "                                                route_direction_totals['TOTALS'] * 100)\n",
    "route_direction_totals.loc[:, 'ACCEPTABLE_PCT'] = (route_direction_totals['HDWY_ACCEPTABLE'] / \n",
    "                                                    route_direction_totals['TOTALS'] * 100)\n",
    "route_direction_totals.loc[:, 'GAPPING_PCT'] = (route_direction_totals['HDWY_GAPPING'] / \n",
    "                                                    route_direction_totals['TOTALS'] * 100)"
   ]
  },
  {
   "cell_type": "code",
   "execution_count": 29,
   "id": "4ac52d80",
   "metadata": {},
   "outputs": [
    {
     "data": {
      "image/png": "[encoded data removed]",
      "text/plain": [
       "<Figure size 640x480 with 1 Axes>"
      ]
     },
     "metadata": {},
     "output_type": "display_data"
    }
   ],
   "source": [
    "# Route Direction Headway Graph\n",
    "ax = (route_direction_totals[['BUNCHING_PCT', 'ACCEPTABLE_PCT', 'GAPPING_PCT']]\n",
    "      .plot(kind='bar',\n",
    "            stacked=True))\n",
    "\n",
    "ax.set(title = 'Headway Performance by Route Direction (category %)',\n",
    "        xlabel = 'Route Direction',\n",
    "       ylabel = 'Percentage')\n",
    "ax.legend(title = 'Categories', bbox_to_anchor=(1, 1))\n",
    "ax.tick_params(axis='x', rotation=0)"
   ]
  },
  {
   "cell_type": "markdown",
   "id": "440aed22",
   "metadata": {},
   "source": [
    "#### Adherence"
   ]
  },
  {
   "cell_type": "code",
   "execution_count": 30,
   "id": "3bf29882",
   "metadata": {},
   "outputs": [],
   "source": [
    "# Create new df for Headway columns grouped by Route Direction\n",
    "route_ad_direction_totals = (\n",
    "    wego.groupby('ROUTE_DIRECTION_NAME')\n",
    "         [['ADJUSTED_ONTIME_COUNT', 'ADJUSTED_LATE_COUNT', 'ADJUSTED_EARLY_COUNT']]\n",
    "         .sum()\n",
    ")"
   ]
  },
  {
   "cell_type": "code",
   "execution_count": 34,
   "id": "abc06baa",
   "metadata": {},
   "outputs": [],
   "source": [
    "# Create new total column for each row\n",
    "route_ad_direction_totals['TOTALS'] = route_ad_direction_totals.sum(axis=1)"
   ]
  },
  {
   "cell_type": "code",
   "execution_count": 35,
   "id": "7b4afc92",
   "metadata": {},
   "outputs": [],
   "source": [
    "# Create new percentage column for each category\n",
    "route_ad_direction_totals.loc[:, 'ONTIME_PCT'] = (route_ad_direction_totals['ADJUSTED_ONTIME_COUNT'] / \n",
    "                                                  route_ad_direction_totals['TOTALS'] * 100)\n",
    "route_ad_direction_totals.loc[:, 'EARLY_PCT'] = (route_ad_direction_totals['ADJUSTED_EARLY_COUNT'] / \n",
    "                                                 route_ad_direction_totals['TOTALS'] * 100)\n",
    "route_ad_direction_totals.loc[:, 'LATE_PCT'] = (route_ad_direction_totals['ADJUSTED_LATE_COUNT'] / \n",
    "                                                  route_ad_direction_totals['TOTALS'] * 100)"
   ]
  },
  {
   "cell_type": "code",
   "execution_count": 36,
   "id": "a1bb9205",
   "metadata": {},
   "outputs": [
    {
     "data": {
      "image/png": "[encoded data removed]",
      "text/plain": [
       "<Figure size 640x480 with 1 Axes>"
      ]
     },
     "metadata": {},
     "output_type": "display_data"
    }
   ],
   "source": [
    "# Route Direction Adherence graph\n",
    "ax = (\n",
    "    route_ad_direction_totals[['ONTIME_PCT', 'EARLY_PCT', 'LATE_PCT']]\n",
    ").plot(kind='bar', stacked=True)\n",
    "ax.set(title = 'Adherence Performance by Route Direction (category %)',\n",
    "        xlabel = 'Route Direction',\n",
    "       ylabel = 'Percentage')\n",
    "ax.legend(title = 'Categories', bbox_to_anchor=(1, 1))\n",
    "ax.tick_params(axis='x', rotation=0)"
   ]
  },
  {
   "cell_type": "code",
   "execution_count": 37,
   "id": "6e851e7e",
   "metadata": {},
   "outputs": [
    {
     "data": {
      "text/html": [
       "<div>\n",
       "<style scoped>\n",
       "    .dataframe tbody tr th:only-of-type {\n",
       "        vertical-align: middle;\n",
       "    }\n",
       "\n",
       "    .dataframe tbody tr th {\n",
       "        vertical-align: top;\n",
       "    }\n",
       "\n",
       "    .dataframe thead th {\n",
       "        text-align: right;\n",
       "    }\n",
       "</style>\n",
       "<table border=\"1\" class=\"dataframe\">\n",
       "  <thead>\n",
       "    <tr style=\"text-align: right;\">\n",
       "      <th></th>\n",
       "      <th>HDWY_DEV_PCT</th>\n",
       "      <th>ADHERENCE</th>\n",
       "    </tr>\n",
       "    <tr>\n",
       "      <th>ROUTE_DIRECTION_NAME</th>\n",
       "      <th></th>\n",
       "      <th></th>\n",
       "    </tr>\n",
       "  </thead>\n",
       "  <tbody>\n",
       "    <tr>\n",
       "      <th>FROM DOWNTOWN</th>\n",
       "      <td>29.216261</td>\n",
       "      <td>-3.960287</td>\n",
       "    </tr>\n",
       "    <tr>\n",
       "      <th>TO DOWNTOWN</th>\n",
       "      <td>22.179487</td>\n",
       "      <td>-2.321804</td>\n",
       "    </tr>\n",
       "  </tbody>\n",
       "</table>\n",
       "</div>"
      ],
      "text/plain": [
       "                      HDWY_DEV_PCT  ADHERENCE\n",
       "ROUTE_DIRECTION_NAME                         \n",
       "FROM DOWNTOWN            29.216261  -3.960287\n",
       "TO DOWNTOWN              22.179487  -2.321804"
      ]
     },
     "execution_count": 37,
     "metadata": {},
     "output_type": "execute_result"
    }
   ],
   "source": [
    "wego.groupby('ROUTE_DIRECTION_NAME')[['HDWY_DEV_PCT', 'ADHERENCE']].mean()"
   ]
  },
  {
   "cell_type": "markdown",
   "id": "7bc4aac6",
   "metadata": {},
   "source": [
    "#### TO DOWNTOWN direction has a slightly better Headway Deviation and Adherence performance"
   ]
  },
  {
   "cell_type": "markdown",
   "id": "8bb7c6fb",
   "metadata": {},
   "source": [
    "### ROUTE Performance"
   ]
  },
  {
   "cell_type": "code",
   "execution_count": 39,
   "id": "daac4801",
   "metadata": {
    "scrolled": true
   },
   "outputs": [
    {
     "data": {
      "text/html": [
       "<div>\n",
       "<style scoped>\n",
       "    .dataframe tbody tr th:only-of-type {\n",
       "        vertical-align: middle;\n",
       "    }\n",
       "\n",
       "    .dataframe tbody tr th {\n",
       "        vertical-align: top;\n",
       "    }\n",
       "\n",
       "    .dataframe thead th {\n",
       "        text-align: right;\n",
       "    }\n",
       "</style>\n",
       "<table border=\"1\" class=\"dataframe\">\n",
       "  <thead>\n",
       "    <tr style=\"text-align: right;\">\n",
       "      <th></th>\n",
       "      <th>ADHERENCE</th>\n",
       "      <th>HDWY_DEV</th>\n",
       "    </tr>\n",
       "    <tr>\n",
       "      <th>ROUTE_ABBR</th>\n",
       "      <th></th>\n",
       "      <th></th>\n",
       "    </tr>\n",
       "  </thead>\n",
       "  <tbody>\n",
       "    <tr>\n",
       "      <th>3</th>\n",
       "      <td>-3.761491</td>\n",
       "      <td>0.580907</td>\n",
       "    </tr>\n",
       "    <tr>\n",
       "      <th>7</th>\n",
       "      <td>-3.346555</td>\n",
       "      <td>0.336808</td>\n",
       "    </tr>\n",
       "    <tr>\n",
       "      <th>22</th>\n",
       "      <td>-1.138107</td>\n",
       "      <td>0.955867</td>\n",
       "    </tr>\n",
       "    <tr>\n",
       "      <th>23</th>\n",
       "      <td>-1.760110</td>\n",
       "      <td>1.053563</td>\n",
       "    </tr>\n",
       "    <tr>\n",
       "      <th>50</th>\n",
       "      <td>-2.505022</td>\n",
       "      <td>0.212376</td>\n",
       "    </tr>\n",
       "    <tr>\n",
       "      <th>52</th>\n",
       "      <td>-3.971342</td>\n",
       "      <td>0.974776</td>\n",
       "    </tr>\n",
       "    <tr>\n",
       "      <th>55</th>\n",
       "      <td>-4.823302</td>\n",
       "      <td>0.261038</td>\n",
       "    </tr>\n",
       "    <tr>\n",
       "      <th>56</th>\n",
       "      <td>-2.703988</td>\n",
       "      <td>0.149213</td>\n",
       "    </tr>\n",
       "  </tbody>\n",
       "</table>\n",
       "</div>"
      ],
      "text/plain": [
       "            ADHERENCE  HDWY_DEV\n",
       "ROUTE_ABBR                     \n",
       "3           -3.761491  0.580907\n",
       "7           -3.346555  0.336808\n",
       "22          -1.138107  0.955867\n",
       "23          -1.760110  1.053563\n",
       "50          -2.505022  0.212376\n",
       "52          -3.971342  0.974776\n",
       "55          -4.823302  0.261038\n",
       "56          -2.703988  0.149213"
      ]
     },
     "execution_count": 39,
     "metadata": {},
     "output_type": "execute_result"
    }
   ],
   "source": [
    "wego.groupby('ROUTE_ABBR')[['ADHERENCE', 'HDWY_DEV']].mean()"
   ]
  },
  {
   "cell_type": "markdown",
   "id": "a83e5f90",
   "metadata": {},
   "source": [
    "#### Route 22 has better overall Adherence while route 56 has better headway deviation"
   ]
  },
  {
   "cell_type": "markdown",
   "id": "d45f24a9",
   "metadata": {},
   "source": [
    "### Route Adherence"
   ]
  },
  {
   "cell_type": "code",
   "execution_count": 40,
   "id": "c9bfdee9",
   "metadata": {},
   "outputs": [],
   "source": [
    "# Create new df for Adherence columns grouped by Route\n",
    "routes_totals = (\n",
    "    wego.groupby('ROUTE_ABBR')\n",
    "         [['ADJUSTED_ONTIME_COUNT', 'ADJUSTED_LATE_COUNT', 'ADJUSTED_EARLY_COUNT']]\n",
    "         .sum()\n",
    ")"
   ]
  },
  {
   "cell_type": "code",
   "execution_count": 41,
   "id": "162d8152",
   "metadata": {},
   "outputs": [],
   "source": [
    "# Create new total column for each row\n",
    "routes_totals['TOTALS'] = routes_totals.sum(axis=1)"
   ]
  },
  {
   "cell_type": "code",
   "execution_count": 42,
   "id": "a6954ba2",
   "metadata": {},
   "outputs": [],
   "source": [
    "# Create new percentage column for each category\n",
    "routes_totals.loc[:, 'ONTIME_PCT'] = routes_totals['ADJUSTED_ONTIME_COUNT'] / routes_totals['TOTALS'] * 100\n",
    "routes_totals.loc[:, 'EARLY_PCT'] = routes_totals['ADJUSTED_EARLY_COUNT'] / routes_totals['TOTALS'] * 100\n",
    "routes_totals.loc[:, 'LATE_PCT'] = routes_totals['ADJUSTED_LATE_COUNT'] / routes_totals['TOTALS'] * 100"
   ]
  },
  {
   "cell_type": "code",
   "execution_count": 43,
   "id": "979db9b1",
   "metadata": {},
   "outputs": [
    {
     "data": {
      "text/html": [
       "<div>\n",
       "<style scoped>\n",
       "    .dataframe tbody tr th:only-of-type {\n",
       "        vertical-align: middle;\n",
       "    }\n",
       "\n",
       "    .dataframe tbody tr th {\n",
       "        vertical-align: top;\n",
       "    }\n",
       "\n",
       "    .dataframe thead th {\n",
       "        text-align: right;\n",
       "    }\n",
       "</style>\n",
       "<table border=\"1\" class=\"dataframe\">\n",
       "  <thead>\n",
       "    <tr style=\"text-align: right;\">\n",
       "      <th></th>\n",
       "      <th>ADJUSTED_ONTIME_COUNT</th>\n",
       "      <th>ADJUSTED_LATE_COUNT</th>\n",
       "      <th>ADJUSTED_EARLY_COUNT</th>\n",
       "      <th>TOTALS</th>\n",
       "      <th>ONTIME_PCT</th>\n",
       "      <th>EARLY_PCT</th>\n",
       "      <th>LATE_PCT</th>\n",
       "    </tr>\n",
       "    <tr>\n",
       "      <th>ROUTE_ABBR</th>\n",
       "      <th></th>\n",
       "      <th></th>\n",
       "      <th></th>\n",
       "      <th></th>\n",
       "      <th></th>\n",
       "      <th></th>\n",
       "      <th></th>\n",
       "    </tr>\n",
       "  </thead>\n",
       "  <tbody>\n",
       "    <tr>\n",
       "      <th>3</th>\n",
       "      <td>34516</td>\n",
       "      <td>9590</td>\n",
       "      <td>1382</td>\n",
       "      <td>45488</td>\n",
       "      <td>75.879353</td>\n",
       "      <td>3.038164</td>\n",
       "      <td>21.082483</td>\n",
       "    </tr>\n",
       "    <tr>\n",
       "      <th>7</th>\n",
       "      <td>13417</td>\n",
       "      <td>3417</td>\n",
       "      <td>433</td>\n",
       "      <td>17267</td>\n",
       "      <td>77.703133</td>\n",
       "      <td>2.507674</td>\n",
       "      <td>19.789193</td>\n",
       "    </tr>\n",
       "    <tr>\n",
       "      <th>22</th>\n",
       "      <td>22492</td>\n",
       "      <td>2065</td>\n",
       "      <td>631</td>\n",
       "      <td>25188</td>\n",
       "      <td>89.296490</td>\n",
       "      <td>2.505161</td>\n",
       "      <td>8.198348</td>\n",
       "    </tr>\n",
       "    <tr>\n",
       "      <th>23</th>\n",
       "      <td>35137</td>\n",
       "      <td>3230</td>\n",
       "      <td>1286</td>\n",
       "      <td>39653</td>\n",
       "      <td>88.611202</td>\n",
       "      <td>3.243134</td>\n",
       "      <td>8.145664</td>\n",
       "    </tr>\n",
       "    <tr>\n",
       "      <th>50</th>\n",
       "      <td>36309</td>\n",
       "      <td>5113</td>\n",
       "      <td>1207</td>\n",
       "      <td>42629</td>\n",
       "      <td>85.174412</td>\n",
       "      <td>2.831406</td>\n",
       "      <td>11.994182</td>\n",
       "    </tr>\n",
       "    <tr>\n",
       "      <th>52</th>\n",
       "      <td>37736</td>\n",
       "      <td>10038</td>\n",
       "      <td>1553</td>\n",
       "      <td>49327</td>\n",
       "      <td>76.501713</td>\n",
       "      <td>3.148377</td>\n",
       "      <td>20.349910</td>\n",
       "    </tr>\n",
       "    <tr>\n",
       "      <th>55</th>\n",
       "      <td>42080</td>\n",
       "      <td>16748</td>\n",
       "      <td>1531</td>\n",
       "      <td>60359</td>\n",
       "      <td>69.716198</td>\n",
       "      <td>2.536490</td>\n",
       "      <td>27.747312</td>\n",
       "    </tr>\n",
       "    <tr>\n",
       "      <th>56</th>\n",
       "      <td>48361</td>\n",
       "      <td>8837</td>\n",
       "      <td>1752</td>\n",
       "      <td>58950</td>\n",
       "      <td>82.037320</td>\n",
       "      <td>2.972010</td>\n",
       "      <td>14.990670</td>\n",
       "    </tr>\n",
       "  </tbody>\n",
       "</table>\n",
       "</div>"
      ],
      "text/plain": [
       "            ADJUSTED_ONTIME_COUNT  ADJUSTED_LATE_COUNT  ADJUSTED_EARLY_COUNT  \\\n",
       "ROUTE_ABBR                                                                     \n",
       "3                           34516                 9590                  1382   \n",
       "7                           13417                 3417                   433   \n",
       "22                          22492                 2065                   631   \n",
       "23                          35137                 3230                  1286   \n",
       "50                          36309                 5113                  1207   \n",
       "52                          37736                10038                  1553   \n",
       "55                          42080                16748                  1531   \n",
       "56                          48361                 8837                  1752   \n",
       "\n",
       "            TOTALS  ONTIME_PCT  EARLY_PCT   LATE_PCT  \n",
       "ROUTE_ABBR                                            \n",
       "3            45488   75.879353   3.038164  21.082483  \n",
       "7            17267   77.703133   2.507674  19.789193  \n",
       "22           25188   89.296490   2.505161   8.198348  \n",
       "23           39653   88.611202   3.243134   8.145664  \n",
       "50           42629   85.174412   2.831406  11.994182  \n",
       "52           49327   76.501713   3.148377  20.349910  \n",
       "55           60359   69.716198   2.536490  27.747312  \n",
       "56           58950   82.037320   2.972010  14.990670  "
      ]
     },
     "execution_count": 43,
     "metadata": {},
     "output_type": "execute_result"
    }
   ],
   "source": [
    "routes_totals"
   ]
  },
  {
   "cell_type": "code",
   "execution_count": 45,
   "id": "ed6a1e0e",
   "metadata": {},
   "outputs": [
    {
     "data": {
      "image/png": "[encoded data removed]",
      "text/plain": [
       "<Figure size 640x480 with 1 Axes>"
      ]
     },
     "metadata": {},
     "output_type": "display_data"
    }
   ],
   "source": [
    "# Route Adherence graph\n",
    "ax = (routes_totals[['ONTIME_PCT', 'EARLY_PCT', 'LATE_PCT']]\n",
    ").sort_values('ONTIME_PCT', ascending=False).plot(kind='bar', stacked=True)\n",
    "ax.set(title = 'Route Adherence Performance (category %)',\n",
    "        xlabel = 'Route',\n",
    "       ylabel = 'Percentage')\n",
    "ax.legend(bbox_to_anchor=(1, 1), title='Categories')\n",
    "ax.tick_params(axis='x', rotation=0)"
   ]
  },
  {
   "cell_type": "markdown",
   "id": "9da3e828",
   "metadata": {},
   "source": [
    "### Route Headway"
   ]
  },
  {
   "cell_type": "code",
   "execution_count": 51,
   "id": "55f3f119",
   "metadata": {},
   "outputs": [],
   "source": [
    "# Create new df for Headway columns grouped by Route\n",
    "routes_hdwy_totals = (\n",
    "    wego.groupby('ROUTE_ABBR')\n",
    "         [['HDWY_BUNCHING', 'HDWY_ACCEPTABLE', 'HDWY_GAPPING']]\n",
    "         .sum()\n",
    ")"
   ]
  },
  {
   "cell_type": "code",
   "execution_count": 52,
   "id": "3445fcc1",
   "metadata": {},
   "outputs": [],
   "source": [
    "# Create new total column for each row\n",
    "routes_hdwy_totals['TOTALS'] = routes_hdwy_totals.sum(axis=1)"
   ]
  },
  {
   "cell_type": "code",
   "execution_count": 53,
   "id": "d230296e",
   "metadata": {},
   "outputs": [],
   "source": [
    "# Create new percentage column for each category\n",
    "routes_hdwy_totals.loc[:, 'BUNCHING_PCT'] = routes_hdwy_totals['HDWY_BUNCHING'] / routes_hdwy_totals['TOTALS'] * 100\n",
    "routes_hdwy_totals.loc[:, 'ACCEPTABLE_PCT'] = routes_hdwy_totals['HDWY_ACCEPTABLE'] / routes_hdwy_totals['TOTALS'] * 100\n",
    "routes_hdwy_totals.loc[:, 'GAPPING_PCT'] = routes_hdwy_totals['HDWY_GAPPING'] / routes_hdwy_totals['TOTALS'] * 100"
   ]
  },
  {
   "cell_type": "code",
   "execution_count": 54,
   "id": "f8bd480e",
   "metadata": {},
   "outputs": [
    {
     "data": {
      "text/html": [
       "<div>\n",
       "<style scoped>\n",
       "    .dataframe tbody tr th:only-of-type {\n",
       "        vertical-align: middle;\n",
       "    }\n",
       "\n",
       "    .dataframe tbody tr th {\n",
       "        vertical-align: top;\n",
       "    }\n",
       "\n",
       "    .dataframe thead th {\n",
       "        text-align: right;\n",
       "    }\n",
       "</style>\n",
       "<table border=\"1\" class=\"dataframe\">\n",
       "  <thead>\n",
       "    <tr style=\"text-align: right;\">\n",
       "      <th></th>\n",
       "      <th>HDWY_BUNCHING</th>\n",
       "      <th>HDWY_ACCEPTABLE</th>\n",
       "      <th>HDWY_GAPPING</th>\n",
       "      <th>TOTALS</th>\n",
       "      <th>BUNCHING_PCT</th>\n",
       "      <th>ACCEPTABLE_PCT</th>\n",
       "      <th>GAPPING_PCT</th>\n",
       "    </tr>\n",
       "    <tr>\n",
       "      <th>ROUTE_ABBR</th>\n",
       "      <th></th>\n",
       "      <th></th>\n",
       "      <th></th>\n",
       "      <th></th>\n",
       "      <th></th>\n",
       "      <th></th>\n",
       "      <th></th>\n",
       "    </tr>\n",
       "  </thead>\n",
       "  <tbody>\n",
       "    <tr>\n",
       "      <th>3</th>\n",
       "      <td>2179</td>\n",
       "      <td>31460</td>\n",
       "      <td>2944</td>\n",
       "      <td>36583</td>\n",
       "      <td>5.956319</td>\n",
       "      <td>85.996228</td>\n",
       "      <td>8.047454</td>\n",
       "    </tr>\n",
       "    <tr>\n",
       "      <th>7</th>\n",
       "      <td>463</td>\n",
       "      <td>10500</td>\n",
       "      <td>615</td>\n",
       "      <td>11578</td>\n",
       "      <td>3.998964</td>\n",
       "      <td>90.689238</td>\n",
       "      <td>5.311798</td>\n",
       "    </tr>\n",
       "    <tr>\n",
       "      <th>22</th>\n",
       "      <td>297</td>\n",
       "      <td>15971</td>\n",
       "      <td>739</td>\n",
       "      <td>17007</td>\n",
       "      <td>1.746340</td>\n",
       "      <td>93.908391</td>\n",
       "      <td>4.345270</td>\n",
       "    </tr>\n",
       "    <tr>\n",
       "      <th>23</th>\n",
       "      <td>730</td>\n",
       "      <td>25802</td>\n",
       "      <td>1946</td>\n",
       "      <td>28478</td>\n",
       "      <td>2.563382</td>\n",
       "      <td>90.603273</td>\n",
       "      <td>6.833345</td>\n",
       "    </tr>\n",
       "    <tr>\n",
       "      <th>50</th>\n",
       "      <td>1056</td>\n",
       "      <td>32129</td>\n",
       "      <td>1397</td>\n",
       "      <td>34582</td>\n",
       "      <td>3.053612</td>\n",
       "      <td>92.906714</td>\n",
       "      <td>4.039674</td>\n",
       "    </tr>\n",
       "    <tr>\n",
       "      <th>52</th>\n",
       "      <td>3009</td>\n",
       "      <td>33050</td>\n",
       "      <td>3828</td>\n",
       "      <td>39887</td>\n",
       "      <td>7.543811</td>\n",
       "      <td>82.859077</td>\n",
       "      <td>9.597112</td>\n",
       "    </tr>\n",
       "    <tr>\n",
       "      <th>55</th>\n",
       "      <td>6569</td>\n",
       "      <td>36379</td>\n",
       "      <td>6468</td>\n",
       "      <td>49416</td>\n",
       "      <td>13.293265</td>\n",
       "      <td>73.617857</td>\n",
       "      <td>13.088878</td>\n",
       "    </tr>\n",
       "    <tr>\n",
       "      <th>56</th>\n",
       "      <td>3696</td>\n",
       "      <td>40627</td>\n",
       "      <td>3993</td>\n",
       "      <td>48316</td>\n",
       "      <td>7.649640</td>\n",
       "      <td>84.086017</td>\n",
       "      <td>8.264343</td>\n",
       "    </tr>\n",
       "  </tbody>\n",
       "</table>\n",
       "</div>"
      ],
      "text/plain": [
       "            HDWY_BUNCHING  HDWY_ACCEPTABLE  HDWY_GAPPING  TOTALS  \\\n",
       "ROUTE_ABBR                                                         \n",
       "3                    2179            31460          2944   36583   \n",
       "7                     463            10500           615   11578   \n",
       "22                    297            15971           739   17007   \n",
       "23                    730            25802          1946   28478   \n",
       "50                   1056            32129          1397   34582   \n",
       "52                   3009            33050          3828   39887   \n",
       "55                   6569            36379          6468   49416   \n",
       "56                   3696            40627          3993   48316   \n",
       "\n",
       "            BUNCHING_PCT  ACCEPTABLE_PCT  GAPPING_PCT  \n",
       "ROUTE_ABBR                                             \n",
       "3               5.956319       85.996228     8.047454  \n",
       "7               3.998964       90.689238     5.311798  \n",
       "22              1.746340       93.908391     4.345270  \n",
       "23              2.563382       90.603273     6.833345  \n",
       "50              3.053612       92.906714     4.039674  \n",
       "52              7.543811       82.859077     9.597112  \n",
       "55             13.293265       73.617857    13.088878  \n",
       "56              7.649640       84.086017     8.264343  "
      ]
     },
     "execution_count": 54,
     "metadata": {},
     "output_type": "execute_result"
    }
   ],
   "source": [
    "routes_hdwy_totals"
   ]
  },
  {
   "cell_type": "code",
   "execution_count": 56,
   "id": "e602d8da",
   "metadata": {},
   "outputs": [
    {
     "data": {
      "image/png": "[encoded data removed]",
      "text/plain": [
       "<Figure size 640x480 with 1 Axes>"
      ]
     },
     "metadata": {},
     "output_type": "display_data"
    }
   ],
   "source": [
    "# Route Headway graph\n",
    "ax = (routes_hdwy_totals[['ACCEPTABLE_PCT', 'BUNCHING_PCT', 'GAPPING_PCT']]\n",
    ").sort_values('ACCEPTABLE_PCT', ascending=False).plot(kind='bar', stacked=True)\n",
    "ax.set(title = 'Route Headway Performance (category %)',\n",
    "        xlabel = 'Route',\n",
    "       ylabel = 'Percentage')\n",
    "ax.legend(bbox_to_anchor=(1, 1), title='Categories')\n",
    "ax.tick_params(axis='x', rotation=0)"
   ]
  },
  {
   "cell_type": "markdown",
   "id": "8a028a6c",
   "metadata": {},
   "source": [
    "### Adherence by location"
   ]
  },
  {
   "cell_type": "code",
   "execution_count": 59,
   "id": "3566fc7a",
   "metadata": {},
   "outputs": [
    {
     "data": {
      "text/html": [
       "<div>\n",
       "<style scoped>\n",
       "    .dataframe tbody tr th:only-of-type {\n",
       "        vertical-align: middle;\n",
       "    }\n",
       "\n",
       "    .dataframe tbody tr th {\n",
       "        vertical-align: top;\n",
       "    }\n",
       "\n",
       "    .dataframe thead th {\n",
       "        text-align: right;\n",
       "    }\n",
       "</style>\n",
       "<table border=\"1\" class=\"dataframe\">\n",
       "  <thead>\n",
       "    <tr style=\"text-align: right;\">\n",
       "      <th></th>\n",
       "      <th>ADHERENCE</th>\n",
       "      <th>HDWY_DEV</th>\n",
       "    </tr>\n",
       "    <tr>\n",
       "      <th>TIME_POINT_ABBR</th>\n",
       "      <th></th>\n",
       "      <th></th>\n",
       "    </tr>\n",
       "  </thead>\n",
       "  <tbody>\n",
       "    <tr>\n",
       "      <th>MCC5_11</th>\n",
       "      <td>-37.570714</td>\n",
       "      <td>NaN</td>\n",
       "    </tr>\n",
       "    <tr>\n",
       "      <th>MCC4_20</th>\n",
       "      <td>-13.356229</td>\n",
       "      <td>NaN</td>\n",
       "    </tr>\n",
       "    <tr>\n",
       "      <th>MCC5_12</th>\n",
       "      <td>-9.785042</td>\n",
       "      <td>NaN</td>\n",
       "    </tr>\n",
       "    <tr>\n",
       "      <th>MCC5_7</th>\n",
       "      <td>-9.075463</td>\n",
       "      <td>NaN</td>\n",
       "    </tr>\n",
       "    <tr>\n",
       "      <th>DCSCC</th>\n",
       "      <td>-7.091481</td>\n",
       "      <td>12.054055</td>\n",
       "    </tr>\n",
       "    <tr>\n",
       "      <th>...</th>\n",
       "      <td>...</td>\n",
       "      <td>...</td>\n",
       "    </tr>\n",
       "    <tr>\n",
       "      <th>HEAD</th>\n",
       "      <td>1.013657</td>\n",
       "      <td>NaN</td>\n",
       "    </tr>\n",
       "    <tr>\n",
       "      <th>MCC5_2</th>\n",
       "      <td>1.252623</td>\n",
       "      <td>NaN</td>\n",
       "    </tr>\n",
       "    <tr>\n",
       "      <th>25ACLARK</th>\n",
       "      <td>1.458553</td>\n",
       "      <td>0.551163</td>\n",
       "    </tr>\n",
       "    <tr>\n",
       "      <th>MCC4_13</th>\n",
       "      <td>2.690952</td>\n",
       "      <td>NaN</td>\n",
       "    </tr>\n",
       "    <tr>\n",
       "      <th>MCC5_6</th>\n",
       "      <td>3.753017</td>\n",
       "      <td>NaN</td>\n",
       "    </tr>\n",
       "  </tbody>\n",
       "</table>\n",
       "<p>61 rows × 2 columns</p>\n",
       "</div>"
      ],
      "text/plain": [
       "                 ADHERENCE   HDWY_DEV\n",
       "TIME_POINT_ABBR                      \n",
       "MCC5_11         -37.570714        NaN\n",
       "MCC4_20         -13.356229        NaN\n",
       "MCC5_12          -9.785042        NaN\n",
       "MCC5_7           -9.075463        NaN\n",
       "DCSCC            -7.091481  12.054055\n",
       "...                    ...        ...\n",
       "HEAD              1.013657        NaN\n",
       "MCC5_2            1.252623        NaN\n",
       "25ACLARK          1.458553   0.551163\n",
       "MCC4_13           2.690952        NaN\n",
       "MCC5_6            3.753017        NaN\n",
       "\n",
       "[61 rows x 2 columns]"
      ]
     },
     "execution_count": 59,
     "metadata": {},
     "output_type": "execute_result"
    }
   ],
   "source": [
    "wego.groupby('TIME_POINT_ABBR')[['ADHERENCE', 'HDWY_DEV']].mean().sort_values('ADHERENCE', ascending=True)"
   ]
  },
  {
   "cell_type": "code",
   "execution_count": 62,
   "id": "41f1daf9",
   "metadata": {},
   "outputs": [],
   "source": [
    "# Create new df for Adherence columns grouped by Location\n",
    "location_totals = (\n",
    "    wego.groupby('TIME_POINT_ABBR')\n",
    "         [['ADJUSTED_ONTIME_COUNT', 'ADJUSTED_LATE_COUNT', 'ADJUSTED_EARLY_COUNT']]\n",
    "         .sum()\n",
    ")"
   ]
  },
  {
   "cell_type": "code",
   "execution_count": 63,
   "id": "51310fed",
   "metadata": {},
   "outputs": [],
   "source": [
    "# Create new total column for each row\n",
    "location_totals['TOTALS'] = location_totals.sum(axis=1)"
   ]
  },
  {
   "cell_type": "code",
   "execution_count": 64,
   "id": "7f6783ce",
   "metadata": {},
   "outputs": [],
   "source": [
    "# Create new percentage column for each category\n",
    "location_totals.loc[:, 'ONTIME_PCT'] = location_totals['ADJUSTED_ONTIME_COUNT'] / location_totals['TOTALS'] * 100\n",
    "location_totals.loc[:, 'EARLY_PCT'] = location_totals['ADJUSTED_EARLY_COUNT'] / location_totals['TOTALS'] * 100\n",
    "location_totals.loc[:, 'LATE_PCT'] = location_totals['ADJUSTED_LATE_COUNT'] / location_totals['TOTALS'] * 100"
   ]
  },
  {
   "cell_type": "code",
   "execution_count": 65,
   "id": "496ff1a1",
   "metadata": {},
   "outputs": [
    {
     "data": {
      "text/plain": [
       "<matplotlib.legend.Legend at 0x15bd184b3d0>"
      ]
     },
     "execution_count": 65,
     "metadata": {},
     "output_type": "execute_result"
    },
    {
     "data": {
      "image/png": "[encoded data removed]",
      "text/plain": [
       "<Figure size 1300x800 with 1 Axes>"
      ]
     },
     "metadata": {},
     "output_type": "display_data"
    }
   ],
   "source": [
    "# Location Adherence graph\n",
    "ax = (location_totals[['ONTIME_PCT', 'EARLY_PCT', 'LATE_PCT']]\n",
    ").sort_values('ONTIME_PCT', ascending=False).plot(kind='bar', stacked=True, figsize=(13, 8))\n",
    "ax.set(title = 'Location Adherence Performance (category %)',\n",
    "        xlabel = 'Route',\n",
    "       ylabel = 'Percentage')\n",
    "ax.legend(bbox_to_anchor=(1, 1), title='Categories')\n",
    "# ax.tick_params(axis='x', rotation=0)"
   ]
  },
  {
   "cell_type": "markdown",
   "id": "06ae7e0a",
   "metadata": {},
   "source": [
    "### Headway by Location"
   ]
  },
  {
   "cell_type": "code",
   "execution_count": 66,
   "id": "84a377c9",
   "metadata": {},
   "outputs": [],
   "source": [
    "# Create new df for Headway columns grouped by Location\n",
    "location_hdwy_totals = (\n",
    "    wego.groupby('TIME_POINT_ABBR')\n",
    "         [['HDWY_BUNCHING', 'HDWY_ACCEPTABLE', 'HDWY_GAPPING']]\n",
    "         .sum()\n",
    ")"
   ]
  },
  {
   "cell_type": "code",
   "execution_count": 67,
   "id": "56139da2",
   "metadata": {},
   "outputs": [],
   "source": [
    "# Create new total column for each row\n",
    "location_hdwy_totals['TOTALS'] = location_hdwy_totals.sum(axis=1)"
   ]
  },
  {
   "cell_type": "code",
   "execution_count": 68,
   "id": "21db6562",
   "metadata": {},
   "outputs": [],
   "source": [
    "# Create new percentage column for each category\n",
    "location_hdwy_totals.loc[:, 'BUNCHING_PCT'] = location_hdwy_totals['HDWY_BUNCHING'] / location_hdwy_totals['TOTALS'] * 100\n",
    "location_hdwy_totals.loc[:, 'ACCEPTABLE_PCT'] = location_hdwy_totals['HDWY_ACCEPTABLE'] / location_hdwy_totals['TOTALS'] * 100\n",
    "location_hdwy_totals.loc[:, 'GAPPING_PCT'] = location_hdwy_totals['HDWY_GAPPING'] / location_hdwy_totals['TOTALS'] * 100"
   ]
  },
  {
   "cell_type": "code",
   "execution_count": 69,
   "id": "92d59ccc",
   "metadata": {},
   "outputs": [
    {
     "data": {
      "text/plain": [
       "<matplotlib.legend.Legend at 0x15bd082b7d0>"
      ]
     },
     "execution_count": 69,
     "metadata": {},
     "output_type": "execute_result"
    },
    {
     "data": {
      "image/png": "[encoded data removed]",
      "text/plain": [
       "<Figure size 1300x800 with 1 Axes>"
      ]
     },
     "metadata": {},
     "output_type": "display_data"
    }
   ],
   "source": [
    "# Location Adherence graph\n",
    "ax = (location_hdwy_totals[['ACCEPTABLE_PCT', 'BUNCHING_PCT', 'GAPPING_PCT']]\n",
    "            ).sort_values('ACCEPTABLE_PCT', ascending=False)\n",
    "            .plot(kind='bar', stacked=True, figsize=(13, 8))\n",
    "    \n",
    "ax.set(title = 'Location Headway Performance (category %)',\n",
    "        xlabel = 'Route',\n",
    "       ylabel = 'Percentage')\n",
    "ax.legend(bbox_to_anchor=(1, 1), title='Categories')\n",
    "# ax.tick_params(axis='x', rotation=0)"
   ]
  },
  {
   "cell_type": "code",
   "execution_count": null,
   "id": "a27372cd",
   "metadata": {},
   "outputs": [],
   "source": []
  },
  {
   "cell_type": "markdown",
   "id": "26f9970d",
   "metadata": {},
   "source": [
    "# 3) How does time of day or day of week affect headway and on-time performance?"
   ]
  },
  {
   "cell_type": "markdown",
   "id": "b1ef8e4b",
   "metadata": {},
   "source": [
    "#### Box plots?"
   ]
  },
  {
   "cell_type": "code",
   "execution_count": 70,
   "id": "e702f876",
   "metadata": {},
   "outputs": [],
   "source": [
    "# Drop na depart times\n",
    "clean_dept_time = wego.dropna(subset=['ACTUAL_DEPARTURE_TIME'])"
   ]
  },
  {
   "cell_type": "code",
   "execution_count": 71,
   "id": "7211d06c",
   "metadata": {},
   "outputs": [
    {
     "name": "stderr",
     "output_type": "stream",
     "text": [
      "C:\\Users\\derek\\AppData\\Local\\Temp\\ipykernel_30804\\1395973387.py:1: SettingWithCopyWarning: \n",
      "A value is trying to be set on a copy of a slice from a DataFrame.\n",
      "Try using .loc[row_indexer,col_indexer] = value instead\n",
      "\n",
      "See the caveats in the documentation: https://pandas.pydata.org/pandas-docs/stable/user_guide/indexing.html#returning-a-view-versus-a-copy\n",
      "  clean_dept_time['HOUR'] = (pd.to_datetime(clean_dept_time['ACTUAL_DEPARTURE_TIME'],\n"
     ]
    }
   ],
   "source": [
    "clean_dept_time['HOUR'] = (pd.to_datetime(clean_dept_time['ACTUAL_DEPARTURE_TIME'],\n",
    "                                          format='mixed').dt.hour)"
   ]
  },
  {
   "cell_type": "code",
   "execution_count": 72,
   "id": "ffd99078",
   "metadata": {},
   "outputs": [
    {
     "data": {
      "text/html": [
       "<div>\n",
       "<style scoped>\n",
       "    .dataframe tbody tr th:only-of-type {\n",
       "        vertical-align: middle;\n",
       "    }\n",
       "\n",
       "    .dataframe tbody tr th {\n",
       "        vertical-align: top;\n",
       "    }\n",
       "\n",
       "    .dataframe thead th {\n",
       "        text-align: right;\n",
       "    }\n",
       "</style>\n",
       "<table border=\"1\" class=\"dataframe\">\n",
       "  <thead>\n",
       "    <tr style=\"text-align: right;\">\n",
       "      <th></th>\n",
       "      <th>ADHERENCE</th>\n",
       "      <th>HDWY_DEV</th>\n",
       "    </tr>\n",
       "    <tr>\n",
       "      <th>HOUR</th>\n",
       "      <th></th>\n",
       "      <th></th>\n",
       "    </tr>\n",
       "  </thead>\n",
       "  <tbody>\n",
       "    <tr>\n",
       "      <th>0</th>\n",
       "      <td>-4.478019</td>\n",
       "      <td>0.905051</td>\n",
       "    </tr>\n",
       "    <tr>\n",
       "      <th>1</th>\n",
       "      <td>-10.618182</td>\n",
       "      <td>4.021621</td>\n",
       "    </tr>\n",
       "    <tr>\n",
       "      <th>4</th>\n",
       "      <td>-0.785533</td>\n",
       "      <td>-0.771043</td>\n",
       "    </tr>\n",
       "    <tr>\n",
       "      <th>5</th>\n",
       "      <td>-0.966710</td>\n",
       "      <td>0.306431</td>\n",
       "    </tr>\n",
       "    <tr>\n",
       "      <th>6</th>\n",
       "      <td>-1.501108</td>\n",
       "      <td>0.347326</td>\n",
       "    </tr>\n",
       "    <tr>\n",
       "      <th>7</th>\n",
       "      <td>-2.691298</td>\n",
       "      <td>0.700018</td>\n",
       "    </tr>\n",
       "    <tr>\n",
       "      <th>8</th>\n",
       "      <td>-3.758128</td>\n",
       "      <td>0.413859</td>\n",
       "    </tr>\n",
       "    <tr>\n",
       "      <th>9</th>\n",
       "      <td>-2.611876</td>\n",
       "      <td>0.265547</td>\n",
       "    </tr>\n",
       "    <tr>\n",
       "      <th>10</th>\n",
       "      <td>-2.117932</td>\n",
       "      <td>0.314521</td>\n",
       "    </tr>\n",
       "    <tr>\n",
       "      <th>11</th>\n",
       "      <td>-2.269175</td>\n",
       "      <td>0.392361</td>\n",
       "    </tr>\n",
       "    <tr>\n",
       "      <th>12</th>\n",
       "      <td>-2.586910</td>\n",
       "      <td>0.389898</td>\n",
       "    </tr>\n",
       "    <tr>\n",
       "      <th>13</th>\n",
       "      <td>-2.540283</td>\n",
       "      <td>0.372795</td>\n",
       "    </tr>\n",
       "    <tr>\n",
       "      <th>14</th>\n",
       "      <td>-3.013218</td>\n",
       "      <td>0.480310</td>\n",
       "    </tr>\n",
       "    <tr>\n",
       "      <th>15</th>\n",
       "      <td>-3.889472</td>\n",
       "      <td>0.713367</td>\n",
       "    </tr>\n",
       "    <tr>\n",
       "      <th>16</th>\n",
       "      <td>-4.649309</td>\n",
       "      <td>0.761428</td>\n",
       "    </tr>\n",
       "    <tr>\n",
       "      <th>17</th>\n",
       "      <td>-5.108192</td>\n",
       "      <td>0.460231</td>\n",
       "    </tr>\n",
       "    <tr>\n",
       "      <th>18</th>\n",
       "      <td>-4.761087</td>\n",
       "      <td>0.411904</td>\n",
       "    </tr>\n",
       "    <tr>\n",
       "      <th>19</th>\n",
       "      <td>-4.285366</td>\n",
       "      <td>0.596661</td>\n",
       "    </tr>\n",
       "    <tr>\n",
       "      <th>20</th>\n",
       "      <td>-3.706049</td>\n",
       "      <td>0.682719</td>\n",
       "    </tr>\n",
       "    <tr>\n",
       "      <th>21</th>\n",
       "      <td>-2.895680</td>\n",
       "      <td>0.548959</td>\n",
       "    </tr>\n",
       "    <tr>\n",
       "      <th>22</th>\n",
       "      <td>-2.737146</td>\n",
       "      <td>0.941952</td>\n",
       "    </tr>\n",
       "    <tr>\n",
       "      <th>23</th>\n",
       "      <td>-3.362155</td>\n",
       "      <td>1.079424</td>\n",
       "    </tr>\n",
       "  </tbody>\n",
       "</table>\n",
       "</div>"
      ],
      "text/plain": [
       "      ADHERENCE  HDWY_DEV\n",
       "HOUR                     \n",
       "0     -4.478019  0.905051\n",
       "1    -10.618182  4.021621\n",
       "4     -0.785533 -0.771043\n",
       "5     -0.966710  0.306431\n",
       "6     -1.501108  0.347326\n",
       "7     -2.691298  0.700018\n",
       "8     -3.758128  0.413859\n",
       "9     -2.611876  0.265547\n",
       "10    -2.117932  0.314521\n",
       "11    -2.269175  0.392361\n",
       "12    -2.586910  0.389898\n",
       "13    -2.540283  0.372795\n",
       "14    -3.013218  0.480310\n",
       "15    -3.889472  0.713367\n",
       "16    -4.649309  0.761428\n",
       "17    -5.108192  0.460231\n",
       "18    -4.761087  0.411904\n",
       "19    -4.285366  0.596661\n",
       "20    -3.706049  0.682719\n",
       "21    -2.895680  0.548959\n",
       "22    -2.737146  0.941952\n",
       "23    -3.362155  1.079424"
      ]
     },
     "execution_count": 72,
     "metadata": {},
     "output_type": "execute_result"
    }
   ],
   "source": [
    "clean_dept_time.groupby('HOUR')[['ADHERENCE', 'HDWY_DEV']].mean()"
   ]
  },
  {
   "cell_type": "markdown",
   "id": "78c76c20",
   "metadata": {},
   "source": [
    "### Adherence by Hour"
   ]
  },
  {
   "cell_type": "code",
   "execution_count": 129,
   "id": "d7b31823",
   "metadata": {},
   "outputs": [],
   "source": [
    "# Create new df for Adherence columns grouped by Hour\n",
    "hour_totals = (\n",
    "    clean_dept_time.groupby('HOUR')\n",
    "         [['ADJUSTED_ONTIME_COUNT', 'ADJUSTED_LATE_COUNT', 'ADJUSTED_EARLY_COUNT']]\n",
    "         .sum()\n",
    ")\n"
   ]
  },
  {
   "cell_type": "code",
   "execution_count": 130,
   "id": "c5e9abf5",
   "metadata": {},
   "outputs": [],
   "source": [
    "# Create new total column for each row\n",
    "hour_totals['TOTALS'] = hour_totals.sum(axis=1)"
   ]
  },
  {
   "cell_type": "code",
   "execution_count": 131,
   "id": "e4d53fcf",
   "metadata": {},
   "outputs": [],
   "source": [
    "# Create new percentage column for each category\n",
    "hour_totals.loc[:, 'ONTIME_PCT'] = hour_totals['ADJUSTED_ONTIME_COUNT'] / hour_totals['TOTALS'] * 100\n",
    "hour_totals.loc[:, 'EARLY_PCT'] = hour_totals['ADJUSTED_EARLY_COUNT'] / hour_totals['TOTALS'] * 100\n",
    "hour_totals.loc[:, 'LATE_PCT'] = hour_totals['ADJUSTED_LATE_COUNT'] / hour_totals['TOTALS'] * 100"
   ]
  },
  {
   "cell_type": "code",
   "execution_count": 132,
   "id": "8293a215",
   "metadata": {},
   "outputs": [
    {
     "data": {
      "image/png": "[encoded data removed]",
      "text/plain": [
       "<Figure size 640x480 with 1 Axes>"
      ]
     },
     "metadata": {},
     "output_type": "display_data"
    }
   ],
   "source": [
    "# Hour Adherence graph\n",
    "ax = (hour_totals[['ONTIME_PCT', 'EARLY_PCT', 'LATE_PCT']]\n",
    ").plot(kind='bar', stacked=True)\n",
    "ax.set(title = 'Hour Adherence Performance (category %)',\n",
    "        xlabel = 'Hour',\n",
    "       ylabel = 'Percentage')\n",
    "ax.legend(bbox_to_anchor=(1, 1), title='Categories')\n",
    "ax.tick_params(axis='x', rotation=0)"
   ]
  },
  {
   "cell_type": "markdown",
   "id": "30686153",
   "metadata": {},
   "source": [
    "### Headway by Hour"
   ]
  },
  {
   "cell_type": "code",
   "execution_count": 83,
   "id": "34d9e387",
   "metadata": {},
   "outputs": [],
   "source": [
    "# Create new df for Headway columns grouped by Hour\n",
    "hour_hdwy_totals = (\n",
    "    clean_dept_time.groupby('HOUR')\n",
    "         [['HDWY_BUNCHING', 'HDWY_ACCEPTABLE', 'HDWY_GAPPING']]\n",
    "         .sum()\n",
    ")"
   ]
  },
  {
   "cell_type": "code",
   "execution_count": 84,
   "id": "c998627f",
   "metadata": {},
   "outputs": [],
   "source": [
    "# Create new total column for each row\n",
    "hour_hdwy_totals['TOTALS'] = hour_hdwy_totals.sum(axis=1)"
   ]
  },
  {
   "cell_type": "code",
   "execution_count": 85,
   "id": "2d4a0f9c",
   "metadata": {},
   "outputs": [],
   "source": [
    "# Create new percentage column for each category\n",
    "hour_hdwy_totals.loc[:, 'BUNCHING_PCT'] = hour_hdwy_totals['HDWY_BUNCHING'] / hour_hdwy_totals['TOTALS'] * 100\n",
    "hour_hdwy_totals.loc[:, 'ACCEPTABLE_PCT'] = hour_hdwy_totals['HDWY_ACCEPTABLE'] / hour_hdwy_totals['TOTALS'] * 100\n",
    "hour_hdwy_totals.loc[:, 'GAPPING_PCT'] = hour_hdwy_totals['HDWY_GAPPING'] / hour_hdwy_totals['TOTALS'] * 100"
   ]
  },
  {
   "cell_type": "code",
   "execution_count": 89,
   "id": "19febf4b",
   "metadata": {},
   "outputs": [
    {
     "data": {
      "image/png": "[encoded data removed]",
      "text/plain": [
       "<Figure size 640x480 with 1 Axes>"
      ]
     },
     "metadata": {},
     "output_type": "display_data"
    }
   ],
   "source": [
    "# Hour Headway graph\n",
    "ax = (hour_hdwy_totals[['ACCEPTABLE_PCT', 'BUNCHING_PCT', 'GAPPING_PCT']]\n",
    ").plot(kind='bar', stacked=True)\n",
    "ax.set(title = 'Hour Headway Performance (category %)',\n",
    "        xlabel = 'Hour',\n",
    "       ylabel = 'Percentage')\n",
    "ax.legend(bbox_to_anchor=(1, 1), title='Categories')\n",
    "ax.tick_params(axis='x', rotation=0)"
   ]
  },
  {
   "cell_type": "markdown",
   "id": "d0eaf4d9",
   "metadata": {},
   "source": [
    "## Weekday"
   ]
  },
  {
   "cell_type": "markdown",
   "id": "2bf34020",
   "metadata": {},
   "source": [
    "#### Monday is 0"
   ]
  },
  {
   "cell_type": "code",
   "execution_count": 90,
   "id": "cf9730ff",
   "metadata": {},
   "outputs": [
    {
     "name": "stderr",
     "output_type": "stream",
     "text": [
      "C:\\Users\\derek\\AppData\\Local\\Temp\\ipykernel_30804\\3419957694.py:2: SettingWithCopyWarning: \n",
      "A value is trying to be set on a copy of a slice from a DataFrame.\n",
      "Try using .loc[row_indexer,col_indexer] = value instead\n",
      "\n",
      "See the caveats in the documentation: https://pandas.pydata.org/pandas-docs/stable/user_guide/indexing.html#returning-a-view-versus-a-copy\n",
      "  clean_dept_time['WEEKDAY'] = pd.to_datetime(clean_dept_time['ACTUAL_DEPARTURE_TIME']).dt.weekday\n"
     ]
    }
   ],
   "source": [
    "# Create Weekday column\n",
    "clean_dept_time['WEEKDAY'] = pd.to_datetime(clean_dept_time['ACTUAL_DEPARTURE_TIME']).dt.weekday"
   ]
  },
  {
   "cell_type": "code",
   "execution_count": 96,
   "id": "d524a8fa",
   "metadata": {},
   "outputs": [],
   "source": [
    "# use Grouper to group by Weekday\n",
    "wego_by_day = (clean_dept_time.groupby(pd.Grouper(key='WEEKDAY')))"
   ]
  },
  {
   "cell_type": "markdown",
   "id": "8c8efbab",
   "metadata": {},
   "source": [
    "## Adherence by Weekday"
   ]
  },
  {
   "cell_type": "code",
   "execution_count": 99,
   "id": "915328a1",
   "metadata": {},
   "outputs": [],
   "source": [
    "# Create new df for Adherence columns grouped by Weekday\n",
    "weekday_totals = (\n",
    "    wego_by_day\n",
    "         [['ADJUSTED_ONTIME_COUNT', 'ADJUSTED_LATE_COUNT', 'ADJUSTED_EARLY_COUNT']]\n",
    "         .sum()\n",
    ")"
   ]
  },
  {
   "cell_type": "code",
   "execution_count": 101,
   "id": "1dd7db5e",
   "metadata": {},
   "outputs": [],
   "source": [
    "# Create new total column for each row\n",
    "weekday_totals['TOTALS'] = weekday_totals.sum(axis=1)"
   ]
  },
  {
   "cell_type": "code",
   "execution_count": 102,
   "id": "f2eadc27",
   "metadata": {},
   "outputs": [],
   "source": [
    "# Create new percentage column for each category\n",
    "weekday_totals.loc[:, 'ONTIME_PCT'] = weekday_totals['ADJUSTED_ONTIME_COUNT'] / weekday_totals['TOTALS'] * 100\n",
    "weekday_totals.loc[:, 'EARLY_PCT'] = weekday_totals['ADJUSTED_EARLY_COUNT'] / weekday_totals['TOTALS'] * 100\n",
    "weekday_totals.loc[:, 'LATE_PCT'] = weekday_totals['ADJUSTED_LATE_COUNT'] / weekday_totals['TOTALS'] * 100"
   ]
  },
  {
   "cell_type": "code",
   "execution_count": 112,
   "id": "d9d6b50d",
   "metadata": {},
   "outputs": [
    {
     "data": {
      "image/png": "[encoded data removed]",
      "text/plain": [
       "<Figure size 640x480 with 1 Axes>"
      ]
     },
     "metadata": {},
     "output_type": "display_data"
    }
   ],
   "source": [
    "# Hour Adherence graph\n",
    "ax = (weekday_totals[['ONTIME_PCT', 'EARLY_PCT', 'LATE_PCT']]\n",
    "                ).sort_index().plot(kind='bar', stacked=True)\n",
    "\n",
    "ax.set(title = 'Weekday Adherence Performance (category %)',\n",
    "        xlabel = 'Weekday',\n",
    "       ylabel = 'Percentage')\n",
    "ax.legend(bbox_to_anchor=(1, 1), title='Categories')\n",
    "ax.set_xticklabels(['Monday', 'Tuesday', 'Wednesday', 'Thursday', 'Friday', 'Saturday', 'Sunday'])\n",
    "ax.tick_params(axis='x', rotation=45)"
   ]
  },
  {
   "cell_type": "markdown",
   "id": "e52446a4",
   "metadata": {},
   "source": [
    "### Headway by Weekday"
   ]
  },
  {
   "cell_type": "code",
   "execution_count": 114,
   "id": "63d26b3e",
   "metadata": {},
   "outputs": [],
   "source": [
    "# Create new df for Headway columns grouped by Weekday\n",
    "weekday_hdwy_totals = (\n",
    "    wego_by_day\n",
    "         [['HDWY_BUNCHING', 'HDWY_ACCEPTABLE', 'HDWY_GAPPING']]\n",
    "         .sum()\n",
    ")"
   ]
  },
  {
   "cell_type": "code",
   "execution_count": 115,
   "id": "7848d273",
   "metadata": {},
   "outputs": [],
   "source": [
    "# Create new total column for each row\n",
    "weekday_hdwy_totals['TOTALS'] = weekday_hdwy_totals.sum(axis=1)"
   ]
  },
  {
   "cell_type": "code",
   "execution_count": 120,
   "id": "53b95f5f",
   "metadata": {},
   "outputs": [
    {
     "data": {
      "text/html": [
       "<div>\n",
       "<style scoped>\n",
       "    .dataframe tbody tr th:only-of-type {\n",
       "        vertical-align: middle;\n",
       "    }\n",
       "\n",
       "    .dataframe tbody tr th {\n",
       "        vertical-align: top;\n",
       "    }\n",
       "\n",
       "    .dataframe thead th {\n",
       "        text-align: right;\n",
       "    }\n",
       "</style>\n",
       "<table border=\"1\" class=\"dataframe\">\n",
       "  <thead>\n",
       "    <tr style=\"text-align: right;\">\n",
       "      <th></th>\n",
       "      <th>HDWY_BUNCHING</th>\n",
       "      <th>HDWY_ACCEPTABLE</th>\n",
       "      <th>HDWY_GAPPING</th>\n",
       "      <th>TOTALS</th>\n",
       "      <th>BUNCHING_PCT</th>\n",
       "      <th>ACCEPTABLE_PCT</th>\n",
       "      <th>GAPPING_PCT</th>\n",
       "    </tr>\n",
       "    <tr>\n",
       "      <th>WEEKDAY</th>\n",
       "      <th></th>\n",
       "      <th></th>\n",
       "      <th></th>\n",
       "      <th></th>\n",
       "      <th></th>\n",
       "      <th></th>\n",
       "      <th></th>\n",
       "    </tr>\n",
       "  </thead>\n",
       "  <tbody>\n",
       "    <tr>\n",
       "      <th>1</th>\n",
       "      <td>3221</td>\n",
       "      <td>37104</td>\n",
       "      <td>3806</td>\n",
       "      <td>44131</td>\n",
       "      <td>7.298724</td>\n",
       "      <td>84.076953</td>\n",
       "      <td>8.624323</td>\n",
       "    </tr>\n",
       "    <tr>\n",
       "      <th>3</th>\n",
       "      <td>3532</td>\n",
       "      <td>36391</td>\n",
       "      <td>4278</td>\n",
       "      <td>44201</td>\n",
       "      <td>7.990769</td>\n",
       "      <td>82.330716</td>\n",
       "      <td>9.678514</td>\n",
       "    </tr>\n",
       "    <tr>\n",
       "      <th>2</th>\n",
       "      <td>3447</td>\n",
       "      <td>37217</td>\n",
       "      <td>3934</td>\n",
       "      <td>44598</td>\n",
       "      <td>7.729046</td>\n",
       "      <td>83.449930</td>\n",
       "      <td>8.821023</td>\n",
       "    </tr>\n",
       "    <tr>\n",
       "      <th>4</th>\n",
       "      <td>3986</td>\n",
       "      <td>35014</td>\n",
       "      <td>4867</td>\n",
       "      <td>43867</td>\n",
       "      <td>9.086557</td>\n",
       "      <td>79.818542</td>\n",
       "      <td>11.094900</td>\n",
       "    </tr>\n",
       "    <tr>\n",
       "      <th>5</th>\n",
       "      <td>985</td>\n",
       "      <td>26137</td>\n",
       "      <td>1364</td>\n",
       "      <td>28486</td>\n",
       "      <td>3.457839</td>\n",
       "      <td>91.753844</td>\n",
       "      <td>4.788317</td>\n",
       "    </tr>\n",
       "    <tr>\n",
       "      <th>6</th>\n",
       "      <td>546</td>\n",
       "      <td>21134</td>\n",
       "      <td>1094</td>\n",
       "      <td>22774</td>\n",
       "      <td>2.397471</td>\n",
       "      <td>92.798806</td>\n",
       "      <td>4.803724</td>\n",
       "    </tr>\n",
       "    <tr>\n",
       "      <th>0</th>\n",
       "      <td>2282</td>\n",
       "      <td>32921</td>\n",
       "      <td>2587</td>\n",
       "      <td>37790</td>\n",
       "      <td>6.038635</td>\n",
       "      <td>87.115639</td>\n",
       "      <td>6.845726</td>\n",
       "    </tr>\n",
       "  </tbody>\n",
       "</table>\n",
       "</div>"
      ],
      "text/plain": [
       "         HDWY_BUNCHING  HDWY_ACCEPTABLE  HDWY_GAPPING  TOTALS  BUNCHING_PCT  \\\n",
       "WEEKDAY                                                                       \n",
       "1                 3221            37104          3806   44131      7.298724   \n",
       "3                 3532            36391          4278   44201      7.990769   \n",
       "2                 3447            37217          3934   44598      7.729046   \n",
       "4                 3986            35014          4867   43867      9.086557   \n",
       "5                  985            26137          1364   28486      3.457839   \n",
       "6                  546            21134          1094   22774      2.397471   \n",
       "0                 2282            32921          2587   37790      6.038635   \n",
       "\n",
       "         ACCEPTABLE_PCT  GAPPING_PCT  \n",
       "WEEKDAY                               \n",
       "1             84.076953     8.624323  \n",
       "3             82.330716     9.678514  \n",
       "2             83.449930     8.821023  \n",
       "4             79.818542    11.094900  \n",
       "5             91.753844     4.788317  \n",
       "6             92.798806     4.803724  \n",
       "0             87.115639     6.845726  "
      ]
     },
     "execution_count": 120,
     "metadata": {},
     "output_type": "execute_result"
    }
   ],
   "source": [
    "weekday_hdwy_totals"
   ]
  },
  {
   "cell_type": "code",
   "execution_count": 119,
   "id": "fc6d5c12",
   "metadata": {},
   "outputs": [],
   "source": [
    "# Create new percentage column for each category\n",
    "weekday_hdwy_totals.loc[:, 'BUNCHING_PCT'] = weekday_hdwy_totals['HDWY_BUNCHING'] / weekday_hdwy_totals['TOTALS'] * 100\n",
    "weekday_hdwy_totals.loc[:, 'ACCEPTABLE_PCT'] = weekday_hdwy_totals['HDWY_ACCEPTABLE'] / weekday_hdwy_totals['TOTALS'] * 100\n",
    "weekday_hdwy_totals.loc[:, 'GAPPING_PCT'] = weekday_hdwy_totals['HDWY_GAPPING'] / weekday_hdwy_totals['TOTALS'] * 100"
   ]
  },
  {
   "cell_type": "code",
   "execution_count": 121,
   "id": "b4db3c32",
   "metadata": {},
   "outputs": [
    {
     "data": {
      "image/png": "[encoded data removed]",
      "text/plain": [
       "<Figure size 640x480 with 1 Axes>"
      ]
     },
     "metadata": {},
     "output_type": "display_data"
    }
   ],
   "source": [
    "# Hour Adherence graph\n",
    "ax = (weekday_hdwy_totals[['ACCEPTABLE_PCT', 'BUNCHING_PCT', 'GAPPING_PCT']]\n",
    "                ).sort_index().plot(kind='bar', stacked=True)\n",
    "\n",
    "ax.set(title = 'Weekday Headway Performance (category %)',\n",
    "        xlabel = 'Weekday',\n",
    "       ylabel = 'Percentage')\n",
    "ax.legend(bbox_to_anchor=(1, 1), title='Categories')\n",
    "ax.set_xticklabels(['Monday', 'Tuesday', 'Wednesday', 'Thursday', 'Friday', 'Saturday', 'Sunday'])\n",
    "ax.tick_params(axis='x', rotation=45)"
   ]
  },
  {
   "cell_type": "markdown",
   "id": "35409cc6",
   "metadata": {},
   "source": [
    "#### No trips were made during the hours of 2 and 3"
   ]
  },
  {
   "cell_type": "markdown",
   "id": "5648c846",
   "metadata": {},
   "source": [
    "# 4) How much of a factor does the driver have on headway and on-time performance? The driver is indicated by the OPERATOR variable."
   ]
  },
  {
   "cell_type": "markdown",
   "id": "5114fa39",
   "metadata": {},
   "source": [
    "### Adherence by Operpator"
   ]
  },
  {
   "cell_type": "code",
   "execution_count": 150,
   "id": "ea0be292",
   "metadata": {},
   "outputs": [],
   "source": [
    "# Create new df for Adherence columns grouped by Operator\n",
    "operator_totals = (\n",
    "    wego.groupby('OPERATOR')\n",
    "         [['ADJUSTED_ONTIME_COUNT', 'ADJUSTED_LATE_COUNT',\n",
    "           'ADJUSTED_EARLY_COUNT', 'HDWY_BUNCHING',\n",
    "           'HDWY_ACCEPTABLE', 'HDWY_GAPPING']]\n",
    "         .sum()\n",
    ")"
   ]
  },
  {
   "cell_type": "code",
   "execution_count": 151,
   "id": "69965f69",
   "metadata": {},
   "outputs": [],
   "source": [
    "# Create new total column for each row\n",
    "operator_totals['ADH_TOTALS'] = (operator_totals[['ADJUSTED_ONTIME_COUNT', 'ADJUSTED_LATE_COUNT',\n",
    "           'ADJUSTED_EARLY_COUNT']].sum(axis=1))\n",
    "operator_totals['HDWY_TOTALS'] = (operator_totals[['HDWY_BUNCHING',\n",
    "           'HDWY_ACCEPTABLE', 'HDWY_GAPPING']].sum(axis=1))"
   ]
  },
  {
   "cell_type": "code",
   "execution_count": 161,
   "id": "cacced00",
   "metadata": {},
   "outputs": [],
   "source": [
    "# Create new percentage column for each category\n",
    "operator_totals.loc[:, 'ONTIME_PCT'] = round(operator_totals['ADJUSTED_ONTIME_COUNT'] / \n",
    "                                             operator_totals['ADH_TOTALS'] * 100, 1)\n",
    "operator_totals.loc[:, 'EARLY_PCT'] = round(operator_totals['ADJUSTED_EARLY_COUNT'] /\n",
    "                                            operator_totals['ADH_TOTALS'] * 100, 1)\n",
    "operator_totals.loc[:, 'LATE_PCT'] = round(operator_totals['ADJUSTED_LATE_COUNT'] /\n",
    "                                           operator_totals['ADH_TOTALS'] * 100, 1)\n",
    "operator_totals.loc[:, 'BUNCHING_PCT'] = round(operator_totals['HDWY_BUNCHING'] /\n",
    "                                               operator_totals['HDWY_TOTALS'] * 100, 1)\n",
    "operator_totals.loc[:, 'ACCEPTABLE_PCT'] = round(operator_totals['HDWY_ACCEPTABLE'] /\n",
    "                                                 operator_totals['HDWY_TOTALS'] * 100, 1)\n",
    "operator_totals.loc[:, 'GAPPING_PCT'] = round(operator_totals['HDWY_GAPPING'] /\n",
    "                                              operator_totals['HDWY_TOTALS'] * 100, 1)"
   ]
  },
  {
   "cell_type": "code",
   "execution_count": 166,
   "id": "c35dbeff",
   "metadata": {},
   "outputs": [
    {
     "data": {
      "text/html": [
       "<div>\n",
       "<style scoped>\n",
       "    .dataframe tbody tr th:only-of-type {\n",
       "        vertical-align: middle;\n",
       "    }\n",
       "\n",
       "    .dataframe tbody tr th {\n",
       "        vertical-align: top;\n",
       "    }\n",
       "\n",
       "    .dataframe thead th {\n",
       "        text-align: right;\n",
       "    }\n",
       "</style>\n",
       "<table border=\"1\" class=\"dataframe\">\n",
       "  <thead>\n",
       "    <tr style=\"text-align: right;\">\n",
       "      <th></th>\n",
       "      <th>ADJUSTED_ONTIME_COUNT</th>\n",
       "      <th>ADJUSTED_LATE_COUNT</th>\n",
       "      <th>ADJUSTED_EARLY_COUNT</th>\n",
       "      <th>HDWY_BUNCHING</th>\n",
       "      <th>HDWY_ACCEPTABLE</th>\n",
       "      <th>HDWY_GAPPING</th>\n",
       "      <th>ADH_TOTALS</th>\n",
       "      <th>HDWY_TOTALS</th>\n",
       "      <th>ONTIME_PCT</th>\n",
       "      <th>EARLY_PCT</th>\n",
       "      <th>LATE_PCT</th>\n",
       "      <th>BUNCHING_PCT</th>\n",
       "      <th>ACCEPTABLE_PCT</th>\n",
       "      <th>GAPPING_PCT</th>\n",
       "    </tr>\n",
       "    <tr>\n",
       "      <th>OPERATOR</th>\n",
       "      <th></th>\n",
       "      <th></th>\n",
       "      <th></th>\n",
       "      <th></th>\n",
       "      <th></th>\n",
       "      <th></th>\n",
       "      <th></th>\n",
       "      <th></th>\n",
       "      <th></th>\n",
       "      <th></th>\n",
       "      <th></th>\n",
       "      <th></th>\n",
       "      <th></th>\n",
       "      <th></th>\n",
       "    </tr>\n",
       "  </thead>\n",
       "  <tbody>\n",
       "    <tr>\n",
       "      <th>2294</th>\n",
       "      <td>45</td>\n",
       "      <td>0</td>\n",
       "      <td>0</td>\n",
       "      <td>0</td>\n",
       "      <td>28</td>\n",
       "      <td>0</td>\n",
       "      <td>45</td>\n",
       "      <td>28</td>\n",
       "      <td>100.0</td>\n",
       "      <td>0.0</td>\n",
       "      <td>0.0</td>\n",
       "      <td>0.0</td>\n",
       "      <td>100.0</td>\n",
       "      <td>0.0</td>\n",
       "    </tr>\n",
       "    <tr>\n",
       "      <th>1762</th>\n",
       "      <td>2294</td>\n",
       "      <td>23</td>\n",
       "      <td>16</td>\n",
       "      <td>103</td>\n",
       "      <td>1420</td>\n",
       "      <td>30</td>\n",
       "      <td>2333</td>\n",
       "      <td>1553</td>\n",
       "      <td>98.3</td>\n",
       "      <td>0.7</td>\n",
       "      <td>1.0</td>\n",
       "      <td>6.6</td>\n",
       "      <td>91.4</td>\n",
       "      <td>1.9</td>\n",
       "    </tr>\n",
       "    <tr>\n",
       "      <th>1597</th>\n",
       "      <td>252</td>\n",
       "      <td>6</td>\n",
       "      <td>0</td>\n",
       "      <td>1</td>\n",
       "      <td>150</td>\n",
       "      <td>1</td>\n",
       "      <td>258</td>\n",
       "      <td>152</td>\n",
       "      <td>97.7</td>\n",
       "      <td>0.0</td>\n",
       "      <td>2.3</td>\n",
       "      <td>0.7</td>\n",
       "      <td>98.7</td>\n",
       "      <td>0.7</td>\n",
       "    </tr>\n",
       "    <tr>\n",
       "      <th>1706</th>\n",
       "      <td>43</td>\n",
       "      <td>0</td>\n",
       "      <td>1</td>\n",
       "      <td>5</td>\n",
       "      <td>32</td>\n",
       "      <td>0</td>\n",
       "      <td>44</td>\n",
       "      <td>37</td>\n",
       "      <td>97.7</td>\n",
       "      <td>2.3</td>\n",
       "      <td>0.0</td>\n",
       "      <td>13.5</td>\n",
       "      <td>86.5</td>\n",
       "      <td>0.0</td>\n",
       "    </tr>\n",
       "    <tr>\n",
       "      <th>2639</th>\n",
       "      <td>202</td>\n",
       "      <td>2</td>\n",
       "      <td>3</td>\n",
       "      <td>3</td>\n",
       "      <td>117</td>\n",
       "      <td>0</td>\n",
       "      <td>207</td>\n",
       "      <td>120</td>\n",
       "      <td>97.6</td>\n",
       "      <td>1.4</td>\n",
       "      <td>1.0</td>\n",
       "      <td>2.5</td>\n",
       "      <td>97.5</td>\n",
       "      <td>0.0</td>\n",
       "    </tr>\n",
       "    <tr>\n",
       "      <th>409</th>\n",
       "      <td>2310</td>\n",
       "      <td>61</td>\n",
       "      <td>9</td>\n",
       "      <td>25</td>\n",
       "      <td>1657</td>\n",
       "      <td>33</td>\n",
       "      <td>2380</td>\n",
       "      <td>1715</td>\n",
       "      <td>97.1</td>\n",
       "      <td>0.4</td>\n",
       "      <td>2.6</td>\n",
       "      <td>1.5</td>\n",
       "      <td>96.6</td>\n",
       "      <td>1.9</td>\n",
       "    </tr>\n",
       "    <tr>\n",
       "      <th>2573</th>\n",
       "      <td>400</td>\n",
       "      <td>12</td>\n",
       "      <td>0</td>\n",
       "      <td>10</td>\n",
       "      <td>313</td>\n",
       "      <td>26</td>\n",
       "      <td>412</td>\n",
       "      <td>349</td>\n",
       "      <td>97.1</td>\n",
       "      <td>0.0</td>\n",
       "      <td>2.9</td>\n",
       "      <td>2.9</td>\n",
       "      <td>89.7</td>\n",
       "      <td>7.4</td>\n",
       "    </tr>\n",
       "    <tr>\n",
       "      <th>1566</th>\n",
       "      <td>2135</td>\n",
       "      <td>48</td>\n",
       "      <td>17</td>\n",
       "      <td>32</td>\n",
       "      <td>1799</td>\n",
       "      <td>4</td>\n",
       "      <td>2200</td>\n",
       "      <td>1835</td>\n",
       "      <td>97.0</td>\n",
       "      <td>0.8</td>\n",
       "      <td>2.2</td>\n",
       "      <td>1.7</td>\n",
       "      <td>98.0</td>\n",
       "      <td>0.2</td>\n",
       "    </tr>\n",
       "    <tr>\n",
       "      <th>2355</th>\n",
       "      <td>508</td>\n",
       "      <td>11</td>\n",
       "      <td>5</td>\n",
       "      <td>16</td>\n",
       "      <td>333</td>\n",
       "      <td>7</td>\n",
       "      <td>524</td>\n",
       "      <td>356</td>\n",
       "      <td>96.9</td>\n",
       "      <td>1.0</td>\n",
       "      <td>2.1</td>\n",
       "      <td>4.5</td>\n",
       "      <td>93.5</td>\n",
       "      <td>2.0</td>\n",
       "    </tr>\n",
       "    <tr>\n",
       "      <th>522</th>\n",
       "      <td>1753</td>\n",
       "      <td>53</td>\n",
       "      <td>13</td>\n",
       "      <td>95</td>\n",
       "      <td>1302</td>\n",
       "      <td>36</td>\n",
       "      <td>1819</td>\n",
       "      <td>1433</td>\n",
       "      <td>96.4</td>\n",
       "      <td>0.7</td>\n",
       "      <td>2.9</td>\n",
       "      <td>6.6</td>\n",
       "      <td>90.9</td>\n",
       "      <td>2.5</td>\n",
       "    </tr>\n",
       "    <tr>\n",
       "      <th>2493</th>\n",
       "      <td>52</td>\n",
       "      <td>1</td>\n",
       "      <td>1</td>\n",
       "      <td>1</td>\n",
       "      <td>35</td>\n",
       "      <td>0</td>\n",
       "      <td>54</td>\n",
       "      <td>36</td>\n",
       "      <td>96.3</td>\n",
       "      <td>1.9</td>\n",
       "      <td>1.9</td>\n",
       "      <td>2.8</td>\n",
       "      <td>97.2</td>\n",
       "      <td>0.0</td>\n",
       "    </tr>\n",
       "    <tr>\n",
       "      <th>2338</th>\n",
       "      <td>26</td>\n",
       "      <td>0</td>\n",
       "      <td>1</td>\n",
       "      <td>8</td>\n",
       "      <td>13</td>\n",
       "      <td>0</td>\n",
       "      <td>27</td>\n",
       "      <td>21</td>\n",
       "      <td>96.3</td>\n",
       "      <td>3.7</td>\n",
       "      <td>0.0</td>\n",
       "      <td>38.1</td>\n",
       "      <td>61.9</td>\n",
       "      <td>0.0</td>\n",
       "    </tr>\n",
       "    <tr>\n",
       "      <th>379</th>\n",
       "      <td>2172</td>\n",
       "      <td>56</td>\n",
       "      <td>31</td>\n",
       "      <td>62</td>\n",
       "      <td>1488</td>\n",
       "      <td>124</td>\n",
       "      <td>2259</td>\n",
       "      <td>1674</td>\n",
       "      <td>96.1</td>\n",
       "      <td>1.4</td>\n",
       "      <td>2.5</td>\n",
       "      <td>3.7</td>\n",
       "      <td>88.9</td>\n",
       "      <td>7.4</td>\n",
       "    </tr>\n",
       "    <tr>\n",
       "      <th>1927</th>\n",
       "      <td>2317</td>\n",
       "      <td>58</td>\n",
       "      <td>38</td>\n",
       "      <td>36</td>\n",
       "      <td>1869</td>\n",
       "      <td>55</td>\n",
       "      <td>2413</td>\n",
       "      <td>1960</td>\n",
       "      <td>96.0</td>\n",
       "      <td>1.6</td>\n",
       "      <td>2.4</td>\n",
       "      <td>1.8</td>\n",
       "      <td>95.4</td>\n",
       "      <td>2.8</td>\n",
       "    </tr>\n",
       "    <tr>\n",
       "      <th>723</th>\n",
       "      <td>1203</td>\n",
       "      <td>26</td>\n",
       "      <td>25</td>\n",
       "      <td>26</td>\n",
       "      <td>902</td>\n",
       "      <td>8</td>\n",
       "      <td>1254</td>\n",
       "      <td>936</td>\n",
       "      <td>95.9</td>\n",
       "      <td>2.0</td>\n",
       "      <td>2.1</td>\n",
       "      <td>2.8</td>\n",
       "      <td>96.4</td>\n",
       "      <td>0.9</td>\n",
       "    </tr>\n",
       "    <tr>\n",
       "      <th>1040</th>\n",
       "      <td>1695</td>\n",
       "      <td>22</td>\n",
       "      <td>53</td>\n",
       "      <td>3</td>\n",
       "      <td>1030</td>\n",
       "      <td>25</td>\n",
       "      <td>1770</td>\n",
       "      <td>1058</td>\n",
       "      <td>95.8</td>\n",
       "      <td>3.0</td>\n",
       "      <td>1.2</td>\n",
       "      <td>0.3</td>\n",
       "      <td>97.4</td>\n",
       "      <td>2.4</td>\n",
       "    </tr>\n",
       "    <tr>\n",
       "      <th>2472</th>\n",
       "      <td>22</td>\n",
       "      <td>1</td>\n",
       "      <td>0</td>\n",
       "      <td>0</td>\n",
       "      <td>20</td>\n",
       "      <td>0</td>\n",
       "      <td>23</td>\n",
       "      <td>20</td>\n",
       "      <td>95.7</td>\n",
       "      <td>0.0</td>\n",
       "      <td>4.3</td>\n",
       "      <td>0.0</td>\n",
       "      <td>100.0</td>\n",
       "      <td>0.0</td>\n",
       "    </tr>\n",
       "    <tr>\n",
       "      <th>1133</th>\n",
       "      <td>2505</td>\n",
       "      <td>107</td>\n",
       "      <td>13</td>\n",
       "      <td>58</td>\n",
       "      <td>2038</td>\n",
       "      <td>81</td>\n",
       "      <td>2625</td>\n",
       "      <td>2177</td>\n",
       "      <td>95.4</td>\n",
       "      <td>0.5</td>\n",
       "      <td>4.1</td>\n",
       "      <td>2.7</td>\n",
       "      <td>93.6</td>\n",
       "      <td>3.7</td>\n",
       "    </tr>\n",
       "    <tr>\n",
       "      <th>1617</th>\n",
       "      <td>1721</td>\n",
       "      <td>54</td>\n",
       "      <td>31</td>\n",
       "      <td>8</td>\n",
       "      <td>1245</td>\n",
       "      <td>28</td>\n",
       "      <td>1806</td>\n",
       "      <td>1281</td>\n",
       "      <td>95.3</td>\n",
       "      <td>1.7</td>\n",
       "      <td>3.0</td>\n",
       "      <td>0.6</td>\n",
       "      <td>97.2</td>\n",
       "      <td>2.2</td>\n",
       "    </tr>\n",
       "    <tr>\n",
       "      <th>2029</th>\n",
       "      <td>40</td>\n",
       "      <td>2</td>\n",
       "      <td>0</td>\n",
       "      <td>3</td>\n",
       "      <td>32</td>\n",
       "      <td>0</td>\n",
       "      <td>42</td>\n",
       "      <td>35</td>\n",
       "      <td>95.2</td>\n",
       "      <td>0.0</td>\n",
       "      <td>4.8</td>\n",
       "      <td>8.6</td>\n",
       "      <td>91.4</td>\n",
       "      <td>0.0</td>\n",
       "    </tr>\n",
       "  </tbody>\n",
       "</table>\n",
       "</div>"
      ],
      "text/plain": [
       "          ADJUSTED_ONTIME_COUNT  ADJUSTED_LATE_COUNT  ADJUSTED_EARLY_COUNT  \\\n",
       "OPERATOR                                                                     \n",
       "2294                         45                    0                     0   \n",
       "1762                       2294                   23                    16   \n",
       "1597                        252                    6                     0   \n",
       "1706                         43                    0                     1   \n",
       "2639                        202                    2                     3   \n",
       "409                        2310                   61                     9   \n",
       "2573                        400                   12                     0   \n",
       "1566                       2135                   48                    17   \n",
       "2355                        508                   11                     5   \n",
       "522                        1753                   53                    13   \n",
       "2493                         52                    1                     1   \n",
       "2338                         26                    0                     1   \n",
       "379                        2172                   56                    31   \n",
       "1927                       2317                   58                    38   \n",
       "723                        1203                   26                    25   \n",
       "1040                       1695                   22                    53   \n",
       "2472                         22                    1                     0   \n",
       "1133                       2505                  107                    13   \n",
       "1617                       1721                   54                    31   \n",
       "2029                         40                    2                     0   \n",
       "\n",
       "          HDWY_BUNCHING  HDWY_ACCEPTABLE  HDWY_GAPPING  ADH_TOTALS  \\\n",
       "OPERATOR                                                             \n",
       "2294                  0               28             0          45   \n",
       "1762                103             1420            30        2333   \n",
       "1597                  1              150             1         258   \n",
       "1706                  5               32             0          44   \n",
       "2639                  3              117             0         207   \n",
       "409                  25             1657            33        2380   \n",
       "2573                 10              313            26         412   \n",
       "1566                 32             1799             4        2200   \n",
       "2355                 16              333             7         524   \n",
       "522                  95             1302            36        1819   \n",
       "2493                  1               35             0          54   \n",
       "2338                  8               13             0          27   \n",
       "379                  62             1488           124        2259   \n",
       "1927                 36             1869            55        2413   \n",
       "723                  26              902             8        1254   \n",
       "1040                  3             1030            25        1770   \n",
       "2472                  0               20             0          23   \n",
       "1133                 58             2038            81        2625   \n",
       "1617                  8             1245            28        1806   \n",
       "2029                  3               32             0          42   \n",
       "\n",
       "          HDWY_TOTALS  ONTIME_PCT  EARLY_PCT  LATE_PCT  BUNCHING_PCT  \\\n",
       "OPERATOR                                                               \n",
       "2294               28       100.0        0.0       0.0           0.0   \n",
       "1762             1553        98.3        0.7       1.0           6.6   \n",
       "1597              152        97.7        0.0       2.3           0.7   \n",
       "1706               37        97.7        2.3       0.0          13.5   \n",
       "2639              120        97.6        1.4       1.0           2.5   \n",
       "409              1715        97.1        0.4       2.6           1.5   \n",
       "2573              349        97.1        0.0       2.9           2.9   \n",
       "1566             1835        97.0        0.8       2.2           1.7   \n",
       "2355              356        96.9        1.0       2.1           4.5   \n",
       "522              1433        96.4        0.7       2.9           6.6   \n",
       "2493               36        96.3        1.9       1.9           2.8   \n",
       "2338               21        96.3        3.7       0.0          38.1   \n",
       "379              1674        96.1        1.4       2.5           3.7   \n",
       "1927             1960        96.0        1.6       2.4           1.8   \n",
       "723               936        95.9        2.0       2.1           2.8   \n",
       "1040             1058        95.8        3.0       1.2           0.3   \n",
       "2472               20        95.7        0.0       4.3           0.0   \n",
       "1133             2177        95.4        0.5       4.1           2.7   \n",
       "1617             1281        95.3        1.7       3.0           0.6   \n",
       "2029               35        95.2        0.0       4.8           8.6   \n",
       "\n",
       "          ACCEPTABLE_PCT  GAPPING_PCT  \n",
       "OPERATOR                               \n",
       "2294               100.0          0.0  \n",
       "1762                91.4          1.9  \n",
       "1597                98.7          0.7  \n",
       "1706                86.5          0.0  \n",
       "2639                97.5          0.0  \n",
       "409                 96.6          1.9  \n",
       "2573                89.7          7.4  \n",
       "1566                98.0          0.2  \n",
       "2355                93.5          2.0  \n",
       "522                 90.9          2.5  \n",
       "2493                97.2          0.0  \n",
       "2338                61.9          0.0  \n",
       "379                 88.9          7.4  \n",
       "1927                95.4          2.8  \n",
       "723                 96.4          0.9  \n",
       "1040                97.4          2.4  \n",
       "2472               100.0          0.0  \n",
       "1133                93.6          3.7  \n",
       "1617                97.2          2.2  \n",
       "2029                91.4          0.0  "
      ]
     },
     "execution_count": 166,
     "metadata": {},
     "output_type": "execute_result"
    }
   ],
   "source": [
    "(\n",
    "    operator_totals\n",
    "            .loc[operator_totals['ADH_TOTALS'] > 5]\n",
    "            .nlargest(20, columns=['ONTIME_PCT', 'ADH_TOTALS'])\n",
    ")"
   ]
  },
  {
   "cell_type": "code",
   "execution_count": 165,
   "id": "962b6c67",
   "metadata": {
    "scrolled": false
   },
   "outputs": [
    {
     "data": {
      "text/html": [
       "<div>\n",
       "<style scoped>\n",
       "    .dataframe tbody tr th:only-of-type {\n",
       "        vertical-align: middle;\n",
       "    }\n",
       "\n",
       "    .dataframe tbody tr th {\n",
       "        vertical-align: top;\n",
       "    }\n",
       "\n",
       "    .dataframe thead th {\n",
       "        text-align: right;\n",
       "    }\n",
       "</style>\n",
       "<table border=\"1\" class=\"dataframe\">\n",
       "  <thead>\n",
       "    <tr style=\"text-align: right;\">\n",
       "      <th></th>\n",
       "      <th>ADJUSTED_ONTIME_COUNT</th>\n",
       "      <th>ADJUSTED_LATE_COUNT</th>\n",
       "      <th>ADJUSTED_EARLY_COUNT</th>\n",
       "      <th>HDWY_BUNCHING</th>\n",
       "      <th>HDWY_ACCEPTABLE</th>\n",
       "      <th>HDWY_GAPPING</th>\n",
       "      <th>ADH_TOTALS</th>\n",
       "      <th>HDWY_TOTALS</th>\n",
       "      <th>ONTIME_PCT</th>\n",
       "      <th>EARLY_PCT</th>\n",
       "      <th>LATE_PCT</th>\n",
       "      <th>BUNCHING_PCT</th>\n",
       "      <th>ACCEPTABLE_PCT</th>\n",
       "      <th>GAPPING_PCT</th>\n",
       "    </tr>\n",
       "    <tr>\n",
       "      <th>OPERATOR</th>\n",
       "      <th></th>\n",
       "      <th></th>\n",
       "      <th></th>\n",
       "      <th></th>\n",
       "      <th></th>\n",
       "      <th></th>\n",
       "      <th></th>\n",
       "      <th></th>\n",
       "      <th></th>\n",
       "      <th></th>\n",
       "      <th></th>\n",
       "      <th></th>\n",
       "      <th></th>\n",
       "      <th></th>\n",
       "    </tr>\n",
       "  </thead>\n",
       "  <tbody>\n",
       "    <tr>\n",
       "      <th>2294</th>\n",
       "      <td>45</td>\n",
       "      <td>0</td>\n",
       "      <td>0</td>\n",
       "      <td>0</td>\n",
       "      <td>28</td>\n",
       "      <td>0</td>\n",
       "      <td>45</td>\n",
       "      <td>28</td>\n",
       "      <td>100.0</td>\n",
       "      <td>0.0</td>\n",
       "      <td>0.0</td>\n",
       "      <td>0.0</td>\n",
       "      <td>100.0</td>\n",
       "      <td>0.0</td>\n",
       "    </tr>\n",
       "    <tr>\n",
       "      <th>2494</th>\n",
       "      <td>31</td>\n",
       "      <td>7</td>\n",
       "      <td>1</td>\n",
       "      <td>0</td>\n",
       "      <td>28</td>\n",
       "      <td>0</td>\n",
       "      <td>39</td>\n",
       "      <td>28</td>\n",
       "      <td>79.5</td>\n",
       "      <td>2.6</td>\n",
       "      <td>17.9</td>\n",
       "      <td>0.0</td>\n",
       "      <td>100.0</td>\n",
       "      <td>0.0</td>\n",
       "    </tr>\n",
       "    <tr>\n",
       "      <th>2472</th>\n",
       "      <td>22</td>\n",
       "      <td>1</td>\n",
       "      <td>0</td>\n",
       "      <td>0</td>\n",
       "      <td>20</td>\n",
       "      <td>0</td>\n",
       "      <td>23</td>\n",
       "      <td>20</td>\n",
       "      <td>95.7</td>\n",
       "      <td>0.0</td>\n",
       "      <td>4.3</td>\n",
       "      <td>0.0</td>\n",
       "      <td>100.0</td>\n",
       "      <td>0.0</td>\n",
       "    </tr>\n",
       "    <tr>\n",
       "      <th>3118</th>\n",
       "      <td>14</td>\n",
       "      <td>6</td>\n",
       "      <td>4</td>\n",
       "      <td>0</td>\n",
       "      <td>20</td>\n",
       "      <td>0</td>\n",
       "      <td>24</td>\n",
       "      <td>20</td>\n",
       "      <td>58.3</td>\n",
       "      <td>16.7</td>\n",
       "      <td>25.0</td>\n",
       "      <td>0.0</td>\n",
       "      <td>100.0</td>\n",
       "      <td>0.0</td>\n",
       "    </tr>\n",
       "    <tr>\n",
       "      <th>3077</th>\n",
       "      <td>7</td>\n",
       "      <td>5</td>\n",
       "      <td>0</td>\n",
       "      <td>0</td>\n",
       "      <td>10</td>\n",
       "      <td>0</td>\n",
       "      <td>12</td>\n",
       "      <td>10</td>\n",
       "      <td>58.3</td>\n",
       "      <td>0.0</td>\n",
       "      <td>41.7</td>\n",
       "      <td>0.0</td>\n",
       "      <td>100.0</td>\n",
       "      <td>0.0</td>\n",
       "    </tr>\n",
       "    <tr>\n",
       "      <th>2313</th>\n",
       "      <td>9</td>\n",
       "      <td>1</td>\n",
       "      <td>0</td>\n",
       "      <td>0</td>\n",
       "      <td>8</td>\n",
       "      <td>0</td>\n",
       "      <td>10</td>\n",
       "      <td>8</td>\n",
       "      <td>90.0</td>\n",
       "      <td>0.0</td>\n",
       "      <td>10.0</td>\n",
       "      <td>0.0</td>\n",
       "      <td>100.0</td>\n",
       "      <td>0.0</td>\n",
       "    </tr>\n",
       "    <tr>\n",
       "      <th>2377</th>\n",
       "      <td>9</td>\n",
       "      <td>1</td>\n",
       "      <td>0</td>\n",
       "      <td>0</td>\n",
       "      <td>7</td>\n",
       "      <td>0</td>\n",
       "      <td>10</td>\n",
       "      <td>7</td>\n",
       "      <td>90.0</td>\n",
       "      <td>0.0</td>\n",
       "      <td>10.0</td>\n",
       "      <td>0.0</td>\n",
       "      <td>100.0</td>\n",
       "      <td>0.0</td>\n",
       "    </tr>\n",
       "    <tr>\n",
       "      <th>1597</th>\n",
       "      <td>252</td>\n",
       "      <td>6</td>\n",
       "      <td>0</td>\n",
       "      <td>1</td>\n",
       "      <td>150</td>\n",
       "      <td>1</td>\n",
       "      <td>258</td>\n",
       "      <td>152</td>\n",
       "      <td>97.7</td>\n",
       "      <td>0.0</td>\n",
       "      <td>2.3</td>\n",
       "      <td>0.7</td>\n",
       "      <td>98.7</td>\n",
       "      <td>0.7</td>\n",
       "    </tr>\n",
       "    <tr>\n",
       "      <th>1566</th>\n",
       "      <td>2135</td>\n",
       "      <td>48</td>\n",
       "      <td>17</td>\n",
       "      <td>32</td>\n",
       "      <td>1799</td>\n",
       "      <td>4</td>\n",
       "      <td>2200</td>\n",
       "      <td>1835</td>\n",
       "      <td>97.0</td>\n",
       "      <td>0.8</td>\n",
       "      <td>2.2</td>\n",
       "      <td>1.7</td>\n",
       "      <td>98.0</td>\n",
       "      <td>0.2</td>\n",
       "    </tr>\n",
       "    <tr>\n",
       "      <th>1078</th>\n",
       "      <td>249</td>\n",
       "      <td>45</td>\n",
       "      <td>0</td>\n",
       "      <td>0</td>\n",
       "      <td>240</td>\n",
       "      <td>5</td>\n",
       "      <td>294</td>\n",
       "      <td>245</td>\n",
       "      <td>84.7</td>\n",
       "      <td>0.0</td>\n",
       "      <td>15.3</td>\n",
       "      <td>0.0</td>\n",
       "      <td>98.0</td>\n",
       "      <td>2.0</td>\n",
       "    </tr>\n",
       "    <tr>\n",
       "      <th>1845</th>\n",
       "      <td>37</td>\n",
       "      <td>17</td>\n",
       "      <td>0</td>\n",
       "      <td>0</td>\n",
       "      <td>44</td>\n",
       "      <td>1</td>\n",
       "      <td>54</td>\n",
       "      <td>45</td>\n",
       "      <td>68.5</td>\n",
       "      <td>0.0</td>\n",
       "      <td>31.5</td>\n",
       "      <td>0.0</td>\n",
       "      <td>97.8</td>\n",
       "      <td>2.2</td>\n",
       "    </tr>\n",
       "    <tr>\n",
       "      <th>341</th>\n",
       "      <td>1014</td>\n",
       "      <td>109</td>\n",
       "      <td>50</td>\n",
       "      <td>11</td>\n",
       "      <td>850</td>\n",
       "      <td>9</td>\n",
       "      <td>1173</td>\n",
       "      <td>870</td>\n",
       "      <td>86.4</td>\n",
       "      <td>4.3</td>\n",
       "      <td>9.3</td>\n",
       "      <td>1.3</td>\n",
       "      <td>97.7</td>\n",
       "      <td>1.0</td>\n",
       "    </tr>\n",
       "    <tr>\n",
       "      <th>2178</th>\n",
       "      <td>93</td>\n",
       "      <td>9</td>\n",
       "      <td>2</td>\n",
       "      <td>1</td>\n",
       "      <td>85</td>\n",
       "      <td>1</td>\n",
       "      <td>104</td>\n",
       "      <td>87</td>\n",
       "      <td>89.4</td>\n",
       "      <td>1.9</td>\n",
       "      <td>8.7</td>\n",
       "      <td>1.1</td>\n",
       "      <td>97.7</td>\n",
       "      <td>1.1</td>\n",
       "    </tr>\n",
       "    <tr>\n",
       "      <th>2440</th>\n",
       "      <td>769</td>\n",
       "      <td>148</td>\n",
       "      <td>36</td>\n",
       "      <td>5</td>\n",
       "      <td>775</td>\n",
       "      <td>14</td>\n",
       "      <td>953</td>\n",
       "      <td>794</td>\n",
       "      <td>80.7</td>\n",
       "      <td>3.8</td>\n",
       "      <td>15.5</td>\n",
       "      <td>0.6</td>\n",
       "      <td>97.6</td>\n",
       "      <td>1.8</td>\n",
       "    </tr>\n",
       "    <tr>\n",
       "      <th>3027</th>\n",
       "      <td>261</td>\n",
       "      <td>28</td>\n",
       "      <td>15</td>\n",
       "      <td>5</td>\n",
       "      <td>246</td>\n",
       "      <td>1</td>\n",
       "      <td>304</td>\n",
       "      <td>252</td>\n",
       "      <td>85.9</td>\n",
       "      <td>4.9</td>\n",
       "      <td>9.2</td>\n",
       "      <td>2.0</td>\n",
       "      <td>97.6</td>\n",
       "      <td>0.4</td>\n",
       "    </tr>\n",
       "    <tr>\n",
       "      <th>2639</th>\n",
       "      <td>202</td>\n",
       "      <td>2</td>\n",
       "      <td>3</td>\n",
       "      <td>3</td>\n",
       "      <td>117</td>\n",
       "      <td>0</td>\n",
       "      <td>207</td>\n",
       "      <td>120</td>\n",
       "      <td>97.6</td>\n",
       "      <td>1.4</td>\n",
       "      <td>1.0</td>\n",
       "      <td>2.5</td>\n",
       "      <td>97.5</td>\n",
       "      <td>0.0</td>\n",
       "    </tr>\n",
       "    <tr>\n",
       "      <th>1040</th>\n",
       "      <td>1695</td>\n",
       "      <td>22</td>\n",
       "      <td>53</td>\n",
       "      <td>3</td>\n",
       "      <td>1030</td>\n",
       "      <td>25</td>\n",
       "      <td>1770</td>\n",
       "      <td>1058</td>\n",
       "      <td>95.8</td>\n",
       "      <td>3.0</td>\n",
       "      <td>1.2</td>\n",
       "      <td>0.3</td>\n",
       "      <td>97.4</td>\n",
       "      <td>2.4</td>\n",
       "    </tr>\n",
       "    <tr>\n",
       "      <th>1617</th>\n",
       "      <td>1721</td>\n",
       "      <td>54</td>\n",
       "      <td>31</td>\n",
       "      <td>8</td>\n",
       "      <td>1245</td>\n",
       "      <td>28</td>\n",
       "      <td>1806</td>\n",
       "      <td>1281</td>\n",
       "      <td>95.3</td>\n",
       "      <td>1.7</td>\n",
       "      <td>3.0</td>\n",
       "      <td>0.6</td>\n",
       "      <td>97.2</td>\n",
       "      <td>2.2</td>\n",
       "    </tr>\n",
       "    <tr>\n",
       "      <th>2493</th>\n",
       "      <td>52</td>\n",
       "      <td>1</td>\n",
       "      <td>1</td>\n",
       "      <td>1</td>\n",
       "      <td>35</td>\n",
       "      <td>0</td>\n",
       "      <td>54</td>\n",
       "      <td>36</td>\n",
       "      <td>96.3</td>\n",
       "      <td>1.9</td>\n",
       "      <td>1.9</td>\n",
       "      <td>2.8</td>\n",
       "      <td>97.2</td>\n",
       "      <td>0.0</td>\n",
       "    </tr>\n",
       "    <tr>\n",
       "      <th>3134</th>\n",
       "      <td>29</td>\n",
       "      <td>11</td>\n",
       "      <td>4</td>\n",
       "      <td>1</td>\n",
       "      <td>31</td>\n",
       "      <td>0</td>\n",
       "      <td>44</td>\n",
       "      <td>32</td>\n",
       "      <td>65.9</td>\n",
       "      <td>9.1</td>\n",
       "      <td>25.0</td>\n",
       "      <td>3.1</td>\n",
       "      <td>96.9</td>\n",
       "      <td>0.0</td>\n",
       "    </tr>\n",
       "  </tbody>\n",
       "</table>\n",
       "</div>"
      ],
      "text/plain": [
       "          ADJUSTED_ONTIME_COUNT  ADJUSTED_LATE_COUNT  ADJUSTED_EARLY_COUNT  \\\n",
       "OPERATOR                                                                     \n",
       "2294                         45                    0                     0   \n",
       "2494                         31                    7                     1   \n",
       "2472                         22                    1                     0   \n",
       "3118                         14                    6                     4   \n",
       "3077                          7                    5                     0   \n",
       "2313                          9                    1                     0   \n",
       "2377                          9                    1                     0   \n",
       "1597                        252                    6                     0   \n",
       "1566                       2135                   48                    17   \n",
       "1078                        249                   45                     0   \n",
       "1845                         37                   17                     0   \n",
       "341                        1014                  109                    50   \n",
       "2178                         93                    9                     2   \n",
       "2440                        769                  148                    36   \n",
       "3027                        261                   28                    15   \n",
       "2639                        202                    2                     3   \n",
       "1040                       1695                   22                    53   \n",
       "1617                       1721                   54                    31   \n",
       "2493                         52                    1                     1   \n",
       "3134                         29                   11                     4   \n",
       "\n",
       "          HDWY_BUNCHING  HDWY_ACCEPTABLE  HDWY_GAPPING  ADH_TOTALS  \\\n",
       "OPERATOR                                                             \n",
       "2294                  0               28             0          45   \n",
       "2494                  0               28             0          39   \n",
       "2472                  0               20             0          23   \n",
       "3118                  0               20             0          24   \n",
       "3077                  0               10             0          12   \n",
       "2313                  0                8             0          10   \n",
       "2377                  0                7             0          10   \n",
       "1597                  1              150             1         258   \n",
       "1566                 32             1799             4        2200   \n",
       "1078                  0              240             5         294   \n",
       "1845                  0               44             1          54   \n",
       "341                  11              850             9        1173   \n",
       "2178                  1               85             1         104   \n",
       "2440                  5              775            14         953   \n",
       "3027                  5              246             1         304   \n",
       "2639                  3              117             0         207   \n",
       "1040                  3             1030            25        1770   \n",
       "1617                  8             1245            28        1806   \n",
       "2493                  1               35             0          54   \n",
       "3134                  1               31             0          44   \n",
       "\n",
       "          HDWY_TOTALS  ONTIME_PCT  EARLY_PCT  LATE_PCT  BUNCHING_PCT  \\\n",
       "OPERATOR                                                               \n",
       "2294               28       100.0        0.0       0.0           0.0   \n",
       "2494               28        79.5        2.6      17.9           0.0   \n",
       "2472               20        95.7        0.0       4.3           0.0   \n",
       "3118               20        58.3       16.7      25.0           0.0   \n",
       "3077               10        58.3        0.0      41.7           0.0   \n",
       "2313                8        90.0        0.0      10.0           0.0   \n",
       "2377                7        90.0        0.0      10.0           0.0   \n",
       "1597              152        97.7        0.0       2.3           0.7   \n",
       "1566             1835        97.0        0.8       2.2           1.7   \n",
       "1078              245        84.7        0.0      15.3           0.0   \n",
       "1845               45        68.5        0.0      31.5           0.0   \n",
       "341               870        86.4        4.3       9.3           1.3   \n",
       "2178               87        89.4        1.9       8.7           1.1   \n",
       "2440              794        80.7        3.8      15.5           0.6   \n",
       "3027              252        85.9        4.9       9.2           2.0   \n",
       "2639              120        97.6        1.4       1.0           2.5   \n",
       "1040             1058        95.8        3.0       1.2           0.3   \n",
       "1617             1281        95.3        1.7       3.0           0.6   \n",
       "2493               36        96.3        1.9       1.9           2.8   \n",
       "3134               32        65.9        9.1      25.0           3.1   \n",
       "\n",
       "          ACCEPTABLE_PCT  GAPPING_PCT  \n",
       "OPERATOR                               \n",
       "2294               100.0          0.0  \n",
       "2494               100.0          0.0  \n",
       "2472               100.0          0.0  \n",
       "3118               100.0          0.0  \n",
       "3077               100.0          0.0  \n",
       "2313               100.0          0.0  \n",
       "2377               100.0          0.0  \n",
       "1597                98.7          0.7  \n",
       "1566                98.0          0.2  \n",
       "1078                98.0          2.0  \n",
       "1845                97.8          2.2  \n",
       "341                 97.7          1.0  \n",
       "2178                97.7          1.1  \n",
       "2440                97.6          1.8  \n",
       "3027                97.6          0.4  \n",
       "2639                97.5          0.0  \n",
       "1040                97.4          2.4  \n",
       "1617                97.2          2.2  \n",
       "2493                97.2          0.0  \n",
       "3134                96.9          0.0  "
      ]
     },
     "execution_count": 165,
     "metadata": {},
     "output_type": "execute_result"
    }
   ],
   "source": [
    "(\n",
    "    operator_totals\n",
    "            .loc[operator_totals['HDWY_TOTALS'] > 5]\n",
    "            .nlargest(20, columns=['ACCEPTABLE_PCT', 'HDWY_TOTALS'])\n",
    ")"
   ]
  },
  {
   "cell_type": "code",
   "execution_count": null,
   "id": "516038da",
   "metadata": {},
   "outputs": [],
   "source": []
  }
 ],
 "metadata": {
  "kernelspec": {
   "display_name": "Python 3 (ipykernel)",
   "language": "python",
   "name": "python3"
  },
  "language_info": {
   "codemirror_mode": {
    "name": "ipython",
    "version": 3
   },
   "file_extension": ".py",
   "mimetype": "text/x-python",
   "name": "python",
   "nbconvert_exporter": "python",
   "pygments_lexer": "ipython3",
   "version": "3.11.7"
  }
 },
 "nbformat": 4,
 "nbformat_minor": 5
}
