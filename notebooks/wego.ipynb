{
 "cells": [
  {
   "cell_type": "code",
   "execution_count": 1,
   "id": "48f9bf70",
   "metadata": {},
   "outputs": [],
   "source": [
    "#import definitions\n",
    "import pandas as pd\n",
    "import numpy as np\n",
    "import matplotlib.pyplot as plt\n",
    "import datetime as dt"
   ]
  },
  {
   "cell_type": "code",
   "execution_count": 2,
   "id": "d22f1692",
   "metadata": {
    "scrolled": false
   },
   "outputs": [],
   "source": [
    "#read in data\n",
    "wego = pd.read_csv(\"../data/Headway Data, 8-1-2023 to 9-30-2023.csv\")"
   ]
  },
  {
   "cell_type": "code",
   "execution_count": 3,
   "id": "71cde88e",
   "metadata": {},
   "outputs": [],
   "source": [
    "#define rgb colors for charts\n",
    "purple = 0.459, 0.235, 0.745\n",
    "gray = 0.827, 0.827, 0.827\n",
    "black = 0.137, 0.122, 0.125"
   ]
  },
  {
   "cell_type": "code",
   "execution_count": 4,
   "id": "fab801f7",
   "metadata": {},
   "outputs": [],
   "source": [
    "##various explores\n",
    "#preview data\n",
    "#wego.head()\n",
    "#wego.info(verbose=True)"
   ]
  },
  {
   "cell_type": "markdown",
   "id": "7f9bcfa9",
   "metadata": {},
   "source": [
    "#### Cleaning & Derived Columns:"
   ]
  },
  {
   "cell_type": "code",
   "execution_count": 5,
   "id": "752a8d77",
   "metadata": {},
   "outputs": [],
   "source": [
    "#drop rows with missing arrival or departure times\n",
    "wego = wego.loc[(wego['ADJUSTED_ONTIME_COUNT'] == 1)\n",
    "        |\n",
    "        (wego['ADJUSTED_EARLY_COUNT'] == 1)\n",
    "        |\n",
    "        (wego['ADJUSTED_LATE_COUNT'] == 1)]"
   ]
  },
  {
   "cell_type": "code",
   "execution_count": 6,
   "id": "a54e1773",
   "metadata": {},
   "outputs": [],
   "source": [
    "# Calculate HDWY Deviation Percentage\n",
    "def get_dev_pct(row):\n",
    "    '''Takes a row as input, returns a perfencate value. \n",
    "    Calculate the headway deviation percentage taking into\n",
    "    consideration the possibility of SCHEDULED_HDWY being 0'''\n",
    "    if row['SCHEDULED_HDWY'] != 0:\n",
    "        return (row['HDWY_DEV']) / row['SCHEDULED_HDWY'] * 100\n",
    "    else:\n",
    "        return np.NaN\n",
    "\n",
    "# create headway deviation percentage column\n",
    "wego['HDWY_DEV_PCT'] = wego.apply(lambda r: get_dev_pct(r), axis=1)"
   ]
  },
  {
   "cell_type": "code",
   "execution_count": 7,
   "id": "877957e8",
   "metadata": {},
   "outputs": [],
   "source": [
    "#establish columns for gapping, bunching, and acceptable headway values\n",
    "wego['HDWY_GAPPING'] = 0\n",
    "wego['HDWY_ACCEPTABLE'] = 0\n",
    "wego['HDWY_BUNCHING'] = 0"
   ]
  },
  {
   "cell_type": "code",
   "execution_count": 8,
   "id": "9ce08a91",
   "metadata": {},
   "outputs": [],
   "source": [
    "#establish functions for populating headway columns\n",
    "#Note that you can calculate headway deviation percentage as HDWY_DEV/SCHEDULED_HDWY. \n",
    "#The generally accepted range of headway deviation is 50% to 150% of the scheduled headway \n",
    "#so if scheduled headway is 10 minutes, a headway deviation of up to 5 minutes would be acceptable (but not ideal).\n",
    "\n",
    "def hdw_gapping(pct):\n",
    "    if (pct > 0) & (abs(pct) > 50):\n",
    "        return int(1)\n",
    "    else:\n",
    "        return int(0)\n",
    "    \n",
    "def hdw_acceptable(pct):\n",
    "    if abs(pct) <= 50:\n",
    "        return int(1)\n",
    "    else:\n",
    "        return int(0)\n",
    "    \n",
    "def hdw_bunching(pct):\n",
    "    if (pct < 0) & (abs(pct) > 50):\n",
    "        return int(1)\n",
    "    else:\n",
    "        return int(0)"
   ]
  },
  {
   "cell_type": "code",
   "execution_count": 9,
   "id": "57ee3402",
   "metadata": {},
   "outputs": [],
   "source": [
    "#execute functions and apply 0/1 values to columns\n",
    "wego['HDWY_BUNCHING'] = wego['HDWY_DEV_PCT'].apply(hdw_bunching)\n",
    "wego['HDWY_ACCEPTABLE'] = wego['HDWY_DEV_PCT'].apply(hdw_acceptable)\n",
    "wego['HDWY_GAPPING'] = wego['HDWY_DEV_PCT'].apply(hdw_gapping)"
   ]
  },
  {
   "cell_type": "code",
   "execution_count": 10,
   "id": "b888b987",
   "metadata": {},
   "outputs": [],
   "source": [
    "# #inspect new columns\n",
    "#print(wego.HDWY_GAPPING.sum())\n",
    "#print(wego.HDWY_ACCEPTABLE.sum())\n",
    "#print(wego.HDWY_BUNCHING.sum())"
   ]
  },
  {
   "cell_type": "code",
   "execution_count": 11,
   "id": "a6f863b4",
   "metadata": {},
   "outputs": [],
   "source": [
    "#create a unique identifier\n",
    "wego['DATE_TRIP'] = wego.apply(lambda row: str(row['CALENDAR_ID']) + '-' + str(row['TRIP_ID']), axis=1)"
   ]
  },
  {
   "cell_type": "code",
   "execution_count": 12,
   "id": "6e2f5fcc",
   "metadata": {
    "scrolled": true
   },
   "outputs": [
    {
     "name": "stdout",
     "output_type": "stream",
     "text": [
      "Number of distinct trips: 66450\n"
     ]
    }
   ],
   "source": [
    "print('Number of distinct trips: ' + str(wego.DATE_TRIP.nunique()))"
   ]
  },
  {
   "cell_type": "markdown",
   "id": "99ffe558",
   "metadata": {},
   "source": [
    "#### About our data"
   ]
  },
  {
   "cell_type": "code",
   "execution_count": 13,
   "id": "f5a1bbf5",
   "metadata": {},
   "outputs": [
    {
     "data": {
      "text/plain": [
       "Index(['CALENDAR_ID', 'SERVICE_ABBR', 'ADHERENCE_ID', 'DATE', 'ROUTE_ABBR',\n",
       "       'BLOCK_ABBR', 'OPERATOR', 'TRIP_ID', 'OVERLOAD_ID',\n",
       "       'ROUTE_DIRECTION_NAME', 'TIME_POINT_ABBR', 'ROUTE_STOP_SEQUENCE',\n",
       "       'TRIP_EDGE', 'LATITUDE', 'LONGITUDE', 'SCHEDULED_TIME',\n",
       "       'ACTUAL_ARRIVAL_TIME', 'ACTUAL_DEPARTURE_TIME', 'ADHERENCE',\n",
       "       'SCHEDULED_HDWY', 'ACTUAL_HDWY', 'HDWY_DEV', 'ADJUSTED_EARLY_COUNT',\n",
       "       'ADJUSTED_LATE_COUNT', 'ADJUSTED_ONTIME_COUNT', 'STOP_CANCELLED',\n",
       "       'PREV_SCHED_STOP_CANCELLED', 'IS_RELIEF', 'DWELL_IN_MINS',\n",
       "       'SCHEDULED_LAYOVER_MINUTES', 'HDWY_DEV_PCT', 'HDWY_GAPPING',\n",
       "       'HDWY_ACCEPTABLE', 'HDWY_BUNCHING', 'DATE_TRIP'],\n",
       "      dtype='object')"
      ]
     },
     "execution_count": 13,
     "metadata": {},
     "output_type": "execute_result"
    }
   ],
   "source": [
    "wego.columns"
   ]
  },
  {
   "cell_type": "code",
   "execution_count": 14,
   "id": "40aff894",
   "metadata": {},
   "outputs": [
    {
     "data": {
      "text/plain": [
       "'8/1/2023'"
      ]
     },
     "execution_count": 14,
     "metadata": {},
     "output_type": "execute_result"
    }
   ],
   "source": [
    "# date range start\n",
    "wego.DATE.min()"
   ]
  },
  {
   "cell_type": "code",
   "execution_count": 15,
   "id": "faa4b7ae",
   "metadata": {},
   "outputs": [
    {
     "data": {
      "text/plain": [
       "'9/9/2023'"
      ]
     },
     "execution_count": 15,
     "metadata": {},
     "output_type": "execute_result"
    }
   ],
   "source": [
    "#date range end\n",
    "wego.DATE.max()"
   ]
  },
  {
   "cell_type": "code",
   "execution_count": 16,
   "id": "60f51d8f",
   "metadata": {},
   "outputs": [
    {
     "data": {
      "text/plain": [
       "8"
      ]
     },
     "execution_count": 16,
     "metadata": {},
     "output_type": "execute_result"
    }
   ],
   "source": [
    "#number of routes\n",
    "wego.ROUTE_ABBR.nunique()"
   ]
  },
  {
   "cell_type": "code",
   "execution_count": 17,
   "id": "6f69c7d6",
   "metadata": {},
   "outputs": [
    {
     "data": {
      "text/plain": [
       "66450"
      ]
     },
     "execution_count": 17,
     "metadata": {},
     "output_type": "execute_result"
    }
   ],
   "source": [
    "#number of trips\n",
    "wego.DATE_TRIP.nunique()"
   ]
  },
  {
   "cell_type": "code",
   "execution_count": 18,
   "id": "e8cb4372",
   "metadata": {},
   "outputs": [
    {
     "data": {
      "text/plain": [
       "341"
      ]
     },
     "execution_count": 18,
     "metadata": {},
     "output_type": "execute_result"
    }
   ],
   "source": [
    "#number of drivers\n",
    "wego.OPERATOR.nunique()"
   ]
  },
  {
   "cell_type": "code",
   "execution_count": 19,
   "id": "4e51e738",
   "metadata": {},
   "outputs": [
    {
     "data": {
      "text/plain": [
       "338861"
      ]
     },
     "execution_count": 19,
     "metadata": {},
     "output_type": "execute_result"
    }
   ],
   "source": [
    "#number of stops\n",
    "len(wego)"
   ]
  },
  {
   "cell_type": "markdown",
   "id": "edc4831f",
   "metadata": {},
   "source": [
    "#### 1. What is the overall on-time performance, and what do the overall distributions of adherence and headway deviation look like? "
   ]
  },
  {
   "cell_type": "code",
   "execution_count": 20,
   "id": "ca25a8fb",
   "metadata": {},
   "outputs": [
    {
     "data": {
      "text/plain": [
       "79.69"
      ]
     },
     "execution_count": 20,
     "metadata": {},
     "output_type": "execute_result"
    }
   ],
   "source": [
    "#overall on time performance\n",
    "round(wego.ADJUSTED_ONTIME_COUNT.sum()/len(wego.ADJUSTED_ONTIME_COUNT)*100,2)"
   ]
  },
  {
   "cell_type": "markdown",
   "id": "bbc6883d",
   "metadata": {},
   "source": [
    "79.69% of trips are on time."
   ]
  },
  {
   "cell_type": "code",
   "execution_count": 21,
   "id": "24804b2b",
   "metadata": {},
   "outputs": [
    {
     "data": {
      "text/plain": [
       "338861"
      ]
     },
     "execution_count": 21,
     "metadata": {},
     "output_type": "execute_result"
    }
   ],
   "source": [
    "wego.ADJUSTED_EARLY_COUNT.sum() + wego.ADJUSTED_LATE_COUNT.sum() + wego.ADJUSTED_ONTIME_COUNT.sum()"
   ]
  },
  {
   "cell_type": "code",
   "execution_count": 22,
   "id": "7a21345d",
   "metadata": {
    "scrolled": true
   },
   "outputs": [
    {
     "ename": "AttributeError",
     "evalue": "'Axes' object has no attribute 'show'",
     "output_type": "error",
     "traceback": [
      "\u001b[1;31m---------------------------------------------------------------------------\u001b[0m",
      "\u001b[1;31mAttributeError\u001b[0m                            Traceback (most recent call last)",
      "Cell \u001b[1;32mIn[22], line 6\u001b[0m\n\u001b[0;32m      4\u001b[0m pchart\u001b[38;5;241m.\u001b[39mset (title \u001b[38;5;241m=\u001b[39m \u001b[38;5;124m'\u001b[39m\u001b[38;5;124mOverall Performance - Adherence\u001b[39m\u001b[38;5;124m'\u001b[39m)\n\u001b[0;32m      5\u001b[0m plt\u001b[38;5;241m.\u001b[39msavefig(\u001b[38;5;124m'\u001b[39m\u001b[38;5;124m../images/overall_performance_pie.png\u001b[39m\u001b[38;5;124m'\u001b[39m)\n\u001b[1;32m----> 6\u001b[0m pchart\u001b[38;5;241m.\u001b[39mshow()\n",
      "\u001b[1;31mAttributeError\u001b[0m: 'Axes' object has no attribute 'show'"
     ]
    },
    {
     "data": {
      "image/png": "[encoded data removed]",
      "text/plain": [
       "<Figure size 1000x800 with 1 Axes>"
      ]
     },
     "metadata": {},
     "output_type": "display_data"
    }
   ],
   "source": [
    "# Adherence graph - pie\n",
    "# autopct='%1.2f%%'\n",
    "pchart = wego[['ADJUSTED_ONTIME_COUNT', 'ADJUSTED_LATE_COUNT', 'ADJUSTED_EARLY_COUNT']].sum().plot(kind='pie', colors=(purple, gray, black), labels=['On Time - 79.69%', 'Late - 17.42%', 'Early - 2.88%'], labeldistance=1.10, figsize=(10,8))\n",
    "pchart.set (title = 'Overall Performance - Adherence')\n",
    "plt.savefig('../images/overall_performance_pie.png')\n",
    "pchart.show()"
   ]
  },
  {
   "cell_type": "code",
   "execution_count": 23,
   "id": "a6aaa982",
   "metadata": {},
   "outputs": [
    {
     "name": "stdout",
     "output_type": "stream",
     "text": [
      "Number of perfect trips: 39923\n",
      "Percentage of perfect trips: 60.07975921745673\n"
     ]
    }
   ],
   "source": [
    "#perfect_trips\n",
    "perfect_trips = wego.groupby('DATE_TRIP')[['ADJUSTED_EARLY_COUNT',\n",
    "       'ADJUSTED_LATE_COUNT', 'ADJUSTED_ONTIME_COUNT']].sum()\n",
    "perfect_trips = perfect_trips[(perfect_trips.ADJUSTED_EARLY_COUNT == 0) & (perfect_trips.ADJUSTED_LATE_COUNT == 0)]\n",
    "\n",
    "perfect_count = len(perfect_trips)\n",
    "\n",
    "percent_perfect = perfect_count/(wego.DATE_TRIP.nunique())*100\n",
    "\n",
    "print('Number of perfect trips: ' + str(perfect_count))\n",
    "print('Percentage of perfect trips: ' + str(percent_perfect))\n"
   ]
  },
  {
   "cell_type": "code",
   "execution_count": null,
   "id": "28c2a973",
   "metadata": {},
   "outputs": [],
   "source": [
    "## Per Dibran - use adjusted fields and newly calculated hdwy to chart performance\n",
    "#distribution of headway and adherence\n",
    "ad_stddev = np.std(wego.ADHERENCE)\n",
    "ad_mean = wego.ADHERENCE.mean()\n",
    "ad_min = ad_mean-(ad_stddev*3)\n",
    "ad_max = ad_mean+(ad_stddev*3)\n",
    "\n",
    "hdw_stddev = np.std(wego.HDWY_DEV)\n",
    "hdw_mean = wego.HDWY_DEV.mean()\n",
    "hdw_min = hdw_mean-(hdw_stddev*3)\n",
    "hdw_max = hdw_mean+(hdw_stddev*3)"
   ]
  },
  {
   "cell_type": "code",
   "execution_count": null,
   "id": "4eaaeae4",
   "metadata": {},
   "outputs": [],
   "source": [
    "# wego.ADHERENCE.describe()"
   ]
  },
  {
   "cell_type": "code",
   "execution_count": null,
   "id": "aae8b028",
   "metadata": {},
   "outputs": [],
   "source": [
    "# #distributions of adherence\n",
    "# adherence_cats = wego[wego['ADJUSTED_EARLY_COUNT','ADJUSTED_ONTIME_COUNT','ADJUSTED_LATE_COUNT']].sum()\n",
    "# # adherence_cats.plot(kind='hist')\n",
    "# # adherence_cats.set(title='Adherence Distribution by Category', xlabel='Category',  ylabel='Count of Stops')\n",
    "# sns.histplot(data=adherence_cats)"
   ]
  },
  {
   "cell_type": "code",
   "execution_count": null,
   "id": "4d2de73c",
   "metadata": {},
   "outputs": [],
   "source": [
    "total_adh_count = len(wego.ADHERENCE)\n",
    "adh_non_outlier = len(wego[wego['ADHERENCE'].between(ad_min, ad_max, inclusive='both')])\n",
    "adh_outlier_count = total_adh_count - adh_non_outlier\n",
    "print(adh_outlier_count)\n",
    "\n",
    "total_hdw_count = len(wego.HDWY_DEV)\n",
    "hdw_non_outlier = len(wego[wego['HDWY_DEV'].between(hdw_min, hdw_max, inclusive='both')])\n",
    "hdw_outlier_count = total_hdw_count - hdw_non_outlier\n",
    "print(hdw_outlier_count)\n",
    "\n"
   ]
  },
  {
   "cell_type": "code",
   "execution_count": null,
   "id": "3ada57c8",
   "metadata": {},
   "outputs": [],
   "source": [
    "#distributions of adherence deviation\n",
    "adherence_hist = wego[wego['ADHERENCE'].between(ad_min, ad_max, inclusive='both')]['ADHERENCE'].plot(kind='hist', bins=50, color = purple)\n",
    "adherence_hist.set(title='Adherence Distribution Excluding Outliers', xlabel='Adherence',  ylabel='Count of Stops')\n",
    "#plt.savefig('../images/ahderence_distribution.png')\n",
    "adherence_hist.show()"
   ]
  },
  {
   "cell_type": "code",
   "execution_count": null,
   "id": "f96daf35",
   "metadata": {},
   "outputs": [],
   "source": [
    "wego.HDWY_DEV.describe()"
   ]
  },
  {
   "cell_type": "code",
   "execution_count": null,
   "id": "cefeb29f",
   "metadata": {
    "scrolled": true
   },
   "outputs": [],
   "source": [
    "#distributions of headway deviation\n",
    "adherence_hist = wego[wego['HDWY_DEV'].between(hdw_min, hdw_max, inclusive='both')]['HDWY_DEV'].plot(kind='hist', bins=50, color = purple)\n",
    "adherence_hist.set(title='Headway Distribution Excluding Outliers', xlabel='Headway in Minutes',  ylabel='Count of Stops')\n",
    "plt.savefig('../images/headway_distribution.png')\n",
    "plt.show()"
   ]
  },
  {
   "cell_type": "markdown",
   "id": "98ab284c",
   "metadata": {},
   "source": [
    "### 2. How does direction of travel, route, or location affect the headway and on-time performance?"
   ]
  },
  {
   "cell_type": "markdown",
   "id": "f58c0bcb",
   "metadata": {},
   "source": [
    "#### Q2 Findings:\n",
    "-- Buses headed into downtown are more timely than outbound buses </br>\n",
    "-- Route 22 is the most timely </br>\n",
    "-- "
   ]
  },
  {
   "cell_type": "code",
   "execution_count": null,
   "id": "202ffeed",
   "metadata": {},
   "outputs": [],
   "source": [
    "wego.columns"
   ]
  },
  {
   "cell_type": "markdown",
   "id": "d97889a1",
   "metadata": {},
   "source": [
    "#### Direction"
   ]
  },
  {
   "cell_type": "code",
   "execution_count": null,
   "id": "62da3a78",
   "metadata": {
    "scrolled": true
   },
   "outputs": [],
   "source": [
    "#ADHERENCE\n",
    "routes_totals = (\n",
    "    wego.groupby('ROUTE_DIRECTION_NAME')\n",
    "         [['ADJUSTED_ONTIME_COUNT', 'ADJUSTED_LATE_COUNT', 'ADJUSTED_EARLY_COUNT']]\n",
    "         .sum()\n",
    ")\n",
    "\n",
    "routes_totals['TOTALS'] = routes_totals.sum(axis=1)\n",
    "\n",
    "routes_totals['ONTIME_PCT'] = routes_totals['ADJUSTED_ONTIME_COUNT'] / routes_totals['TOTALS'] * 100\n",
    "routes_totals['EARLY_PCT'] = routes_totals['ADJUSTED_EARLY_COUNT'] / routes_totals['TOTALS'] * 100\n",
    "routes_totals['LATE_PCT'] = routes_totals['ADJUSTED_LATE_COUNT'] / routes_totals['TOTALS'] * 100\n",
    "\n",
    "# Route Adherence graph\n",
    "ax = (\n",
    "    routes_totals[['ONTIME_PCT', 'EARLY_PCT', 'LATE_PCT']]\n",
    ").sort_values('ONTIME_PCT', ascending=False).plot(kind='bar', stacked=True, color = (purple, gray, black))\n",
    "ax.set(title = 'Route Direction Adherence Performance',\n",
    "        xlabel = 'Route Direction',\n",
    "       ylabel = 'Percentage')\n",
    "ax.legend(bbox_to_anchor=(1, 1))\n",
    "ax.tick_params(axis='x', rotation=0)\n",
    "#plt.savefig('../images/route_adherence.png')\n",
    "plt.show()"
   ]
  },
  {
   "cell_type": "code",
   "execution_count": null,
   "id": "6a1c8847",
   "metadata": {},
   "outputs": [],
   "source": [
    "routes_totals.head()"
   ]
  },
  {
   "cell_type": "code",
   "execution_count": null,
   "id": "7ace1004",
   "metadata": {},
   "outputs": [],
   "source": [
    "# #initial adherence by direction using count of stops\n",
    "# #headyway and adherence by route direction\n",
    "# ad_chart = wego.groupby('ROUTE_DIRECTION_NAME')[['ADJUSTED_ONTIME_COUNT', 'ADJUSTED_LATE_COUNT', 'ADJUSTED_EARLY_COUNT']].sum().plot(kind='bar', stacked=True)\n",
    "# ad_chart.set(title='Route Direction Adherence by Category', xlabel = 'Direction', ylabel = 'Count of Stops')\n",
    "# ad_chart.legend(bbox_to_anchor=(1, 1))"
   ]
  },
  {
   "cell_type": "code",
   "execution_count": null,
   "id": "448f1e46",
   "metadata": {},
   "outputs": [],
   "source": [
    "#HEADWAY\n",
    "routes_totals = (\n",
    "    wego.groupby('ROUTE_DIRECTION_NAME')\n",
    "         [['HDWY_ACCEPTABLE','HDWY_BUNCHING','HDWY_GAPPING']]\n",
    "         .sum()\n",
    ")\n",
    "\n",
    "routes_totals['TOTALS'] = routes_totals.sum(axis=1)\n",
    "\n",
    "routes_totals['ACCEPTABLE_PCT'] = routes_totals['HDWY_ACCEPTABLE'] / routes_totals['TOTALS'] * 100\n",
    "routes_totals['BUNCHING_PCT'] = routes_totals['HDWY_BUNCHING'] / routes_totals['TOTALS'] * 100\n",
    "routes_totals['GAPING_PCT'] = routes_totals['HDWY_GAPPING'] / routes_totals['TOTALS'] * 100\n",
    "\n",
    "# Route Adherence graph\n",
    "ax = (\n",
    "    routes_totals[['ACCEPTABLE_PCT', 'BUNCHING_PCT', 'GAPING_PCT']]\n",
    ").sort_values('ACCEPTABLE_PCT', ascending=False).plot(kind='bar', stacked=True, color = (purple, gray, black))\n",
    "ax.set(title = 'Route Direction Headway Performance',\n",
    "        xlabel = 'Route Direction',\n",
    "       ylabel = 'Percentage')\n",
    "ax.legend(bbox_to_anchor=(1, 1), labels = ['Acceptable', 'Bunching', 'Gapping'])\n",
    "ax.tick_params(axis='x', rotation=0)\n",
    "#plt.savefig('../images/route_headway.png')\n",
    "plt.show()"
   ]
  },
  {
   "cell_type": "code",
   "execution_count": null,
   "id": "25fc53ad",
   "metadata": {
    "scrolled": true
   },
   "outputs": [],
   "source": [
    "# #initial headway by route direction using count of stops\n",
    "# hdw_chart = wego.groupby('ROUTE_DIRECTION_NAME')[['HDWY_ACCEPTABLE','HDWY_BUNCHING','HDWY_GAPPING']].sum().plot(kind='bar', stacked=True)\n",
    "# hdw_chart.set(title='Route Direction Headway by Category', xlabel = 'Direction', ylabel = 'Count of Stops')\n",
    "# hdw_chart.legend(bbox_to_anchor=(1, 1))\n"
   ]
  },
  {
   "cell_type": "code",
   "execution_count": null,
   "id": "59fda882",
   "metadata": {},
   "outputs": [],
   "source": [
    "wego.groupby('ROUTE_DIRECTION_NAME')[['ADHERENCE','HDWY_DEV']].mean()"
   ]
  },
  {
   "cell_type": "markdown",
   "id": "9a4b31bb",
   "metadata": {},
   "source": [
    "#### Route"
   ]
  },
  {
   "cell_type": "code",
   "execution_count": null,
   "id": "6cccfa87",
   "metadata": {},
   "outputs": [],
   "source": [
    "#break down stops by percentage of category\n",
    "routes_totals = (\n",
    "    wego.groupby('ROUTE_ABBR')\n",
    "         [['ADJUSTED_ONTIME_COUNT', 'ADJUSTED_LATE_COUNT', 'ADJUSTED_EARLY_COUNT']]\n",
    "         .sum()\n",
    ")\n",
    "\n",
    "routes_totals['TOTALS'] = routes_totals.sum(axis=1)\n",
    "\n",
    "routes_totals['ONTIME_PCT'] = routes_totals['ADJUSTED_ONTIME_COUNT'] / routes_totals['TOTALS'] * 100\n",
    "routes_totals['EARLY_PCT'] = routes_totals['ADJUSTED_EARLY_COUNT'] / routes_totals['TOTALS'] * 100\n",
    "routes_totals['LATE_PCT'] = routes_totals['ADJUSTED_LATE_COUNT'] / routes_totals['TOTALS'] * 100\n",
    "\n",
    "# Route Adherence graph\n",
    "ax = (\n",
    "    routes_totals[['ONTIME_PCT', 'EARLY_PCT', 'LATE_PCT']]\n",
    ").sort_values('ONTIME_PCT', ascending=False).plot(kind='bar', stacked=True, color = (purple, gray, black))\n",
    "ax.set(title = 'Route Adherence Performance',\n",
    "        xlabel = 'Route',\n",
    "       ylabel = 'Percentage')\n",
    "ax.legend(bbox_to_anchor=(1, 1))\n",
    "ax.tick_params(axis='x', rotation=0)\n",
    "#plt.savefig('../images/routeID_adherence.png')\n",
    "plt.show()"
   ]
  },
  {
   "cell_type": "code",
   "execution_count": null,
   "id": "5561ca28",
   "metadata": {
    "scrolled": false
   },
   "outputs": [],
   "source": [
    "# #initial adherence by route ID using count of stops\n",
    "# #aherence by route ID\n",
    "# rte_adh_chart = wego.groupby('ROUTE_ABBR')[['ADJUSTED_ONTIME_COUNT', 'ADJUSTED_LATE_COUNT', 'ADJUSTED_EARLY_COUNT']].sum().sort_values('ADJUSTED_ONTIME_COUNT', ascending=False).plot(kind='bar', stacked=True)\n",
    "# rte_adh_chart.set(title='Adherence by Route', xlabel = 'Route Abbreviation', ylabel = 'Count of Stops')\n",
    "# rte_adh_chart.legend(bbox_to_anchor=(1, 1))"
   ]
  },
  {
   "cell_type": "code",
   "execution_count": null,
   "id": "7335ffd0",
   "metadata": {},
   "outputs": [],
   "source": [
    "#break down stops by percentage of category - headway\n",
    "routes_totals = (\n",
    "    wego.groupby('ROUTE_ABBR')\n",
    "         [['HDWY_ACCEPTABLE','HDWY_BUNCHING','HDWY_GAPPING']]\n",
    "         .sum()\n",
    ")\n",
    "\n",
    "routes_totals['TOTALS'] = routes_totals.sum(axis=1)\n",
    "\n",
    "routes_totals['ACCEPTABLE_PCT'] = routes_totals['HDWY_ACCEPTABLE'] / routes_totals['TOTALS'] * 100\n",
    "routes_totals['BUNCHING_PCT'] = routes_totals['HDWY_BUNCHING'] / routes_totals['TOTALS'] * 100\n",
    "routes_totals['GAPPING_PCT'] = routes_totals['HDWY_GAPPING'] / routes_totals['TOTALS'] * 100\n",
    "\n",
    "# Route Adherence graph\n",
    "ax = (\n",
    "    routes_totals[['ACCEPTABLE_PCT', 'BUNCHING_PCT', 'GAPPING_PCT']]\n",
    ").sort_values('ACCEPTABLE_PCT', ascending=False).plot(kind='bar', stacked=True, color = (purple, gray, black))\n",
    "ax.set(title = 'Route Headway Performance',\n",
    "        xlabel = 'Route',\n",
    "       ylabel = 'Percentage')\n",
    "ax.legend(bbox_to_anchor=(1, 1))\n",
    "ax.tick_params(axis='x', rotation=0)\n",
    "#plt.savefig('../images/routeID_headway.png')\n",
    "plt.show()"
   ]
  },
  {
   "cell_type": "code",
   "execution_count": null,
   "id": "a7b030b4",
   "metadata": {},
   "outputs": [],
   "source": [
    "#intitial headway by route ID using count of stops\n",
    "# #headway by route ID\n",
    "# rte_hdw_chart = wego.groupby('ROUTE_ABBR')[['HDWY_ACCEPTABLE','HDWY_BUNCHING','HDWY_GAPPING']].sum().sort_values('HDWY_ACCEPTABLE', ascending=False).plot(kind='bar', stacked=True)\n",
    "# rte_hdw_chart.set(title='Headway by Route', xlabel = 'Route Abbreviation', ylabel = 'Count of Stops')\n",
    "# rte_hdw_chart.legend(bbox_to_anchor=(1, 1))"
   ]
  },
  {
   "cell_type": "code",
   "execution_count": null,
   "id": "160c5eb0",
   "metadata": {
    "scrolled": true
   },
   "outputs": [],
   "source": [
    "wego.groupby('ROUTE_ABBR')[['ADHERENCE','HDWY_DEV']].mean()"
   ]
  },
  {
   "cell_type": "markdown",
   "id": "de87fb7c",
   "metadata": {},
   "source": [
    "#### Stop location"
   ]
  },
  {
   "cell_type": "code",
   "execution_count": null,
   "id": "a2077a97",
   "metadata": {},
   "outputs": [],
   "source": [
    "wego.groupby('TIME_POINT_ABBR')[['ADJUSTED_ONTIME_COUNT', 'ADJUSTED_LATE_COUNT', 'ADJUSTED_EARLY_COUNT']].sum().sort_values('ADJUSTED_ONTIME_COUNT', ascending=False)"
   ]
  },
  {
   "cell_type": "code",
   "execution_count": null,
   "id": "cb481480",
   "metadata": {},
   "outputs": [],
   "source": [
    "#break down stops by percentage of category\n",
    "location_totals = (\n",
    "    wego.groupby('TIME_POINT_ABBR')\n",
    "         [['ADJUSTED_ONTIME_COUNT', 'ADJUSTED_LATE_COUNT', 'ADJUSTED_EARLY_COUNT']]\n",
    "         .sum()\n",
    ")\n",
    "\n",
    "location_totals['TOTALS'] = location_totals.sum(axis=1)\n",
    "\n",
    "location_totals['ONTIME_PCT'] = location_totals['ADJUSTED_ONTIME_COUNT'] / location_totals['TOTALS'] * 100\n",
    "location_totals['EARLY_PCT'] = location_totals['ADJUSTED_EARLY_COUNT'] / location_totals['TOTALS'] * 100\n",
    "location_totals['LATE_PCT'] = location_totals['ADJUSTED_LATE_COUNT'] / location_totals['TOTALS'] * 100\n",
    "\n",
    "# Route Adherence graph\n",
    "ax = (\n",
    "    location_totals[['ONTIME_PCT', 'EARLY_PCT', 'LATE_PCT']]\n",
    ").sort_values('ONTIME_PCT', ascending=False).plot(kind='bar', stacked=True, figsize=(13,8), color = (purple, gray, black))\n",
    "ax.set(title = 'Stop Location Adherence Performance',\n",
    "        xlabel = 'Stop ID',\n",
    "       ylabel = 'Percentage')\n",
    "ax.legend(bbox_to_anchor=(1, 1))\n",
    "ax.tick_params(axis='x', rotation=90)\n",
    "#plt.savefig('../images/stopID_adherence.png')\n",
    "plt.show()"
   ]
  },
  {
   "cell_type": "code",
   "execution_count": null,
   "id": "950360a3",
   "metadata": {},
   "outputs": [],
   "source": [
    "# initial analysis - not adjusted for percentage\n",
    "# #adherence by stop location\n",
    "# #loc_adh_chart.figure(figsize=(12,12))\n",
    "# loc_adh_chart = wego.groupby('TIME_POINT_ABBR')[['ADJUSTED_ONTIME_COUNT', 'ADJUSTED_LATE_COUNT', 'ADJUSTED_EARLY_COUNT']].sum().sort_values('ADJUSTED_ONTIME_COUNT', ascending=False).plot(kind='bar', stacked=True, width=0.6, figsize=(13,8))\n",
    "# loc_adh_chart.set(title='Adherence by Stop Location', xlabel = 'Stop ID', ylabel = 'Count of Stops')\n",
    "# loc_adh_chart.legend(bbox_to_anchor=(1, 1))"
   ]
  },
  {
   "cell_type": "code",
   "execution_count": null,
   "id": "7a1a1646",
   "metadata": {},
   "outputs": [],
   "source": [
    "#break down stops by percentage of category - headway\n",
    "location_totals = (\n",
    "    wego.groupby('TIME_POINT_ABBR')\n",
    "         [['HDWY_ACCEPTABLE','HDWY_BUNCHING','HDWY_GAPPING']]\n",
    "         .sum()\n",
    ")\n",
    "\n",
    "location_totals['TOTALS'] = location_totals.sum(axis=1)\n",
    "\n",
    "location_totals['ACCEPTABLE_PCT'] = location_totals['HDWY_ACCEPTABLE'] / location_totals['TOTALS'] * 100\n",
    "location_totals['BUNCHING_PCT'] = location_totals['HDWY_BUNCHING'] / location_totals['TOTALS'] * 100\n",
    "location_totals['GAPPING_PCT'] = location_totals['HDWY_GAPPING'] / location_totals['TOTALS'] * 100\n",
    "\n",
    "# Stop ID Adherence graph\n",
    "ax = (\n",
    "    location_totals[['ACCEPTABLE_PCT', 'BUNCHING_PCT', 'GAPPING_PCT']]\n",
    ").sort_values('ACCEPTABLE_PCT', ascending=False).plot(kind='bar', stacked=True, figsize=(13,8), color = (purple, gray, black))\n",
    "ax.set(title = 'Stop Location Headway Performance',\n",
    "        xlabel = 'Stop ID',\n",
    "       ylabel = 'Percentage')\n",
    "ax.legend(bbox_to_anchor=(1, 1))\n",
    "ax.tick_params(axis='x', rotation=90)\n",
    "#plt.savefig('../images/stopID_headway.png')\n",
    "plt.show()"
   ]
  },
  {
   "cell_type": "code",
   "execution_count": null,
   "id": "d9abf448",
   "metadata": {},
   "outputs": [],
   "source": [
    "# initial analysis - not adjusted for percentage\n",
    "# #headway by stop location\n",
    "# loc_hdw_chart = wego.groupby('TIME_POINT_ABBR')[['HDWY_ACCEPTABLE','HDWY_BUNCHING','HDWY_GAPPING']].sum().sort_values('HDWY_ACCEPTABLE', ascending=False).plot(kind='bar', stacked=True, width=0.6, figsize=(13,8))\n",
    "# loc_hdw_chart.set(title='Headway by Stop Location', xlabel = 'Stop ID', ylabel = 'Count of Stops')\n",
    "# # loc_hdw_chart.legend(bbox_to_anchor=(1, 1))"
   ]
  },
  {
   "cell_type": "code",
   "execution_count": null,
   "id": "17651845",
   "metadata": {},
   "outputs": [],
   "source": [
    "wego.groupby('TIME_POINT_ABBR')[['ADHERENCE','HDWY_DEV']].mean().sort_values('ADHERENCE', ascending=True)"
   ]
  },
  {
   "cell_type": "markdown",
   "id": "4886202d",
   "metadata": {},
   "source": [
    "### 3. How does time of day or day of week affect headway and on-time performance?"
   ]
  },
  {
   "cell_type": "markdown",
   "id": "447a8720",
   "metadata": {},
   "source": [
    "#### Time of Day"
   ]
  },
  {
   "cell_type": "code",
   "execution_count": null,
   "id": "b32106b7",
   "metadata": {},
   "outputs": [],
   "source": [
    "wego.info(verbose=True, show_counts=True)"
   ]
  },
  {
   "cell_type": "code",
   "execution_count": null,
   "id": "58350ff0",
   "metadata": {},
   "outputs": [],
   "source": [
    "#drop rows where there's no actual departure time values\n",
    "clean_dept_time = wego.dropna(subset=['ACTUAL_DEPARTURE_TIME'])"
   ]
  },
  {
   "cell_type": "code",
   "execution_count": null,
   "id": "4828c741",
   "metadata": {
    "scrolled": true
   },
   "outputs": [],
   "source": [
    "# Create depart time column\n",
    "clean_dept_time['HOUR'] = (pd.to_datetime(clean_dept_time['ACTUAL_DEPARTURE_TIME'],\n",
    "                                          format='mixed').dt.hour)"
   ]
  },
  {
   "cell_type": "code",
   "execution_count": null,
   "id": "6498b7e1",
   "metadata": {},
   "outputs": [],
   "source": [
    "hour_totals = (\n",
    "    clean_dept_time.groupby('HOUR')\n",
    "         [['ADJUSTED_ONTIME_COUNT', 'ADJUSTED_LATE_COUNT', 'ADJUSTED_EARLY_COUNT']]\n",
    "         .sum())\n",
    "hour_totals"
   ]
  },
  {
   "cell_type": "code",
   "execution_count": null,
   "id": "23eb572c",
   "metadata": {},
   "outputs": [],
   "source": [
    "#ADHERENCE\n",
    "hour_totals = (\n",
    "    clean_dept_time.groupby('HOUR')\n",
    "         [['ADJUSTED_ONTIME_COUNT', 'ADJUSTED_LATE_COUNT', 'ADJUSTED_EARLY_COUNT']]\n",
    "         .sum()\n",
    ")\n",
    "\n",
    "hour_totals['TOTALS'] = hour_totals.sum(axis=1)\n",
    "\n",
    "hour_totals['ONTIME_PCT'] = hour_totals['ADJUSTED_ONTIME_COUNT'] / hour_totals['TOTALS'] * 100\n",
    "hour_totals['EARLY_PCT'] = hour_totals['ADJUSTED_EARLY_COUNT'] / hour_totals['TOTALS'] * 100\n",
    "hour_totals['LATE_PCT'] = hour_totals['ADJUSTED_LATE_COUNT'] / hour_totals['TOTALS'] * 100\n",
    "\n",
    "# Route Adherence graph\n",
    "ax = (\n",
    "    hour_totals[['ONTIME_PCT', 'EARLY_PCT', 'LATE_PCT']]\n",
    ").sort_values('HOUR', ascending=True).plot(kind='bar', stacked=True, color = (purple, gray, black))\n",
    "ax.set(title = 'Hourly Adherence Performance',\n",
    "        xlabel = 'Hour',\n",
    "       ylabel = 'Percentage')\n",
    "ax.legend(bbox_to_anchor=(1, 1))\n",
    "ax.tick_params(axis='x', rotation=0)\n",
    "plt.savefig('../images/hourly_adherence.png')\n",
    "plt.show()"
   ]
  },
  {
   "cell_type": "code",
   "execution_count": null,
   "id": "a8fba5d6",
   "metadata": {},
   "outputs": [],
   "source": [
    "hour_totals = (\n",
    "    clean_dept_time.groupby('HOUR')\n",
    "         [['HDWY_ACCEPTABLE','HDWY_BUNCHING','HDWY_GAPPING']]\n",
    "         .sum()\n",
    ")\n",
    "\n",
    "hour_totals['TOTALS'] = hour_totals.sum(axis=1)\n",
    "\n",
    "hour_totals['ACCEPTABLE_PCT'] = hour_totals['HDWY_ACCEPTABLE'] / hour_totals['TOTALS'] * 100\n",
    "hour_totals['BUNCHING_PCT'] = hour_totals['HDWY_BUNCHING'] / hour_totals['TOTALS'] * 100\n",
    "hour_totals['GAPPING_PCT'] = hour_totals['HDWY_GAPPING'] / hour_totals['TOTALS'] * 100\n",
    "\n",
    "# Hour Headway graph\n",
    "ax = (\n",
    "    hour_totals[['ACCEPTABLE_PCT', 'BUNCHING_PCT', 'GAPPING_PCT']]\n",
    ").sort_values('HOUR', ascending=True).plot(kind='bar', stacked=True, color = (purple, gray, black))\n",
    "ax.set(title = 'Hourly Headway Performance',\n",
    "        xlabel = 'Hour',\n",
    "       ylabel = 'Percentage')\n",
    "ax.legend(bbox_to_anchor=(1, 1))\n",
    "ax.tick_params(axis='x', rotation=0)\n",
    "#plt.savefig('../images/hourly_headway.png')\n",
    "plt.show()"
   ]
  },
  {
   "cell_type": "markdown",
   "id": "cd85f423",
   "metadata": {},
   "source": [
    "#### By day of week"
   ]
  },
  {
   "cell_type": "code",
   "execution_count": null,
   "id": "db0c8fda",
   "metadata": {
    "scrolled": true
   },
   "outputs": [],
   "source": [
    "clean_dept_time['WEEKDAY'] = pd.to_datetime(clean_dept_time['ACTUAL_DEPARTURE_TIME']).dt.weekday"
   ]
  },
  {
   "cell_type": "code",
   "execution_count": null,
   "id": "a46674d1",
   "metadata": {},
   "outputs": [],
   "source": [
    "#ADHERENCE\n",
    "day_totals = (\n",
    "    clean_dept_time.groupby('WEEKDAY')\n",
    "         [['ADJUSTED_ONTIME_COUNT', 'ADJUSTED_LATE_COUNT', 'ADJUSTED_EARLY_COUNT']]\n",
    "         .sum()\n",
    ")\n",
    "\n",
    "day_totals['TOTALS'] = day_totals.sum(axis=1)\n",
    "\n",
    "day_totals['ONTIME_PCT'] = day_totals['ADJUSTED_ONTIME_COUNT'] / day_totals['TOTALS'] * 100\n",
    "day_totals['EARLY_PCT'] = day_totals['ADJUSTED_EARLY_COUNT'] / day_totals['TOTALS'] * 100\n",
    "day_totals['LATE_PCT'] = day_totals['ADJUSTED_LATE_COUNT'] / day_totals['TOTALS'] * 100\n",
    "\n",
    "# Route Adherence graph\n",
    "ax = (\n",
    "    day_totals[['ONTIME_PCT', 'EARLY_PCT', 'LATE_PCT']]\n",
    ").sort_values('WEEKDAY', ascending=True).plot(kind='bar', stacked=True, color = (purple, gray, black))\n",
    "ax.set(title = 'Adherence Performance by Day of Week',\n",
    "        xlabel = 'Day',\n",
    "       ylabel = 'Percentage')\n",
    "ax.legend(bbox_to_anchor=(1, 1))\n",
    "ax.set_xticklabels(['Monday', 'Tuesday', 'Wednesday', 'Thursday', 'Friday', 'Saturday', 'Sunday'])\n",
    "ax.tick_params(axis='x', rotation=45)\n",
    "plt.savefig('../images/dayofweek_adherence.png')\n",
    "plt.show()"
   ]
  },
  {
   "cell_type": "code",
   "execution_count": null,
   "id": "9a120ffb",
   "metadata": {},
   "outputs": [],
   "source": [
    "#HEADWAY\n",
    "day_totals = (\n",
    "    clean_dept_time.groupby('WEEKDAY')\n",
    "         [['HDWY_ACCEPTABLE','HDWY_BUNCHING','HDWY_GAPPING']]\n",
    "         .sum()\n",
    ")\n",
    "\n",
    "day_totals['TOTALS'] = day_totals.sum(axis=1)\n",
    "\n",
    "day_totals['ACCEPTABLE_PCT'] = day_totals['HDWY_ACCEPTABLE'] / day_totals['TOTALS'] * 100\n",
    "day_totals['BUNCHING_PCT'] = day_totals['HDWY_BUNCHING'] / day_totals['TOTALS'] * 100\n",
    "day_totals['GAPPING_PCT'] = day_totals['HDWY_GAPPING'] / day_totals['TOTALS'] * 100\n",
    "\n",
    "# Hour Headway graph\n",
    "ax = (\n",
    "    day_totals[['ACCEPTABLE_PCT', 'BUNCHING_PCT', 'GAPPING_PCT']]\n",
    ").sort_values('WEEKDAY', ascending=True).plot(kind='bar', stacked=True, color = (purple, gray, black))\n",
    "ax.set(title = 'Headway Performance by Day of Week',\n",
    "        xlabel = 'Day',\n",
    "       ylabel = 'Percentage')\n",
    "ax.legend(bbox_to_anchor=(1, 1))\n",
    "ax.set_xticklabels(['Monday', 'Tuesday', 'Wednesday', 'Thursday', 'Friday', 'Saturday', 'Sunday'])\n",
    "ax.tick_params(axis='x', rotation=45)\n",
    "plt.savefig('../images/dayofweek_headway.png')\n",
    "plt.show()"
   ]
  },
  {
   "cell_type": "code",
   "execution_count": null,
   "id": "5e1ba58e",
   "metadata": {
    "scrolled": false
   },
   "outputs": [],
   "source": [
    "# grouper dt conversion to redo hourly groupings\n",
    "# clean_dept_time['ACTUAL_DEPARTURE_TIME'] = pd.to_datetime(clean_dept_time['ACTUAL_DEPARTURE_TIME'])"
   ]
  },
  {
   "cell_type": "markdown",
   "id": "a389d14a",
   "metadata": {},
   "source": [
    "##### 4. How much of a factor does the driver have on headway and on-time performance? The driver is indicated by the OPERATOR variable.\n",
    "\n",
    "#### number 4 - group by operator, what percent of stops are acceptable vs total stops\n",
    "\n",
    "#### drivers along individual routes"
   ]
  },
  {
   "cell_type": "code",
   "execution_count": null,
   "id": "7b19b56c",
   "metadata": {},
   "outputs": [],
   "source": [
    "#### number 4 - group by operator, what percent of stops are acceptable vs total stops"
   ]
  },
  {
   "cell_type": "code",
   "execution_count": null,
   "id": "af4c36c0",
   "metadata": {
    "scrolled": true
   },
   "outputs": [],
   "source": [
    "# wego.OPERATOR.nunique()"
   ]
  },
  {
   "cell_type": "code",
   "execution_count": null,
   "id": "6347a284",
   "metadata": {},
   "outputs": [],
   "source": [
    "wego.groupby('OPERATOR')[['HDWY_ACCEPTABLE','HDWY_BUNCHING','HDWY_GAPPING','ADJUSTED_EARLY_COUNT','ADJUSTED_LATE_COUNT','ADJUSTED_ONTIME_COUNT']].sum()"
   ]
  },
  {
   "cell_type": "code",
   "execution_count": null,
   "id": "d10abd58",
   "metadata": {},
   "outputs": [],
   "source": [
    "wego.head()"
   ]
  },
  {
   "cell_type": "code",
   "execution_count": null,
   "id": "1b3268e4",
   "metadata": {
    "scrolled": true
   },
   "outputs": [],
   "source": [
    "#HEADWAY\n",
    "operator_totals = (\n",
    "    wego.groupby('OPERATOR')\n",
    "         [['HDWY_ACCEPTABLE','HDWY_BUNCHING','HDWY_GAPPING','ADJUSTED_EARLY_COUNT','ADJUSTED_LATE_COUNT','ADJUSTED_ONTIME_COUNT']]\n",
    "         .sum()\n",
    ")\n",
    "\n",
    "operator_totals['ADHERENCE_TOTALS'] = operator_totals[['ADJUSTED_EARLY_COUNT','ADJUSTED_LATE_COUNT','ADJUSTED_ONTIME_COUNT']].sum(axis=1)\n",
    "operator_totals['HEADWAY_TOTALS'] = operator_totals[['HDWY_ACCEPTABLE','HDWY_BUNCHING','HDWY_GAPPING']].sum(axis=1)\n",
    "\n",
    "operator_totals['ACCEPTABLE_ADHERENCE_PCT'] = operator_totals['ADJUSTED_ONTIME_COUNT'] / operator_totals['ADHERENCE_TOTALS'] * 100\n",
    "operator_totals['ACCEPTABLE_HEADWAY_PCT'] = operator_totals['HDWY_ACCEPTABLE'] / operator_totals['HEADWAY_TOTALS'] * 100\n",
    "\n"
   ]
  },
  {
   "cell_type": "code",
   "execution_count": null,
   "id": "56a26fe2",
   "metadata": {},
   "outputs": [],
   "source": [
    "op_summary = operator_totals[['ADHERENCE_TOTALS', 'ACCEPTABLE_ADHERENCE_PCT', 'HEADWAY_TOTALS', 'ACCEPTABLE_HEADWAY_PCT']].sort_values('ACCEPTABLE_ADHERENCE_PCT', ascending=False)\n",
    "op_summary"
   ]
  },
  {
   "cell_type": "code",
   "execution_count": null,
   "id": "040dd8c1",
   "metadata": {},
   "outputs": [],
   "source": [
    "top20_adh = (op_summary[op_summary['ADHERENCE_TOTALS'] >= 1000]\n",
    "            .nlargest(20, columns=['ACCEPTABLE_ADHERENCE_PCT', 'ADHERENCE_TOTALS']))"
   ]
  },
  {
   "cell_type": "code",
   "execution_count": null,
   "id": "6d41f17a",
   "metadata": {},
   "outputs": [],
   "source": [
    "bottom20_adh = (op_summary[op_summary['ADHERENCE_TOTALS'] >= 1000]\n",
    "            .nsmallest(20, columns=['ACCEPTABLE_ADHERENCE_PCT', 'ADHERENCE_TOTALS']))"
   ]
  },
  {
   "cell_type": "code",
   "execution_count": null,
   "id": "ddc2963b",
   "metadata": {},
   "outputs": [],
   "source": [
    "top20_hdw = (op_summary[op_summary['HEADWAY_TOTALS'] >= 1000]\n",
    "            .nlargest(20, columns=['ACCEPTABLE_HEADWAY_PCT', 'HEADWAY_TOTALS']))"
   ]
  },
  {
   "cell_type": "code",
   "execution_count": null,
   "id": "f7ed7d43",
   "metadata": {},
   "outputs": [],
   "source": [
    "bottom20_hdw = (op_summary[op_summary['HEADWAY_TOTALS'] >= 1000]\n",
    "            .nsmallest(20, columns=['ACCEPTABLE_HEADWAY_PCT', 'HEADWAY_TOTALS']))"
   ]
  },
  {
   "cell_type": "code",
   "execution_count": null,
   "id": "e546ce69",
   "metadata": {},
   "outputs": [],
   "source": [
    "# join TOP dfs on operator\n",
    "top_operators = (pd.merge(top20_adh, \n",
    "                          top20_hdw[[]], \n",
    "                          how='inner', \n",
    "                          left_index=True, \n",
    "                          right_index=True))\n",
    "top_operators"
   ]
  },
  {
   "cell_type": "code",
   "execution_count": null,
   "id": "067e3a07",
   "metadata": {},
   "outputs": [],
   "source": [
    "# join BOTTOM dfs on operator\n",
    "bottom_operators = (pd.merge(bottom20_adh, \n",
    "                             bottom20_hdw[[]], \n",
    "                             how='inner', \n",
    "                             left_index=True, \n",
    "                             right_index=True))\n",
    "bottom_operators"
   ]
  },
  {
   "cell_type": "code",
   "execution_count": null,
   "id": "c7b3fd45",
   "metadata": {},
   "outputs": [],
   "source": [
    "top_bottom_operators = pd.concat([top_operators, bottom_operators.sort_values('ACCEPTABLE_ADHERENCE_PCT', ascending=False)])\n",
    "top_bottom_operators"
   ]
  },
  {
   "cell_type": "code",
   "execution_count": null,
   "id": "d12daa0b",
   "metadata": {},
   "outputs": [],
   "source": [
    "# Creat new column for negative Headway\n",
    "top_bottom_operators.loc[:, 'NEGATIVE_ACCEPTABLE'] = top_bottom_operators['ACCEPTABLE_ADHERENCE_PCT'].apply(lambda pct: -pct)"
   ]
  },
  {
   "cell_type": "code",
   "execution_count": null,
   "id": "188620ce",
   "metadata": {},
   "outputs": [],
   "source": [
    "# function to correct negative \n",
    "def get_label_value(num):\n",
    "    if num >= 0:\n",
    "        return str(round((num), 2)) + '%'\n",
    "    else:\n",
    "        return str(round((-num), 2)) +'%'"
   ]
  },
  {
   "cell_type": "code",
   "execution_count": null,
   "id": "33df0505",
   "metadata": {},
   "outputs": [],
   "source": [
    "# Graph Top and Bottom Operators\n",
    "ax = top_bottom_operators[['ACCEPTABLE_ADHERENCE_PCT', 'NEGATIVE_ACCEPTABLE']].plot(kind='barh',\n",
    "                                                                      stacked=True,\n",
    "                                                                      figsize=(12, 8),\n",
    "                                                                     color= [purple, black])\n",
    "\n",
    "ax.set(title = 'Top and Bottom Performing Operators',\n",
    "        xlabel = 'Percentage',\n",
    "       ylabel = 'Operator')\n",
    "\n",
    "# set bar labels\n",
    "for bar in ax.patches:\n",
    "  ax.text(\n",
    "      bar.get_x() + bar.get_width() / 2, # horizontal alignment\n",
    "      bar.get_height() + bar.get_y() - 0.41, # vertical alignment\n",
    "      get_label_value(bar.get_width()), # value\n",
    "      ha='center', # Center the labels\n",
    "      color= gray, # style labels\n",
    "      weight='bold',\n",
    "      size=10\n",
    "  )\n",
    "\n",
    "ax.legend(bbox_to_anchor=(1, 1), title='Categories', labels = ['% On Time', '% Acceptable Headway'])\n",
    "# Create custom percent labels\n",
    "ax.set_xticklabels(['', '100%', '75%', '50%', '25%', '0%', '25%', '50%', '75%', '100%'])\n",
    "\n",
    "plt.savefig('../images/top_and_bottom_opperators_graph.png')\n",
    "plt.show()"
   ]
  },
  {
   "cell_type": "markdown",
   "id": "6b6327e0",
   "metadata": {},
   "source": [
    "5. Is there any relationship between lateness (ADHERENCE) and headway deviation?"
   ]
  },
  {
   "cell_type": "code",
   "execution_count": null,
   "id": "39064cb3",
   "metadata": {},
   "outputs": [],
   "source": [
    "# PLOT Adherence vs Headway Deviation\n",
    "plt.figure(figsize=(12,10))\n",
    "plt.scatter(wego['ADHERENCE'],\n",
    "            wego['HDWY_DEV'],\n",
    "           c= purple,\n",
    "           marker='.',\n",
    "           alpha=0.3)\n",
    "\n",
    "plt.title('Adherence vs. Headway Deviation')\n",
    "plt.xlabel('Adherence')\n",
    "plt.ylabel('Headway Deviation')\n",
    "\n",
    "plt.savefig('../images/adherence_headway_corr.png')\n",
    "plt.show()"
   ]
  },
  {
   "cell_type": "code",
   "execution_count": null,
   "id": "6f41587f",
   "metadata": {},
   "outputs": [],
   "source": [
    "wego.columns"
   ]
  },
  {
   "cell_type": "code",
   "execution_count": null,
   "id": "cbd71ee1",
   "metadata": {},
   "outputs": [],
   "source": [
    "#correlation\n",
    "wego[['ADHERENCE', 'HDWY_DEV']].corr()"
   ]
  },
  {
   "cell_type": "code",
   "execution_count": null,
   "id": "51b73953",
   "metadata": {
    "scrolled": true
   },
   "outputs": [],
   "source": [
    "# early correlation\n",
    "wego[wego['ADJUSTED_EARLY_COUNT'] == 1][['ADHERENCE', 'HDWY_DEV']].corr()"
   ]
  },
  {
   "cell_type": "code",
   "execution_count": null,
   "id": "87971b42",
   "metadata": {},
   "outputs": [],
   "source": [
    "# on time correlation\n",
    "wego[wego['ADJUSTED_ONTIME_COUNT'] == 1][['ADHERENCE', 'HDWY_DEV']].corr()"
   ]
  },
  {
   "cell_type": "code",
   "execution_count": null,
   "id": "8093e0ce",
   "metadata": {},
   "outputs": [],
   "source": [
    "# late correlation\n",
    "wego[wego['ADJUSTED_LATE_COUNT'] == 1][['ADHERENCE', 'HDWY_DEV']].corr()"
   ]
  },
  {
   "cell_type": "code",
   "execution_count": null,
   "id": "84f74f2f",
   "metadata": {},
   "outputs": [],
   "source": []
  },
  {
   "cell_type": "code",
   "execution_count": null,
   "id": "c01490a1",
   "metadata": {},
   "outputs": [],
   "source": []
  },
  {
   "cell_type": "markdown",
   "id": "9b989bc0",
   "metadata": {},
   "source": [
    "\n",
    "**Stretch Goals:**  \n",
    "\n",
    "6. How much impact does being late or too spaced out at the first stop have downstream?  \n",
    "7. What is the impact of the layover at the start of the trip (the difference between the first stop arrival and departure time)? Does more dwell time at the beginning of a trip lead to more stable headways (lower values for % headway deviation)? Do trips with longer **scheduled** layover time have more stable headway values?  \n",
    "8. What is the relationship between distance or time traveled since the start of a given trip and the headway deviation? Does headway become less stable the further along the route the bus has traveled?"
   ]
  },
  {
   "cell_type": "code",
   "execution_count": null,
   "id": "0b5e79dc",
   "metadata": {},
   "outputs": [],
   "source": []
  }
 ],
 "metadata": {
  "kernelspec": {
   "display_name": "Python 3 (ipykernel)",
   "language": "python",
   "name": "python3"
  },
  "language_info": {
   "codemirror_mode": {
    "name": "ipython",
    "version": 3
   },
   "file_extension": ".py",
   "mimetype": "text/x-python",
   "name": "python",
   "nbconvert_exporter": "python",
   "pygments_lexer": "ipython3",
   "version": "3.11.7"
  }
 },
 "nbformat": 4,
 "nbformat_minor": 5
}
