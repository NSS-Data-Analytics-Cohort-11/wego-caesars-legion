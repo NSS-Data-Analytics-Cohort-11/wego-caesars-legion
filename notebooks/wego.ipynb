{
 "cells": [
  {
   "cell_type": "code",
   "execution_count": 1,
   "id": "48f9bf70",
   "metadata": {},
   "outputs": [],
   "source": [
    "#import definitions\n",
    "import pandas as pd\n",
    "import numpy as np\n",
    "import matplotlib.pyplot as plt\n",
    "import datetime as dt"
   ]
  },
  {
   "cell_type": "code",
   "execution_count": 2,
   "id": "d22f1692",
   "metadata": {
    "scrolled": false
   },
   "outputs": [],
   "source": [
    "#read in data\n",
    "wego = pd.read_csv(\"../data/Headway Data, 8-1-2023 to 9-30-2023.csv\")"
   ]
  },
  {
   "cell_type": "code",
   "execution_count": 3,
   "id": "71cde88e",
   "metadata": {},
   "outputs": [],
   "source": [
    "#define rgb colors for charts\n",
    "purple = 0.459, 0.235, 0.745\n",
    "gray = 0.827, 0.827, 0.827\n",
    "black = 0.137, 0.122, 0.125"
   ]
  },
  {
   "cell_type": "code",
   "execution_count": 4,
   "id": "fab801f7",
   "metadata": {},
   "outputs": [],
   "source": [
    "##various explores\n",
    "#preview data\n",
    "#wego.head()\n",
    "#wego.info(verbose=True)"
   ]
  },
  {
   "cell_type": "markdown",
   "id": "7f9bcfa9",
   "metadata": {},
   "source": [
    "#### Cleaning & Derived Columns:"
   ]
  },
  {
   "cell_type": "code",
   "execution_count": 5,
   "id": "752a8d77",
   "metadata": {},
   "outputs": [],
   "source": [
    "#drop rows with missing arrival or departure times\n",
    "wego = wego.loc[(wego['ADJUSTED_ONTIME_COUNT'] == 1)\n",
    "        |\n",
    "        (wego['ADJUSTED_EARLY_COUNT'] == 1)\n",
    "        |\n",
    "        (wego['ADJUSTED_LATE_COUNT'] == 1)]"
   ]
  },
  {
   "cell_type": "code",
   "execution_count": 6,
   "id": "a54e1773",
   "metadata": {},
   "outputs": [],
   "source": [
    "# Calculate HDWY Deviation Percentage\n",
    "def get_dev_pct(row):\n",
    "    '''Takes a row as input, returns a perfencate value. \n",
    "    Calculate the headway deviation percentage taking into\n",
    "    consideration the possibility of SCHEDULED_HDWY being 0'''\n",
    "    if row['SCHEDULED_HDWY'] != 0:\n",
    "        return (row['HDWY_DEV']) / row['SCHEDULED_HDWY'] * 100\n",
    "    else:\n",
    "        return np.NaN\n",
    "\n",
    "# create headway deviation percentage column\n",
    "wego['HDWY_DEV_PCT'] = wego.apply(lambda r: get_dev_pct(r), axis=1)"
   ]
  },
  {
   "cell_type": "code",
   "execution_count": 7,
   "id": "877957e8",
   "metadata": {},
   "outputs": [],
   "source": [
    "#establish columns for gapping, bunching, and acceptable headway values\n",
    "wego['HDWY_GAPPING'] = 0\n",
    "wego['HDWY_ACCEPTABLE'] = 0\n",
    "wego['HDWY_BUNCHING'] = 0"
   ]
  },
  {
   "cell_type": "code",
   "execution_count": 8,
   "id": "9ce08a91",
   "metadata": {},
   "outputs": [],
   "source": [
    "#establish functions for populating headway columns\n",
    "#Note that you can calculate headway deviation percentage as HDWY_DEV/SCHEDULED_HDWY. \n",
    "#The generally accepted range of headway deviation is 50% to 150% of the scheduled headway \n",
    "#so if scheduled headway is 10 minutes, a headway deviation of up to 5 minutes would be acceptable (but not ideal).\n",
    "\n",
    "def hdw_gapping(pct):\n",
    "    if (pct > 0) & (abs(pct) > 50):\n",
    "        return int(1)\n",
    "    else:\n",
    "        return int(0)\n",
    "    \n",
    "def hdw_acceptable(pct):\n",
    "    if abs(pct) <= 50:\n",
    "        return int(1)\n",
    "    else:\n",
    "        return int(0)\n",
    "    \n",
    "def hdw_bunching(pct):\n",
    "    if (pct < 0) & (abs(pct) > 50):\n",
    "        return int(1)\n",
    "    else:\n",
    "        return int(0)"
   ]
  },
  {
   "cell_type": "code",
   "execution_count": 9,
   "id": "57ee3402",
   "metadata": {},
   "outputs": [],
   "source": [
    "#execute functions and apply 0/1 values to columns\n",
    "wego['HDWY_BUNCHING'] = wego['HDWY_DEV_PCT'].apply(hdw_bunching)\n",
    "wego['HDWY_ACCEPTABLE'] = wego['HDWY_DEV_PCT'].apply(hdw_acceptable)\n",
    "wego['HDWY_GAPPING'] = wego['HDWY_DEV_PCT'].apply(hdw_gapping)"
   ]
  },
  {
   "cell_type": "code",
   "execution_count": 10,
   "id": "b888b987",
   "metadata": {},
   "outputs": [],
   "source": [
    "# #inspect new columns\n",
    "#print(wego.HDWY_GAPPING.sum())\n",
    "#print(wego.HDWY_ACCEPTABLE.sum())\n",
    "#print(wego.HDWY_BUNCHING.sum())"
   ]
  },
  {
   "cell_type": "code",
   "execution_count": 11,
   "id": "a6f863b4",
   "metadata": {},
   "outputs": [],
   "source": [
    "#create a unique identifier\n",
    "wego['DATE_TRIP'] = wego.apply(lambda row: str(row['CALENDAR_ID']) + '-' + str(row['TRIP_ID']), axis=1)"
   ]
  },
  {
   "cell_type": "code",
   "execution_count": 12,
   "id": "6e2f5fcc",
   "metadata": {
    "scrolled": true
   },
   "outputs": [
    {
     "name": "stdout",
     "output_type": "stream",
     "text": [
      "Number of distinct trips: 66450\n"
     ]
    }
   ],
   "source": [
    "print('Number of distinct trips: ' + str(wego.DATE_TRIP.nunique()))"
   ]
  },
  {
   "cell_type": "markdown",
   "id": "99ffe558",
   "metadata": {},
   "source": [
    "#### About our data"
   ]
  },
  {
   "cell_type": "code",
   "execution_count": 13,
   "id": "f5a1bbf5",
   "metadata": {},
   "outputs": [
    {
     "data": {
      "text/plain": [
       "Index(['CALENDAR_ID', 'SERVICE_ABBR', 'ADHERENCE_ID', 'DATE', 'ROUTE_ABBR',\n",
       "       'BLOCK_ABBR', 'OPERATOR', 'TRIP_ID', 'OVERLOAD_ID',\n",
       "       'ROUTE_DIRECTION_NAME', 'TIME_POINT_ABBR', 'ROUTE_STOP_SEQUENCE',\n",
       "       'TRIP_EDGE', 'LATITUDE', 'LONGITUDE', 'SCHEDULED_TIME',\n",
       "       'ACTUAL_ARRIVAL_TIME', 'ACTUAL_DEPARTURE_TIME', 'ADHERENCE',\n",
       "       'SCHEDULED_HDWY', 'ACTUAL_HDWY', 'HDWY_DEV', 'ADJUSTED_EARLY_COUNT',\n",
       "       'ADJUSTED_LATE_COUNT', 'ADJUSTED_ONTIME_COUNT', 'STOP_CANCELLED',\n",
       "       'PREV_SCHED_STOP_CANCELLED', 'IS_RELIEF', 'DWELL_IN_MINS',\n",
       "       'SCHEDULED_LAYOVER_MINUTES', 'HDWY_DEV_PCT', 'HDWY_GAPPING',\n",
       "       'HDWY_ACCEPTABLE', 'HDWY_BUNCHING', 'DATE_TRIP'],\n",
       "      dtype='object')"
      ]
     },
     "execution_count": 13,
     "metadata": {},
     "output_type": "execute_result"
    }
   ],
   "source": [
    "wego.columns"
   ]
  },
  {
   "cell_type": "code",
   "execution_count": 14,
   "id": "40aff894",
   "metadata": {},
   "outputs": [
    {
     "data": {
      "text/plain": [
       "'8/1/2023'"
      ]
     },
     "execution_count": 14,
     "metadata": {},
     "output_type": "execute_result"
    }
   ],
   "source": [
    "# date range start\n",
    "wego.DATE.min()"
   ]
  },
  {
   "cell_type": "code",
   "execution_count": 15,
   "id": "faa4b7ae",
   "metadata": {},
   "outputs": [
    {
     "data": {
      "text/plain": [
       "'9/9/2023'"
      ]
     },
     "execution_count": 15,
     "metadata": {},
     "output_type": "execute_result"
    }
   ],
   "source": [
    "#date range end\n",
    "wego.DATE.max()"
   ]
  },
  {
   "cell_type": "code",
   "execution_count": 16,
   "id": "60f51d8f",
   "metadata": {},
   "outputs": [
    {
     "data": {
      "text/plain": [
       "8"
      ]
     },
     "execution_count": 16,
     "metadata": {},
     "output_type": "execute_result"
    }
   ],
   "source": [
    "#number of routes\n",
    "wego.ROUTE_ABBR.nunique()"
   ]
  },
  {
   "cell_type": "code",
   "execution_count": 17,
   "id": "6f69c7d6",
   "metadata": {},
   "outputs": [
    {
     "data": {
      "text/plain": [
       "66450"
      ]
     },
     "execution_count": 17,
     "metadata": {},
     "output_type": "execute_result"
    }
   ],
   "source": [
    "#number of trips\n",
    "wego.DATE_TRIP.nunique()"
   ]
  },
  {
   "cell_type": "code",
   "execution_count": 18,
   "id": "e8cb4372",
   "metadata": {},
   "outputs": [
    {
     "data": {
      "text/plain": [
       "341"
      ]
     },
     "execution_count": 18,
     "metadata": {},
     "output_type": "execute_result"
    }
   ],
   "source": [
    "#number of drivers\n",
    "wego.OPERATOR.nunique()"
   ]
  },
  {
   "cell_type": "code",
   "execution_count": 19,
   "id": "4e51e738",
   "metadata": {},
   "outputs": [
    {
     "data": {
      "text/plain": [
       "338861"
      ]
     },
     "execution_count": 19,
     "metadata": {},
     "output_type": "execute_result"
    }
   ],
   "source": [
    "#number of stops\n",
    "len(wego)"
   ]
  },
  {
   "cell_type": "markdown",
   "id": "edc4831f",
   "metadata": {},
   "source": [
    "#### 1. What is the overall on-time performance, and what do the overall distributions of adherence and headway deviation look like? "
   ]
  },
  {
   "cell_type": "code",
   "execution_count": 20,
   "id": "ca25a8fb",
   "metadata": {},
   "outputs": [
    {
     "data": {
      "text/plain": [
       "79.69"
      ]
     },
     "execution_count": 20,
     "metadata": {},
     "output_type": "execute_result"
    }
   ],
   "source": [
    "#overall on time performance\n",
    "round(wego.ADJUSTED_ONTIME_COUNT.sum()/len(wego.ADJUSTED_ONTIME_COUNT)*100,2)"
   ]
  },
  {
   "cell_type": "markdown",
   "id": "bbc6883d",
   "metadata": {},
   "source": [
    "79.69% of trips are on time."
   ]
  },
  {
   "cell_type": "code",
   "execution_count": 21,
   "id": "24804b2b",
   "metadata": {},
   "outputs": [
    {
     "data": {
      "text/plain": [
       "338861"
      ]
     },
     "execution_count": 21,
     "metadata": {},
     "output_type": "execute_result"
    }
   ],
   "source": [
    "wego.ADJUSTED_EARLY_COUNT.sum() + wego.ADJUSTED_LATE_COUNT.sum() + wego.ADJUSTED_ONTIME_COUNT.sum()"
   ]
  },
  {
   "cell_type": "code",
   "execution_count": 22,
   "id": "7a21345d",
   "metadata": {
    "scrolled": true
   },
   "outputs": [
    {
     "ename": "AttributeError",
     "evalue": "'Axes' object has no attribute 'show'",
     "output_type": "error",
     "traceback": [
      "\u001b[1;31m---------------------------------------------------------------------------\u001b[0m",
      "\u001b[1;31mAttributeError\u001b[0m                            Traceback (most recent call last)",
      "Cell \u001b[1;32mIn[22], line 6\u001b[0m\n\u001b[0;32m      4\u001b[0m pchart\u001b[38;5;241m.\u001b[39mset (title \u001b[38;5;241m=\u001b[39m \u001b[38;5;124m'\u001b[39m\u001b[38;5;124mOverall Performance - Adherence\u001b[39m\u001b[38;5;124m'\u001b[39m)\n\u001b[0;32m      5\u001b[0m plt\u001b[38;5;241m.\u001b[39msavefig(\u001b[38;5;124m'\u001b[39m\u001b[38;5;124m../images/overall_performance_pie.png\u001b[39m\u001b[38;5;124m'\u001b[39m)\n\u001b[1;32m----> 6\u001b[0m pchart\u001b[38;5;241m.\u001b[39mshow()\n",
      "\u001b[1;31mAttributeError\u001b[0m: 'Axes' object has no attribute 'show'"
     ]
    },
    {
     "data": {
      "image/png": "[encoded data removed]",
      "text/plain": [
       "<Figure size 1000x800 with 1 Axes>"
      ]
     },
     "metadata": {},
     "output_type": "display_data"
    }
   ],
   "source": [
    "# Adherence graph - pie\n",
    "# autopct='%1.2f%%'\n",
    "pchart = wego[['ADJUSTED_ONTIME_COUNT', 'ADJUSTED_LATE_COUNT', 'ADJUSTED_EARLY_COUNT']].sum().plot(kind='pie', colors=(purple, gray, black), labels=['On Time - 79.69%', 'Late - 17.42%', 'Early - 2.88%'], labeldistance=1.10, figsize=(10,8))\n",
    "pchart.set (title = 'Overall Performance - Adherence')\n",
    "plt.savefig('../images/overall_performance_pie.png')\n",
    "pchart.show()"
   ]
  },
  {
   "cell_type": "code",
   "execution_count": 23,
   "id": "a6aaa982",
   "metadata": {},
   "outputs": [
    {
     "name": "stdout",
     "output_type": "stream",
     "text": [
      "Number of perfect trips: 39923\n",
      "Percentage of perfect trips: 60.07975921745673\n"
     ]
    }
   ],
   "source": [
    "#perfect_trips\n",
    "perfect_trips = wego.groupby('DATE_TRIP')[['ADJUSTED_EARLY_COUNT',\n",
    "       'ADJUSTED_LATE_COUNT', 'ADJUSTED_ONTIME_COUNT']].sum()\n",
    "perfect_trips = perfect_trips[(perfect_trips.ADJUSTED_EARLY_COUNT == 0) & (perfect_trips.ADJUSTED_LATE_COUNT == 0)]\n",
    "\n",
    "perfect_count = len(perfect_trips)\n",
    "\n",
    "percent_perfect = perfect_count/(wego.DATE_TRIP.nunique())*100\n",
    "\n",
    "print('Number of perfect trips: ' + str(perfect_count))\n",
    "print('Percentage of perfect trips: ' + str(percent_perfect))\n"
   ]
  },
  {
   "cell_type": "code",
   "execution_count": 24,
   "id": "28c2a973",
   "metadata": {},
   "outputs": [],
   "source": [
    "## Per Dibran - use adjusted fields and newly calculated hdwy to chart performance\n",
    "#distribution of headway and adherence\n",
    "ad_stddev = np.std(wego.ADHERENCE)\n",
    "ad_mean = wego.ADHERENCE.mean()\n",
    "ad_min = ad_mean-(ad_stddev*3)\n",
    "ad_max = ad_mean+(ad_stddev*3)\n",
    "\n",
    "hdw_stddev = np.std(wego.HDWY_DEV)\n",
    "hdw_mean = wego.HDWY_DEV.mean()\n",
    "hdw_min = hdw_mean-(hdw_stddev*3)\n",
    "hdw_max = hdw_mean+(hdw_stddev*3)"
   ]
  },
  {
   "cell_type": "code",
   "execution_count": 25,
   "id": "4eaaeae4",
   "metadata": {},
   "outputs": [],
   "source": [
    "# wego.ADHERENCE.describe()"
   ]
  },
  {
   "cell_type": "code",
   "execution_count": 26,
   "id": "aae8b028",
   "metadata": {},
   "outputs": [],
   "source": [
    "# #distributions of adherence\n",
    "# adherence_cats = wego[wego['ADJUSTED_EARLY_COUNT','ADJUSTED_ONTIME_COUNT','ADJUSTED_LATE_COUNT']].sum()\n",
    "# # adherence_cats.plot(kind='hist')\n",
    "# # adherence_cats.set(title='Adherence Distribution by Category', xlabel='Category',  ylabel='Count of Stops')\n",
    "# sns.histplot(data=adherence_cats)"
   ]
  },
  {
   "cell_type": "code",
   "execution_count": 27,
   "id": "4d2de73c",
   "metadata": {},
   "outputs": [
    {
     "name": "stdout",
     "output_type": "stream",
     "text": [
      "3341\n",
      "76191\n"
     ]
    }
   ],
   "source": [
    "total_adh_count = len(wego.ADHERENCE)\n",
    "adh_non_outlier = len(wego[wego['ADHERENCE'].between(ad_min, ad_max, inclusive='both')])\n",
    "adh_outlier_count = total_adh_count - adh_non_outlier\n",
    "print(adh_outlier_count)\n",
    "\n",
    "total_hdw_count = len(wego.HDWY_DEV)\n",
    "hdw_non_outlier = len(wego[wego['HDWY_DEV'].between(hdw_min, hdw_max, inclusive='both')])\n",
    "hdw_outlier_count = total_hdw_count - hdw_non_outlier\n",
    "print(hdw_outlier_count)\n",
    "\n"
   ]
  },
  {
   "cell_type": "code",
   "execution_count": 28,
   "id": "3ada57c8",
   "metadata": {},
   "outputs": [
    {
     "ename": "AttributeError",
     "evalue": "'Axes' object has no attribute 'show'",
     "output_type": "error",
     "traceback": [
      "\u001b[1;31m---------------------------------------------------------------------------\u001b[0m",
      "\u001b[1;31mAttributeError\u001b[0m                            Traceback (most recent call last)",
      "Cell \u001b[1;32mIn[28], line 5\u001b[0m\n\u001b[0;32m      3\u001b[0m adherence_hist\u001b[38;5;241m.\u001b[39mset(title\u001b[38;5;241m=\u001b[39m\u001b[38;5;124m'\u001b[39m\u001b[38;5;124mAdherence Distribution Excluding Outliers\u001b[39m\u001b[38;5;124m'\u001b[39m, xlabel\u001b[38;5;241m=\u001b[39m\u001b[38;5;124m'\u001b[39m\u001b[38;5;124mAdherence\u001b[39m\u001b[38;5;124m'\u001b[39m,  ylabel\u001b[38;5;241m=\u001b[39m\u001b[38;5;124m'\u001b[39m\u001b[38;5;124mCount of Stops\u001b[39m\u001b[38;5;124m'\u001b[39m)\n\u001b[0;32m      4\u001b[0m \u001b[38;5;66;03m#plt.savefig('../images/ahderence_distribution.png')\u001b[39;00m\n\u001b[1;32m----> 5\u001b[0m adherence_hist\u001b[38;5;241m.\u001b[39mshow()\n",
      "\u001b[1;31mAttributeError\u001b[0m: 'Axes' object has no attribute 'show'"
     ]
    },
    {
     "data": {
      "image/png": "[encoded data removed]",
      "text/plain": [
       "<Figure size 640x480 with 1 Axes>"
      ]
     },
     "metadata": {},
     "output_type": "display_data"
    }
   ],
   "source": [
    "#distributions of adherence deviation\n",
    "adherence_hist = wego[wego['ADHERENCE'].between(ad_min, ad_max, inclusive='both')]['ADHERENCE'].plot(kind='hist', bins=50, color = purple)\n",
    "adherence_hist.set(title='Adherence Distribution Excluding Outliers', xlabel='Adherence',  ylabel='Count of Stops')\n",
    "#plt.savefig('../images/ahderence_distribution.png')\n",
    "adherence_hist.show()"
   ]
  },
  {
   "cell_type": "code",
   "execution_count": 29,
   "id": "f96daf35",
   "metadata": {},
   "outputs": [
    {
     "data": {
      "text/plain": [
       "count    265893.000000\n",
       "mean          0.518081\n",
       "std           7.161798\n",
       "min         -64.000000\n",
       "25%          -2.316667\n",
       "50%           0.033333\n",
       "75%           2.483333\n",
       "max         565.433333\n",
       "Name: HDWY_DEV, dtype: float64"
      ]
     },
     "execution_count": 29,
     "metadata": {},
     "output_type": "execute_result"
    }
   ],
   "source": [
    "wego.HDWY_DEV.describe()"
   ]
  },
  {
   "cell_type": "code",
   "execution_count": 30,
   "id": "cefeb29f",
   "metadata": {
    "scrolled": true
   },
   "outputs": [
    {
     "data": {
      "image/png": "[encoded data removed]",
      "text/plain": [
       "<Figure size 640x480 with 1 Axes>"
      ]
     },
     "metadata": {},
     "output_type": "display_data"
    }
   ],
   "source": [
    "#distributions of headway deviation\n",
    "adherence_hist = wego[wego['HDWY_DEV'].between(hdw_min, hdw_max, inclusive='both')]['HDWY_DEV'].plot(kind='hist', bins=50, color = purple)\n",
    "adherence_hist.set(title='Headway Distribution Excluding Outliers', xlabel='Headway in Minutes',  ylabel='Count of Stops')\n",
    "plt.savefig('../images/headway_distribution.png')\n",
    "plt.show()"
   ]
  },
  {
   "cell_type": "markdown",
   "id": "98ab284c",
   "metadata": {},
   "source": [
    "### 2. How does direction of travel, route, or location affect the headway and on-time performance?"
   ]
  },
  {
   "cell_type": "markdown",
   "id": "f58c0bcb",
   "metadata": {},
   "source": [
    "#### Q2 Findings:\n",
    "-- Buses headed into downtown are more timely than outbound buses </br>\n",
    "-- Route 22 is the most timely </br>\n",
    "-- "
   ]
  },
  {
   "cell_type": "code",
   "execution_count": 31,
   "id": "202ffeed",
   "metadata": {},
   "outputs": [
    {
     "data": {
      "text/plain": [
       "Index(['CALENDAR_ID', 'SERVICE_ABBR', 'ADHERENCE_ID', 'DATE', 'ROUTE_ABBR',\n",
       "       'BLOCK_ABBR', 'OPERATOR', 'TRIP_ID', 'OVERLOAD_ID',\n",
       "       'ROUTE_DIRECTION_NAME', 'TIME_POINT_ABBR', 'ROUTE_STOP_SEQUENCE',\n",
       "       'TRIP_EDGE', 'LATITUDE', 'LONGITUDE', 'SCHEDULED_TIME',\n",
       "       'ACTUAL_ARRIVAL_TIME', 'ACTUAL_DEPARTURE_TIME', 'ADHERENCE',\n",
       "       'SCHEDULED_HDWY', 'ACTUAL_HDWY', 'HDWY_DEV', 'ADJUSTED_EARLY_COUNT',\n",
       "       'ADJUSTED_LATE_COUNT', 'ADJUSTED_ONTIME_COUNT', 'STOP_CANCELLED',\n",
       "       'PREV_SCHED_STOP_CANCELLED', 'IS_RELIEF', 'DWELL_IN_MINS',\n",
       "       'SCHEDULED_LAYOVER_MINUTES', 'HDWY_DEV_PCT', 'HDWY_GAPPING',\n",
       "       'HDWY_ACCEPTABLE', 'HDWY_BUNCHING', 'DATE_TRIP'],\n",
       "      dtype='object')"
      ]
     },
     "execution_count": 31,
     "metadata": {},
     "output_type": "execute_result"
    }
   ],
   "source": [
    "wego.columns"
   ]
  },
  {
   "cell_type": "markdown",
   "id": "d97889a1",
   "metadata": {},
   "source": [
    "#### Direction"
   ]
  },
  {
   "cell_type": "code",
   "execution_count": 32,
   "id": "62da3a78",
   "metadata": {
    "scrolled": true
   },
   "outputs": [
    {
     "data": {
      "image/png": "[encoded data removed]",
      "text/plain": [
       "<Figure size 640x480 with 1 Axes>"
      ]
     },
     "metadata": {},
     "output_type": "display_data"
    }
   ],
   "source": [
    "#ADHERENCE\n",
    "routes_totals = (\n",
    "    wego.groupby('ROUTE_DIRECTION_NAME')\n",
    "         [['ADJUSTED_ONTIME_COUNT', 'ADJUSTED_LATE_COUNT', 'ADJUSTED_EARLY_COUNT']]\n",
    "         .sum()\n",
    ")\n",
    "\n",
    "routes_totals['TOTALS'] = routes_totals.sum(axis=1)\n",
    "\n",
    "routes_totals['ONTIME_PCT'] = routes_totals['ADJUSTED_ONTIME_COUNT'] / routes_totals['TOTALS'] * 100\n",
    "routes_totals['EARLY_PCT'] = routes_totals['ADJUSTED_EARLY_COUNT'] / routes_totals['TOTALS'] * 100\n",
    "routes_totals['LATE_PCT'] = routes_totals['ADJUSTED_LATE_COUNT'] / routes_totals['TOTALS'] * 100\n",
    "\n",
    "# Route Adherence graph\n",
    "ax = (\n",
    "    routes_totals[['ONTIME_PCT', 'EARLY_PCT', 'LATE_PCT']]\n",
    ").sort_values('ONTIME_PCT', ascending=False).plot(kind='bar', stacked=True, color = (purple, gray, black))\n",
    "ax.set(title = 'Route Direction Adherence Performance',\n",
    "        xlabel = 'Route Direction',\n",
    "       ylabel = 'Percentage')\n",
    "ax.legend(bbox_to_anchor=(1, 1))\n",
    "ax.tick_params(axis='x', rotation=0)\n",
    "#plt.savefig('../images/route_adherence.png')\n",
    "plt.show()"
   ]
  },
  {
   "cell_type": "code",
   "execution_count": 33,
   "id": "6a1c8847",
   "metadata": {},
   "outputs": [
    {
     "data": {
      "text/html": [
       "<div>\n",
       "<style scoped>\n",
       "    .dataframe tbody tr th:only-of-type {\n",
       "        vertical-align: middle;\n",
       "    }\n",
       "\n",
       "    .dataframe tbody tr th {\n",
       "        vertical-align: top;\n",
       "    }\n",
       "\n",
       "    .dataframe thead th {\n",
       "        text-align: right;\n",
       "    }\n",
       "</style>\n",
       "<table border=\"1\" class=\"dataframe\">\n",
       "  <thead>\n",
       "    <tr style=\"text-align: right;\">\n",
       "      <th></th>\n",
       "      <th>ADJUSTED_ONTIME_COUNT</th>\n",
       "      <th>ADJUSTED_LATE_COUNT</th>\n",
       "      <th>ADJUSTED_EARLY_COUNT</th>\n",
       "      <th>TOTALS</th>\n",
       "      <th>ONTIME_PCT</th>\n",
       "      <th>EARLY_PCT</th>\n",
       "      <th>LATE_PCT</th>\n",
       "    </tr>\n",
       "    <tr>\n",
       "      <th>ROUTE_DIRECTION_NAME</th>\n",
       "      <th></th>\n",
       "      <th></th>\n",
       "      <th></th>\n",
       "      <th></th>\n",
       "      <th></th>\n",
       "      <th></th>\n",
       "      <th></th>\n",
       "    </tr>\n",
       "  </thead>\n",
       "  <tbody>\n",
       "    <tr>\n",
       "      <th>FROM DOWNTOWN</th>\n",
       "      <td>134414</td>\n",
       "      <td>39601</td>\n",
       "      <td>5291</td>\n",
       "      <td>179306</td>\n",
       "      <td>74.963470</td>\n",
       "      <td>2.950822</td>\n",
       "      <td>22.085708</td>\n",
       "    </tr>\n",
       "    <tr>\n",
       "      <th>TO DOWNTOWN</th>\n",
       "      <td>135634</td>\n",
       "      <td>19437</td>\n",
       "      <td>4484</td>\n",
       "      <td>159555</td>\n",
       "      <td>85.007678</td>\n",
       "      <td>2.810316</td>\n",
       "      <td>12.182006</td>\n",
       "    </tr>\n",
       "  </tbody>\n",
       "</table>\n",
       "</div>"
      ],
      "text/plain": [
       "                      ADJUSTED_ONTIME_COUNT  ADJUSTED_LATE_COUNT  \\\n",
       "ROUTE_DIRECTION_NAME                                               \n",
       "FROM DOWNTOWN                        134414                39601   \n",
       "TO DOWNTOWN                          135634                19437   \n",
       "\n",
       "                      ADJUSTED_EARLY_COUNT  TOTALS  ONTIME_PCT  EARLY_PCT  \\\n",
       "ROUTE_DIRECTION_NAME                                                        \n",
       "FROM DOWNTOWN                         5291  179306   74.963470   2.950822   \n",
       "TO DOWNTOWN                           4484  159555   85.007678   2.810316   \n",
       "\n",
       "                       LATE_PCT  \n",
       "ROUTE_DIRECTION_NAME             \n",
       "FROM DOWNTOWN         22.085708  \n",
       "TO DOWNTOWN           12.182006  "
      ]
     },
     "execution_count": 33,
     "metadata": {},
     "output_type": "execute_result"
    }
   ],
   "source": [
    "routes_totals.head()"
   ]
  },
  {
   "cell_type": "code",
   "execution_count": 34,
   "id": "7ace1004",
   "metadata": {},
   "outputs": [],
   "source": [
    "# #initial adherence by direction using count of stops\n",
    "# #headyway and adherence by route direction\n",
    "# ad_chart = wego.groupby('ROUTE_DIRECTION_NAME')[['ADJUSTED_ONTIME_COUNT', 'ADJUSTED_LATE_COUNT', 'ADJUSTED_EARLY_COUNT']].sum().plot(kind='bar', stacked=True)\n",
    "# ad_chart.set(title='Route Direction Adherence by Category', xlabel = 'Direction', ylabel = 'Count of Stops')\n",
    "# ad_chart.legend(bbox_to_anchor=(1, 1))"
   ]
  },
  {
   "cell_type": "code",
   "execution_count": 35,
   "id": "448f1e46",
   "metadata": {},
   "outputs": [
    {
     "data": {
      "image/png": "[encoded data removed]",
      "text/plain": [
       "<Figure size 640x480 with 1 Axes>"
      ]
     },
     "metadata": {},
     "output_type": "display_data"
    }
   ],
   "source": [
    "#HEADWAY\n",
    "routes_totals = (\n",
    "    wego.groupby('ROUTE_DIRECTION_NAME')\n",
    "         [['HDWY_ACCEPTABLE','HDWY_BUNCHING','HDWY_GAPPING']]\n",
    "         .sum()\n",
    ")\n",
    "\n",
    "routes_totals['TOTALS'] = routes_totals.sum(axis=1)\n",
    "\n",
    "routes_totals['ACCEPTABLE_PCT'] = routes_totals['HDWY_ACCEPTABLE'] / routes_totals['TOTALS'] * 100\n",
    "routes_totals['BUNCHING_PCT'] = routes_totals['HDWY_BUNCHING'] / routes_totals['TOTALS'] * 100\n",
    "routes_totals['GAPING_PCT'] = routes_totals['HDWY_GAPPING'] / routes_totals['TOTALS'] * 100\n",
    "\n",
    "# Route Adherence graph\n",
    "ax = (\n",
    "    routes_totals[['ACCEPTABLE_PCT', 'BUNCHING_PCT', 'GAPING_PCT']]\n",
    ").sort_values('ACCEPTABLE_PCT', ascending=False).plot(kind='bar', stacked=True, color = (purple, gray, black))\n",
    "ax.set(title = 'Route Direction Headway Performance',\n",
    "        xlabel = 'Route Direction',\n",
    "       ylabel = 'Percentage')\n",
    "ax.legend(bbox_to_anchor=(1, 1), labels = ['Acceptable', 'Bunching', 'Gapping'])\n",
    "ax.tick_params(axis='x', rotation=0)\n",
    "#plt.savefig('../images/route_headway.png')\n",
    "plt.show()"
   ]
  },
  {
   "cell_type": "code",
   "execution_count": 36,
   "id": "25fc53ad",
   "metadata": {
    "scrolled": true
   },
   "outputs": [],
   "source": [
    "# #initial headway by route direction using count of stops\n",
    "# hdw_chart = wego.groupby('ROUTE_DIRECTION_NAME')[['HDWY_ACCEPTABLE','HDWY_BUNCHING','HDWY_GAPPING']].sum().plot(kind='bar', stacked=True)\n",
    "# hdw_chart.set(title='Route Direction Headway by Category', xlabel = 'Direction', ylabel = 'Count of Stops')\n",
    "# hdw_chart.legend(bbox_to_anchor=(1, 1))\n"
   ]
  },
  {
   "cell_type": "code",
   "execution_count": 37,
   "id": "59fda882",
   "metadata": {},
   "outputs": [
    {
     "data": {
      "text/html": [
       "<div>\n",
       "<style scoped>\n",
       "    .dataframe tbody tr th:only-of-type {\n",
       "        vertical-align: middle;\n",
       "    }\n",
       "\n",
       "    .dataframe tbody tr th {\n",
       "        vertical-align: top;\n",
       "    }\n",
       "\n",
       "    .dataframe thead th {\n",
       "        text-align: right;\n",
       "    }\n",
       "</style>\n",
       "<table border=\"1\" class=\"dataframe\">\n",
       "  <thead>\n",
       "    <tr style=\"text-align: right;\">\n",
       "      <th></th>\n",
       "      <th>ADHERENCE</th>\n",
       "      <th>HDWY_DEV</th>\n",
       "    </tr>\n",
       "    <tr>\n",
       "      <th>ROUTE_DIRECTION_NAME</th>\n",
       "      <th></th>\n",
       "      <th></th>\n",
       "    </tr>\n",
       "  </thead>\n",
       "  <tbody>\n",
       "    <tr>\n",
       "      <th>FROM DOWNTOWN</th>\n",
       "      <td>-3.960287</td>\n",
       "      <td>0.579990</td>\n",
       "    </tr>\n",
       "    <tr>\n",
       "      <th>TO DOWNTOWN</th>\n",
       "      <td>-2.321804</td>\n",
       "      <td>0.447773</td>\n",
       "    </tr>\n",
       "  </tbody>\n",
       "</table>\n",
       "</div>"
      ],
      "text/plain": [
       "                      ADHERENCE  HDWY_DEV\n",
       "ROUTE_DIRECTION_NAME                     \n",
       "FROM DOWNTOWN         -3.960287  0.579990\n",
       "TO DOWNTOWN           -2.321804  0.447773"
      ]
     },
     "execution_count": 37,
     "metadata": {},
     "output_type": "execute_result"
    }
   ],
   "source": [
    "wego.groupby('ROUTE_DIRECTION_NAME')[['ADHERENCE','HDWY_DEV']].mean()"
   ]
  },
  {
   "cell_type": "markdown",
   "id": "9a4b31bb",
   "metadata": {},
   "source": [
    "#### Route"
   ]
  },
  {
   "cell_type": "code",
   "execution_count": 38,
   "id": "6cccfa87",
   "metadata": {},
   "outputs": [
    {
     "data": {
      "image/png": "[encoded data removed]",
      "text/plain": [
       "<Figure size 640x480 with 1 Axes>"
      ]
     },
     "metadata": {},
     "output_type": "display_data"
    }
   ],
   "source": [
    "#break down stops by percentage of category\n",
    "routes_totals = (\n",
    "    wego.groupby('ROUTE_ABBR')\n",
    "         [['ADJUSTED_ONTIME_COUNT', 'ADJUSTED_LATE_COUNT', 'ADJUSTED_EARLY_COUNT']]\n",
    "         .sum()\n",
    ")\n",
    "\n",
    "routes_totals['TOTALS'] = routes_totals.sum(axis=1)\n",
    "\n",
    "routes_totals['ONTIME_PCT'] = routes_totals['ADJUSTED_ONTIME_COUNT'] / routes_totals['TOTALS'] * 100\n",
    "routes_totals['EARLY_PCT'] = routes_totals['ADJUSTED_EARLY_COUNT'] / routes_totals['TOTALS'] * 100\n",
    "routes_totals['LATE_PCT'] = routes_totals['ADJUSTED_LATE_COUNT'] / routes_totals['TOTALS'] * 100\n",
    "\n",
    "# Route Adherence graph\n",
    "ax = (\n",
    "    routes_totals[['ONTIME_PCT', 'EARLY_PCT', 'LATE_PCT']]\n",
    ").sort_values('ONTIME_PCT', ascending=False).plot(kind='bar', stacked=True, color = (purple, gray, black))\n",
    "ax.set(title = 'Route Adherence Performance',\n",
    "        xlabel = 'Route',\n",
    "       ylabel = 'Percentage')\n",
    "ax.legend(bbox_to_anchor=(1, 1))\n",
    "ax.tick_params(axis='x', rotation=0)\n",
    "#plt.savefig('../images/routeID_adherence.png')\n",
    "plt.show()"
   ]
  },
  {
   "cell_type": "code",
   "execution_count": 39,
   "id": "5561ca28",
   "metadata": {
    "scrolled": false
   },
   "outputs": [],
   "source": [
    "# #initial adherence by route ID using count of stops\n",
    "# #aherence by route ID\n",
    "# rte_adh_chart = wego.groupby('ROUTE_ABBR')[['ADJUSTED_ONTIME_COUNT', 'ADJUSTED_LATE_COUNT', 'ADJUSTED_EARLY_COUNT']].sum().sort_values('ADJUSTED_ONTIME_COUNT', ascending=False).plot(kind='bar', stacked=True)\n",
    "# rte_adh_chart.set(title='Adherence by Route', xlabel = 'Route Abbreviation', ylabel = 'Count of Stops')\n",
    "# rte_adh_chart.legend(bbox_to_anchor=(1, 1))"
   ]
  },
  {
   "cell_type": "code",
   "execution_count": 40,
   "id": "7335ffd0",
   "metadata": {},
   "outputs": [
    {
     "data": {
      "image/png": "[encoded data removed]",
      "text/plain": [
       "<Figure size 640x480 with 1 Axes>"
      ]
     },
     "metadata": {},
     "output_type": "display_data"
    }
   ],
   "source": [
    "#break down stops by percentage of category - headway\n",
    "routes_totals = (\n",
    "    wego.groupby('ROUTE_ABBR')\n",
    "         [['HDWY_ACCEPTABLE','HDWY_BUNCHING','HDWY_GAPPING']]\n",
    "         .sum()\n",
    ")\n",
    "\n",
    "routes_totals['TOTALS'] = routes_totals.sum(axis=1)\n",
    "\n",
    "routes_totals['ACCEPTABLE_PCT'] = routes_totals['HDWY_ACCEPTABLE'] / routes_totals['TOTALS'] * 100\n",
    "routes_totals['BUNCHING_PCT'] = routes_totals['HDWY_BUNCHING'] / routes_totals['TOTALS'] * 100\n",
    "routes_totals['GAPPING_PCT'] = routes_totals['HDWY_GAPPING'] / routes_totals['TOTALS'] * 100\n",
    "\n",
    "# Route Adherence graph\n",
    "ax = (\n",
    "    routes_totals[['ACCEPTABLE_PCT', 'BUNCHING_PCT', 'GAPPING_PCT']]\n",
    ").sort_values('ACCEPTABLE_PCT', ascending=False).plot(kind='bar', stacked=True, color = (purple, gray, black))\n",
    "ax.set(title = 'Route Headway Performance',\n",
    "        xlabel = 'Route',\n",
    "       ylabel = 'Percentage')\n",
    "ax.legend(bbox_to_anchor=(1, 1))\n",
    "ax.tick_params(axis='x', rotation=0)\n",
    "#plt.savefig('../images/routeID_headway.png')\n",
    "plt.show()"
   ]
  },
  {
   "cell_type": "code",
   "execution_count": 41,
   "id": "a7b030b4",
   "metadata": {},
   "outputs": [],
   "source": [
    "#intitial headway by route ID using count of stops\n",
    "# #headway by route ID\n",
    "# rte_hdw_chart = wego.groupby('ROUTE_ABBR')[['HDWY_ACCEPTABLE','HDWY_BUNCHING','HDWY_GAPPING']].sum().sort_values('HDWY_ACCEPTABLE', ascending=False).plot(kind='bar', stacked=True)\n",
    "# rte_hdw_chart.set(title='Headway by Route', xlabel = 'Route Abbreviation', ylabel = 'Count of Stops')\n",
    "# rte_hdw_chart.legend(bbox_to_anchor=(1, 1))"
   ]
  },
  {
   "cell_type": "code",
   "execution_count": 42,
   "id": "160c5eb0",
   "metadata": {
    "scrolled": true
   },
   "outputs": [
    {
     "data": {
      "text/html": [
       "<div>\n",
       "<style scoped>\n",
       "    .dataframe tbody tr th:only-of-type {\n",
       "        vertical-align: middle;\n",
       "    }\n",
       "\n",
       "    .dataframe tbody tr th {\n",
       "        vertical-align: top;\n",
       "    }\n",
       "\n",
       "    .dataframe thead th {\n",
       "        text-align: right;\n",
       "    }\n",
       "</style>\n",
       "<table border=\"1\" class=\"dataframe\">\n",
       "  <thead>\n",
       "    <tr style=\"text-align: right;\">\n",
       "      <th></th>\n",
       "      <th>ADHERENCE</th>\n",
       "      <th>HDWY_DEV</th>\n",
       "    </tr>\n",
       "    <tr>\n",
       "      <th>ROUTE_ABBR</th>\n",
       "      <th></th>\n",
       "      <th></th>\n",
       "    </tr>\n",
       "  </thead>\n",
       "  <tbody>\n",
       "    <tr>\n",
       "      <th>3</th>\n",
       "      <td>-3.761491</td>\n",
       "      <td>0.580907</td>\n",
       "    </tr>\n",
       "    <tr>\n",
       "      <th>7</th>\n",
       "      <td>-3.346555</td>\n",
       "      <td>0.336808</td>\n",
       "    </tr>\n",
       "    <tr>\n",
       "      <th>22</th>\n",
       "      <td>-1.138107</td>\n",
       "      <td>0.955867</td>\n",
       "    </tr>\n",
       "    <tr>\n",
       "      <th>23</th>\n",
       "      <td>-1.760110</td>\n",
       "      <td>1.053563</td>\n",
       "    </tr>\n",
       "    <tr>\n",
       "      <th>50</th>\n",
       "      <td>-2.505022</td>\n",
       "      <td>0.212376</td>\n",
       "    </tr>\n",
       "    <tr>\n",
       "      <th>52</th>\n",
       "      <td>-3.971342</td>\n",
       "      <td>0.974776</td>\n",
       "    </tr>\n",
       "    <tr>\n",
       "      <th>55</th>\n",
       "      <td>-4.823302</td>\n",
       "      <td>0.261038</td>\n",
       "    </tr>\n",
       "    <tr>\n",
       "      <th>56</th>\n",
       "      <td>-2.703988</td>\n",
       "      <td>0.149213</td>\n",
       "    </tr>\n",
       "  </tbody>\n",
       "</table>\n",
       "</div>"
      ],
      "text/plain": [
       "            ADHERENCE  HDWY_DEV\n",
       "ROUTE_ABBR                     \n",
       "3           -3.761491  0.580907\n",
       "7           -3.346555  0.336808\n",
       "22          -1.138107  0.955867\n",
       "23          -1.760110  1.053563\n",
       "50          -2.505022  0.212376\n",
       "52          -3.971342  0.974776\n",
       "55          -4.823302  0.261038\n",
       "56          -2.703988  0.149213"
      ]
     },
     "execution_count": 42,
     "metadata": {},
     "output_type": "execute_result"
    }
   ],
   "source": [
    "wego.groupby('ROUTE_ABBR')[['ADHERENCE','HDWY_DEV']].mean()"
   ]
  },
  {
   "cell_type": "markdown",
   "id": "de87fb7c",
   "metadata": {},
   "source": [
    "#### Stop location"
   ]
  },
  {
   "cell_type": "code",
   "execution_count": 43,
   "id": "a2077a97",
   "metadata": {},
   "outputs": [
    {
     "data": {
      "text/html": [
       "<div>\n",
       "<style scoped>\n",
       "    .dataframe tbody tr th:only-of-type {\n",
       "        vertical-align: middle;\n",
       "    }\n",
       "\n",
       "    .dataframe tbody tr th {\n",
       "        vertical-align: top;\n",
       "    }\n",
       "\n",
       "    .dataframe thead th {\n",
       "        text-align: right;\n",
       "    }\n",
       "</style>\n",
       "<table border=\"1\" class=\"dataframe\">\n",
       "  <thead>\n",
       "    <tr style=\"text-align: right;\">\n",
       "      <th></th>\n",
       "      <th>ADJUSTED_ONTIME_COUNT</th>\n",
       "      <th>ADJUSTED_LATE_COUNT</th>\n",
       "      <th>ADJUSTED_EARLY_COUNT</th>\n",
       "    </tr>\n",
       "    <tr>\n",
       "      <th>TIME_POINT_ABBR</th>\n",
       "      <th></th>\n",
       "      <th></th>\n",
       "      <th></th>\n",
       "    </tr>\n",
       "  </thead>\n",
       "  <tbody>\n",
       "    <tr>\n",
       "      <th>GXRVRGAT</th>\n",
       "      <td>11813</td>\n",
       "      <td>2355</td>\n",
       "      <td>495</td>\n",
       "    </tr>\n",
       "    <tr>\n",
       "      <th>DWMRT</th>\n",
       "      <td>11775</td>\n",
       "      <td>1267</td>\n",
       "      <td>237</td>\n",
       "    </tr>\n",
       "    <tr>\n",
       "      <th>WHBG</th>\n",
       "      <td>8868</td>\n",
       "      <td>2128</td>\n",
       "      <td>358</td>\n",
       "    </tr>\n",
       "    <tr>\n",
       "      <th>MCC4_18</th>\n",
       "      <td>8848</td>\n",
       "      <td>903</td>\n",
       "      <td>83</td>\n",
       "    </tr>\n",
       "    <tr>\n",
       "      <th>GXMADISO</th>\n",
       "      <td>8346</td>\n",
       "      <td>1169</td>\n",
       "      <td>287</td>\n",
       "    </tr>\n",
       "    <tr>\n",
       "      <th>...</th>\n",
       "      <td>...</td>\n",
       "      <td>...</td>\n",
       "      <td>...</td>\n",
       "    </tr>\n",
       "    <tr>\n",
       "      <th>CRES</th>\n",
       "      <td>28</td>\n",
       "      <td>4</td>\n",
       "      <td>0</td>\n",
       "    </tr>\n",
       "    <tr>\n",
       "      <th>MCC5_11</th>\n",
       "      <td>21</td>\n",
       "      <td>49</td>\n",
       "      <td>0</td>\n",
       "    </tr>\n",
       "    <tr>\n",
       "      <th>MCC4_13</th>\n",
       "      <td>19</td>\n",
       "      <td>3</td>\n",
       "      <td>48</td>\n",
       "    </tr>\n",
       "    <tr>\n",
       "      <th>MCC5_12</th>\n",
       "      <td>16</td>\n",
       "      <td>23</td>\n",
       "      <td>0</td>\n",
       "    </tr>\n",
       "    <tr>\n",
       "      <th>MCC5_7</th>\n",
       "      <td>2</td>\n",
       "      <td>31</td>\n",
       "      <td>3</td>\n",
       "    </tr>\n",
       "  </tbody>\n",
       "</table>\n",
       "<p>61 rows × 3 columns</p>\n",
       "</div>"
      ],
      "text/plain": [
       "                 ADJUSTED_ONTIME_COUNT  ADJUSTED_LATE_COUNT  \\\n",
       "TIME_POINT_ABBR                                               \n",
       "GXRVRGAT                         11813                 2355   \n",
       "DWMRT                            11775                 1267   \n",
       "WHBG                              8868                 2128   \n",
       "MCC4_18                           8848                  903   \n",
       "GXMADISO                          8346                 1169   \n",
       "...                                ...                  ...   \n",
       "CRES                                28                    4   \n",
       "MCC5_11                             21                   49   \n",
       "MCC4_13                             19                    3   \n",
       "MCC5_12                             16                   23   \n",
       "MCC5_7                               2                   31   \n",
       "\n",
       "                 ADJUSTED_EARLY_COUNT  \n",
       "TIME_POINT_ABBR                        \n",
       "GXRVRGAT                          495  \n",
       "DWMRT                             237  \n",
       "WHBG                              358  \n",
       "MCC4_18                            83  \n",
       "GXMADISO                          287  \n",
       "...                               ...  \n",
       "CRES                                0  \n",
       "MCC5_11                             0  \n",
       "MCC4_13                            48  \n",
       "MCC5_12                             0  \n",
       "MCC5_7                              3  \n",
       "\n",
       "[61 rows x 3 columns]"
      ]
     },
     "execution_count": 43,
     "metadata": {},
     "output_type": "execute_result"
    }
   ],
   "source": [
    "wego.groupby('TIME_POINT_ABBR')[['ADJUSTED_ONTIME_COUNT', 'ADJUSTED_LATE_COUNT', 'ADJUSTED_EARLY_COUNT']].sum().sort_values('ADJUSTED_ONTIME_COUNT', ascending=False)"
   ]
  },
  {
   "cell_type": "code",
   "execution_count": 44,
   "id": "cb481480",
   "metadata": {},
   "outputs": [
    {
     "data": {
      "image/png": "[encoded data removed]",
      "text/plain": [
       "<Figure size 1300x800 with 1 Axes>"
      ]
     },
     "metadata": {},
     "output_type": "display_data"
    }
   ],
   "source": [
    "#break down stops by percentage of category\n",
    "location_totals = (\n",
    "    wego.groupby('TIME_POINT_ABBR')\n",
    "         [['ADJUSTED_ONTIME_COUNT', 'ADJUSTED_LATE_COUNT', 'ADJUSTED_EARLY_COUNT']]\n",
    "         .sum()\n",
    ")\n",
    "\n",
    "location_totals['TOTALS'] = location_totals.sum(axis=1)\n",
    "\n",
    "location_totals['ONTIME_PCT'] = location_totals['ADJUSTED_ONTIME_COUNT'] / location_totals['TOTALS'] * 100\n",
    "location_totals['EARLY_PCT'] = location_totals['ADJUSTED_EARLY_COUNT'] / location_totals['TOTALS'] * 100\n",
    "location_totals['LATE_PCT'] = location_totals['ADJUSTED_LATE_COUNT'] / location_totals['TOTALS'] * 100\n",
    "\n",
    "# Route Adherence graph\n",
    "ax = (\n",
    "    location_totals[['ONTIME_PCT', 'EARLY_PCT', 'LATE_PCT']]\n",
    ").sort_values('ONTIME_PCT', ascending=False).plot(kind='bar', stacked=True, figsize=(13,8), color = (purple, gray, black))\n",
    "ax.set(title = 'Stop Location Adherence Performance',\n",
    "        xlabel = 'Stop ID',\n",
    "       ylabel = 'Percentage')\n",
    "ax.legend(bbox_to_anchor=(1, 1))\n",
    "ax.tick_params(axis='x', rotation=90)\n",
    "#plt.savefig('../images/stopID_adherence.png')\n",
    "plt.show()"
   ]
  },
  {
   "cell_type": "code",
   "execution_count": 45,
   "id": "950360a3",
   "metadata": {},
   "outputs": [],
   "source": [
    "# initial analysis - not adjusted for percentage\n",
    "# #adherence by stop location\n",
    "# #loc_adh_chart.figure(figsize=(12,12))\n",
    "# loc_adh_chart = wego.groupby('TIME_POINT_ABBR')[['ADJUSTED_ONTIME_COUNT', 'ADJUSTED_LATE_COUNT', 'ADJUSTED_EARLY_COUNT']].sum().sort_values('ADJUSTED_ONTIME_COUNT', ascending=False).plot(kind='bar', stacked=True, width=0.6, figsize=(13,8))\n",
    "# loc_adh_chart.set(title='Adherence by Stop Location', xlabel = 'Stop ID', ylabel = 'Count of Stops')\n",
    "# loc_adh_chart.legend(bbox_to_anchor=(1, 1))"
   ]
  },
  {
   "cell_type": "code",
   "execution_count": 46,
   "id": "7a1a1646",
   "metadata": {},
   "outputs": [
    {
     "data": {
      "image/png": "[encoded data removed]",
      "text/plain": [
       "<Figure size 1300x800 with 1 Axes>"
      ]
     },
     "metadata": {},
     "output_type": "display_data"
    }
   ],
   "source": [
    "#break down stops by percentage of category - headway\n",
    "location_totals = (\n",
    "    wego.groupby('TIME_POINT_ABBR')\n",
    "         [['HDWY_ACCEPTABLE','HDWY_BUNCHING','HDWY_GAPPING']]\n",
    "         .sum()\n",
    ")\n",
    "\n",
    "location_totals['TOTALS'] = location_totals.sum(axis=1)\n",
    "\n",
    "location_totals['ACCEPTABLE_PCT'] = location_totals['HDWY_ACCEPTABLE'] / location_totals['TOTALS'] * 100\n",
    "location_totals['BUNCHING_PCT'] = location_totals['HDWY_BUNCHING'] / location_totals['TOTALS'] * 100\n",
    "location_totals['GAPPING_PCT'] = location_totals['HDWY_GAPPING'] / location_totals['TOTALS'] * 100\n",
    "\n",
    "# Stop ID Adherence graph\n",
    "ax = (\n",
    "    location_totals[['ACCEPTABLE_PCT', 'BUNCHING_PCT', 'GAPPING_PCT']]\n",
    ").sort_values('ACCEPTABLE_PCT', ascending=False).plot(kind='bar', stacked=True, figsize=(13,8), color = (purple, gray, black))\n",
    "ax.set(title = 'Stop Location Headway Performance',\n",
    "        xlabel = 'Stop ID',\n",
    "       ylabel = 'Percentage')\n",
    "ax.legend(bbox_to_anchor=(1, 1))\n",
    "ax.tick_params(axis='x', rotation=90)\n",
    "#plt.savefig('../images/stopID_headway.png')\n",
    "plt.show()"
   ]
  },
  {
   "cell_type": "code",
   "execution_count": 47,
   "id": "d9abf448",
   "metadata": {},
   "outputs": [],
   "source": [
    "# initial analysis - not adjusted for percentage\n",
    "# #headway by stop location\n",
    "# loc_hdw_chart = wego.groupby('TIME_POINT_ABBR')[['HDWY_ACCEPTABLE','HDWY_BUNCHING','HDWY_GAPPING']].sum().sort_values('HDWY_ACCEPTABLE', ascending=False).plot(kind='bar', stacked=True, width=0.6, figsize=(13,8))\n",
    "# loc_hdw_chart.set(title='Headway by Stop Location', xlabel = 'Stop ID', ylabel = 'Count of Stops')\n",
    "# # loc_hdw_chart.legend(bbox_to_anchor=(1, 1))"
   ]
  },
  {
   "cell_type": "code",
   "execution_count": 48,
   "id": "17651845",
   "metadata": {},
   "outputs": [
    {
     "data": {
      "text/html": [
       "<div>\n",
       "<style scoped>\n",
       "    .dataframe tbody tr th:only-of-type {\n",
       "        vertical-align: middle;\n",
       "    }\n",
       "\n",
       "    .dataframe tbody tr th {\n",
       "        vertical-align: top;\n",
       "    }\n",
       "\n",
       "    .dataframe thead th {\n",
       "        text-align: right;\n",
       "    }\n",
       "</style>\n",
       "<table border=\"1\" class=\"dataframe\">\n",
       "  <thead>\n",
       "    <tr style=\"text-align: right;\">\n",
       "      <th></th>\n",
       "      <th>ADHERENCE</th>\n",
       "      <th>HDWY_DEV</th>\n",
       "    </tr>\n",
       "    <tr>\n",
       "      <th>TIME_POINT_ABBR</th>\n",
       "      <th></th>\n",
       "      <th></th>\n",
       "    </tr>\n",
       "  </thead>\n",
       "  <tbody>\n",
       "    <tr>\n",
       "      <th>MCC5_11</th>\n",
       "      <td>-37.570714</td>\n",
       "      <td>NaN</td>\n",
       "    </tr>\n",
       "    <tr>\n",
       "      <th>MCC4_20</th>\n",
       "      <td>-13.356229</td>\n",
       "      <td>NaN</td>\n",
       "    </tr>\n",
       "    <tr>\n",
       "      <th>MCC5_12</th>\n",
       "      <td>-9.785042</td>\n",
       "      <td>NaN</td>\n",
       "    </tr>\n",
       "    <tr>\n",
       "      <th>MCC5_7</th>\n",
       "      <td>-9.075463</td>\n",
       "      <td>NaN</td>\n",
       "    </tr>\n",
       "    <tr>\n",
       "      <th>DCSCC</th>\n",
       "      <td>-7.091481</td>\n",
       "      <td>12.054055</td>\n",
       "    </tr>\n",
       "    <tr>\n",
       "      <th>...</th>\n",
       "      <td>...</td>\n",
       "      <td>...</td>\n",
       "    </tr>\n",
       "    <tr>\n",
       "      <th>HEAD</th>\n",
       "      <td>1.013657</td>\n",
       "      <td>NaN</td>\n",
       "    </tr>\n",
       "    <tr>\n",
       "      <th>MCC5_2</th>\n",
       "      <td>1.252623</td>\n",
       "      <td>NaN</td>\n",
       "    </tr>\n",
       "    <tr>\n",
       "      <th>25ACLARK</th>\n",
       "      <td>1.458553</td>\n",
       "      <td>0.551163</td>\n",
       "    </tr>\n",
       "    <tr>\n",
       "      <th>MCC4_13</th>\n",
       "      <td>2.690952</td>\n",
       "      <td>NaN</td>\n",
       "    </tr>\n",
       "    <tr>\n",
       "      <th>MCC5_6</th>\n",
       "      <td>3.753017</td>\n",
       "      <td>NaN</td>\n",
       "    </tr>\n",
       "  </tbody>\n",
       "</table>\n",
       "<p>61 rows × 2 columns</p>\n",
       "</div>"
      ],
      "text/plain": [
       "                 ADHERENCE   HDWY_DEV\n",
       "TIME_POINT_ABBR                      \n",
       "MCC5_11         -37.570714        NaN\n",
       "MCC4_20         -13.356229        NaN\n",
       "MCC5_12          -9.785042        NaN\n",
       "MCC5_7           -9.075463        NaN\n",
       "DCSCC            -7.091481  12.054055\n",
       "...                    ...        ...\n",
       "HEAD              1.013657        NaN\n",
       "MCC5_2            1.252623        NaN\n",
       "25ACLARK          1.458553   0.551163\n",
       "MCC4_13           2.690952        NaN\n",
       "MCC5_6            3.753017        NaN\n",
       "\n",
       "[61 rows x 2 columns]"
      ]
     },
     "execution_count": 48,
     "metadata": {},
     "output_type": "execute_result"
    }
   ],
   "source": [
    "wego.groupby('TIME_POINT_ABBR')[['ADHERENCE','HDWY_DEV']].mean().sort_values('ADHERENCE', ascending=True)"
   ]
  },
  {
   "cell_type": "markdown",
   "id": "4886202d",
   "metadata": {},
   "source": [
    "### 3. How does time of day or day of week affect headway and on-time performance?"
   ]
  },
  {
   "cell_type": "markdown",
   "id": "447a8720",
   "metadata": {},
   "source": [
    "#### Time of Day"
   ]
  },
  {
   "cell_type": "code",
   "execution_count": 49,
   "id": "b32106b7",
   "metadata": {},
   "outputs": [
    {
     "name": "stdout",
     "output_type": "stream",
     "text": [
      "<class 'pandas.core.frame.DataFrame'>\n",
      "Index: 338861 entries, 0 to 350328\n",
      "Data columns (total 35 columns):\n",
      " #   Column                     Non-Null Count   Dtype  \n",
      "---  ------                     --------------   -----  \n",
      " 0   CALENDAR_ID                338861 non-null  int64  \n",
      " 1   SERVICE_ABBR               338861 non-null  int64  \n",
      " 2   ADHERENCE_ID               338861 non-null  int64  \n",
      " 3   DATE                       338861 non-null  object \n",
      " 4   ROUTE_ABBR                 338861 non-null  int64  \n",
      " 5   BLOCK_ABBR                 338861 non-null  int64  \n",
      " 6   OPERATOR                   338861 non-null  int64  \n",
      " 7   TRIP_ID                    338861 non-null  int64  \n",
      " 8   OVERLOAD_ID                338861 non-null  int64  \n",
      " 9   ROUTE_DIRECTION_NAME       338861 non-null  object \n",
      " 10  TIME_POINT_ABBR            338861 non-null  object \n",
      " 11  ROUTE_STOP_SEQUENCE        338856 non-null  float64\n",
      " 12  TRIP_EDGE                  338861 non-null  int64  \n",
      " 13  LATITUDE                   338861 non-null  float64\n",
      " 14  LONGITUDE                  338861 non-null  float64\n",
      " 15  SCHEDULED_TIME             338861 non-null  object \n",
      " 16  ACTUAL_ARRIVAL_TIME        338858 non-null  object \n",
      " 17  ACTUAL_DEPARTURE_TIME      338861 non-null  object \n",
      " 18  ADHERENCE                  338861 non-null  float64\n",
      " 19  SCHEDULED_HDWY             266112 non-null  float64\n",
      " 20  ACTUAL_HDWY                266062 non-null  float64\n",
      " 21  HDWY_DEV                   265893 non-null  float64\n",
      " 22  ADJUSTED_EARLY_COUNT       338861 non-null  int64  \n",
      " 23  ADJUSTED_LATE_COUNT        338861 non-null  int64  \n",
      " 24  ADJUSTED_ONTIME_COUNT      338861 non-null  int64  \n",
      " 25  STOP_CANCELLED             338861 non-null  int64  \n",
      " 26  PREV_SCHED_STOP_CANCELLED  271163 non-null  float64\n",
      " 27  IS_RELIEF                  338861 non-null  int64  \n",
      " 28  DWELL_IN_MINS              338858 non-null  float64\n",
      " 29  SCHEDULED_LAYOVER_MINUTES  53093 non-null   float64\n",
      " 30  HDWY_DEV_PCT               265847 non-null  float64\n",
      " 31  HDWY_GAPPING               338861 non-null  int64  \n",
      " 32  HDWY_ACCEPTABLE            338861 non-null  int64  \n",
      " 33  HDWY_BUNCHING              338861 non-null  int64  \n",
      " 34  DATE_TRIP                  338861 non-null  object \n",
      "dtypes: float64(11), int64(17), object(7)\n",
      "memory usage: 93.1+ MB\n"
     ]
    }
   ],
   "source": [
    "wego.info(verbose=True, show_counts=True)"
   ]
  },
  {
   "cell_type": "code",
   "execution_count": 50,
   "id": "58350ff0",
   "metadata": {},
   "outputs": [],
   "source": [
    "#drop rows where there's no actual departure time values\n",
    "clean_dept_time = wego.dropna(subset=['ACTUAL_DEPARTURE_TIME'])"
   ]
  },
  {
   "cell_type": "code",
   "execution_count": 51,
   "id": "4828c741",
   "metadata": {
    "scrolled": true
   },
   "outputs": [],
   "source": [
    "# Create depart time column\n",
    "clean_dept_time['HOUR'] = (pd.to_datetime(clean_dept_time['ACTUAL_DEPARTURE_TIME'],\n",
    "                                          format='mixed').dt.hour)"
   ]
  },
  {
   "cell_type": "code",
   "execution_count": 52,
   "id": "6498b7e1",
   "metadata": {},
   "outputs": [
    {
     "data": {
      "text/html": [
       "<div>\n",
       "<style scoped>\n",
       "    .dataframe tbody tr th:only-of-type {\n",
       "        vertical-align: middle;\n",
       "    }\n",
       "\n",
       "    .dataframe tbody tr th {\n",
       "        vertical-align: top;\n",
       "    }\n",
       "\n",
       "    .dataframe thead th {\n",
       "        text-align: right;\n",
       "    }\n",
       "</style>\n",
       "<table border=\"1\" class=\"dataframe\">\n",
       "  <thead>\n",
       "    <tr style=\"text-align: right;\">\n",
       "      <th></th>\n",
       "      <th>ADJUSTED_ONTIME_COUNT</th>\n",
       "      <th>ADJUSTED_LATE_COUNT</th>\n",
       "      <th>ADJUSTED_EARLY_COUNT</th>\n",
       "    </tr>\n",
       "    <tr>\n",
       "      <th>HOUR</th>\n",
       "      <th></th>\n",
       "      <th></th>\n",
       "      <th></th>\n",
       "    </tr>\n",
       "  </thead>\n",
       "  <tbody>\n",
       "    <tr>\n",
       "      <th>0</th>\n",
       "      <td>2898</td>\n",
       "      <td>1067</td>\n",
       "      <td>344</td>\n",
       "    </tr>\n",
       "    <tr>\n",
       "      <th>1</th>\n",
       "      <td>77</td>\n",
       "      <td>110</td>\n",
       "      <td>22</td>\n",
       "    </tr>\n",
       "    <tr>\n",
       "      <th>4</th>\n",
       "      <td>1591</td>\n",
       "      <td>16</td>\n",
       "      <td>90</td>\n",
       "    </tr>\n",
       "    <tr>\n",
       "      <th>5</th>\n",
       "      <td>9205</td>\n",
       "      <td>356</td>\n",
       "      <td>403</td>\n",
       "    </tr>\n",
       "    <tr>\n",
       "      <th>6</th>\n",
       "      <td>17110</td>\n",
       "      <td>1196</td>\n",
       "      <td>516</td>\n",
       "    </tr>\n",
       "    <tr>\n",
       "      <th>7</th>\n",
       "      <td>17790</td>\n",
       "      <td>3091</td>\n",
       "      <td>533</td>\n",
       "    </tr>\n",
       "    <tr>\n",
       "      <th>8</th>\n",
       "      <td>15816</td>\n",
       "      <td>4829</td>\n",
       "      <td>403</td>\n",
       "    </tr>\n",
       "    <tr>\n",
       "      <th>9</th>\n",
       "      <td>16885</td>\n",
       "      <td>2922</td>\n",
       "      <td>603</td>\n",
       "    </tr>\n",
       "    <tr>\n",
       "      <th>10</th>\n",
       "      <td>17172</td>\n",
       "      <td>2183</td>\n",
       "      <td>748</td>\n",
       "    </tr>\n",
       "    <tr>\n",
       "      <th>11</th>\n",
       "      <td>17057</td>\n",
       "      <td>2173</td>\n",
       "      <td>564</td>\n",
       "    </tr>\n",
       "    <tr>\n",
       "      <th>12</th>\n",
       "      <td>16703</td>\n",
       "      <td>2860</td>\n",
       "      <td>561</td>\n",
       "    </tr>\n",
       "    <tr>\n",
       "      <th>13</th>\n",
       "      <td>16610</td>\n",
       "      <td>2828</td>\n",
       "      <td>590</td>\n",
       "    </tr>\n",
       "    <tr>\n",
       "      <th>14</th>\n",
       "      <td>16181</td>\n",
       "      <td>3487</td>\n",
       "      <td>595</td>\n",
       "    </tr>\n",
       "    <tr>\n",
       "      <th>15</th>\n",
       "      <td>15860</td>\n",
       "      <td>4956</td>\n",
       "      <td>699</td>\n",
       "    </tr>\n",
       "    <tr>\n",
       "      <th>16</th>\n",
       "      <td>15193</td>\n",
       "      <td>5925</td>\n",
       "      <td>569</td>\n",
       "    </tr>\n",
       "    <tr>\n",
       "      <th>17</th>\n",
       "      <td>14568</td>\n",
       "      <td>5939</td>\n",
       "      <td>662</td>\n",
       "    </tr>\n",
       "    <tr>\n",
       "      <th>18</th>\n",
       "      <td>12805</td>\n",
       "      <td>4414</td>\n",
       "      <td>499</td>\n",
       "    </tr>\n",
       "    <tr>\n",
       "      <th>19</th>\n",
       "      <td>10134</td>\n",
       "      <td>3286</td>\n",
       "      <td>230</td>\n",
       "    </tr>\n",
       "    <tr>\n",
       "      <th>20</th>\n",
       "      <td>9745</td>\n",
       "      <td>2512</td>\n",
       "      <td>259</td>\n",
       "    </tr>\n",
       "    <tr>\n",
       "      <th>21</th>\n",
       "      <td>9862</td>\n",
       "      <td>1784</td>\n",
       "      <td>268</td>\n",
       "    </tr>\n",
       "    <tr>\n",
       "      <th>22</th>\n",
       "      <td>9482</td>\n",
       "      <td>1482</td>\n",
       "      <td>288</td>\n",
       "    </tr>\n",
       "    <tr>\n",
       "      <th>23</th>\n",
       "      <td>7304</td>\n",
       "      <td>1622</td>\n",
       "      <td>329</td>\n",
       "    </tr>\n",
       "  </tbody>\n",
       "</table>\n",
       "</div>"
      ],
      "text/plain": [
       "      ADJUSTED_ONTIME_COUNT  ADJUSTED_LATE_COUNT  ADJUSTED_EARLY_COUNT\n",
       "HOUR                                                                  \n",
       "0                      2898                 1067                   344\n",
       "1                        77                  110                    22\n",
       "4                      1591                   16                    90\n",
       "5                      9205                  356                   403\n",
       "6                     17110                 1196                   516\n",
       "7                     17790                 3091                   533\n",
       "8                     15816                 4829                   403\n",
       "9                     16885                 2922                   603\n",
       "10                    17172                 2183                   748\n",
       "11                    17057                 2173                   564\n",
       "12                    16703                 2860                   561\n",
       "13                    16610                 2828                   590\n",
       "14                    16181                 3487                   595\n",
       "15                    15860                 4956                   699\n",
       "16                    15193                 5925                   569\n",
       "17                    14568                 5939                   662\n",
       "18                    12805                 4414                   499\n",
       "19                    10134                 3286                   230\n",
       "20                     9745                 2512                   259\n",
       "21                     9862                 1784                   268\n",
       "22                     9482                 1482                   288\n",
       "23                     7304                 1622                   329"
      ]
     },
     "execution_count": 52,
     "metadata": {},
     "output_type": "execute_result"
    }
   ],
   "source": [
    "hour_totals = (\n",
    "    clean_dept_time.groupby('HOUR')\n",
    "         [['ADJUSTED_ONTIME_COUNT', 'ADJUSTED_LATE_COUNT', 'ADJUSTED_EARLY_COUNT']]\n",
    "         .sum())\n",
    "hour_totals"
   ]
  },
  {
   "cell_type": "code",
   "execution_count": 53,
   "id": "23eb572c",
   "metadata": {
    "scrolled": false
   },
   "outputs": [
    {
     "data": {
      "image/png": "[encoded data removed]",
      "text/plain": [
       "<Figure size 640x480 with 1 Axes>"
      ]
     },
     "metadata": {},
     "output_type": "display_data"
    }
   ],
   "source": [
    "#ADHERENCE\n",
    "hour_totals = (\n",
    "    clean_dept_time.groupby('HOUR')\n",
    "         [['ADJUSTED_ONTIME_COUNT', 'ADJUSTED_LATE_COUNT', 'ADJUSTED_EARLY_COUNT']]\n",
    "         .sum()\n",
    ")\n",
    "\n",
    "hour_totals['TOTALS'] = hour_totals.sum(axis=1)\n",
    "\n",
    "hour_totals['ONTIME_PCT'] = hour_totals['ADJUSTED_ONTIME_COUNT'] / hour_totals['TOTALS'] * 100\n",
    "hour_totals['EARLY_PCT'] = hour_totals['ADJUSTED_EARLY_COUNT'] / hour_totals['TOTALS'] * 100\n",
    "hour_totals['LATE_PCT'] = hour_totals['ADJUSTED_LATE_COUNT'] / hour_totals['TOTALS'] * 100\n",
    "\n",
    "# Route Adherence graph\n",
    "ax = (\n",
    "    hour_totals[['ONTIME_PCT', 'EARLY_PCT', 'LATE_PCT']]\n",
    ").sort_values('HOUR', ascending=True).plot(kind='bar', stacked=True, color = (purple, gray, black))\n",
    "ax.set(title = 'Hourly Adherence Performance',\n",
    "        xlabel = 'Hour',\n",
    "       ylabel = 'Percentage')\n",
    "ax.legend(bbox_to_anchor=(1, 1))\n",
    "ax.tick_params(axis='x', rotation=0)\n",
    "#plt.savefig('../images/hourly_adherence.png')\n",
    "plt.show()"
   ]
  },
  {
   "cell_type": "code",
   "execution_count": 54,
   "id": "a8fba5d6",
   "metadata": {},
   "outputs": [
    {
     "data": {
      "image/png": "[encoded data removed]",
      "text/plain": [
       "<Figure size 640x480 with 1 Axes>"
      ]
     },
     "metadata": {},
     "output_type": "display_data"
    }
   ],
   "source": [
    "hour_totals = (\n",
    "    clean_dept_time.groupby('HOUR')\n",
    "         [['HDWY_ACCEPTABLE','HDWY_BUNCHING','HDWY_GAPPING']]\n",
    "         .sum()\n",
    ")\n",
    "\n",
    "hour_totals['TOTALS'] = hour_totals.sum(axis=1)\n",
    "\n",
    "hour_totals['ACCEPTABLE_PCT'] = hour_totals['HDWY_ACCEPTABLE'] / hour_totals['TOTALS'] * 100\n",
    "hour_totals['BUNCHING_PCT'] = hour_totals['HDWY_BUNCHING'] / hour_totals['TOTALS'] * 100\n",
    "hour_totals['GAPPING_PCT'] = hour_totals['HDWY_GAPPING'] / hour_totals['TOTALS'] * 100\n",
    "\n",
    "# Hour Headway graph\n",
    "ax = (\n",
    "    hour_totals[['ACCEPTABLE_PCT', 'BUNCHING_PCT', 'GAPPING_PCT']]\n",
    ").sort_values('HOUR', ascending=True).plot(kind='bar', stacked=True, color = (purple, gray, black))\n",
    "ax.set(title = 'Hourly Headway Performance',\n",
    "        xlabel = 'Hour',\n",
    "       ylabel = 'Percentage')\n",
    "ax.legend(bbox_to_anchor=(1, 1))\n",
    "ax.tick_params(axis='x', rotation=0)\n",
    "#plt.savefig('../images/hourly_headway.png')\n",
    "plt.show()"
   ]
  },
  {
   "cell_type": "markdown",
   "id": "cd85f423",
   "metadata": {},
   "source": [
    "#### By day of week"
   ]
  },
  {
   "cell_type": "code",
   "execution_count": 55,
   "id": "db0c8fda",
   "metadata": {
    "scrolled": true
   },
   "outputs": [],
   "source": [
    "clean_dept_time['WEEKDAY'] = pd.to_datetime(clean_dept_time['ACTUAL_DEPARTURE_TIME']).dt.weekday"
   ]
  },
  {
   "cell_type": "code",
   "execution_count": 56,
   "id": "a46674d1",
   "metadata": {},
   "outputs": [
    {
     "data": {
      "image/png": "[encoded data removed]",
      "text/plain": [
       "<Figure size 640x480 with 1 Axes>"
      ]
     },
     "metadata": {},
     "output_type": "display_data"
    }
   ],
   "source": [
    "#ADHERENCE\n",
    "day_totals = (\n",
    "    clean_dept_time.groupby('WEEKDAY')\n",
    "         [['ADJUSTED_ONTIME_COUNT', 'ADJUSTED_LATE_COUNT', 'ADJUSTED_EARLY_COUNT']]\n",
    "         .sum()\n",
    ")\n",
    "\n",
    "day_totals['TOTALS'] = day_totals.sum(axis=1)\n",
    "\n",
    "day_totals['ONTIME_PCT'] = day_totals['ADJUSTED_ONTIME_COUNT'] / day_totals['TOTALS'] * 100\n",
    "day_totals['EARLY_PCT'] = day_totals['ADJUSTED_EARLY_COUNT'] / day_totals['TOTALS'] * 100\n",
    "day_totals['LATE_PCT'] = day_totals['ADJUSTED_LATE_COUNT'] / day_totals['TOTALS'] * 100\n",
    "\n",
    "# Route Adherence graph\n",
    "ax = (\n",
    "    day_totals[['ONTIME_PCT', 'EARLY_PCT', 'LATE_PCT']]\n",
    ").sort_values('WEEKDAY', ascending=True).plot(kind='bar', stacked=True, color = (purple, gray, black))\n",
    "ax.set(title = 'Adherence Performance by Day of Week',\n",
    "        xlabel = 'Day',\n",
    "       ylabel = 'Percentage')\n",
    "ax.legend(bbox_to_anchor=(1, 1))\n",
    "ax.set_xticklabels(['Monday', 'Tuesday', 'Wednesday', 'Thursday', 'Friday', 'Saturday', 'Sunday'])\n",
    "ax.tick_params(axis='x', rotation=45)\n",
    "plt.savefig('../images/dayofweek_adherence.png')\n",
    "plt.show()"
   ]
  },
  {
   "cell_type": "code",
   "execution_count": 57,
   "id": "9a120ffb",
   "metadata": {},
   "outputs": [
    {
     "data": {
      "image/png": "[encoded data removed]",
      "text/plain": [
       "<Figure size 640x480 with 1 Axes>"
      ]
     },
     "metadata": {},
     "output_type": "display_data"
    }
   ],
   "source": [
    "#HEADWAY\n",
    "day_totals = (\n",
    "    clean_dept_time.groupby('WEEKDAY')\n",
    "         [['HDWY_ACCEPTABLE','HDWY_BUNCHING','HDWY_GAPPING']]\n",
    "         .sum()\n",
    ")\n",
    "\n",
    "day_totals['TOTALS'] = day_totals.sum(axis=1)\n",
    "\n",
    "day_totals['ACCEPTABLE_PCT'] = day_totals['HDWY_ACCEPTABLE'] / day_totals['TOTALS'] * 100\n",
    "day_totals['BUNCHING_PCT'] = day_totals['HDWY_BUNCHING'] / day_totals['TOTALS'] * 100\n",
    "day_totals['GAPPING_PCT'] = day_totals['HDWY_GAPPING'] / day_totals['TOTALS'] * 100\n",
    "\n",
    "# Hour Headway graph\n",
    "ax = (\n",
    "    day_totals[['ACCEPTABLE_PCT', 'BUNCHING_PCT', 'GAPPING_PCT']]\n",
    ").sort_values('WEEKDAY', ascending=True).plot(kind='bar', stacked=True, color = (purple, gray, black))\n",
    "ax.set(title = 'Headway Performance by Day of Week',\n",
    "        xlabel = 'Day',\n",
    "       ylabel = 'Percentage')\n",
    "ax.legend(bbox_to_anchor=(1, 1))\n",
    "ax.set_xticklabels(['Monday', 'Tuesday', 'Wednesday', 'Thursday', 'Friday', 'Saturday', 'Sunday'])\n",
    "ax.tick_params(axis='x', rotation=45)\n",
    "plt.savefig('../images/dayofweek_headway.png')\n",
    "plt.show()"
   ]
  },
  {
   "cell_type": "code",
   "execution_count": 58,
   "id": "5e1ba58e",
   "metadata": {
    "scrolled": false
   },
   "outputs": [],
   "source": [
    "# grouper dt conversion to redo hourly groupings\n",
    "# clean_dept_time['ACTUAL_DEPARTURE_TIME'] = pd.to_datetime(clean_dept_time['ACTUAL_DEPARTURE_TIME'])"
   ]
  },
  {
   "cell_type": "markdown",
   "id": "a389d14a",
   "metadata": {},
   "source": [
    "##### 4. How much of a factor does the driver have on headway and on-time performance? The driver is indicated by the OPERATOR variable.\n",
    "\n",
    "#### number 4 - group by operator, what percent of stops are acceptable vs total stops\n",
    "\n",
    "#### drivers along individual routes"
   ]
  },
  {
   "cell_type": "code",
   "execution_count": 59,
   "id": "7b19b56c",
   "metadata": {},
   "outputs": [],
   "source": [
    "#### number 4 - group by operator, what percent of stops are acceptable vs total stops"
   ]
  },
  {
   "cell_type": "code",
   "execution_count": 60,
   "id": "af4c36c0",
   "metadata": {
    "scrolled": true
   },
   "outputs": [],
   "source": [
    "# wego.OPERATOR.nunique()"
   ]
  },
  {
   "cell_type": "code",
   "execution_count": 61,
   "id": "6347a284",
   "metadata": {},
   "outputs": [
    {
     "data": {
      "text/html": [
       "<div>\n",
       "<style scoped>\n",
       "    .dataframe tbody tr th:only-of-type {\n",
       "        vertical-align: middle;\n",
       "    }\n",
       "\n",
       "    .dataframe tbody tr th {\n",
       "        vertical-align: top;\n",
       "    }\n",
       "\n",
       "    .dataframe thead th {\n",
       "        text-align: right;\n",
       "    }\n",
       "</style>\n",
       "<table border=\"1\" class=\"dataframe\">\n",
       "  <thead>\n",
       "    <tr style=\"text-align: right;\">\n",
       "      <th></th>\n",
       "      <th>HDWY_ACCEPTABLE</th>\n",
       "      <th>HDWY_BUNCHING</th>\n",
       "      <th>HDWY_GAPPING</th>\n",
       "      <th>ADJUSTED_EARLY_COUNT</th>\n",
       "      <th>ADJUSTED_LATE_COUNT</th>\n",
       "      <th>ADJUSTED_ONTIME_COUNT</th>\n",
       "    </tr>\n",
       "    <tr>\n",
       "      <th>OPERATOR</th>\n",
       "      <th></th>\n",
       "      <th></th>\n",
       "      <th></th>\n",
       "      <th></th>\n",
       "      <th></th>\n",
       "      <th></th>\n",
       "    </tr>\n",
       "  </thead>\n",
       "  <tbody>\n",
       "    <tr>\n",
       "      <th>0</th>\n",
       "      <td>0</td>\n",
       "      <td>0</td>\n",
       "      <td>0</td>\n",
       "      <td>0</td>\n",
       "      <td>0</td>\n",
       "      <td>1</td>\n",
       "    </tr>\n",
       "    <tr>\n",
       "      <th>56</th>\n",
       "      <td>2</td>\n",
       "      <td>0</td>\n",
       "      <td>0</td>\n",
       "      <td>0</td>\n",
       "      <td>0</td>\n",
       "      <td>3</td>\n",
       "    </tr>\n",
       "    <tr>\n",
       "      <th>235</th>\n",
       "      <td>7</td>\n",
       "      <td>0</td>\n",
       "      <td>2</td>\n",
       "      <td>1</td>\n",
       "      <td>5</td>\n",
       "      <td>6</td>\n",
       "    </tr>\n",
       "    <tr>\n",
       "      <th>244</th>\n",
       "      <td>13</td>\n",
       "      <td>3</td>\n",
       "      <td>4</td>\n",
       "      <td>0</td>\n",
       "      <td>5</td>\n",
       "      <td>20</td>\n",
       "    </tr>\n",
       "    <tr>\n",
       "      <th>301</th>\n",
       "      <td>16</td>\n",
       "      <td>4</td>\n",
       "      <td>10</td>\n",
       "      <td>1</td>\n",
       "      <td>17</td>\n",
       "      <td>19</td>\n",
       "    </tr>\n",
       "    <tr>\n",
       "      <th>...</th>\n",
       "      <td>...</td>\n",
       "      <td>...</td>\n",
       "      <td>...</td>\n",
       "      <td>...</td>\n",
       "      <td>...</td>\n",
       "      <td>...</td>\n",
       "    </tr>\n",
       "    <tr>\n",
       "      <th>3149</th>\n",
       "      <td>52</td>\n",
       "      <td>0</td>\n",
       "      <td>4</td>\n",
       "      <td>4</td>\n",
       "      <td>8</td>\n",
       "      <td>76</td>\n",
       "    </tr>\n",
       "    <tr>\n",
       "      <th>3156</th>\n",
       "      <td>220</td>\n",
       "      <td>5</td>\n",
       "      <td>5</td>\n",
       "      <td>0</td>\n",
       "      <td>71</td>\n",
       "      <td>219</td>\n",
       "    </tr>\n",
       "    <tr>\n",
       "      <th>3165</th>\n",
       "      <td>16</td>\n",
       "      <td>0</td>\n",
       "      <td>8</td>\n",
       "      <td>0</td>\n",
       "      <td>20</td>\n",
       "      <td>12</td>\n",
       "    </tr>\n",
       "    <tr>\n",
       "      <th>3166</th>\n",
       "      <td>26</td>\n",
       "      <td>3</td>\n",
       "      <td>0</td>\n",
       "      <td>0</td>\n",
       "      <td>3</td>\n",
       "      <td>32</td>\n",
       "    </tr>\n",
       "    <tr>\n",
       "      <th>3173</th>\n",
       "      <td>13</td>\n",
       "      <td>0</td>\n",
       "      <td>1</td>\n",
       "      <td>0</td>\n",
       "      <td>2</td>\n",
       "      <td>20</td>\n",
       "    </tr>\n",
       "  </tbody>\n",
       "</table>\n",
       "<p>341 rows × 6 columns</p>\n",
       "</div>"
      ],
      "text/plain": [
       "          HDWY_ACCEPTABLE  HDWY_BUNCHING  HDWY_GAPPING  ADJUSTED_EARLY_COUNT  \\\n",
       "OPERATOR                                                                       \n",
       "0                       0              0             0                     0   \n",
       "56                      2              0             0                     0   \n",
       "235                     7              0             2                     1   \n",
       "244                    13              3             4                     0   \n",
       "301                    16              4            10                     1   \n",
       "...                   ...            ...           ...                   ...   \n",
       "3149                   52              0             4                     4   \n",
       "3156                  220              5             5                     0   \n",
       "3165                   16              0             8                     0   \n",
       "3166                   26              3             0                     0   \n",
       "3173                   13              0             1                     0   \n",
       "\n",
       "          ADJUSTED_LATE_COUNT  ADJUSTED_ONTIME_COUNT  \n",
       "OPERATOR                                              \n",
       "0                           0                      1  \n",
       "56                          0                      3  \n",
       "235                         5                      6  \n",
       "244                         5                     20  \n",
       "301                        17                     19  \n",
       "...                       ...                    ...  \n",
       "3149                        8                     76  \n",
       "3156                       71                    219  \n",
       "3165                       20                     12  \n",
       "3166                        3                     32  \n",
       "3173                        2                     20  \n",
       "\n",
       "[341 rows x 6 columns]"
      ]
     },
     "execution_count": 61,
     "metadata": {},
     "output_type": "execute_result"
    }
   ],
   "source": [
    "wego.groupby('OPERATOR')[['HDWY_ACCEPTABLE','HDWY_BUNCHING','HDWY_GAPPING','ADJUSTED_EARLY_COUNT','ADJUSTED_LATE_COUNT','ADJUSTED_ONTIME_COUNT']].sum()"
   ]
  },
  {
   "cell_type": "code",
   "execution_count": 62,
   "id": "d10abd58",
   "metadata": {},
   "outputs": [
    {
     "data": {
      "text/html": [
       "<div>\n",
       "<style scoped>\n",
       "    .dataframe tbody tr th:only-of-type {\n",
       "        vertical-align: middle;\n",
       "    }\n",
       "\n",
       "    .dataframe tbody tr th {\n",
       "        vertical-align: top;\n",
       "    }\n",
       "\n",
       "    .dataframe thead th {\n",
       "        text-align: right;\n",
       "    }\n",
       "</style>\n",
       "<table border=\"1\" class=\"dataframe\">\n",
       "  <thead>\n",
       "    <tr style=\"text-align: right;\">\n",
       "      <th></th>\n",
       "      <th>CALENDAR_ID</th>\n",
       "      <th>SERVICE_ABBR</th>\n",
       "      <th>ADHERENCE_ID</th>\n",
       "      <th>DATE</th>\n",
       "      <th>ROUTE_ABBR</th>\n",
       "      <th>BLOCK_ABBR</th>\n",
       "      <th>OPERATOR</th>\n",
       "      <th>TRIP_ID</th>\n",
       "      <th>OVERLOAD_ID</th>\n",
       "      <th>ROUTE_DIRECTION_NAME</th>\n",
       "      <th>...</th>\n",
       "      <th>STOP_CANCELLED</th>\n",
       "      <th>PREV_SCHED_STOP_CANCELLED</th>\n",
       "      <th>IS_RELIEF</th>\n",
       "      <th>DWELL_IN_MINS</th>\n",
       "      <th>SCHEDULED_LAYOVER_MINUTES</th>\n",
       "      <th>HDWY_DEV_PCT</th>\n",
       "      <th>HDWY_GAPPING</th>\n",
       "      <th>HDWY_ACCEPTABLE</th>\n",
       "      <th>HDWY_BUNCHING</th>\n",
       "      <th>DATE_TRIP</th>\n",
       "    </tr>\n",
       "  </thead>\n",
       "  <tbody>\n",
       "    <tr>\n",
       "      <th>0</th>\n",
       "      <td>120230801</td>\n",
       "      <td>1</td>\n",
       "      <td>99457890</td>\n",
       "      <td>8/1/2023</td>\n",
       "      <td>22</td>\n",
       "      <td>2200</td>\n",
       "      <td>1040</td>\n",
       "      <td>345104</td>\n",
       "      <td>0</td>\n",
       "      <td>TO DOWNTOWN</td>\n",
       "      <td>...</td>\n",
       "      <td>0</td>\n",
       "      <td>0.0</td>\n",
       "      <td>0</td>\n",
       "      <td>6.500000</td>\n",
       "      <td>NaN</td>\n",
       "      <td>NaN</td>\n",
       "      <td>0</td>\n",
       "      <td>0</td>\n",
       "      <td>0</td>\n",
       "      <td>120230801-345104</td>\n",
       "    </tr>\n",
       "    <tr>\n",
       "      <th>1</th>\n",
       "      <td>120230801</td>\n",
       "      <td>1</td>\n",
       "      <td>99457891</td>\n",
       "      <td>8/1/2023</td>\n",
       "      <td>22</td>\n",
       "      <td>2200</td>\n",
       "      <td>1040</td>\n",
       "      <td>345104</td>\n",
       "      <td>0</td>\n",
       "      <td>TO DOWNTOWN</td>\n",
       "      <td>...</td>\n",
       "      <td>0</td>\n",
       "      <td>0.0</td>\n",
       "      <td>0</td>\n",
       "      <td>0.000000</td>\n",
       "      <td>NaN</td>\n",
       "      <td>NaN</td>\n",
       "      <td>0</td>\n",
       "      <td>0</td>\n",
       "      <td>0</td>\n",
       "      <td>120230801-345104</td>\n",
       "    </tr>\n",
       "    <tr>\n",
       "      <th>2</th>\n",
       "      <td>120230801</td>\n",
       "      <td>1</td>\n",
       "      <td>99457892</td>\n",
       "      <td>8/1/2023</td>\n",
       "      <td>22</td>\n",
       "      <td>2200</td>\n",
       "      <td>1040</td>\n",
       "      <td>345104</td>\n",
       "      <td>0</td>\n",
       "      <td>TO DOWNTOWN</td>\n",
       "      <td>...</td>\n",
       "      <td>0</td>\n",
       "      <td>0.0</td>\n",
       "      <td>0</td>\n",
       "      <td>0.000000</td>\n",
       "      <td>NaN</td>\n",
       "      <td>NaN</td>\n",
       "      <td>0</td>\n",
       "      <td>0</td>\n",
       "      <td>0</td>\n",
       "      <td>120230801-345104</td>\n",
       "    </tr>\n",
       "    <tr>\n",
       "      <th>3</th>\n",
       "      <td>120230801</td>\n",
       "      <td>1</td>\n",
       "      <td>99457893</td>\n",
       "      <td>8/1/2023</td>\n",
       "      <td>22</td>\n",
       "      <td>2200</td>\n",
       "      <td>1040</td>\n",
       "      <td>345104</td>\n",
       "      <td>0</td>\n",
       "      <td>TO DOWNTOWN</td>\n",
       "      <td>...</td>\n",
       "      <td>0</td>\n",
       "      <td>NaN</td>\n",
       "      <td>0</td>\n",
       "      <td>0.000000</td>\n",
       "      <td>NaN</td>\n",
       "      <td>NaN</td>\n",
       "      <td>0</td>\n",
       "      <td>0</td>\n",
       "      <td>0</td>\n",
       "      <td>120230801-345104</td>\n",
       "    </tr>\n",
       "    <tr>\n",
       "      <th>4</th>\n",
       "      <td>120230801</td>\n",
       "      <td>1</td>\n",
       "      <td>99457894</td>\n",
       "      <td>8/1/2023</td>\n",
       "      <td>22</td>\n",
       "      <td>2200</td>\n",
       "      <td>1040</td>\n",
       "      <td>345105</td>\n",
       "      <td>0</td>\n",
       "      <td>FROM DOWNTOWN</td>\n",
       "      <td>...</td>\n",
       "      <td>0</td>\n",
       "      <td>0.0</td>\n",
       "      <td>0</td>\n",
       "      <td>12.866666</td>\n",
       "      <td>5.0</td>\n",
       "      <td>NaN</td>\n",
       "      <td>0</td>\n",
       "      <td>0</td>\n",
       "      <td>0</td>\n",
       "      <td>120230801-345105</td>\n",
       "    </tr>\n",
       "  </tbody>\n",
       "</table>\n",
       "<p>5 rows × 35 columns</p>\n",
       "</div>"
      ],
      "text/plain": [
       "   CALENDAR_ID  SERVICE_ABBR  ADHERENCE_ID      DATE  ROUTE_ABBR  BLOCK_ABBR  \\\n",
       "0    120230801             1      99457890  8/1/2023          22        2200   \n",
       "1    120230801             1      99457891  8/1/2023          22        2200   \n",
       "2    120230801             1      99457892  8/1/2023          22        2200   \n",
       "3    120230801             1      99457893  8/1/2023          22        2200   \n",
       "4    120230801             1      99457894  8/1/2023          22        2200   \n",
       "\n",
       "   OPERATOR  TRIP_ID  OVERLOAD_ID ROUTE_DIRECTION_NAME  ... STOP_CANCELLED  \\\n",
       "0      1040   345104            0          TO DOWNTOWN  ...              0   \n",
       "1      1040   345104            0          TO DOWNTOWN  ...              0   \n",
       "2      1040   345104            0          TO DOWNTOWN  ...              0   \n",
       "3      1040   345104            0          TO DOWNTOWN  ...              0   \n",
       "4      1040   345105            0        FROM DOWNTOWN  ...              0   \n",
       "\n",
       "   PREV_SCHED_STOP_CANCELLED  IS_RELIEF  DWELL_IN_MINS  \\\n",
       "0                        0.0          0       6.500000   \n",
       "1                        0.0          0       0.000000   \n",
       "2                        0.0          0       0.000000   \n",
       "3                        NaN          0       0.000000   \n",
       "4                        0.0          0      12.866666   \n",
       "\n",
       "   SCHEDULED_LAYOVER_MINUTES HDWY_DEV_PCT HDWY_GAPPING HDWY_ACCEPTABLE  \\\n",
       "0                        NaN          NaN            0               0   \n",
       "1                        NaN          NaN            0               0   \n",
       "2                        NaN          NaN            0               0   \n",
       "3                        NaN          NaN            0               0   \n",
       "4                        5.0          NaN            0               0   \n",
       "\n",
       "   HDWY_BUNCHING         DATE_TRIP  \n",
       "0              0  120230801-345104  \n",
       "1              0  120230801-345104  \n",
       "2              0  120230801-345104  \n",
       "3              0  120230801-345104  \n",
       "4              0  120230801-345105  \n",
       "\n",
       "[5 rows x 35 columns]"
      ]
     },
     "execution_count": 62,
     "metadata": {},
     "output_type": "execute_result"
    }
   ],
   "source": [
    "wego.head()"
   ]
  },
  {
   "cell_type": "code",
   "execution_count": 63,
   "id": "1b3268e4",
   "metadata": {
    "scrolled": true
   },
   "outputs": [],
   "source": [
    "#HEADWAY\n",
    "operator_totals = (\n",
    "    wego.groupby('OPERATOR')\n",
    "         [['HDWY_ACCEPTABLE','HDWY_BUNCHING','HDWY_GAPPING','ADJUSTED_EARLY_COUNT','ADJUSTED_LATE_COUNT','ADJUSTED_ONTIME_COUNT']]\n",
    "         .sum()\n",
    ")\n",
    "\n",
    "operator_totals['ADHERENCE_TOTALS'] = operator_totals[['ADJUSTED_EARLY_COUNT','ADJUSTED_LATE_COUNT','ADJUSTED_ONTIME_COUNT']].sum(axis=1)\n",
    "operator_totals['HEADWAY_TOTALS'] = operator_totals[['HDWY_ACCEPTABLE','HDWY_BUNCHING','HDWY_GAPPING']].sum(axis=1)\n",
    "\n",
    "operator_totals['ACCEPTABLE_ADHERENCE_PCT'] = operator_totals['ADJUSTED_ONTIME_COUNT'] / operator_totals['ADHERENCE_TOTALS'] * 100\n",
    "operator_totals['ACCEPTABLE_HEADWAY_PCT'] = operator_totals['HDWY_ACCEPTABLE'] / operator_totals['HEADWAY_TOTALS'] * 100\n",
    "\n"
   ]
  },
  {
   "cell_type": "code",
   "execution_count": 64,
   "id": "56a26fe2",
   "metadata": {},
   "outputs": [
    {
     "data": {
      "text/html": [
       "<div>\n",
       "<style scoped>\n",
       "    .dataframe tbody tr th:only-of-type {\n",
       "        vertical-align: middle;\n",
       "    }\n",
       "\n",
       "    .dataframe tbody tr th {\n",
       "        vertical-align: top;\n",
       "    }\n",
       "\n",
       "    .dataframe thead th {\n",
       "        text-align: right;\n",
       "    }\n",
       "</style>\n",
       "<table border=\"1\" class=\"dataframe\">\n",
       "  <thead>\n",
       "    <tr style=\"text-align: right;\">\n",
       "      <th></th>\n",
       "      <th>ADHERENCE_TOTALS</th>\n",
       "      <th>ACCEPTABLE_ADHERENCE_PCT</th>\n",
       "      <th>HEADWAY_TOTALS</th>\n",
       "      <th>ACCEPTABLE_HEADWAY_PCT</th>\n",
       "    </tr>\n",
       "    <tr>\n",
       "      <th>OPERATOR</th>\n",
       "      <th></th>\n",
       "      <th></th>\n",
       "      <th></th>\n",
       "      <th></th>\n",
       "    </tr>\n",
       "  </thead>\n",
       "  <tbody>\n",
       "    <tr>\n",
       "      <th>0</th>\n",
       "      <td>1</td>\n",
       "      <td>100.000000</td>\n",
       "      <td>0</td>\n",
       "      <td>NaN</td>\n",
       "    </tr>\n",
       "    <tr>\n",
       "      <th>56</th>\n",
       "      <td>3</td>\n",
       "      <td>100.000000</td>\n",
       "      <td>2</td>\n",
       "      <td>100.000000</td>\n",
       "    </tr>\n",
       "    <tr>\n",
       "      <th>2294</th>\n",
       "      <td>45</td>\n",
       "      <td>100.000000</td>\n",
       "      <td>28</td>\n",
       "      <td>100.000000</td>\n",
       "    </tr>\n",
       "    <tr>\n",
       "      <th>1762</th>\n",
       "      <td>2333</td>\n",
       "      <td>98.328333</td>\n",
       "      <td>1553</td>\n",
       "      <td>91.435930</td>\n",
       "    </tr>\n",
       "    <tr>\n",
       "      <th>1706</th>\n",
       "      <td>44</td>\n",
       "      <td>97.727273</td>\n",
       "      <td>37</td>\n",
       "      <td>86.486486</td>\n",
       "    </tr>\n",
       "    <tr>\n",
       "      <th>...</th>\n",
       "      <td>...</td>\n",
       "      <td>...</td>\n",
       "      <td>...</td>\n",
       "      <td>...</td>\n",
       "    </tr>\n",
       "    <tr>\n",
       "      <th>2094</th>\n",
       "      <td>38</td>\n",
       "      <td>23.684211</td>\n",
       "      <td>32</td>\n",
       "      <td>46.875000</td>\n",
       "    </tr>\n",
       "    <tr>\n",
       "      <th>1377</th>\n",
       "      <td>60</td>\n",
       "      <td>20.000000</td>\n",
       "      <td>0</td>\n",
       "      <td>NaN</td>\n",
       "    </tr>\n",
       "    <tr>\n",
       "      <th>2982</th>\n",
       "      <td>28</td>\n",
       "      <td>7.142857</td>\n",
       "      <td>19</td>\n",
       "      <td>31.578947</td>\n",
       "    </tr>\n",
       "    <tr>\n",
       "      <th>473</th>\n",
       "      <td>1</td>\n",
       "      <td>0.000000</td>\n",
       "      <td>0</td>\n",
       "      <td>NaN</td>\n",
       "    </tr>\n",
       "    <tr>\n",
       "      <th>656</th>\n",
       "      <td>1</td>\n",
       "      <td>0.000000</td>\n",
       "      <td>1</td>\n",
       "      <td>0.000000</td>\n",
       "    </tr>\n",
       "  </tbody>\n",
       "</table>\n",
       "<p>341 rows × 4 columns</p>\n",
       "</div>"
      ],
      "text/plain": [
       "          ADHERENCE_TOTALS  ACCEPTABLE_ADHERENCE_PCT  HEADWAY_TOTALS  \\\n",
       "OPERATOR                                                               \n",
       "0                        1                100.000000               0   \n",
       "56                       3                100.000000               2   \n",
       "2294                    45                100.000000              28   \n",
       "1762                  2333                 98.328333            1553   \n",
       "1706                    44                 97.727273              37   \n",
       "...                    ...                       ...             ...   \n",
       "2094                    38                 23.684211              32   \n",
       "1377                    60                 20.000000               0   \n",
       "2982                    28                  7.142857              19   \n",
       "473                      1                  0.000000               0   \n",
       "656                      1                  0.000000               1   \n",
       "\n",
       "          ACCEPTABLE_HEADWAY_PCT  \n",
       "OPERATOR                          \n",
       "0                            NaN  \n",
       "56                    100.000000  \n",
       "2294                  100.000000  \n",
       "1762                   91.435930  \n",
       "1706                   86.486486  \n",
       "...                          ...  \n",
       "2094                   46.875000  \n",
       "1377                         NaN  \n",
       "2982                   31.578947  \n",
       "473                          NaN  \n",
       "656                     0.000000  \n",
       "\n",
       "[341 rows x 4 columns]"
      ]
     },
     "execution_count": 64,
     "metadata": {},
     "output_type": "execute_result"
    }
   ],
   "source": [
    "op_summary = operator_totals[['ADHERENCE_TOTALS', 'ACCEPTABLE_ADHERENCE_PCT', 'HEADWAY_TOTALS', 'ACCEPTABLE_HEADWAY_PCT']].sort_values('ACCEPTABLE_ADHERENCE_PCT', ascending=False)\n",
    "op_summary"
   ]
  },
  {
   "cell_type": "code",
   "execution_count": 65,
   "id": "040dd8c1",
   "metadata": {},
   "outputs": [],
   "source": [
    "top20_adh = (op_summary[op_summary['ADHERENCE_TOTALS'] >= 1000]\n",
    "            .nlargest(20, columns=['ACCEPTABLE_ADHERENCE_PCT', 'ADHERENCE_TOTALS']))"
   ]
  },
  {
   "cell_type": "code",
   "execution_count": 66,
   "id": "6d41f17a",
   "metadata": {},
   "outputs": [],
   "source": [
    "bottom20_adh = (op_summary[op_summary['ADHERENCE_TOTALS'] >= 1000]\n",
    "            .nsmallest(20, columns=['ACCEPTABLE_ADHERENCE_PCT', 'ADHERENCE_TOTALS']))"
   ]
  },
  {
   "cell_type": "code",
   "execution_count": 67,
   "id": "ddc2963b",
   "metadata": {},
   "outputs": [],
   "source": [
    "top20_hdw = (op_summary[op_summary['HEADWAY_TOTALS'] >= 1000]\n",
    "            .nlargest(20, columns=['ACCEPTABLE_HEADWAY_PCT', 'HEADWAY_TOTALS']))"
   ]
  },
  {
   "cell_type": "code",
   "execution_count": 68,
   "id": "f7ed7d43",
   "metadata": {},
   "outputs": [],
   "source": [
    "bottom20_hdw = (op_summary[op_summary['HEADWAY_TOTALS'] >= 1000]\n",
    "            .nsmallest(20, columns=['ACCEPTABLE_HEADWAY_PCT', 'HEADWAY_TOTALS']))"
   ]
  },
  {
   "cell_type": "code",
   "execution_count": 69,
   "id": "e546ce69",
   "metadata": {},
   "outputs": [
    {
     "data": {
      "text/html": [
       "<div>\n",
       "<style scoped>\n",
       "    .dataframe tbody tr th:only-of-type {\n",
       "        vertical-align: middle;\n",
       "    }\n",
       "\n",
       "    .dataframe tbody tr th {\n",
       "        vertical-align: top;\n",
       "    }\n",
       "\n",
       "    .dataframe thead th {\n",
       "        text-align: right;\n",
       "    }\n",
       "</style>\n",
       "<table border=\"1\" class=\"dataframe\">\n",
       "  <thead>\n",
       "    <tr style=\"text-align: right;\">\n",
       "      <th></th>\n",
       "      <th>ADHERENCE_TOTALS</th>\n",
       "      <th>ACCEPTABLE_ADHERENCE_PCT</th>\n",
       "      <th>HEADWAY_TOTALS</th>\n",
       "      <th>ACCEPTABLE_HEADWAY_PCT</th>\n",
       "    </tr>\n",
       "    <tr>\n",
       "      <th>OPERATOR</th>\n",
       "      <th></th>\n",
       "      <th></th>\n",
       "      <th></th>\n",
       "      <th></th>\n",
       "    </tr>\n",
       "  </thead>\n",
       "  <tbody>\n",
       "    <tr>\n",
       "      <th>1762</th>\n",
       "      <td>2333</td>\n",
       "      <td>98.328333</td>\n",
       "      <td>1553</td>\n",
       "      <td>91.435930</td>\n",
       "    </tr>\n",
       "    <tr>\n",
       "      <th>409</th>\n",
       "      <td>2380</td>\n",
       "      <td>97.058824</td>\n",
       "      <td>1715</td>\n",
       "      <td>96.618076</td>\n",
       "    </tr>\n",
       "    <tr>\n",
       "      <th>1566</th>\n",
       "      <td>2200</td>\n",
       "      <td>97.045455</td>\n",
       "      <td>1835</td>\n",
       "      <td>98.038147</td>\n",
       "    </tr>\n",
       "    <tr>\n",
       "      <th>1927</th>\n",
       "      <td>2413</td>\n",
       "      <td>96.021550</td>\n",
       "      <td>1960</td>\n",
       "      <td>95.357143</td>\n",
       "    </tr>\n",
       "    <tr>\n",
       "      <th>1040</th>\n",
       "      <td>1770</td>\n",
       "      <td>95.762712</td>\n",
       "      <td>1058</td>\n",
       "      <td>97.353497</td>\n",
       "    </tr>\n",
       "    <tr>\n",
       "      <th>1133</th>\n",
       "      <td>2625</td>\n",
       "      <td>95.428571</td>\n",
       "      <td>2177</td>\n",
       "      <td>93.615067</td>\n",
       "    </tr>\n",
       "    <tr>\n",
       "      <th>1617</th>\n",
       "      <td>1806</td>\n",
       "      <td>95.293466</td>\n",
       "      <td>1281</td>\n",
       "      <td>97.189696</td>\n",
       "    </tr>\n",
       "    <tr>\n",
       "      <th>2321</th>\n",
       "      <td>1420</td>\n",
       "      <td>94.014085</td>\n",
       "      <td>1180</td>\n",
       "      <td>93.728814</td>\n",
       "    </tr>\n",
       "    <tr>\n",
       "      <th>2041</th>\n",
       "      <td>1548</td>\n",
       "      <td>92.829457</td>\n",
       "      <td>1187</td>\n",
       "      <td>93.344566</td>\n",
       "    </tr>\n",
       "    <tr>\n",
       "      <th>2088</th>\n",
       "      <td>2021</td>\n",
       "      <td>92.825334</td>\n",
       "      <td>1528</td>\n",
       "      <td>94.109948</td>\n",
       "    </tr>\n",
       "  </tbody>\n",
       "</table>\n",
       "</div>"
      ],
      "text/plain": [
       "          ADHERENCE_TOTALS  ACCEPTABLE_ADHERENCE_PCT  HEADWAY_TOTALS  \\\n",
       "OPERATOR                                                               \n",
       "1762                  2333                 98.328333            1553   \n",
       "409                   2380                 97.058824            1715   \n",
       "1566                  2200                 97.045455            1835   \n",
       "1927                  2413                 96.021550            1960   \n",
       "1040                  1770                 95.762712            1058   \n",
       "1133                  2625                 95.428571            2177   \n",
       "1617                  1806                 95.293466            1281   \n",
       "2321                  1420                 94.014085            1180   \n",
       "2041                  1548                 92.829457            1187   \n",
       "2088                  2021                 92.825334            1528   \n",
       "\n",
       "          ACCEPTABLE_HEADWAY_PCT  \n",
       "OPERATOR                          \n",
       "1762                   91.435930  \n",
       "409                    96.618076  \n",
       "1566                   98.038147  \n",
       "1927                   95.357143  \n",
       "1040                   97.353497  \n",
       "1133                   93.615067  \n",
       "1617                   97.189696  \n",
       "2321                   93.728814  \n",
       "2041                   93.344566  \n",
       "2088                   94.109948  "
      ]
     },
     "execution_count": 69,
     "metadata": {},
     "output_type": "execute_result"
    }
   ],
   "source": [
    "# join TOP dfs on operator\n",
    "top_operators = (pd.merge(top20_adh, \n",
    "                          top20_hdw[[]], \n",
    "                          how='inner', \n",
    "                          left_index=True, \n",
    "                          right_index=True))\n",
    "top_operators"
   ]
  },
  {
   "cell_type": "code",
   "execution_count": 70,
   "id": "067e3a07",
   "metadata": {},
   "outputs": [
    {
     "data": {
      "text/html": [
       "<div>\n",
       "<style scoped>\n",
       "    .dataframe tbody tr th:only-of-type {\n",
       "        vertical-align: middle;\n",
       "    }\n",
       "\n",
       "    .dataframe tbody tr th {\n",
       "        vertical-align: top;\n",
       "    }\n",
       "\n",
       "    .dataframe thead th {\n",
       "        text-align: right;\n",
       "    }\n",
       "</style>\n",
       "<table border=\"1\" class=\"dataframe\">\n",
       "  <thead>\n",
       "    <tr style=\"text-align: right;\">\n",
       "      <th></th>\n",
       "      <th>ADHERENCE_TOTALS</th>\n",
       "      <th>ACCEPTABLE_ADHERENCE_PCT</th>\n",
       "      <th>HEADWAY_TOTALS</th>\n",
       "      <th>ACCEPTABLE_HEADWAY_PCT</th>\n",
       "    </tr>\n",
       "    <tr>\n",
       "      <th>OPERATOR</th>\n",
       "      <th></th>\n",
       "      <th></th>\n",
       "      <th></th>\n",
       "      <th></th>\n",
       "    </tr>\n",
       "  </thead>\n",
       "  <tbody>\n",
       "    <tr>\n",
       "      <th>3101</th>\n",
       "      <td>1297</td>\n",
       "      <td>44.641480</td>\n",
       "      <td>1055</td>\n",
       "      <td>72.985782</td>\n",
       "    </tr>\n",
       "    <tr>\n",
       "      <th>1800</th>\n",
       "      <td>1625</td>\n",
       "      <td>48.553846</td>\n",
       "      <td>1298</td>\n",
       "      <td>73.805855</td>\n",
       "    </tr>\n",
       "    <tr>\n",
       "      <th>2109</th>\n",
       "      <td>2093</td>\n",
       "      <td>54.419494</td>\n",
       "      <td>1707</td>\n",
       "      <td>68.775630</td>\n",
       "    </tr>\n",
       "    <tr>\n",
       "      <th>357</th>\n",
       "      <td>1584</td>\n",
       "      <td>54.671717</td>\n",
       "      <td>1204</td>\n",
       "      <td>75.581395</td>\n",
       "    </tr>\n",
       "    <tr>\n",
       "      <th>1352</th>\n",
       "      <td>1693</td>\n",
       "      <td>56.349675</td>\n",
       "      <td>1412</td>\n",
       "      <td>63.526912</td>\n",
       "    </tr>\n",
       "    <tr>\n",
       "      <th>1277</th>\n",
       "      <td>1375</td>\n",
       "      <td>57.818182</td>\n",
       "      <td>1075</td>\n",
       "      <td>74.790698</td>\n",
       "    </tr>\n",
       "    <tr>\n",
       "      <th>2356</th>\n",
       "      <td>1408</td>\n",
       "      <td>58.238636</td>\n",
       "      <td>1105</td>\n",
       "      <td>69.049774</td>\n",
       "    </tr>\n",
       "    <tr>\n",
       "      <th>2082</th>\n",
       "      <td>1759</td>\n",
       "      <td>58.442297</td>\n",
       "      <td>1460</td>\n",
       "      <td>70.821918</td>\n",
       "    </tr>\n",
       "    <tr>\n",
       "      <th>1359</th>\n",
       "      <td>1548</td>\n",
       "      <td>59.560724</td>\n",
       "      <td>1289</td>\n",
       "      <td>65.399535</td>\n",
       "    </tr>\n",
       "    <tr>\n",
       "      <th>1958</th>\n",
       "      <td>1305</td>\n",
       "      <td>61.839080</td>\n",
       "      <td>1065</td>\n",
       "      <td>70.046948</td>\n",
       "    </tr>\n",
       "  </tbody>\n",
       "</table>\n",
       "</div>"
      ],
      "text/plain": [
       "          ADHERENCE_TOTALS  ACCEPTABLE_ADHERENCE_PCT  HEADWAY_TOTALS  \\\n",
       "OPERATOR                                                               \n",
       "3101                  1297                 44.641480            1055   \n",
       "1800                  1625                 48.553846            1298   \n",
       "2109                  2093                 54.419494            1707   \n",
       "357                   1584                 54.671717            1204   \n",
       "1352                  1693                 56.349675            1412   \n",
       "1277                  1375                 57.818182            1075   \n",
       "2356                  1408                 58.238636            1105   \n",
       "2082                  1759                 58.442297            1460   \n",
       "1359                  1548                 59.560724            1289   \n",
       "1958                  1305                 61.839080            1065   \n",
       "\n",
       "          ACCEPTABLE_HEADWAY_PCT  \n",
       "OPERATOR                          \n",
       "3101                   72.985782  \n",
       "1800                   73.805855  \n",
       "2109                   68.775630  \n",
       "357                    75.581395  \n",
       "1352                   63.526912  \n",
       "1277                   74.790698  \n",
       "2356                   69.049774  \n",
       "2082                   70.821918  \n",
       "1359                   65.399535  \n",
       "1958                   70.046948  "
      ]
     },
     "execution_count": 70,
     "metadata": {},
     "output_type": "execute_result"
    }
   ],
   "source": [
    "# join BOTTOM dfs on operator\n",
    "bottom_operators = (pd.merge(bottom20_adh, \n",
    "                             bottom20_hdw[[]], \n",
    "                             how='inner', \n",
    "                             left_index=True, \n",
    "                             right_index=True))\n",
    "bottom_operators"
   ]
  },
  {
   "cell_type": "code",
   "execution_count": 71,
   "id": "c7b3fd45",
   "metadata": {
    "scrolled": true
   },
   "outputs": [
    {
     "data": {
      "text/html": [
       "<div>\n",
       "<style scoped>\n",
       "    .dataframe tbody tr th:only-of-type {\n",
       "        vertical-align: middle;\n",
       "    }\n",
       "\n",
       "    .dataframe tbody tr th {\n",
       "        vertical-align: top;\n",
       "    }\n",
       "\n",
       "    .dataframe thead th {\n",
       "        text-align: right;\n",
       "    }\n",
       "</style>\n",
       "<table border=\"1\" class=\"dataframe\">\n",
       "  <thead>\n",
       "    <tr style=\"text-align: right;\">\n",
       "      <th></th>\n",
       "      <th>ADHERENCE_TOTALS</th>\n",
       "      <th>ACCEPTABLE_ADHERENCE_PCT</th>\n",
       "      <th>HEADWAY_TOTALS</th>\n",
       "      <th>ACCEPTABLE_HEADWAY_PCT</th>\n",
       "    </tr>\n",
       "    <tr>\n",
       "      <th>OPERATOR</th>\n",
       "      <th></th>\n",
       "      <th></th>\n",
       "      <th></th>\n",
       "      <th></th>\n",
       "    </tr>\n",
       "  </thead>\n",
       "  <tbody>\n",
       "    <tr>\n",
       "      <th>1762</th>\n",
       "      <td>2333</td>\n",
       "      <td>98.328333</td>\n",
       "      <td>1553</td>\n",
       "      <td>91.435930</td>\n",
       "    </tr>\n",
       "    <tr>\n",
       "      <th>409</th>\n",
       "      <td>2380</td>\n",
       "      <td>97.058824</td>\n",
       "      <td>1715</td>\n",
       "      <td>96.618076</td>\n",
       "    </tr>\n",
       "    <tr>\n",
       "      <th>1566</th>\n",
       "      <td>2200</td>\n",
       "      <td>97.045455</td>\n",
       "      <td>1835</td>\n",
       "      <td>98.038147</td>\n",
       "    </tr>\n",
       "    <tr>\n",
       "      <th>1927</th>\n",
       "      <td>2413</td>\n",
       "      <td>96.021550</td>\n",
       "      <td>1960</td>\n",
       "      <td>95.357143</td>\n",
       "    </tr>\n",
       "    <tr>\n",
       "      <th>1040</th>\n",
       "      <td>1770</td>\n",
       "      <td>95.762712</td>\n",
       "      <td>1058</td>\n",
       "      <td>97.353497</td>\n",
       "    </tr>\n",
       "    <tr>\n",
       "      <th>1133</th>\n",
       "      <td>2625</td>\n",
       "      <td>95.428571</td>\n",
       "      <td>2177</td>\n",
       "      <td>93.615067</td>\n",
       "    </tr>\n",
       "    <tr>\n",
       "      <th>1617</th>\n",
       "      <td>1806</td>\n",
       "      <td>95.293466</td>\n",
       "      <td>1281</td>\n",
       "      <td>97.189696</td>\n",
       "    </tr>\n",
       "    <tr>\n",
       "      <th>2321</th>\n",
       "      <td>1420</td>\n",
       "      <td>94.014085</td>\n",
       "      <td>1180</td>\n",
       "      <td>93.728814</td>\n",
       "    </tr>\n",
       "    <tr>\n",
       "      <th>2041</th>\n",
       "      <td>1548</td>\n",
       "      <td>92.829457</td>\n",
       "      <td>1187</td>\n",
       "      <td>93.344566</td>\n",
       "    </tr>\n",
       "    <tr>\n",
       "      <th>2088</th>\n",
       "      <td>2021</td>\n",
       "      <td>92.825334</td>\n",
       "      <td>1528</td>\n",
       "      <td>94.109948</td>\n",
       "    </tr>\n",
       "    <tr>\n",
       "      <th>1958</th>\n",
       "      <td>1305</td>\n",
       "      <td>61.839080</td>\n",
       "      <td>1065</td>\n",
       "      <td>70.046948</td>\n",
       "    </tr>\n",
       "    <tr>\n",
       "      <th>1359</th>\n",
       "      <td>1548</td>\n",
       "      <td>59.560724</td>\n",
       "      <td>1289</td>\n",
       "      <td>65.399535</td>\n",
       "    </tr>\n",
       "    <tr>\n",
       "      <th>2082</th>\n",
       "      <td>1759</td>\n",
       "      <td>58.442297</td>\n",
       "      <td>1460</td>\n",
       "      <td>70.821918</td>\n",
       "    </tr>\n",
       "    <tr>\n",
       "      <th>2356</th>\n",
       "      <td>1408</td>\n",
       "      <td>58.238636</td>\n",
       "      <td>1105</td>\n",
       "      <td>69.049774</td>\n",
       "    </tr>\n",
       "    <tr>\n",
       "      <th>1277</th>\n",
       "      <td>1375</td>\n",
       "      <td>57.818182</td>\n",
       "      <td>1075</td>\n",
       "      <td>74.790698</td>\n",
       "    </tr>\n",
       "    <tr>\n",
       "      <th>1352</th>\n",
       "      <td>1693</td>\n",
       "      <td>56.349675</td>\n",
       "      <td>1412</td>\n",
       "      <td>63.526912</td>\n",
       "    </tr>\n",
       "    <tr>\n",
       "      <th>357</th>\n",
       "      <td>1584</td>\n",
       "      <td>54.671717</td>\n",
       "      <td>1204</td>\n",
       "      <td>75.581395</td>\n",
       "    </tr>\n",
       "    <tr>\n",
       "      <th>2109</th>\n",
       "      <td>2093</td>\n",
       "      <td>54.419494</td>\n",
       "      <td>1707</td>\n",
       "      <td>68.775630</td>\n",
       "    </tr>\n",
       "    <tr>\n",
       "      <th>1800</th>\n",
       "      <td>1625</td>\n",
       "      <td>48.553846</td>\n",
       "      <td>1298</td>\n",
       "      <td>73.805855</td>\n",
       "    </tr>\n",
       "    <tr>\n",
       "      <th>3101</th>\n",
       "      <td>1297</td>\n",
       "      <td>44.641480</td>\n",
       "      <td>1055</td>\n",
       "      <td>72.985782</td>\n",
       "    </tr>\n",
       "  </tbody>\n",
       "</table>\n",
       "</div>"
      ],
      "text/plain": [
       "          ADHERENCE_TOTALS  ACCEPTABLE_ADHERENCE_PCT  HEADWAY_TOTALS  \\\n",
       "OPERATOR                                                               \n",
       "1762                  2333                 98.328333            1553   \n",
       "409                   2380                 97.058824            1715   \n",
       "1566                  2200                 97.045455            1835   \n",
       "1927                  2413                 96.021550            1960   \n",
       "1040                  1770                 95.762712            1058   \n",
       "1133                  2625                 95.428571            2177   \n",
       "1617                  1806                 95.293466            1281   \n",
       "2321                  1420                 94.014085            1180   \n",
       "2041                  1548                 92.829457            1187   \n",
       "2088                  2021                 92.825334            1528   \n",
       "1958                  1305                 61.839080            1065   \n",
       "1359                  1548                 59.560724            1289   \n",
       "2082                  1759                 58.442297            1460   \n",
       "2356                  1408                 58.238636            1105   \n",
       "1277                  1375                 57.818182            1075   \n",
       "1352                  1693                 56.349675            1412   \n",
       "357                   1584                 54.671717            1204   \n",
       "2109                  2093                 54.419494            1707   \n",
       "1800                  1625                 48.553846            1298   \n",
       "3101                  1297                 44.641480            1055   \n",
       "\n",
       "          ACCEPTABLE_HEADWAY_PCT  \n",
       "OPERATOR                          \n",
       "1762                   91.435930  \n",
       "409                    96.618076  \n",
       "1566                   98.038147  \n",
       "1927                   95.357143  \n",
       "1040                   97.353497  \n",
       "1133                   93.615067  \n",
       "1617                   97.189696  \n",
       "2321                   93.728814  \n",
       "2041                   93.344566  \n",
       "2088                   94.109948  \n",
       "1958                   70.046948  \n",
       "1359                   65.399535  \n",
       "2082                   70.821918  \n",
       "2356                   69.049774  \n",
       "1277                   74.790698  \n",
       "1352                   63.526912  \n",
       "357                    75.581395  \n",
       "2109                   68.775630  \n",
       "1800                   73.805855  \n",
       "3101                   72.985782  "
      ]
     },
     "execution_count": 71,
     "metadata": {},
     "output_type": "execute_result"
    }
   ],
   "source": [
    "top_bottom_operators = pd.concat([top_operators, bottom_operators.sort_values('ACCEPTABLE_ADHERENCE_PCT', ascending=False)])\n",
    "top_bottom_operators"
   ]
  },
  {
   "cell_type": "code",
   "execution_count": 72,
   "id": "d12daa0b",
   "metadata": {},
   "outputs": [],
   "source": [
    "# Creat new column for negative Headway\n",
    "top_bottom_operators.loc[:, 'NEGATIVE_ACCEPTABLE'] = top_bottom_operators['ACCEPTABLE_ADHERENCE_PCT'].apply(lambda pct: -pct)"
   ]
  },
  {
   "cell_type": "code",
   "execution_count": 73,
   "id": "188620ce",
   "metadata": {},
   "outputs": [],
   "source": [
    "# function to correct negative \n",
    "def get_label_value(num):\n",
    "    if num >= 0:\n",
    "        return str(round((num), 2)) + '%'\n",
    "    else:\n",
    "        return str(round((-num), 2)) +'%'"
   ]
  },
  {
   "cell_type": "code",
   "execution_count": 74,
   "id": "33df0505",
   "metadata": {
    "scrolled": false
   },
   "outputs": [
    {
     "name": "stderr",
     "output_type": "stream",
     "text": [
      "C:\\Users\\hayle\\AppData\\Local\\Temp\\ipykernel_65388\\2756347677.py:25: UserWarning: set_ticklabels() should only be used with a fixed number of ticks, i.e. after set_ticks() or using a FixedLocator.\n",
      "  ax.set_xticklabels(['', '100%', '75%', '50%', '25%', '0%', '25%', '50%', '75%', '100%'])\n"
     ]
    },
    {
     "data": {
      "image/png": "[encoded data removed]",
      "text/plain": [
       "<Figure size 1200x800 with 1 Axes>"
      ]
     },
     "metadata": {},
     "output_type": "display_data"
    }
   ],
   "source": [
    "# Graph Top and Bottom Operators\n",
    "ax = top_bottom_operators[['ACCEPTABLE_HEADWAY_PCT', 'NEGATIVE_ACCEPTABLE']].plot(kind='barh',\n",
    "                                                                      stacked=True,\n",
    "                                                                      figsize=(12, 8),\n",
    "                                                                     color= [purple, black])\n",
    "\n",
    "ax.set(title = 'Top and Bottom Performing Operators',\n",
    "        xlabel = 'Percentage',\n",
    "       ylabel = 'Operator')\n",
    "\n",
    "# set bar labels\n",
    "for bar in ax.patches:\n",
    "  ax.text(\n",
    "      bar.get_x() + bar.get_width() / 2, # horizontal alignment\n",
    "      bar.get_height() + bar.get_y() - 0.41, # vertical alignment\n",
    "      get_label_value(bar.get_width()), # value\n",
    "      ha='center', # Center the labels\n",
    "      color= gray, # style labels\n",
    "      weight='bold',\n",
    "      size=10\n",
    "  )\n",
    "\n",
    "ax.legend(bbox_to_anchor=(1, 1), title='Categories', labels = ['% On Time', '% Acceptable Headway'])\n",
    "# Create custom percent labels\n",
    "ax.set_xticklabels(['', '100%', '75%', '50%', '25%', '0%', '25%', '50%', '75%', '100%'])\n",
    "\n",
    "#plt.savefig('../images/top_and_bottom_opperators_graph.png')\n",
    "plt.show()"
   ]
  },
  {
   "cell_type": "code",
   "execution_count": 82,
   "id": "c1984008",
   "metadata": {},
   "outputs": [],
   "source": [
    "sample_ops_id = top_bottom_operators.index.tolist()\n",
    "\n",
    "sample_ops = wego[wego.OPERATOR.isin(sample_ops_id)]\n",
    "\n",
    "sample_ops = (\n",
    "    sample_ops.groupby(['OPERATOR','ROUTE_ABBR'])\n",
    "         [['HDWY_ACCEPTABLE','ADJUSTED_ONTIME_COUNT']]\n",
    "         .mean())"
   ]
  },
  {
   "cell_type": "code",
   "execution_count": 83,
   "id": "fc922a6b",
   "metadata": {},
   "outputs": [
    {
     "data": {
      "text/html": [
       "<div>\n",
       "<style scoped>\n",
       "    .dataframe tbody tr th:only-of-type {\n",
       "        vertical-align: middle;\n",
       "    }\n",
       "\n",
       "    .dataframe tbody tr th {\n",
       "        vertical-align: top;\n",
       "    }\n",
       "\n",
       "    .dataframe thead th {\n",
       "        text-align: right;\n",
       "    }\n",
       "</style>\n",
       "<table border=\"1\" class=\"dataframe\">\n",
       "  <thead>\n",
       "    <tr style=\"text-align: right;\">\n",
       "      <th></th>\n",
       "      <th></th>\n",
       "      <th>HDWY_ACCEPTABLE</th>\n",
       "      <th>ADJUSTED_ONTIME_COUNT</th>\n",
       "    </tr>\n",
       "    <tr>\n",
       "      <th>OPERATOR</th>\n",
       "      <th>ROUTE_ABBR</th>\n",
       "      <th></th>\n",
       "      <th></th>\n",
       "    </tr>\n",
       "  </thead>\n",
       "  <tbody>\n",
       "    <tr>\n",
       "      <th rowspan=\"8\" valign=\"top\">357</th>\n",
       "      <th>3</th>\n",
       "      <td>0.638554</td>\n",
       "      <td>0.566265</td>\n",
       "    </tr>\n",
       "    <tr>\n",
       "      <th>7</th>\n",
       "      <td>0.554054</td>\n",
       "      <td>0.716216</td>\n",
       "    </tr>\n",
       "    <tr>\n",
       "      <th>22</th>\n",
       "      <td>0.617391</td>\n",
       "      <td>0.713043</td>\n",
       "    </tr>\n",
       "    <tr>\n",
       "      <th>23</th>\n",
       "      <td>0.592000</td>\n",
       "      <td>0.720000</td>\n",
       "    </tr>\n",
       "    <tr>\n",
       "      <th>50</th>\n",
       "      <td>0.660377</td>\n",
       "      <td>0.466981</td>\n",
       "    </tr>\n",
       "    <tr>\n",
       "      <th>52</th>\n",
       "      <td>0.483516</td>\n",
       "      <td>0.307692</td>\n",
       "    </tr>\n",
       "    <tr>\n",
       "      <th>55</th>\n",
       "      <td>0.521898</td>\n",
       "      <td>0.598540</td>\n",
       "    </tr>\n",
       "    <tr>\n",
       "      <th>56</th>\n",
       "      <td>0.479365</td>\n",
       "      <td>0.498413</td>\n",
       "    </tr>\n",
       "    <tr>\n",
       "      <th>409</th>\n",
       "      <th>23</th>\n",
       "      <td>0.696218</td>\n",
       "      <td>0.970588</td>\n",
       "    </tr>\n",
       "    <tr>\n",
       "      <th>1040</th>\n",
       "      <th>22</th>\n",
       "      <td>0.581921</td>\n",
       "      <td>0.957627</td>\n",
       "    </tr>\n",
       "    <tr>\n",
       "      <th>1133</th>\n",
       "      <th>50</th>\n",
       "      <td>0.776381</td>\n",
       "      <td>0.954286</td>\n",
       "    </tr>\n",
       "    <tr>\n",
       "      <th rowspan=\"7\" valign=\"top\">1277</th>\n",
       "      <th>3</th>\n",
       "      <td>0.559701</td>\n",
       "      <td>0.738806</td>\n",
       "    </tr>\n",
       "    <tr>\n",
       "      <th>7</th>\n",
       "      <td>0.547826</td>\n",
       "      <td>0.591304</td>\n",
       "    </tr>\n",
       "    <tr>\n",
       "      <th>22</th>\n",
       "      <td>0.480392</td>\n",
       "      <td>0.764706</td>\n",
       "    </tr>\n",
       "    <tr>\n",
       "      <th>50</th>\n",
       "      <td>0.717742</td>\n",
       "      <td>0.782258</td>\n",
       "    </tr>\n",
       "    <tr>\n",
       "      <th>52</th>\n",
       "      <td>0.598039</td>\n",
       "      <td>0.607843</td>\n",
       "    </tr>\n",
       "    <tr>\n",
       "      <th>55</th>\n",
       "      <td>0.561404</td>\n",
       "      <td>0.418546</td>\n",
       "    </tr>\n",
       "    <tr>\n",
       "      <th>56</th>\n",
       "      <td>0.609023</td>\n",
       "      <td>0.561404</td>\n",
       "    </tr>\n",
       "    <tr>\n",
       "      <th>1352</th>\n",
       "      <th>55</th>\n",
       "      <td>0.529829</td>\n",
       "      <td>0.563497</td>\n",
       "    </tr>\n",
       "    <tr>\n",
       "      <th>1359</th>\n",
       "      <th>55</th>\n",
       "      <td>0.544574</td>\n",
       "      <td>0.595607</td>\n",
       "    </tr>\n",
       "    <tr>\n",
       "      <th>1566</th>\n",
       "      <th>50</th>\n",
       "      <td>0.817727</td>\n",
       "      <td>0.970455</td>\n",
       "    </tr>\n",
       "    <tr>\n",
       "      <th rowspan=\"2\" valign=\"top\">1617</th>\n",
       "      <th>7</th>\n",
       "      <td>0.545455</td>\n",
       "      <td>0.930736</td>\n",
       "    </tr>\n",
       "    <tr>\n",
       "      <th>22</th>\n",
       "      <td>0.710476</td>\n",
       "      <td>0.956190</td>\n",
       "    </tr>\n",
       "    <tr>\n",
       "      <th>1762</th>\n",
       "      <th>22</th>\n",
       "      <td>0.608658</td>\n",
       "      <td>0.983283</td>\n",
       "    </tr>\n",
       "    <tr>\n",
       "      <th>1800</th>\n",
       "      <th>52</th>\n",
       "      <td>0.589538</td>\n",
       "      <td>0.485538</td>\n",
       "    </tr>\n",
       "    <tr>\n",
       "      <th rowspan=\"3\" valign=\"top\">1927</th>\n",
       "      <th>23</th>\n",
       "      <td>0.716937</td>\n",
       "      <td>0.995360</td>\n",
       "    </tr>\n",
       "    <tr>\n",
       "      <th>50</th>\n",
       "      <td>0.788551</td>\n",
       "      <td>0.955647</td>\n",
       "    </tr>\n",
       "    <tr>\n",
       "      <th>56</th>\n",
       "      <td>0.720930</td>\n",
       "      <td>0.813953</td>\n",
       "    </tr>\n",
       "    <tr>\n",
       "      <th rowspan=\"2\" valign=\"top\">1958</th>\n",
       "      <th>55</th>\n",
       "      <td>0.565432</td>\n",
       "      <td>0.606584</td>\n",
       "    </tr>\n",
       "    <tr>\n",
       "      <th>56</th>\n",
       "      <td>0.655556</td>\n",
       "      <td>0.777778</td>\n",
       "    </tr>\n",
       "    <tr>\n",
       "      <th rowspan=\"3\" valign=\"top\">2041</th>\n",
       "      <th>23</th>\n",
       "      <td>0.694501</td>\n",
       "      <td>0.954175</td>\n",
       "    </tr>\n",
       "    <tr>\n",
       "      <th>52</th>\n",
       "      <td>0.756661</td>\n",
       "      <td>0.884547</td>\n",
       "    </tr>\n",
       "    <tr>\n",
       "      <th>55</th>\n",
       "      <td>0.000000</td>\n",
       "      <td>0.666667</td>\n",
       "    </tr>\n",
       "    <tr>\n",
       "      <th>2082</th>\n",
       "      <th>55</th>\n",
       "      <td>0.587834</td>\n",
       "      <td>0.584423</td>\n",
       "    </tr>\n",
       "    <tr>\n",
       "      <th rowspan=\"4\" valign=\"top\">2088</th>\n",
       "      <th>22</th>\n",
       "      <td>0.671202</td>\n",
       "      <td>0.975057</td>\n",
       "    </tr>\n",
       "    <tr>\n",
       "      <th>23</th>\n",
       "      <td>0.683491</td>\n",
       "      <td>0.941115</td>\n",
       "    </tr>\n",
       "    <tr>\n",
       "      <th>52</th>\n",
       "      <td>0.767442</td>\n",
       "      <td>0.810078</td>\n",
       "    </tr>\n",
       "    <tr>\n",
       "      <th>56</th>\n",
       "      <td>0.792453</td>\n",
       "      <td>0.921833</td>\n",
       "    </tr>\n",
       "    <tr>\n",
       "      <th rowspan=\"5\" valign=\"top\">2109</th>\n",
       "      <th>7</th>\n",
       "      <td>0.608696</td>\n",
       "      <td>0.683230</td>\n",
       "    </tr>\n",
       "    <tr>\n",
       "      <th>50</th>\n",
       "      <td>0.648282</td>\n",
       "      <td>0.616637</td>\n",
       "    </tr>\n",
       "    <tr>\n",
       "      <th>52</th>\n",
       "      <td>0.578947</td>\n",
       "      <td>0.578947</td>\n",
       "    </tr>\n",
       "    <tr>\n",
       "      <th>55</th>\n",
       "      <td>0.437103</td>\n",
       "      <td>0.411690</td>\n",
       "    </tr>\n",
       "    <tr>\n",
       "      <th>56</th>\n",
       "      <td>0.200000</td>\n",
       "      <td>0.600000</td>\n",
       "    </tr>\n",
       "    <tr>\n",
       "      <th>2321</th>\n",
       "      <th>50</th>\n",
       "      <td>0.778873</td>\n",
       "      <td>0.940141</td>\n",
       "    </tr>\n",
       "    <tr>\n",
       "      <th rowspan=\"2\" valign=\"top\">2356</th>\n",
       "      <th>52</th>\n",
       "      <td>0.596192</td>\n",
       "      <td>0.661323</td>\n",
       "    </tr>\n",
       "    <tr>\n",
       "      <th>55</th>\n",
       "      <td>0.409756</td>\n",
       "      <td>0.390244</td>\n",
       "    </tr>\n",
       "    <tr>\n",
       "      <th rowspan=\"5\" valign=\"top\">3101</th>\n",
       "      <th>3</th>\n",
       "      <td>0.646753</td>\n",
       "      <td>0.511688</td>\n",
       "    </tr>\n",
       "    <tr>\n",
       "      <th>7</th>\n",
       "      <td>0.500000</td>\n",
       "      <td>0.166667</td>\n",
       "    </tr>\n",
       "    <tr>\n",
       "      <th>50</th>\n",
       "      <td>0.833333</td>\n",
       "      <td>1.000000</td>\n",
       "    </tr>\n",
       "    <tr>\n",
       "      <th>52</th>\n",
       "      <td>0.560414</td>\n",
       "      <td>0.395857</td>\n",
       "    </tr>\n",
       "    <tr>\n",
       "      <th>56</th>\n",
       "      <td>0.857143</td>\n",
       "      <td>1.000000</td>\n",
       "    </tr>\n",
       "  </tbody>\n",
       "</table>\n",
       "</div>"
      ],
      "text/plain": [
       "                     HDWY_ACCEPTABLE  ADJUSTED_ONTIME_COUNT\n",
       "OPERATOR ROUTE_ABBR                                        \n",
       "357      3                  0.638554               0.566265\n",
       "         7                  0.554054               0.716216\n",
       "         22                 0.617391               0.713043\n",
       "         23                 0.592000               0.720000\n",
       "         50                 0.660377               0.466981\n",
       "         52                 0.483516               0.307692\n",
       "         55                 0.521898               0.598540\n",
       "         56                 0.479365               0.498413\n",
       "409      23                 0.696218               0.970588\n",
       "1040     22                 0.581921               0.957627\n",
       "1133     50                 0.776381               0.954286\n",
       "1277     3                  0.559701               0.738806\n",
       "         7                  0.547826               0.591304\n",
       "         22                 0.480392               0.764706\n",
       "         50                 0.717742               0.782258\n",
       "         52                 0.598039               0.607843\n",
       "         55                 0.561404               0.418546\n",
       "         56                 0.609023               0.561404\n",
       "1352     55                 0.529829               0.563497\n",
       "1359     55                 0.544574               0.595607\n",
       "1566     50                 0.817727               0.970455\n",
       "1617     7                  0.545455               0.930736\n",
       "         22                 0.710476               0.956190\n",
       "1762     22                 0.608658               0.983283\n",
       "1800     52                 0.589538               0.485538\n",
       "1927     23                 0.716937               0.995360\n",
       "         50                 0.788551               0.955647\n",
       "         56                 0.720930               0.813953\n",
       "1958     55                 0.565432               0.606584\n",
       "         56                 0.655556               0.777778\n",
       "2041     23                 0.694501               0.954175\n",
       "         52                 0.756661               0.884547\n",
       "         55                 0.000000               0.666667\n",
       "2082     55                 0.587834               0.584423\n",
       "2088     22                 0.671202               0.975057\n",
       "         23                 0.683491               0.941115\n",
       "         52                 0.767442               0.810078\n",
       "         56                 0.792453               0.921833\n",
       "2109     7                  0.608696               0.683230\n",
       "         50                 0.648282               0.616637\n",
       "         52                 0.578947               0.578947\n",
       "         55                 0.437103               0.411690\n",
       "         56                 0.200000               0.600000\n",
       "2321     50                 0.778873               0.940141\n",
       "2356     52                 0.596192               0.661323\n",
       "         55                 0.409756               0.390244\n",
       "3101     3                  0.646753               0.511688\n",
       "         7                  0.500000               0.166667\n",
       "         50                 0.833333               1.000000\n",
       "         52                 0.560414               0.395857\n",
       "         56                 0.857143               1.000000"
      ]
     },
     "execution_count": 83,
     "metadata": {},
     "output_type": "execute_result"
    }
   ],
   "source": [
    "sample_ops"
   ]
  },
  {
   "cell_type": "markdown",
   "id": "6b6327e0",
   "metadata": {},
   "source": [
    "5. Is there any relationship between lateness (ADHERENCE) and headway deviation?"
   ]
  },
  {
   "cell_type": "code",
   "execution_count": 89,
   "id": "39064cb3",
   "metadata": {},
   "outputs": [
    {
     "name": "stderr",
     "output_type": "stream",
     "text": [
      "C:\\Users\\hayle\\AppData\\Local\\Temp\\ipykernel_65388\\3726205598.py:3: UserWarning: *c* argument looks like a single numeric RGB or RGBA sequence, which should be avoided as value-mapping will have precedence in case its length matches with *x* & *y*.  Please use the *color* keyword-argument or provide a 2D array with a single row if you intend to specify the same RGB or RGBA value for all points.\n",
      "  plt.scatter(wego['ADHERENCE'],\n"
     ]
    },
    {
     "data": {
      "image/png": "[encoded data removed]",
      "text/plain": [
       "<Figure size 1200x1000 with 1 Axes>"
      ]
     },
     "metadata": {},
     "output_type": "display_data"
    }
   ],
   "source": [
    "# PLOT Adherence vs Headway Deviation\n",
    "plt.figure(figsize=(12,10))\n",
    "plt.scatter(wego['ADHERENCE'],\n",
    "            wego['HDWY_DEV'],\n",
    "           c= purple,\n",
    "           marker='.',\n",
    "           alpha=0.3)\n",
    "\n",
    "plt.title('Adherence vs. Headway Deviation')\n",
    "plt.xlabel('Adherence')\n",
    "plt.ylabel('Headway Deviation')\n",
    "\n",
    "plt.savefig('../images/adherence_headway_corr.png')\n",
    "plt.show()"
   ]
  },
  {
   "cell_type": "code",
   "execution_count": 90,
   "id": "6f41587f",
   "metadata": {},
   "outputs": [
    {
     "data": {
      "text/plain": [
       "Index(['CALENDAR_ID', 'SERVICE_ABBR', 'ADHERENCE_ID', 'DATE', 'ROUTE_ABBR',\n",
       "       'BLOCK_ABBR', 'OPERATOR', 'TRIP_ID', 'OVERLOAD_ID',\n",
       "       'ROUTE_DIRECTION_NAME', 'TIME_POINT_ABBR', 'ROUTE_STOP_SEQUENCE',\n",
       "       'TRIP_EDGE', 'LATITUDE', 'LONGITUDE', 'SCHEDULED_TIME',\n",
       "       'ACTUAL_ARRIVAL_TIME', 'ACTUAL_DEPARTURE_TIME', 'ADHERENCE',\n",
       "       'SCHEDULED_HDWY', 'ACTUAL_HDWY', 'HDWY_DEV', 'ADJUSTED_EARLY_COUNT',\n",
       "       'ADJUSTED_LATE_COUNT', 'ADJUSTED_ONTIME_COUNT', 'STOP_CANCELLED',\n",
       "       'PREV_SCHED_STOP_CANCELLED', 'IS_RELIEF', 'DWELL_IN_MINS',\n",
       "       'SCHEDULED_LAYOVER_MINUTES', 'HDWY_DEV_PCT', 'HDWY_GAPPING',\n",
       "       'HDWY_ACCEPTABLE', 'HDWY_BUNCHING', 'DATE_TRIP'],\n",
       "      dtype='object')"
      ]
     },
     "execution_count": 90,
     "metadata": {},
     "output_type": "execute_result"
    }
   ],
   "source": [
    "wego.columns"
   ]
  },
  {
   "cell_type": "code",
   "execution_count": 91,
   "id": "cbd71ee1",
   "metadata": {},
   "outputs": [
    {
     "data": {
      "text/html": [
       "<div>\n",
       "<style scoped>\n",
       "    .dataframe tbody tr th:only-of-type {\n",
       "        vertical-align: middle;\n",
       "    }\n",
       "\n",
       "    .dataframe tbody tr th {\n",
       "        vertical-align: top;\n",
       "    }\n",
       "\n",
       "    .dataframe thead th {\n",
       "        text-align: right;\n",
       "    }\n",
       "</style>\n",
       "<table border=\"1\" class=\"dataframe\">\n",
       "  <thead>\n",
       "    <tr style=\"text-align: right;\">\n",
       "      <th></th>\n",
       "      <th>ADHERENCE</th>\n",
       "      <th>HDWY_DEV</th>\n",
       "    </tr>\n",
       "  </thead>\n",
       "  <tbody>\n",
       "    <tr>\n",
       "      <th>ADHERENCE</th>\n",
       "      <td>1.000000</td>\n",
       "      <td>-0.206794</td>\n",
       "    </tr>\n",
       "    <tr>\n",
       "      <th>HDWY_DEV</th>\n",
       "      <td>-0.206794</td>\n",
       "      <td>1.000000</td>\n",
       "    </tr>\n",
       "  </tbody>\n",
       "</table>\n",
       "</div>"
      ],
      "text/plain": [
       "           ADHERENCE  HDWY_DEV\n",
       "ADHERENCE   1.000000 -0.206794\n",
       "HDWY_DEV   -0.206794  1.000000"
      ]
     },
     "execution_count": 91,
     "metadata": {},
     "output_type": "execute_result"
    }
   ],
   "source": [
    "#correlation\n",
    "wego[['ADHERENCE', 'HDWY_DEV']].corr()"
   ]
  },
  {
   "cell_type": "code",
   "execution_count": 92,
   "id": "51b73953",
   "metadata": {
    "scrolled": true
   },
   "outputs": [
    {
     "data": {
      "text/html": [
       "<div>\n",
       "<style scoped>\n",
       "    .dataframe tbody tr th:only-of-type {\n",
       "        vertical-align: middle;\n",
       "    }\n",
       "\n",
       "    .dataframe tbody tr th {\n",
       "        vertical-align: top;\n",
       "    }\n",
       "\n",
       "    .dataframe thead th {\n",
       "        text-align: right;\n",
       "    }\n",
       "</style>\n",
       "<table border=\"1\" class=\"dataframe\">\n",
       "  <thead>\n",
       "    <tr style=\"text-align: right;\">\n",
       "      <th></th>\n",
       "      <th>ADHERENCE</th>\n",
       "      <th>HDWY_DEV</th>\n",
       "    </tr>\n",
       "  </thead>\n",
       "  <tbody>\n",
       "    <tr>\n",
       "      <th>ADHERENCE</th>\n",
       "      <td>1.000000</td>\n",
       "      <td>-0.030098</td>\n",
       "    </tr>\n",
       "    <tr>\n",
       "      <th>HDWY_DEV</th>\n",
       "      <td>-0.030098</td>\n",
       "      <td>1.000000</td>\n",
       "    </tr>\n",
       "  </tbody>\n",
       "</table>\n",
       "</div>"
      ],
      "text/plain": [
       "           ADHERENCE  HDWY_DEV\n",
       "ADHERENCE   1.000000 -0.030098\n",
       "HDWY_DEV   -0.030098  1.000000"
      ]
     },
     "execution_count": 92,
     "metadata": {},
     "output_type": "execute_result"
    }
   ],
   "source": [
    "# early correlation\n",
    "wego[wego['ADJUSTED_EARLY_COUNT'] == 1][['ADHERENCE', 'HDWY_DEV']].corr()"
   ]
  },
  {
   "cell_type": "code",
   "execution_count": 93,
   "id": "87971b42",
   "metadata": {},
   "outputs": [
    {
     "data": {
      "text/html": [
       "<div>\n",
       "<style scoped>\n",
       "    .dataframe tbody tr th:only-of-type {\n",
       "        vertical-align: middle;\n",
       "    }\n",
       "\n",
       "    .dataframe tbody tr th {\n",
       "        vertical-align: top;\n",
       "    }\n",
       "\n",
       "    .dataframe thead th {\n",
       "        text-align: right;\n",
       "    }\n",
       "</style>\n",
       "<table border=\"1\" class=\"dataframe\">\n",
       "  <thead>\n",
       "    <tr style=\"text-align: right;\">\n",
       "      <th></th>\n",
       "      <th>ADHERENCE</th>\n",
       "      <th>HDWY_DEV</th>\n",
       "    </tr>\n",
       "  </thead>\n",
       "  <tbody>\n",
       "    <tr>\n",
       "      <th>ADHERENCE</th>\n",
       "      <td>1.000000</td>\n",
       "      <td>-0.225793</td>\n",
       "    </tr>\n",
       "    <tr>\n",
       "      <th>HDWY_DEV</th>\n",
       "      <td>-0.225793</td>\n",
       "      <td>1.000000</td>\n",
       "    </tr>\n",
       "  </tbody>\n",
       "</table>\n",
       "</div>"
      ],
      "text/plain": [
       "           ADHERENCE  HDWY_DEV\n",
       "ADHERENCE   1.000000 -0.225793\n",
       "HDWY_DEV   -0.225793  1.000000"
      ]
     },
     "execution_count": 93,
     "metadata": {},
     "output_type": "execute_result"
    }
   ],
   "source": [
    "# on time correlation\n",
    "wego[wego['ADJUSTED_ONTIME_COUNT'] == 1][['ADHERENCE', 'HDWY_DEV']].corr()"
   ]
  },
  {
   "cell_type": "code",
   "execution_count": 94,
   "id": "8093e0ce",
   "metadata": {},
   "outputs": [
    {
     "data": {
      "text/html": [
       "<div>\n",
       "<style scoped>\n",
       "    .dataframe tbody tr th:only-of-type {\n",
       "        vertical-align: middle;\n",
       "    }\n",
       "\n",
       "    .dataframe tbody tr th {\n",
       "        vertical-align: top;\n",
       "    }\n",
       "\n",
       "    .dataframe thead th {\n",
       "        text-align: right;\n",
       "    }\n",
       "</style>\n",
       "<table border=\"1\" class=\"dataframe\">\n",
       "  <thead>\n",
       "    <tr style=\"text-align: right;\">\n",
       "      <th></th>\n",
       "      <th>ADHERENCE</th>\n",
       "      <th>HDWY_DEV</th>\n",
       "    </tr>\n",
       "  </thead>\n",
       "  <tbody>\n",
       "    <tr>\n",
       "      <th>ADHERENCE</th>\n",
       "      <td>1.000000</td>\n",
       "      <td>-0.018835</td>\n",
       "    </tr>\n",
       "    <tr>\n",
       "      <th>HDWY_DEV</th>\n",
       "      <td>-0.018835</td>\n",
       "      <td>1.000000</td>\n",
       "    </tr>\n",
       "  </tbody>\n",
       "</table>\n",
       "</div>"
      ],
      "text/plain": [
       "           ADHERENCE  HDWY_DEV\n",
       "ADHERENCE   1.000000 -0.018835\n",
       "HDWY_DEV   -0.018835  1.000000"
      ]
     },
     "execution_count": 94,
     "metadata": {},
     "output_type": "execute_result"
    }
   ],
   "source": [
    "# late correlation\n",
    "wego[wego['ADJUSTED_LATE_COUNT'] == 1][['ADHERENCE', 'HDWY_DEV']].corr()"
   ]
  },
  {
   "cell_type": "code",
   "execution_count": 95,
   "id": "84f74f2f",
   "metadata": {},
   "outputs": [
    {
     "data": {
      "text/plain": [
       "('HDWY_ACCEPTABLE', 'HDWY_BUNCHING', 'HDWY_GAPPING')"
      ]
     },
     "execution_count": 95,
     "metadata": {},
     "output_type": "execute_result"
    }
   ],
   "source": [
    "'HDWY_ACCEPTABLE','HDWY_BUNCHING','HDWY_GAPPING'"
   ]
  },
  {
   "cell_type": "code",
   "execution_count": 96,
   "id": "3bacfc45",
   "metadata": {},
   "outputs": [
    {
     "data": {
      "text/html": [
       "<div>\n",
       "<style scoped>\n",
       "    .dataframe tbody tr th:only-of-type {\n",
       "        vertical-align: middle;\n",
       "    }\n",
       "\n",
       "    .dataframe tbody tr th {\n",
       "        vertical-align: top;\n",
       "    }\n",
       "\n",
       "    .dataframe thead th {\n",
       "        text-align: right;\n",
       "    }\n",
       "</style>\n",
       "<table border=\"1\" class=\"dataframe\">\n",
       "  <thead>\n",
       "    <tr style=\"text-align: right;\">\n",
       "      <th></th>\n",
       "      <th>ADHERENCE</th>\n",
       "      <th>HDWY_DEV</th>\n",
       "    </tr>\n",
       "  </thead>\n",
       "  <tbody>\n",
       "    <tr>\n",
       "      <th>ADHERENCE</th>\n",
       "      <td>1.000000</td>\n",
       "      <td>-0.286277</td>\n",
       "    </tr>\n",
       "    <tr>\n",
       "      <th>HDWY_DEV</th>\n",
       "      <td>-0.286277</td>\n",
       "      <td>1.000000</td>\n",
       "    </tr>\n",
       "  </tbody>\n",
       "</table>\n",
       "</div>"
      ],
      "text/plain": [
       "           ADHERENCE  HDWY_DEV\n",
       "ADHERENCE   1.000000 -0.286277\n",
       "HDWY_DEV   -0.286277  1.000000"
      ]
     },
     "execution_count": 96,
     "metadata": {},
     "output_type": "execute_result"
    }
   ],
   "source": [
    "wego[wego['HDWY_ACCEPTABLE'] == 1][['ADHERENCE', 'HDWY_DEV']].corr()"
   ]
  },
  {
   "cell_type": "code",
   "execution_count": 97,
   "id": "57790f1d",
   "metadata": {},
   "outputs": [
    {
     "data": {
      "text/html": [
       "<div>\n",
       "<style scoped>\n",
       "    .dataframe tbody tr th:only-of-type {\n",
       "        vertical-align: middle;\n",
       "    }\n",
       "\n",
       "    .dataframe tbody tr th {\n",
       "        vertical-align: top;\n",
       "    }\n",
       "\n",
       "    .dataframe thead th {\n",
       "        text-align: right;\n",
       "    }\n",
       "</style>\n",
       "<table border=\"1\" class=\"dataframe\">\n",
       "  <thead>\n",
       "    <tr style=\"text-align: right;\">\n",
       "      <th></th>\n",
       "      <th>ADHERENCE</th>\n",
       "      <th>HDWY_DEV</th>\n",
       "    </tr>\n",
       "  </thead>\n",
       "  <tbody>\n",
       "    <tr>\n",
       "      <th>ADHERENCE</th>\n",
       "      <td>1.000000</td>\n",
       "      <td>0.193366</td>\n",
       "    </tr>\n",
       "    <tr>\n",
       "      <th>HDWY_DEV</th>\n",
       "      <td>0.193366</td>\n",
       "      <td>1.000000</td>\n",
       "    </tr>\n",
       "  </tbody>\n",
       "</table>\n",
       "</div>"
      ],
      "text/plain": [
       "           ADHERENCE  HDWY_DEV\n",
       "ADHERENCE   1.000000  0.193366\n",
       "HDWY_DEV    0.193366  1.000000"
      ]
     },
     "execution_count": 97,
     "metadata": {},
     "output_type": "execute_result"
    }
   ],
   "source": [
    "wego[wego['HDWY_BUNCHING'] == 1][['ADHERENCE', 'HDWY_DEV']].corr()"
   ]
  },
  {
   "cell_type": "code",
   "execution_count": 98,
   "id": "9c8eef05",
   "metadata": {},
   "outputs": [
    {
     "data": {
      "text/html": [
       "<div>\n",
       "<style scoped>\n",
       "    .dataframe tbody tr th:only-of-type {\n",
       "        vertical-align: middle;\n",
       "    }\n",
       "\n",
       "    .dataframe tbody tr th {\n",
       "        vertical-align: top;\n",
       "    }\n",
       "\n",
       "    .dataframe thead th {\n",
       "        text-align: right;\n",
       "    }\n",
       "</style>\n",
       "<table border=\"1\" class=\"dataframe\">\n",
       "  <thead>\n",
       "    <tr style=\"text-align: right;\">\n",
       "      <th></th>\n",
       "      <th>ADHERENCE</th>\n",
       "      <th>HDWY_DEV</th>\n",
       "    </tr>\n",
       "  </thead>\n",
       "  <tbody>\n",
       "    <tr>\n",
       "      <th>ADHERENCE</th>\n",
       "      <td>1.000000</td>\n",
       "      <td>-0.047904</td>\n",
       "    </tr>\n",
       "    <tr>\n",
       "      <th>HDWY_DEV</th>\n",
       "      <td>-0.047904</td>\n",
       "      <td>1.000000</td>\n",
       "    </tr>\n",
       "  </tbody>\n",
       "</table>\n",
       "</div>"
      ],
      "text/plain": [
       "           ADHERENCE  HDWY_DEV\n",
       "ADHERENCE   1.000000 -0.047904\n",
       "HDWY_DEV   -0.047904  1.000000"
      ]
     },
     "execution_count": 98,
     "metadata": {},
     "output_type": "execute_result"
    }
   ],
   "source": [
    "wego[wego['HDWY_GAPPING'] == 1][['ADHERENCE', 'HDWY_DEV']].corr()"
   ]
  },
  {
   "cell_type": "markdown",
   "id": "9b989bc0",
   "metadata": {},
   "source": [
    "\n",
    "**Stretch Goals:**  \n",
    "\n",
    "6. How much impact does being late or too spaced out at the first stop have downstream?  \n",
    "7. What is the impact of the layover at the start of the trip (the difference between the first stop arrival and departure time)? Does more dwell time at the beginning of a trip lead to more stable headways (lower values for % headway deviation)? Do trips with longer **scheduled** layover time have more stable headway values?  \n",
    "8. What is the relationship between distance or time traveled since the start of a given trip and the headway deviation? Does headway become less stable the further along the route the bus has traveled?"
   ]
  },
  {
   "cell_type": "code",
   "execution_count": null,
   "id": "0b5e79dc",
   "metadata": {},
   "outputs": [],
   "source": []
  }
 ],
 "metadata": {
  "kernelspec": {
   "display_name": "Python 3 (ipykernel)",
   "language": "python",
   "name": "python3"
  },
  "language_info": {
   "codemirror_mode": {
    "name": "ipython",
    "version": 3
   },
   "file_extension": ".py",
   "mimetype": "text/x-python",
   "name": "python",
   "nbconvert_exporter": "python",
   "pygments_lexer": "ipython3",
   "version": "3.11.7"
  }
 },
 "nbformat": 4,
 "nbformat_minor": 5
}
