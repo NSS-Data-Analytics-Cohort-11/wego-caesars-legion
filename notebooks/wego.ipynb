{
 "cells": [
  {
   "cell_type": "code",
   "execution_count": 1,
   "id": "48f9bf70",
   "metadata": {},
   "outputs": [],
   "source": [
    "import pandas as pd\n",
    "import numpy as np\n",
    "import seaborn as sns\n",
    "import datetime as dt"
   ]
  },
  {
   "cell_type": "code",
   "execution_count": 2,
   "id": "d22f1692",
   "metadata": {
    "scrolled": false
   },
   "outputs": [],
   "source": [
    "#read in data\n",
    "wego = pd.read_csv(\"../data/Headway Data, 8-1-2023 to 9-30-2023.csv\")\n",
    "#preview data\n",
    "#wego.head()"
   ]
  },
  {
   "cell_type": "code",
   "execution_count": 4,
   "id": "a54e1773",
   "metadata": {},
   "outputs": [],
   "source": [
    "# Calculate HDWY Deviation Percentage\n",
    "def get_dev_pct(row):\n",
    "    '''Takes a row as input, returns a perfencate value. \n",
    "    Calculate the headway deviation percentage taking into\n",
    "    consideration the possibility of SCHEDULED_HDWY being 0'''\n",
    "    if row['SCHEDULED_HDWY'] != 0:\n",
    "        return abs(row['HDWY_DEV']) / row['SCHEDULED_HDWY'] * 100\n",
    "    else:\n",
    "        return np.NaN\n",
    "\n",
    "# create headway deviation percentable column\n",
    "wego['HDWY_DEV_PCT'] = wego.apply(lambda r: get_dev_pct(r), axis=1)"
   ]
  },
  {
   "cell_type": "code",
   "execution_count": 24,
   "id": "877957e8",
   "metadata": {},
   "outputs": [],
   "source": [
    "#establish columns for gapping, bunching, and acceptable headway values\n",
    "wego['HDWY_GAPPING'] = 0\n",
    "wego['HDWY_ACCEPTABLE'] = 0\n",
    "wego['HDWY_BUNCHING'] = 0"
   ]
  },
  {
   "cell_type": "code",
   "execution_count": 25,
   "id": "9ce08a91",
   "metadata": {},
   "outputs": [],
   "source": [
    "#establish functions for populating headway columns\n",
    "#Note that you can calculate headway deviation percentage as HDWY_DEV/SCHEDULED_HDWY. \n",
    "#The generally accepted range of headway deviation is 50% to 150% of the scheduled headway \n",
    "#so if scheduled headway is 10 minutes, a headway deviation of up to 5 minutes would be acceptable (but not ideal).\n",
    "\n",
    "def hdw_gapping(pct):\n",
    "    if (pct < 0) & (abs(pct) > 50):\n",
    "        return int(1)\n",
    "    else:\n",
    "        return int(0)\n",
    "    \n",
    "def hdw_acceptable(pct):\n",
    "    if abs(pct) <= 50:\n",
    "        return int(1)\n",
    "    else:\n",
    "        return int(0)\n",
    "    \n",
    "def hdw_bunching(pct):\n",
    "    if (pct > 0) & (abs(pct) > 50):\n",
    "        return int(1)\n",
    "    else:\n",
    "        return int(0)"
   ]
  },
  {
   "cell_type": "code",
   "execution_count": 26,
   "id": "7cfb5b06",
   "metadata": {
    "scrolled": false
   },
   "outputs": [],
   "source": [
    "# #establish functions for populating headway columns\n",
    "\n",
    "# def hdw_gapping(pct):\n",
    "#     if pct > 150:\n",
    "#         return int(1)\n",
    "#     else:\n",
    "#         return int(0)\n",
    "    \n",
    "# def hdw_acceptable(pct):\n",
    "#     if (pct >=50) & (pct <= 150):\n",
    "#         return int(1)\n",
    "#     else:\n",
    "#         return int(0)\n",
    "    \n",
    "# def hdw_bunching(pct):\n",
    "#     if pct < 50:\n",
    "#         return int(1)\n",
    "#     else:\n",
    "#         return int(0)"
   ]
  },
  {
   "cell_type": "code",
   "execution_count": 27,
   "id": "57ee3402",
   "metadata": {},
   "outputs": [],
   "source": [
    "#execute functions and apply 0/1 values to columns\n",
    "wego['HDWY_BUNCHING'] = wego['HDWY_DEV_PCT'].apply(hdw_bunching)\n",
    "wego['HDWY_ACCEPTABLE'] = wego['HDWY_DEV_PCT'].apply(hdw_acceptable)\n",
    "wego['HDWY_GAPPING'] = wego['HDWY_DEV_PCT'].apply(hdw_gapping)"
   ]
  },
  {
   "cell_type": "code",
   "execution_count": 47,
   "id": "b888b987",
   "metadata": {},
   "outputs": [
    {
     "data": {
      "text/plain": [
       "17999"
      ]
     },
     "execution_count": 47,
     "metadata": {},
     "output_type": "execute_result"
    }
   ],
   "source": [
    "wego.HDWY_GAPPING.sum()"
   ]
  },
  {
   "cell_type": "code",
   "execution_count": 48,
   "id": "ef44ce95",
   "metadata": {},
   "outputs": [
    {
     "data": {
      "text/plain": [
       "225918"
      ]
     },
     "execution_count": 48,
     "metadata": {},
     "output_type": "execute_result"
    }
   ],
   "source": [
    "wego.HDWY_ACCEPTABLE.sum()"
   ]
  },
  {
   "cell_type": "code",
   "execution_count": 49,
   "id": "d12086fb",
   "metadata": {},
   "outputs": [
    {
     "data": {
      "text/plain": [
       "21973"
      ]
     },
     "execution_count": 49,
     "metadata": {},
     "output_type": "execute_result"
    }
   ],
   "source": [
    "wego.HDWY_BUNCHING.sum()"
   ]
  },
  {
   "cell_type": "code",
   "execution_count": 50,
   "id": "a6f863b4",
   "metadata": {},
   "outputs": [],
   "source": [
    "wego['DATE_TRIP'] = wego.apply(lambda row: str(row['CALENDAR_ID']) + '-' + str(row['TRIP_ID']), axis=1)"
   ]
  },
  {
   "cell_type": "code",
   "execution_count": 51,
   "id": "6e2f5fcc",
   "metadata": {
    "scrolled": true
   },
   "outputs": [
    {
     "data": {
      "text/plain": [
       "67370"
      ]
     },
     "execution_count": 51,
     "metadata": {},
     "output_type": "execute_result"
    }
   ],
   "source": [
    "wego.DATE_TRIP.nunique()"
   ]
  },
  {
   "cell_type": "markdown",
   "id": "edc4831f",
   "metadata": {},
   "source": [
    "### 1. What is the overall on-time performance, and what do the overall distributions of adherence and headway deviation look like? "
   ]
  },
  {
   "cell_type": "code",
   "execution_count": 52,
   "id": "0c61a315",
   "metadata": {},
   "outputs": [
    {
     "data": {
      "text/plain": [
       "77.08"
      ]
     },
     "execution_count": 52,
     "metadata": {},
     "output_type": "execute_result"
    }
   ],
   "source": [
    "#overall on time performance\n",
    "round(wego.ADJUSTED_ONTIME_COUNT.value_counts()[1]/len(wego)*100,2)"
   ]
  },
  {
   "cell_type": "markdown",
   "id": "bbc6883d",
   "metadata": {},
   "source": [
    "77.08% of trips are on time."
   ]
  },
  {
   "cell_type": "code",
   "execution_count": 53,
   "id": "a6aaa982",
   "metadata": {},
   "outputs": [
    {
     "name": "stdout",
     "output_type": "stream",
     "text": [
      "Number of perfect trips: 40843\n",
      "Percentage of perfect trips: 60.624907228736824\n"
     ]
    }
   ],
   "source": [
    "#perfect_trips\n",
    "perfect_trips = wego.groupby('DATE_TRIP')[['ADJUSTED_EARLY_COUNT',\n",
    "       'ADJUSTED_LATE_COUNT', 'ADJUSTED_ONTIME_COUNT']].sum()\n",
    "perfect_trips = perfect_trips[(perfect_trips.ADJUSTED_EARLY_COUNT == 0) & (perfect_trips.ADJUSTED_LATE_COUNT == 0)]\n",
    "\n",
    "perfect_count = len(perfect_trips)\n",
    "\n",
    "percent_perfect = perfect_count/(wego.DATE_TRIP.nunique())*100\n",
    "\n",
    "print('Number of perfect trips: ' + str(perfect_count))\n",
    "print('Percentage of perfect trips: ' + str(percent_perfect))\n"
   ]
  },
  {
   "cell_type": "code",
   "execution_count": 37,
   "id": "28c2a973",
   "metadata": {},
   "outputs": [],
   "source": [
    "## Per Dibran - use adjusted fields and newly calculated hdwy to chart performance\n",
    "#distribution of headway and adherence\n",
    "ad_stddev = np.std(wego.ADHERENCE)\n",
    "ad_mean = wego.ADHERENCE.mean()\n",
    "ad_min = ad_mean-(ad_stddev*3)\n",
    "ad_max = ad_mean+(ad_stddev*3)\n",
    "\n",
    "hdw_stddev = np.std(wego.HDWY_DEV)\n",
    "hdw_mean = wego.HDWY_DEV.mean()\n",
    "hdw_min = hdw_mean-(hdw_stddev*3)\n",
    "hdw_max = hdw_mean+(hdw_stddev*3)"
   ]
  },
  {
   "cell_type": "code",
   "execution_count": null,
   "id": "4eaaeae4",
   "metadata": {},
   "outputs": [],
   "source": [
    "# wego.ADHERENCE.describe()"
   ]
  },
  {
   "cell_type": "code",
   "execution_count": 45,
   "id": "aae8b028",
   "metadata": {},
   "outputs": [
    {
     "ename": "KeyError",
     "evalue": "('ADJUSTED_EARLY_COUNT', 'ADJUSTED_ONTIME_COUNT', 'ADJUSTED_LATE_COUNT')",
     "output_type": "error",
     "traceback": [
      "\u001b[1;31m---------------------------------------------------------------------------\u001b[0m",
      "\u001b[1;31mKeyError\u001b[0m                                  Traceback (most recent call last)",
      "File \u001b[1;32m~\\anaconda3\\Lib\\site-packages\\pandas\\core\\indexes\\base.py:3791\u001b[0m, in \u001b[0;36mIndex.get_loc\u001b[1;34m(self, key)\u001b[0m\n\u001b[0;32m   3790\u001b[0m \u001b[38;5;28;01mtry\u001b[39;00m:\n\u001b[1;32m-> 3791\u001b[0m     \u001b[38;5;28;01mreturn\u001b[39;00m \u001b[38;5;28mself\u001b[39m\u001b[38;5;241m.\u001b[39m_engine\u001b[38;5;241m.\u001b[39mget_loc(casted_key)\n\u001b[0;32m   3792\u001b[0m \u001b[38;5;28;01mexcept\u001b[39;00m \u001b[38;5;167;01mKeyError\u001b[39;00m \u001b[38;5;28;01mas\u001b[39;00m err:\n",
      "File \u001b[1;32mindex.pyx:152\u001b[0m, in \u001b[0;36mpandas._libs.index.IndexEngine.get_loc\u001b[1;34m()\u001b[0m\n",
      "File \u001b[1;32mindex.pyx:181\u001b[0m, in \u001b[0;36mpandas._libs.index.IndexEngine.get_loc\u001b[1;34m()\u001b[0m\n",
      "File \u001b[1;32mpandas\\_libs\\hashtable_class_helper.pxi:7080\u001b[0m, in \u001b[0;36mpandas._libs.hashtable.PyObjectHashTable.get_item\u001b[1;34m()\u001b[0m\n",
      "File \u001b[1;32mpandas\\_libs\\hashtable_class_helper.pxi:7088\u001b[0m, in \u001b[0;36mpandas._libs.hashtable.PyObjectHashTable.get_item\u001b[1;34m()\u001b[0m\n",
      "\u001b[1;31mKeyError\u001b[0m: ('ADJUSTED_EARLY_COUNT', 'ADJUSTED_ONTIME_COUNT', 'ADJUSTED_LATE_COUNT')",
      "\nThe above exception was the direct cause of the following exception:\n",
      "\u001b[1;31mKeyError\u001b[0m                                  Traceback (most recent call last)",
      "Cell \u001b[1;32mIn[45], line 2\u001b[0m\n\u001b[0;32m      1\u001b[0m \u001b[38;5;66;03m#distributions of adherence\u001b[39;00m\n\u001b[1;32m----> 2\u001b[0m adherence_cats \u001b[38;5;241m=\u001b[39m wego[wego[\u001b[38;5;124m'\u001b[39m\u001b[38;5;124mADJUSTED_EARLY_COUNT\u001b[39m\u001b[38;5;124m'\u001b[39m,\u001b[38;5;124m'\u001b[39m\u001b[38;5;124mADJUSTED_ONTIME_COUNT\u001b[39m\u001b[38;5;124m'\u001b[39m,\u001b[38;5;124m'\u001b[39m\u001b[38;5;124mADJUSTED_LATE_COUNT\u001b[39m\u001b[38;5;124m'\u001b[39m]]\u001b[38;5;241m.\u001b[39msum()\n",
      "File \u001b[1;32m~\\anaconda3\\Lib\\site-packages\\pandas\\core\\frame.py:3893\u001b[0m, in \u001b[0;36mDataFrame.__getitem__\u001b[1;34m(self, key)\u001b[0m\n\u001b[0;32m   3891\u001b[0m \u001b[38;5;28;01mif\u001b[39;00m \u001b[38;5;28mself\u001b[39m\u001b[38;5;241m.\u001b[39mcolumns\u001b[38;5;241m.\u001b[39mnlevels \u001b[38;5;241m>\u001b[39m \u001b[38;5;241m1\u001b[39m:\n\u001b[0;32m   3892\u001b[0m     \u001b[38;5;28;01mreturn\u001b[39;00m \u001b[38;5;28mself\u001b[39m\u001b[38;5;241m.\u001b[39m_getitem_multilevel(key)\n\u001b[1;32m-> 3893\u001b[0m indexer \u001b[38;5;241m=\u001b[39m \u001b[38;5;28mself\u001b[39m\u001b[38;5;241m.\u001b[39mcolumns\u001b[38;5;241m.\u001b[39mget_loc(key)\n\u001b[0;32m   3894\u001b[0m \u001b[38;5;28;01mif\u001b[39;00m is_integer(indexer):\n\u001b[0;32m   3895\u001b[0m     indexer \u001b[38;5;241m=\u001b[39m [indexer]\n",
      "File \u001b[1;32m~\\anaconda3\\Lib\\site-packages\\pandas\\core\\indexes\\base.py:3798\u001b[0m, in \u001b[0;36mIndex.get_loc\u001b[1;34m(self, key)\u001b[0m\n\u001b[0;32m   3793\u001b[0m     \u001b[38;5;28;01mif\u001b[39;00m \u001b[38;5;28misinstance\u001b[39m(casted_key, \u001b[38;5;28mslice\u001b[39m) \u001b[38;5;129;01mor\u001b[39;00m (\n\u001b[0;32m   3794\u001b[0m         \u001b[38;5;28misinstance\u001b[39m(casted_key, abc\u001b[38;5;241m.\u001b[39mIterable)\n\u001b[0;32m   3795\u001b[0m         \u001b[38;5;129;01mand\u001b[39;00m \u001b[38;5;28many\u001b[39m(\u001b[38;5;28misinstance\u001b[39m(x, \u001b[38;5;28mslice\u001b[39m) \u001b[38;5;28;01mfor\u001b[39;00m x \u001b[38;5;129;01min\u001b[39;00m casted_key)\n\u001b[0;32m   3796\u001b[0m     ):\n\u001b[0;32m   3797\u001b[0m         \u001b[38;5;28;01mraise\u001b[39;00m InvalidIndexError(key)\n\u001b[1;32m-> 3798\u001b[0m     \u001b[38;5;28;01mraise\u001b[39;00m \u001b[38;5;167;01mKeyError\u001b[39;00m(key) \u001b[38;5;28;01mfrom\u001b[39;00m \u001b[38;5;21;01merr\u001b[39;00m\n\u001b[0;32m   3799\u001b[0m \u001b[38;5;28;01mexcept\u001b[39;00m \u001b[38;5;167;01mTypeError\u001b[39;00m:\n\u001b[0;32m   3800\u001b[0m     \u001b[38;5;66;03m# If we have a listlike key, _check_indexing_error will raise\u001b[39;00m\n\u001b[0;32m   3801\u001b[0m     \u001b[38;5;66;03m#  InvalidIndexError. Otherwise we fall through and re-raise\u001b[39;00m\n\u001b[0;32m   3802\u001b[0m     \u001b[38;5;66;03m#  the TypeError.\u001b[39;00m\n\u001b[0;32m   3803\u001b[0m     \u001b[38;5;28mself\u001b[39m\u001b[38;5;241m.\u001b[39m_check_indexing_error(key)\n",
      "\u001b[1;31mKeyError\u001b[0m: ('ADJUSTED_EARLY_COUNT', 'ADJUSTED_ONTIME_COUNT', 'ADJUSTED_LATE_COUNT')"
     ]
    }
   ],
   "source": [
    "#distributions of adherence\n",
    "adherence_cats = wego[wego['ADJUSTED_EARLY_COUNT','ADJUSTED_ONTIME_COUNT','ADJUSTED_LATE_COUNT']].sum()\n",
    "# adherence_cats.plot(kind='hist')\n",
    "# adherence_cats.set(title='Adherence Distribution by Category', xlabel='Category',  ylabel='Count of Stops')\n",
    "# sns.histplot(data=adherence_cats)"
   ]
  },
  {
   "cell_type": "code",
   "execution_count": 38,
   "id": "3ada57c8",
   "metadata": {},
   "outputs": [
    {
     "data": {
      "text/plain": [
       "[Text(0.5, 1.0, 'Adherence Distribution Excluding Outliers'),\n",
       " Text(0.5, 0, 'Adherence'),\n",
       " Text(0, 0.5, 'Count of Stops')]"
      ]
     },
     "execution_count": 38,
     "metadata": {},
     "output_type": "execute_result"
    },
    {
     "data": {
      "image/png": "[encoded data removed]",
      "text/plain": [
       "<Figure size 640x480 with 1 Axes>"
      ]
     },
     "metadata": {},
     "output_type": "display_data"
    }
   ],
   "source": [
    "#distributions of adherence deviation\n",
    "adherence_hist = wego[wego['ADHERENCE'].between(ad_min, ad_max, inclusive='both')]['ADHERENCE'].plot(kind='hist', bins=50)\n",
    "adherence_hist.set(title='Adherence Distribution Excluding Outliers', xlabel='Adherence',  ylabel='Count of Stops')"
   ]
  },
  {
   "cell_type": "code",
   "execution_count": null,
   "id": "f96daf35",
   "metadata": {},
   "outputs": [],
   "source": [
    "wego.HDWY_DEV.describe()"
   ]
  },
  {
   "cell_type": "code",
   "execution_count": null,
   "id": "cefeb29f",
   "metadata": {
    "scrolled": true
   },
   "outputs": [],
   "source": [
    "#distributions of headway deviation\n",
    "adherence_hist = wego[wego['HDWY_DEV'].between(hdw_min, hdw_max, inclusive='both')]['HDWY_DEV'].plot(kind='hist', bins=50)\n",
    "adherence_hist.set(title='Headway Distribution Excluding Outliers', xlabel='Headway in Minutes',  ylabel='Count of Stops')"
   ]
  },
  {
   "cell_type": "markdown",
   "id": "98ab284c",
   "metadata": {},
   "source": [
    "### 2. How does direction of travel, route, or location affect the headway and on-time performance?"
   ]
  },
  {
   "cell_type": "code",
   "execution_count": null,
   "id": "202ffeed",
   "metadata": {},
   "outputs": [],
   "source": [
    "wego.columns"
   ]
  },
  {
   "cell_type": "code",
   "execution_count": 107,
   "id": "62da3a78",
   "metadata": {},
   "outputs": [
    {
     "data": {
      "image/png": "[encoded data removed]",
      "text/plain": [
       "<Figure size 640x480 with 1 Axes>"
      ]
     },
     "metadata": {},
     "output_type": "display_data"
    }
   ],
   "source": [
    "routes_totals = (\n",
    "    wego.groupby('ROUTE_DIRECTION_NAME')\n",
    "         [['ADJUSTED_ONTIME_COUNT', 'ADJUSTED_LATE_COUNT', 'ADJUSTED_EARLY_COUNT']]\n",
    "         .sum()\n",
    ")\n",
    "\n",
    "routes_totals['TOTALS'] = routes_totals.sum(axis=1)\n",
    "\n",
    "routes_totals['ONTIME_PCT'] = routes_totals['ADJUSTED_ONTIME_COUNT'] / routes_totals['TOTALS'] * 100\n",
    "routes_totals['EARLY_PCT'] = routes_totals['ADJUSTED_EARLY_COUNT'] / routes_totals['TOTALS'] * 100\n",
    "routes_totals['LATE_PCT'] = routes_totals['ADJUSTED_LATE_COUNT'] / routes_totals['TOTALS'] * 100\n",
    "\n",
    "# Route Adherence graph\n",
    "ax = (\n",
    "    routes_totals[['ONTIME_PCT', 'EARLY_PCT', 'LATE_PCT']]\n",
    ").sort_values('ONTIME_PCT', ascending=False).plot(kind='bar', stacked=True)\n",
    "ax.set(title = 'Route Adherence Performance',\n",
    "        xlabel = 'Route Direction',\n",
    "       ylabel = 'Percentage')\n",
    "ax.legend(bbox_to_anchor=(1, 1))\n",
    "ax.tick_params(axis='x', rotation=0)"
   ]
  },
  {
   "cell_type": "code",
   "execution_count": 109,
   "id": "7ace1004",
   "metadata": {},
   "outputs": [],
   "source": [
    "# #initial adherence by direction using count of stops\n",
    "# #headyway and adherence by route direction\n",
    "# ad_chart = wego.groupby('ROUTE_DIRECTION_NAME')[['ADJUSTED_ONTIME_COUNT', 'ADJUSTED_LATE_COUNT', 'ADJUSTED_EARLY_COUNT']].sum().plot(kind='bar', stacked=True)\n",
    "# ad_chart.set(title='Route Direction Adherence by Category', xlabel = 'Direction', ylabel = 'Count of Stops')\n",
    "# ad_chart.legend(bbox_to_anchor=(1, 1))"
   ]
  },
  {
   "cell_type": "code",
   "execution_count": 108,
   "id": "448f1e46",
   "metadata": {},
   "outputs": [
    {
     "data": {
      "image/png": "[encoded data removed]",
      "text/plain": [
       "<Figure size 640x480 with 1 Axes>"
      ]
     },
     "metadata": {},
     "output_type": "display_data"
    }
   ],
   "source": [
    "routes_totals = (\n",
    "    wego.groupby('ROUTE_DIRECTION_NAME')\n",
    "         [['HDWY_ACCEPTABLE','HDWY_BUNCHING','HDWY_GAPPING']]\n",
    "         .sum()\n",
    ")\n",
    "\n",
    "routes_totals['TOTALS'] = routes_totals.sum(axis=1)\n",
    "\n",
    "routes_totals['ACCEPTABLE_PCT'] = routes_totals['HDWY_ACCEPTABLE'] / routes_totals['TOTALS'] * 100\n",
    "routes_totals['BUNCHING_PCT'] = routes_totals['HDWY_BUNCHING'] / routes_totals['TOTALS'] * 100\n",
    "routes_totals['GAPING_PCT'] = routes_totals['HDWY_GAPPING'] / routes_totals['TOTALS'] * 100\n",
    "\n",
    "# Route Adherence graph\n",
    "ax = (\n",
    "    routes_totals[['ACCEPTABLE_PCT', 'BUNCHING_PCT', 'GAPING_PCT']]\n",
    ").sort_values('ACCEPTABLE_PCT', ascending=False).plot(kind='bar', stacked=True)\n",
    "ax.set(title = 'Route Direction Headway Performance',\n",
    "        xlabel = 'Route Direction',\n",
    "       ylabel = 'Percentage')\n",
    "ax.legend(bbox_to_anchor=(1, 1))\n",
    "ax.tick_params(axis='x', rotation=0)"
   ]
  },
  {
   "cell_type": "code",
   "execution_count": 110,
   "id": "25fc53ad",
   "metadata": {
    "scrolled": true
   },
   "outputs": [],
   "source": [
    "# #initial headway by route direction using count of stops\n",
    "# hdw_chart = wego.groupby('ROUTE_DIRECTION_NAME')[['HDWY_ACCEPTABLE','HDWY_BUNCHING','HDWY_GAPPING']].sum().plot(kind='bar', stacked=True)\n",
    "# hdw_chart.set(title='Route Direction Headway by Category', xlabel = 'Direction', ylabel = 'Count of Stops')\n",
    "# hdw_chart.legend(bbox_to_anchor=(1, 1))\n"
   ]
  },
  {
   "cell_type": "code",
   "execution_count": 113,
   "id": "59fda882",
   "metadata": {},
   "outputs": [
    {
     "data": {
      "text/html": [
       "<div>\n",
       "<style scoped>\n",
       "    .dataframe tbody tr th:only-of-type {\n",
       "        vertical-align: middle;\n",
       "    }\n",
       "\n",
       "    .dataframe tbody tr th {\n",
       "        vertical-align: top;\n",
       "    }\n",
       "\n",
       "    .dataframe thead th {\n",
       "        text-align: right;\n",
       "    }\n",
       "</style>\n",
       "<table border=\"1\" class=\"dataframe\">\n",
       "  <thead>\n",
       "    <tr style=\"text-align: right;\">\n",
       "      <th></th>\n",
       "      <th>ADHERENCE</th>\n",
       "      <th>HDWY_DEV</th>\n",
       "    </tr>\n",
       "    <tr>\n",
       "      <th>ROUTE_DIRECTION_NAME</th>\n",
       "      <th></th>\n",
       "      <th></th>\n",
       "    </tr>\n",
       "  </thead>\n",
       "  <tbody>\n",
       "    <tr>\n",
       "      <th>FROM DOWNTOWN</th>\n",
       "      <td>-3.960287</td>\n",
       "      <td>0.579990</td>\n",
       "    </tr>\n",
       "    <tr>\n",
       "      <th>TO DOWNTOWN</th>\n",
       "      <td>-2.321804</td>\n",
       "      <td>0.447773</td>\n",
       "    </tr>\n",
       "  </tbody>\n",
       "</table>\n",
       "</div>"
      ],
      "text/plain": [
       "                      ADHERENCE  HDWY_DEV\n",
       "ROUTE_DIRECTION_NAME                     \n",
       "FROM DOWNTOWN         -3.960287  0.579990\n",
       "TO DOWNTOWN           -2.321804  0.447773"
      ]
     },
     "execution_count": 113,
     "metadata": {},
     "output_type": "execute_result"
    }
   ],
   "source": [
    "wego.groupby('ROUTE_DIRECTION_NAME')[['ADHERENCE','HDWY_DEV']].mean()"
   ]
  },
  {
   "cell_type": "code",
   "execution_count": 102,
   "id": "6cccfa87",
   "metadata": {},
   "outputs": [
    {
     "data": {
      "image/png": "[encoded data removed]",
      "text/plain": [
       "<Figure size 640x480 with 1 Axes>"
      ]
     },
     "metadata": {},
     "output_type": "display_data"
    }
   ],
   "source": [
    "#break down stops by percentage of category\n",
    "routes_totals = (\n",
    "    wego.groupby('ROUTE_ABBR')\n",
    "         [['ADJUSTED_ONTIME_COUNT', 'ADJUSTED_LATE_COUNT', 'ADJUSTED_EARLY_COUNT']]\n",
    "         .sum()\n",
    ")\n",
    "\n",
    "routes_totals['TOTALS'] = routes_totals.sum(axis=1)\n",
    "\n",
    "routes_totals['ONTIME_PCT'] = routes_totals['ADJUSTED_ONTIME_COUNT'] / routes_totals['TOTALS'] * 100\n",
    "routes_totals['EARLY_PCT'] = routes_totals['ADJUSTED_EARLY_COUNT'] / routes_totals['TOTALS'] * 100\n",
    "routes_totals['LATE_PCT'] = routes_totals['ADJUSTED_LATE_COUNT'] / routes_totals['TOTALS'] * 100\n",
    "\n",
    "# Route Adherence graph\n",
    "ax = (\n",
    "    routes_totals[['ONTIME_PCT', 'EARLY_PCT', 'LATE_PCT']]\n",
    ").sort_values('ONTIME_PCT', ascending=False).plot(kind='bar', stacked=True)\n",
    "ax.set(title = 'Route Adherence Performance',\n",
    "        xlabel = 'Route',\n",
    "       ylabel = 'Percentage')\n",
    "ax.legend(bbox_to_anchor=(1, 1))\n",
    "ax.tick_params(axis='x', rotation=0)"
   ]
  },
  {
   "cell_type": "code",
   "execution_count": 98,
   "id": "5561ca28",
   "metadata": {
    "scrolled": false
   },
   "outputs": [],
   "source": [
    "# #initial adherence by route ID using count of stops\n",
    "# #aherence by route ID\n",
    "# rte_adh_chart = wego.groupby('ROUTE_ABBR')[['ADJUSTED_ONTIME_COUNT', 'ADJUSTED_LATE_COUNT', 'ADJUSTED_EARLY_COUNT']].sum().sort_values('ADJUSTED_ONTIME_COUNT', ascending=False).plot(kind='bar', stacked=True)\n",
    "# rte_adh_chart.set(title='Adherence by Route', xlabel = 'Route Abbreviation', ylabel = 'Count of Stops')\n",
    "# rte_adh_chart.legend(bbox_to_anchor=(1, 1))"
   ]
  },
  {
   "cell_type": "code",
   "execution_count": 103,
   "id": "7335ffd0",
   "metadata": {},
   "outputs": [
    {
     "data": {
      "image/png": "[encoded data removed]",
      "text/plain": [
       "<Figure size 640x480 with 1 Axes>"
      ]
     },
     "metadata": {},
     "output_type": "display_data"
    }
   ],
   "source": [
    "#break down stops by percentage of category - headway\n",
    "routes_totals = (\n",
    "    wego.groupby('ROUTE_ABBR')\n",
    "         [['HDWY_ACCEPTABLE','HDWY_BUNCHING','HDWY_GAPPING']]\n",
    "         .sum()\n",
    ")\n",
    "\n",
    "routes_totals['TOTALS'] = routes_totals.sum(axis=1)\n",
    "\n",
    "routes_totals['ACCEPTABLE_PCT'] = routes_totals['HDWY_ACCEPTABLE'] / routes_totals['TOTALS'] * 100\n",
    "routes_totals['BUNCHING_PCT'] = routes_totals['HDWY_BUNCHING'] / routes_totals['TOTALS'] * 100\n",
    "routes_totals['GAPING_PCT'] = routes_totals['HDWY_GAPPING'] / routes_totals['TOTALS'] * 100\n",
    "\n",
    "# Route Adherence graph\n",
    "ax = (\n",
    "    routes_totals[['ACCEPTABLE_PCT', 'BUNCHING_PCT', 'GAPING_PCT']]\n",
    ").sort_values('ACCEPTABLE_PCT', ascending=False).plot(kind='bar', stacked=True)\n",
    "ax.set(title = 'Route Headway Performance',\n",
    "        xlabel = 'Route',\n",
    "       ylabel = 'Percentage')\n",
    "ax.legend(bbox_to_anchor=(1, 1))\n",
    "ax.tick_params(axis='x', rotation=0)"
   ]
  },
  {
   "cell_type": "code",
   "execution_count": 105,
   "id": "a7b030b4",
   "metadata": {},
   "outputs": [],
   "source": [
    "#intitial headway by route ID using count of stops\n",
    "# #headway by route ID\n",
    "# rte_hdw_chart = wego.groupby('ROUTE_ABBR')[['HDWY_ACCEPTABLE','HDWY_BUNCHING','HDWY_GAPPING']].sum().sort_values('HDWY_ACCEPTABLE', ascending=False).plot(kind='bar', stacked=True)\n",
    "# rte_hdw_chart.set(title='Headway by Route', xlabel = 'Route Abbreviation', ylabel = 'Count of Stops')\n",
    "# rte_hdw_chart.legend(bbox_to_anchor=(1, 1))"
   ]
  },
  {
   "cell_type": "code",
   "execution_count": 61,
   "id": "160c5eb0",
   "metadata": {
    "scrolled": true
   },
   "outputs": [
    {
     "data": {
      "text/html": [
       "<div>\n",
       "<style scoped>\n",
       "    .dataframe tbody tr th:only-of-type {\n",
       "        vertical-align: middle;\n",
       "    }\n",
       "\n",
       "    .dataframe tbody tr th {\n",
       "        vertical-align: top;\n",
       "    }\n",
       "\n",
       "    .dataframe thead th {\n",
       "        text-align: right;\n",
       "    }\n",
       "</style>\n",
       "<table border=\"1\" class=\"dataframe\">\n",
       "  <thead>\n",
       "    <tr style=\"text-align: right;\">\n",
       "      <th></th>\n",
       "      <th>ADHERENCE</th>\n",
       "      <th>HDWY_DEV</th>\n",
       "    </tr>\n",
       "    <tr>\n",
       "      <th>ROUTE_ABBR</th>\n",
       "      <th></th>\n",
       "      <th></th>\n",
       "    </tr>\n",
       "  </thead>\n",
       "  <tbody>\n",
       "    <tr>\n",
       "      <th>3</th>\n",
       "      <td>-3.761491</td>\n",
       "      <td>0.580907</td>\n",
       "    </tr>\n",
       "    <tr>\n",
       "      <th>7</th>\n",
       "      <td>-3.346555</td>\n",
       "      <td>0.336808</td>\n",
       "    </tr>\n",
       "    <tr>\n",
       "      <th>22</th>\n",
       "      <td>-1.138107</td>\n",
       "      <td>0.955867</td>\n",
       "    </tr>\n",
       "    <tr>\n",
       "      <th>23</th>\n",
       "      <td>-1.760110</td>\n",
       "      <td>1.053563</td>\n",
       "    </tr>\n",
       "    <tr>\n",
       "      <th>50</th>\n",
       "      <td>-2.505022</td>\n",
       "      <td>0.212376</td>\n",
       "    </tr>\n",
       "    <tr>\n",
       "      <th>52</th>\n",
       "      <td>-3.971342</td>\n",
       "      <td>0.974776</td>\n",
       "    </tr>\n",
       "    <tr>\n",
       "      <th>55</th>\n",
       "      <td>-4.823302</td>\n",
       "      <td>0.261038</td>\n",
       "    </tr>\n",
       "    <tr>\n",
       "      <th>56</th>\n",
       "      <td>-2.703988</td>\n",
       "      <td>0.149213</td>\n",
       "    </tr>\n",
       "  </tbody>\n",
       "</table>\n",
       "</div>"
      ],
      "text/plain": [
       "            ADHERENCE  HDWY_DEV\n",
       "ROUTE_ABBR                     \n",
       "3           -3.761491  0.580907\n",
       "7           -3.346555  0.336808\n",
       "22          -1.138107  0.955867\n",
       "23          -1.760110  1.053563\n",
       "50          -2.505022  0.212376\n",
       "52          -3.971342  0.974776\n",
       "55          -4.823302  0.261038\n",
       "56          -2.703988  0.149213"
      ]
     },
     "execution_count": 61,
     "metadata": {},
     "output_type": "execute_result"
    }
   ],
   "source": [
    "wego.groupby('ROUTE_ABBR')[['ADHERENCE','HDWY_DEV']].mean()"
   ]
  },
  {
   "cell_type": "code",
   "execution_count": 91,
   "id": "950360a3",
   "metadata": {},
   "outputs": [
    {
     "ename": "KeyError",
     "evalue": "'ADJUSTED_ONTIME_COUNT'",
     "output_type": "error",
     "traceback": [
      "\u001b[1;31m---------------------------------------------------------------------------\u001b[0m",
      "\u001b[1;31mKeyError\u001b[0m                                  Traceback (most recent call last)",
      "\u001b[1;32m~\\AppData\\Local\\Temp\\ipykernel_25036\\3623931148.py\u001b[0m in \u001b[0;36m?\u001b[1;34m()\u001b[0m\n\u001b[0;32m      1\u001b[0m \u001b[1;31m#adherence by stop location\u001b[0m\u001b[1;33m\u001b[0m\u001b[1;33m\u001b[0m\u001b[0m\n\u001b[0;32m      2\u001b[0m \u001b[1;31m#loc_adh_chart.figure(figsize=(12,12))\u001b[0m\u001b[1;33m\u001b[0m\u001b[1;33m\u001b[0m\u001b[0m\n\u001b[1;32m----> 3\u001b[1;33m \u001b[0mloc_adh_chart\u001b[0m \u001b[1;33m=\u001b[0m \u001b[0mwego\u001b[0m\u001b[1;33m.\u001b[0m\u001b[0mgroupby\u001b[0m\u001b[1;33m(\u001b[0m\u001b[1;34m'TIME_POINT_ABBR'\u001b[0m\u001b[1;33m)\u001b[0m\u001b[1;33m[\u001b[0m\u001b[1;33m[\u001b[0m\u001b[1;34m'HDWY_ACCEPTABLE'\u001b[0m\u001b[1;33m,\u001b[0m\u001b[1;34m'HDWY_BUNCHING'\u001b[0m\u001b[1;33m,\u001b[0m\u001b[1;34m'HDWY_GAPPING'\u001b[0m\u001b[1;33m]\u001b[0m\u001b[1;33m]\u001b[0m\u001b[1;33m.\u001b[0m\u001b[0msum\u001b[0m\u001b[1;33m(\u001b[0m\u001b[1;33m)\u001b[0m\u001b[1;33m.\u001b[0m\u001b[0msort_values\u001b[0m\u001b[1;33m(\u001b[0m\u001b[1;34m'ADJUSTED_ONTIME_COUNT'\u001b[0m\u001b[1;33m,\u001b[0m \u001b[0mascending\u001b[0m\u001b[1;33m=\u001b[0m\u001b[1;32mFalse\u001b[0m\u001b[1;33m)\u001b[0m\u001b[1;33m.\u001b[0m\u001b[0mplot\u001b[0m\u001b[1;33m(\u001b[0m\u001b[0mkind\u001b[0m\u001b[1;33m=\u001b[0m\u001b[1;34m'bar'\u001b[0m\u001b[1;33m,\u001b[0m \u001b[0mstacked\u001b[0m\u001b[1;33m=\u001b[0m\u001b[1;32mTrue\u001b[0m\u001b[1;33m,\u001b[0m \u001b[0mwidth\u001b[0m\u001b[1;33m=\u001b[0m\u001b[1;36m0.6\u001b[0m\u001b[1;33m)\u001b[0m\u001b[1;33m\u001b[0m\u001b[1;33m\u001b[0m\u001b[0m\n\u001b[0m\u001b[0;32m      4\u001b[0m \u001b[0mloc_adh_chart\u001b[0m\u001b[1;33m.\u001b[0m\u001b[0mset\u001b[0m\u001b[1;33m(\u001b[0m\u001b[0mtitle\u001b[0m\u001b[1;33m=\u001b[0m\u001b[1;34m'Adherence by Stop Location'\u001b[0m\u001b[1;33m,\u001b[0m \u001b[0mxlabel\u001b[0m \u001b[1;33m=\u001b[0m \u001b[1;34m'Stop ID'\u001b[0m\u001b[1;33m,\u001b[0m \u001b[0mylabel\u001b[0m \u001b[1;33m=\u001b[0m \u001b[1;34m'Count of Stops'\u001b[0m\u001b[1;33m)\u001b[0m\u001b[1;33m\u001b[0m\u001b[1;33m\u001b[0m\u001b[0m\n\u001b[0;32m      5\u001b[0m \u001b[0mloc_adh_chart\u001b[0m\u001b[1;33m.\u001b[0m\u001b[0mlegend\u001b[0m\u001b[1;33m(\u001b[0m\u001b[0mbbox_to_anchor\u001b[0m\u001b[1;33m=\u001b[0m\u001b[1;33m(\u001b[0m\u001b[1;36m1\u001b[0m\u001b[1;33m,\u001b[0m \u001b[1;36m1\u001b[0m\u001b[1;33m)\u001b[0m\u001b[1;33m)\u001b[0m\u001b[1;33m\u001b[0m\u001b[1;33m\u001b[0m\u001b[0m\n",
      "\u001b[1;32m~\\anaconda3\\Lib\\site-packages\\pandas\\core\\frame.py\u001b[0m in \u001b[0;36m?\u001b[1;34m(self, by, axis, ascending, inplace, kind, na_position, ignore_index, key)\u001b[0m\n\u001b[0;32m   6940\u001b[0m             )\n\u001b[0;32m   6941\u001b[0m         \u001b[1;32melif\u001b[0m \u001b[0mlen\u001b[0m\u001b[1;33m(\u001b[0m\u001b[0mby\u001b[0m\u001b[1;33m)\u001b[0m\u001b[1;33m:\u001b[0m\u001b[1;33m\u001b[0m\u001b[1;33m\u001b[0m\u001b[0m\n\u001b[0;32m   6942\u001b[0m             \u001b[1;31m# len(by) == 1\u001b[0m\u001b[1;33m\u001b[0m\u001b[1;33m\u001b[0m\u001b[0m\n\u001b[0;32m   6943\u001b[0m \u001b[1;33m\u001b[0m\u001b[0m\n\u001b[1;32m-> 6944\u001b[1;33m             \u001b[0mk\u001b[0m \u001b[1;33m=\u001b[0m \u001b[0mself\u001b[0m\u001b[1;33m.\u001b[0m\u001b[0m_get_label_or_level_values\u001b[0m\u001b[1;33m(\u001b[0m\u001b[0mby\u001b[0m\u001b[1;33m[\u001b[0m\u001b[1;36m0\u001b[0m\u001b[1;33m]\u001b[0m\u001b[1;33m,\u001b[0m \u001b[0maxis\u001b[0m\u001b[1;33m=\u001b[0m\u001b[0maxis\u001b[0m\u001b[1;33m)\u001b[0m\u001b[1;33m\u001b[0m\u001b[1;33m\u001b[0m\u001b[0m\n\u001b[0m\u001b[0;32m   6945\u001b[0m \u001b[1;33m\u001b[0m\u001b[0m\n\u001b[0;32m   6946\u001b[0m             \u001b[1;31m# need to rewrap column in Series to apply key function\u001b[0m\u001b[1;33m\u001b[0m\u001b[1;33m\u001b[0m\u001b[0m\n\u001b[0;32m   6947\u001b[0m             \u001b[1;32mif\u001b[0m \u001b[0mkey\u001b[0m \u001b[1;32mis\u001b[0m \u001b[1;32mnot\u001b[0m \u001b[1;32mNone\u001b[0m\u001b[1;33m:\u001b[0m\u001b[1;33m\u001b[0m\u001b[1;33m\u001b[0m\u001b[0m\n",
      "\u001b[1;32m~\\anaconda3\\Lib\\site-packages\\pandas\\core\\generic.py\u001b[0m in \u001b[0;36m?\u001b[1;34m(self, key, axis)\u001b[0m\n\u001b[0;32m   1840\u001b[0m             \u001b[0mvalues\u001b[0m \u001b[1;33m=\u001b[0m \u001b[0mself\u001b[0m\u001b[1;33m.\u001b[0m\u001b[0mxs\u001b[0m\u001b[1;33m(\u001b[0m\u001b[0mkey\u001b[0m\u001b[1;33m,\u001b[0m \u001b[0maxis\u001b[0m\u001b[1;33m=\u001b[0m\u001b[0mother_axes\u001b[0m\u001b[1;33m[\u001b[0m\u001b[1;36m0\u001b[0m\u001b[1;33m]\u001b[0m\u001b[1;33m)\u001b[0m\u001b[1;33m.\u001b[0m\u001b[0m_values\u001b[0m\u001b[1;33m\u001b[0m\u001b[1;33m\u001b[0m\u001b[0m\n\u001b[0;32m   1841\u001b[0m         \u001b[1;32melif\u001b[0m \u001b[0mself\u001b[0m\u001b[1;33m.\u001b[0m\u001b[0m_is_level_reference\u001b[0m\u001b[1;33m(\u001b[0m\u001b[0mkey\u001b[0m\u001b[1;33m,\u001b[0m \u001b[0maxis\u001b[0m\u001b[1;33m=\u001b[0m\u001b[0maxis\u001b[0m\u001b[1;33m)\u001b[0m\u001b[1;33m:\u001b[0m\u001b[1;33m\u001b[0m\u001b[1;33m\u001b[0m\u001b[0m\n\u001b[0;32m   1842\u001b[0m             \u001b[0mvalues\u001b[0m \u001b[1;33m=\u001b[0m \u001b[0mself\u001b[0m\u001b[1;33m.\u001b[0m\u001b[0maxes\u001b[0m\u001b[1;33m[\u001b[0m\u001b[0maxis\u001b[0m\u001b[1;33m]\u001b[0m\u001b[1;33m.\u001b[0m\u001b[0mget_level_values\u001b[0m\u001b[1;33m(\u001b[0m\u001b[0mkey\u001b[0m\u001b[1;33m)\u001b[0m\u001b[1;33m.\u001b[0m\u001b[0m_values\u001b[0m\u001b[1;33m\u001b[0m\u001b[1;33m\u001b[0m\u001b[0m\n\u001b[0;32m   1843\u001b[0m         \u001b[1;32melse\u001b[0m\u001b[1;33m:\u001b[0m\u001b[1;33m\u001b[0m\u001b[1;33m\u001b[0m\u001b[0m\n\u001b[1;32m-> 1844\u001b[1;33m             \u001b[1;32mraise\u001b[0m \u001b[0mKeyError\u001b[0m\u001b[1;33m(\u001b[0m\u001b[0mkey\u001b[0m\u001b[1;33m)\u001b[0m\u001b[1;33m\u001b[0m\u001b[1;33m\u001b[0m\u001b[0m\n\u001b[0m\u001b[0;32m   1845\u001b[0m \u001b[1;33m\u001b[0m\u001b[0m\n\u001b[0;32m   1846\u001b[0m         \u001b[1;31m# Check for duplicates\u001b[0m\u001b[1;33m\u001b[0m\u001b[1;33m\u001b[0m\u001b[0m\n\u001b[0;32m   1847\u001b[0m         \u001b[1;32mif\u001b[0m \u001b[0mvalues\u001b[0m\u001b[1;33m.\u001b[0m\u001b[0mndim\u001b[0m \u001b[1;33m>\u001b[0m \u001b[1;36m1\u001b[0m\u001b[1;33m:\u001b[0m\u001b[1;33m\u001b[0m\u001b[1;33m\u001b[0m\u001b[0m\n",
      "\u001b[1;31mKeyError\u001b[0m: 'ADJUSTED_ONTIME_COUNT'"
     ]
    }
   ],
   "source": [
    "#adherence by stop location\n",
    "#loc_adh_chart.figure(figsize=(12,12))\n",
    "loc_adh_chart = wego.groupby('TIME_POINT_ABBR')[['ADJUSTED_ONTIME_COUNT', 'ADJUSTED_LATE_COUNT', 'ADJUSTED_EARLY_COUNT']].sum().sort_values('ADJUSTED_ONTIME_COUNT', ascending=False).plot(kind='bar', stacked=True, width=0.6)\n",
    "loc_adh_chart.set(title='Adherence by Stop Location', xlabel = 'Stop ID', ylabel = 'Count of Stops')\n",
    "loc_adh_chart.legend(bbox_to_anchor=(1, 1))"
   ]
  },
  {
   "cell_type": "code",
   "execution_count": 114,
   "id": "d9abf448",
   "metadata": {},
   "outputs": [
    {
     "data": {
      "text/plain": [
       "[Text(0.5, 1.0, 'Headway by Stop Location'),\n",
       " Text(0.5, 0, 'Stop ID'),\n",
       " Text(0, 0.5, 'Count of Stops')]"
      ]
     },
     "execution_count": 114,
     "metadata": {},
     "output_type": "execute_result"
    },
    {
     "data": {
      "image/png": "[encoded data removed]",
      "text/plain": [
       "<Figure size 640x480 with 1 Axes>"
      ]
     },
     "metadata": {},
     "output_type": "display_data"
    }
   ],
   "source": [
    "#use box plot\n",
    "#chart with location, count, mean.\n",
    "#headway by stop location\n",
    "loc_hdw_chart = wego.groupby('TIME_POINT_ABBR')[['HDWY_ACCEPTABLE','HDWY_BUNCHING','HDWY_GAPPING']].sum().sort_values('HDWY_ACCEPTABLE', ascending=False).plot(kind='bar', stacked=True, width=0.6)\n",
    "loc_hdw_chart.set(title='Headway by Stop Location', xlabel = 'Stop ID', ylabel = 'Count of Stops')\n",
    "# loc_hdw_chart.legend(bbox_to_anchor=(1, 1))"
   ]
  },
  {
   "cell_type": "code",
   "execution_count": 104,
   "id": "17651845",
   "metadata": {},
   "outputs": [
    {
     "data": {
      "text/html": [
       "<div>\n",
       "<style scoped>\n",
       "    .dataframe tbody tr th:only-of-type {\n",
       "        vertical-align: middle;\n",
       "    }\n",
       "\n",
       "    .dataframe tbody tr th {\n",
       "        vertical-align: top;\n",
       "    }\n",
       "\n",
       "    .dataframe thead th {\n",
       "        text-align: right;\n",
       "    }\n",
       "</style>\n",
       "<table border=\"1\" class=\"dataframe\">\n",
       "  <thead>\n",
       "    <tr style=\"text-align: right;\">\n",
       "      <th></th>\n",
       "      <th>ADHERENCE</th>\n",
       "      <th>HDWY_DEV</th>\n",
       "    </tr>\n",
       "    <tr>\n",
       "      <th>TIME_POINT_ABBR</th>\n",
       "      <th></th>\n",
       "      <th></th>\n",
       "    </tr>\n",
       "  </thead>\n",
       "  <tbody>\n",
       "    <tr>\n",
       "      <th>21BK</th>\n",
       "      <td>-4.180070</td>\n",
       "      <td>0.398813</td>\n",
       "    </tr>\n",
       "    <tr>\n",
       "      <th>25ACLARK</th>\n",
       "      <td>1.458553</td>\n",
       "      <td>0.551163</td>\n",
       "    </tr>\n",
       "    <tr>\n",
       "      <th>28&amp;CHARL</th>\n",
       "      <td>-2.838419</td>\n",
       "      <td>0.198635</td>\n",
       "    </tr>\n",
       "    <tr>\n",
       "      <th>ARTS</th>\n",
       "      <td>-4.233489</td>\n",
       "      <td>1.450000</td>\n",
       "    </tr>\n",
       "    <tr>\n",
       "      <th>BRCJ</th>\n",
       "      <td>-3.864808</td>\n",
       "      <td>1.161457</td>\n",
       "    </tr>\n",
       "    <tr>\n",
       "      <th>...</th>\n",
       "      <td>...</td>\n",
       "      <td>...</td>\n",
       "    </tr>\n",
       "    <tr>\n",
       "      <th>WE23</th>\n",
       "      <td>-3.929729</td>\n",
       "      <td>0.531195</td>\n",
       "    </tr>\n",
       "    <tr>\n",
       "      <th>WE31</th>\n",
       "      <td>-3.945215</td>\n",
       "      <td>0.522487</td>\n",
       "    </tr>\n",
       "    <tr>\n",
       "      <th>WHBG</th>\n",
       "      <td>-3.586182</td>\n",
       "      <td>0.330427</td>\n",
       "    </tr>\n",
       "    <tr>\n",
       "      <th>WMRT</th>\n",
       "      <td>-3.715836</td>\n",
       "      <td>0.419229</td>\n",
       "    </tr>\n",
       "    <tr>\n",
       "      <th>YGKG</th>\n",
       "      <td>-3.588174</td>\n",
       "      <td>0.782324</td>\n",
       "    </tr>\n",
       "  </tbody>\n",
       "</table>\n",
       "<p>61 rows × 2 columns</p>\n",
       "</div>"
      ],
      "text/plain": [
       "                 ADHERENCE  HDWY_DEV\n",
       "TIME_POINT_ABBR                     \n",
       "21BK             -4.180070  0.398813\n",
       "25ACLARK          1.458553  0.551163\n",
       "28&CHARL         -2.838419  0.198635\n",
       "ARTS             -4.233489  1.450000\n",
       "BRCJ             -3.864808  1.161457\n",
       "...                    ...       ...\n",
       "WE23             -3.929729  0.531195\n",
       "WE31             -3.945215  0.522487\n",
       "WHBG             -3.586182  0.330427\n",
       "WMRT             -3.715836  0.419229\n",
       "YGKG             -3.588174  0.782324\n",
       "\n",
       "[61 rows x 2 columns]"
      ]
     },
     "execution_count": 104,
     "metadata": {},
     "output_type": "execute_result"
    }
   ],
   "source": [
    "wego.groupby('TIME_POINT_ABBR')[['ADHERENCE','HDWY_DEV']].mean()"
   ]
  },
  {
   "cell_type": "markdown",
   "id": "f58c0bcb",
   "metadata": {},
   "source": [
    "#### Buses headed into downtown are more timely than outbound buses; route 22 is the most timely"
   ]
  },
  {
   "cell_type": "markdown",
   "id": "4886202d",
   "metadata": {},
   "source": [
    "### 3. How does time of day or day of week affect headway and on-time performance?\n",
    "\n",
    "##### whisker plots for number three\n",
    "#### number 4 - group by operator, what percent of stops are acceptable vs total stops\n"
   ]
  },
  {
   "cell_type": "code",
   "execution_count": null,
   "id": "b32106b7",
   "metadata": {},
   "outputs": [],
   "source": [
    "wego.info(verbose=True, show_counts=True)"
   ]
  },
  {
   "cell_type": "code",
   "execution_count": null,
   "id": "58350ff0",
   "metadata": {},
   "outputs": [],
   "source": [
    "clean_dept_time = wego.dropna(subset=['ACTUAL_DEPARTURE_TIME'])"
   ]
  },
  {
   "cell_type": "code",
   "execution_count": null,
   "id": "4828c741",
   "metadata": {},
   "outputs": [],
   "source": [
    "# Create depart time column\n",
    "clean_dept_time['HOUR'] = (pd.to_datetime(clean_dept_time['ACTUAL_DEPARTURE_TIME'],\n",
    "                                          format='mixed').dt.hour)"
   ]
  },
  {
   "cell_type": "code",
   "execution_count": null,
   "id": "db0c8fda",
   "metadata": {
    "scrolled": true
   },
   "outputs": [],
   "source": [
    "clean_dept_time['WEEKDAY'] = pd.to_datetime(clean_dept_time['ACTUAL_DEPARTURE_TIME']).dt.weekday"
   ]
  },
  {
   "cell_type": "code",
   "execution_count": null,
   "id": "fb0601d5",
   "metadata": {},
   "outputs": [],
   "source": [
    "# use Grouper to group by hour\n",
    "adherence_by_time = (clean_dept_time.groupby('HOUR')\n",
    "                     [['ADHERENCE', 'HDWY_DEV']]\n",
    "                    .mean().reset_index())\n",
    "adherence_by_time"
   ]
  },
  {
   "cell_type": "code",
   "execution_count": null,
   "id": "52f21fd2",
   "metadata": {},
   "outputs": [],
   "source": [
    "# use Grouper to group by day\n",
    "adherence_by_day = (clean_dept_time.groupby('WEEKDAY')\n",
    "                     [['ADHERENCE', 'HDWY_DEV']]\n",
    "                     .mean().reset_index())\n",
    "adherence_by_day"
   ]
  },
  {
   "cell_type": "code",
   "execution_count": null,
   "id": "01bd2b83",
   "metadata": {},
   "outputs": [],
   "source": []
  },
  {
   "cell_type": "code",
   "execution_count": null,
   "id": "dee9cccf",
   "metadata": {},
   "outputs": [],
   "source": []
  },
  {
   "cell_type": "markdown",
   "id": "e5c7343e",
   "metadata": {},
   "source": [
    "4. How much of a factor does the driver have on headway and on-time performance? The driver is indicated by the OPERATOR variable."
   ]
  },
  {
   "cell_type": "code",
   "execution_count": null,
   "id": "af4c36c0",
   "metadata": {
    "scrolled": true
   },
   "outputs": [],
   "source": [
    "wego.columns"
   ]
  },
  {
   "cell_type": "code",
   "execution_count": 35,
   "id": "6347a284",
   "metadata": {},
   "outputs": [
    {
     "data": {
      "text/html": [
       "<div>\n",
       "<style scoped>\n",
       "    .dataframe tbody tr th:only-of-type {\n",
       "        vertical-align: middle;\n",
       "    }\n",
       "\n",
       "    .dataframe tbody tr th {\n",
       "        vertical-align: top;\n",
       "    }\n",
       "\n",
       "    .dataframe thead th {\n",
       "        text-align: right;\n",
       "    }\n",
       "</style>\n",
       "<table border=\"1\" class=\"dataframe\">\n",
       "  <thead>\n",
       "    <tr style=\"text-align: right;\">\n",
       "      <th></th>\n",
       "      <th>HDWY_ACCEPTABLE</th>\n",
       "      <th>HDWY_BUNCHING</th>\n",
       "      <th>HDWY_GAPPING</th>\n",
       "      <th>ADJUSTED_EARLY_COUNT</th>\n",
       "      <th>ADJUSTED_LATE_COUNT</th>\n",
       "      <th>ADJUSTED_ONTIME_COUNT</th>\n",
       "    </tr>\n",
       "    <tr>\n",
       "      <th>OPERATOR</th>\n",
       "      <th></th>\n",
       "      <th></th>\n",
       "      <th></th>\n",
       "      <th></th>\n",
       "      <th></th>\n",
       "      <th></th>\n",
       "    </tr>\n",
       "  </thead>\n",
       "  <tbody>\n",
       "    <tr>\n",
       "      <th>0</th>\n",
       "      <td>0</td>\n",
       "      <td>0</td>\n",
       "      <td>0</td>\n",
       "      <td>0</td>\n",
       "      <td>0</td>\n",
       "      <td>1</td>\n",
       "    </tr>\n",
       "    <tr>\n",
       "      <th>56</th>\n",
       "      <td>2</td>\n",
       "      <td>0</td>\n",
       "      <td>0</td>\n",
       "      <td>0</td>\n",
       "      <td>0</td>\n",
       "      <td>3</td>\n",
       "    </tr>\n",
       "    <tr>\n",
       "      <th>235</th>\n",
       "      <td>7</td>\n",
       "      <td>2</td>\n",
       "      <td>0</td>\n",
       "      <td>1</td>\n",
       "      <td>5</td>\n",
       "      <td>6</td>\n",
       "    </tr>\n",
       "    <tr>\n",
       "      <th>244</th>\n",
       "      <td>13</td>\n",
       "      <td>4</td>\n",
       "      <td>3</td>\n",
       "      <td>0</td>\n",
       "      <td>5</td>\n",
       "      <td>20</td>\n",
       "    </tr>\n",
       "    <tr>\n",
       "      <th>301</th>\n",
       "      <td>16</td>\n",
       "      <td>10</td>\n",
       "      <td>4</td>\n",
       "      <td>1</td>\n",
       "      <td>17</td>\n",
       "      <td>19</td>\n",
       "    </tr>\n",
       "    <tr>\n",
       "      <th>...</th>\n",
       "      <td>...</td>\n",
       "      <td>...</td>\n",
       "      <td>...</td>\n",
       "      <td>...</td>\n",
       "      <td>...</td>\n",
       "      <td>...</td>\n",
       "    </tr>\n",
       "    <tr>\n",
       "      <th>3149</th>\n",
       "      <td>52</td>\n",
       "      <td>4</td>\n",
       "      <td>0</td>\n",
       "      <td>4</td>\n",
       "      <td>8</td>\n",
       "      <td>76</td>\n",
       "    </tr>\n",
       "    <tr>\n",
       "      <th>3156</th>\n",
       "      <td>220</td>\n",
       "      <td>5</td>\n",
       "      <td>5</td>\n",
       "      <td>0</td>\n",
       "      <td>71</td>\n",
       "      <td>219</td>\n",
       "    </tr>\n",
       "    <tr>\n",
       "      <th>3165</th>\n",
       "      <td>16</td>\n",
       "      <td>8</td>\n",
       "      <td>0</td>\n",
       "      <td>0</td>\n",
       "      <td>20</td>\n",
       "      <td>12</td>\n",
       "    </tr>\n",
       "    <tr>\n",
       "      <th>3166</th>\n",
       "      <td>26</td>\n",
       "      <td>0</td>\n",
       "      <td>3</td>\n",
       "      <td>0</td>\n",
       "      <td>3</td>\n",
       "      <td>32</td>\n",
       "    </tr>\n",
       "    <tr>\n",
       "      <th>3173</th>\n",
       "      <td>13</td>\n",
       "      <td>1</td>\n",
       "      <td>0</td>\n",
       "      <td>0</td>\n",
       "      <td>2</td>\n",
       "      <td>20</td>\n",
       "    </tr>\n",
       "  </tbody>\n",
       "</table>\n",
       "<p>341 rows × 6 columns</p>\n",
       "</div>"
      ],
      "text/plain": [
       "          HDWY_ACCEPTABLE  HDWY_BUNCHING  HDWY_GAPPING  ADJUSTED_EARLY_COUNT  \\\n",
       "OPERATOR                                                                       \n",
       "0                       0              0             0                     0   \n",
       "56                      2              0             0                     0   \n",
       "235                     7              2             0                     1   \n",
       "244                    13              4             3                     0   \n",
       "301                    16             10             4                     1   \n",
       "...                   ...            ...           ...                   ...   \n",
       "3149                   52              4             0                     4   \n",
       "3156                  220              5             5                     0   \n",
       "3165                   16              8             0                     0   \n",
       "3166                   26              0             3                     0   \n",
       "3173                   13              1             0                     0   \n",
       "\n",
       "          ADJUSTED_LATE_COUNT  ADJUSTED_ONTIME_COUNT  \n",
       "OPERATOR                                              \n",
       "0                           0                      1  \n",
       "56                          0                      3  \n",
       "235                         5                      6  \n",
       "244                         5                     20  \n",
       "301                        17                     19  \n",
       "...                       ...                    ...  \n",
       "3149                        8                     76  \n",
       "3156                       71                    219  \n",
       "3165                       20                     12  \n",
       "3166                        3                     32  \n",
       "3173                        2                     20  \n",
       "\n",
       "[341 rows x 6 columns]"
      ]
     },
     "execution_count": 35,
     "metadata": {},
     "output_type": "execute_result"
    }
   ],
   "source": [
    "wego.groupby('OPERATOR')[['HDWY_ACCEPTABLE','HDWY_BUNCHING','HDWY_GAPPING','ADJUSTED_EARLY_COUNT','ADJUSTED_LATE_COUNT','ADJUSTED_ONTIME_COUNT']].sum()"
   ]
  },
  {
   "cell_type": "code",
   "execution_count": null,
   "id": "d10abd58",
   "metadata": {},
   "outputs": [],
   "source": [
    "wego.head()"
   ]
  },
  {
   "cell_type": "code",
   "execution_count": null,
   "id": "1b3268e4",
   "metadata": {},
   "outputs": [],
   "source": [
    "Q4 = wego[wego['HDWY_ACCEPTABLE']]\n",
    "Q4"
   ]
  },
  {
   "cell_type": "code",
   "execution_count": null,
   "id": "56a26fe2",
   "metadata": {},
   "outputs": [],
   "source": []
  },
  {
   "cell_type": "code",
   "execution_count": null,
   "id": "31b77063",
   "metadata": {},
   "outputs": [],
   "source": []
  },
  {
   "cell_type": "code",
   "execution_count": null,
   "id": "0e173082",
   "metadata": {},
   "outputs": [],
   "source": []
  },
  {
   "cell_type": "code",
   "execution_count": null,
   "id": "6d41f17a",
   "metadata": {},
   "outputs": [],
   "source": []
  },
  {
   "cell_type": "markdown",
   "id": "6b6327e0",
   "metadata": {},
   "source": [
    "5. Is there any relationship between lateness (ADHERENCE) and headway deviation?"
   ]
  },
  {
   "cell_type": "code",
   "execution_count": null,
   "id": "8e537fb3",
   "metadata": {},
   "outputs": [],
   "source": [
    "wego['ACTUAL_DEPARTURE_TIME'] = pd.to_datetime(wego['ACTUAL_DEPARTURE_TIME'])"
   ]
  },
  {
   "cell_type": "code",
   "execution_count": null,
   "id": "7e511b3e",
   "metadata": {},
   "outputs": [],
   "source": [
    "wego[\"DEPART_TIME\"] = wego.ACTUAL_DEPARTURE_TIME.dt.time"
   ]
  },
  {
   "cell_type": "code",
   "execution_count": null,
   "id": "5c274f52",
   "metadata": {},
   "outputs": [],
   "source": [
    "hr_volume = (wego\n",
    "    .groupby(pd.Grouper(key = 'DEPART_TIME',     # point it to your datetime column\n",
    "                     freq = '1h',               # How much do you want to group together values?\n",
    "                     origin = 'epoch'           # This will start times at midnight of 1970-01-01. \n",
    "                                                # This ensures that we are starting our first grouped period on the hour\n",
    "                    ))\n",
    "     ['ADHERENCE'].mean()\n",
    "#     .nunique() #shows only unique scooters being used during that time (if scooter is used more than once in an hour)\n",
    "#     .nlargest(10)\n",
    " #.sort_values(ascending = False)\n",
    "     .reset_index())\n",
    "#  .head(20)\n"
   ]
  },
  {
   "cell_type": "markdown",
   "id": "9b989bc0",
   "metadata": {},
   "source": [
    "\n",
    "**Stretch Goals:**  \n",
    "\n",
    "6. How much impact does being late or too spaced out at the first stop have downstream?  \n",
    "7. What is the impact of the layover at the start of the trip (the difference between the first stop arrival and departure time)? Does more dwell time at the beginning of a trip lead to more stable headways (lower values for % headway deviation)? Do trips with longer **scheduled** layover time have more stable headway values?  \n",
    "8. What is the relationship between distance or time traveled since the start of a given trip and the headway deviation? Does headway become less stable the further along the route the bus has traveled?"
   ]
  },
  {
   "cell_type": "code",
   "execution_count": null,
   "id": "0b5e79dc",
   "metadata": {},
   "outputs": [],
   "source": []
  }
 ],
 "metadata": {
  "kernelspec": {
   "display_name": "Python 3 (ipykernel)",
   "language": "python",
   "name": "python3"
  },
  "language_info": {
   "codemirror_mode": {
    "name": "ipython",
    "version": 3
   },
   "file_extension": ".py",
   "mimetype": "text/x-python",
   "name": "python",
   "nbconvert_exporter": "python",
   "pygments_lexer": "ipython3",
   "version": "3.11.7"
  }
 },
 "nbformat": 4,
 "nbformat_minor": 5
}
